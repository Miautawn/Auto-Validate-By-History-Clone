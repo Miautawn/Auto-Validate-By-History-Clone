{
 "cells": [
  {
   "cell_type": "code",
   "execution_count": 1,
   "metadata": {},
   "outputs": [],
   "source": [
    "%load_ext autoreload\n",
    "%autoreload 2"
   ]
  },
  {
   "cell_type": "code",
   "execution_count": 2,
   "metadata": {},
   "outputs": [],
   "source": [
    "import uuid\n",
    "import time\n",
    "from typing import List\n",
    "\n",
    "import numpy as np\n",
    "import pandas as pd\n",
    "from tqdm import tqdm\n",
    "from sklearn.utils.validation import check_is_fitted\n",
    "from statsmodels.tsa.stattools import adfuller\n",
    "from IPython.display import Code, display\n",
    "import inspect\n",
    "\n",
    "import avh.utility_functions as utils\n",
    "from avh.data_issues import (\n",
    "    IssueTransfomer,\n",
    "    NumericIssueTransformer,\n",
    "    CategoricalIssueTransformer,\n",
    "    IncreasedNulls,\n",
    "    SchemaChange,\n",
    "    DistributionChange,\n",
    "    UnitChange,\n",
    "    CasingChange,\n",
    "    DQIssueDatasetGenerator,\n",
    "    VolumeChangeUpsample,\n",
    "    VolumeChangeDownsample,\n",
    "    NumericPerturbation,\n",
    ")\n",
    "\n",
    "from avh.data_generation import (\n",
    "    DataColumn,\n",
    "    NumericColumn,\n",
    "    CategoricalColumn,\n",
    "    NormalNumericColumn,\n",
    "    UniformNumericColumn,\n",
    "    BetaNumericColumn,\n",
    "    StaticCategoricalColumn,\n",
    "    RandomCategoricalColumn,\n",
    "    DataGenerationPipeline,\n",
    ")\n",
    "\n",
    "from avh.metrics import (\n",
    "    Metric,\n",
    "    SingleDistributionMetric,\n",
    "    TwoDistributionMetric,\n",
    "    RowCount,\n",
    "    DistinctCount,\n",
    "    DistinctRatio,\n",
    "    CompleteRatio,\n",
    "    Mean,\n",
    "    Median,\n",
    "    Range,\n",
    "    Min,\n",
    "    Max,\n",
    "    Sum,\n",
    "    MeanDigitLength,\n",
    "    MeanPunctuationLength,\n",
    "    MeanStringLength,\n",
    "    EMD,\n",
    "    KsDist,\n",
    "    CohenD,\n",
    "    KlDivergence,\n",
    "    JsDivergence,\n",
    ")\n",
    "\n",
    "from avh.constraints import (\n",
    "    Constraint,\n",
    "    ConstantConstraint,\n",
    "    ChebyshevConstraint,\n",
    "    CantelliConstraint,\n",
    "    CLTConstraint,\n",
    "    ConjuctivDQProgram,\n",
    ")\n",
    "\n",
    "from avh.auto_validate_by_history import AVH"
   ]
  },
  {
   "cell_type": "code",
   "execution_count": 3,
   "metadata": {},
   "outputs": [
    {
     "data": {
      "text/html": [
       "\n",
       "                <script type=\"application/javascript\" id=\"jupyter_black\">\n",
       "                (function() {\n",
       "                    if (window.IPython === undefined) {\n",
       "                        return\n",
       "                    }\n",
       "                    var msg = \"WARNING: it looks like you might have loaded \" +\n",
       "                        \"jupyter_black in a non-lab notebook with \" +\n",
       "                        \"`is_lab=True`. Please double check, and if \" +\n",
       "                        \"loading with `%load_ext` please review the README!\"\n",
       "                    console.log(msg)\n",
       "                    alert(msg)\n",
       "                })()\n",
       "                </script>\n",
       "                "
      ],
      "text/plain": [
       "<IPython.core.display.HTML object>"
      ]
     },
     "metadata": {},
     "output_type": "display_data"
    }
   ],
   "source": [
    "import jupyter_black\n",
    "\n",
    "jupyter_black.load()"
   ]
  },
  {
   "cell_type": "code",
   "execution_count": 4,
   "metadata": {},
   "outputs": [],
   "source": [
    "rng = np.random.default_rng(42)"
   ]
  },
  {
   "cell_type": "code",
   "execution_count": 5,
   "metadata": {},
   "outputs": [],
   "source": [
    "pipeline = DataGenerationPipeline(\n",
    "    columns=[\n",
    "        NormalNumericColumn(\"money\", 300, 10),\n",
    "        NormalNumericColumn(\"height\", 18, 2),\n",
    "        # UniformNumericColumn(\"houses\", 30, 50, dtype=np.int32),\n",
    "        # RandomCategoricalColumn(\"pets\", [\"dog\", \"cat\", \"snail\"]),\n",
    "        # RandomCategoricalColumn(\"pets2\", [\"dog\", \"cat\", \"snail\"]),\n",
    "        # RandomCategoricalColumn(\"text\"),\n",
    "    ],\n",
    "    issues=[\n",
    "        (\"money\", [IncreasedNulls(p=0.9)]),\n",
    "        # (\"height\", [IncreasedNulls(p=0.99)]),\n",
    "        # (\"pets\", [IncreasedNulls(p=0.5)]),\n",
    "    ],\n",
    "    random_state=rng,\n",
    ")"
   ]
  },
  {
   "cell_type": "code",
   "execution_count": 6,
   "metadata": {},
   "outputs": [],
   "source": [
    "# Defining M space\n",
    "M = [\n",
    "    RowCount,\n",
    "    DistinctRatio,\n",
    "    DistinctCount,\n",
    "    CompleteRatio,\n",
    "    Min,\n",
    "    Max,\n",
    "    Mean,\n",
    "    Median,\n",
    "    Sum,\n",
    "    Range,\n",
    "    EMD,\n",
    "    JsDivergence,\n",
    "    KlDivergence,\n",
    "    KsDist,\n",
    "    CohenD,\n",
    "]\n",
    "\n",
    "# # Defining available constraint estimators\n",
    "# # Note: Order not important as Q space will be constructed\n",
    "# #     from cartesian product of E & M\n",
    "E = [\n",
    "    CLTConstraint,\n",
    "    ChebyshevConstraint,\n",
    "    CantelliConstraint,\n",
    "]\n",
    "\n",
    "H = [pipeline.generate(1000) for i in range(31)]"
   ]
  },
  {
   "cell_type": "code",
   "execution_count": 7,
   "metadata": {},
   "outputs": [],
   "source": [
    "avh = AVH(random_state=42, verbose=3, columns=[\"money\"], n_jobs=-1)"
   ]
  },
  {
   "cell_type": "code",
   "execution_count": 8,
   "metadata": {},
   "outputs": [
    {
     "name": "stderr",
     "output_type": "stream",
     "text": [
      "creating D(C)...: 23it [00:02,  8.75it/s]\n",
      "creating P(S) (with joblib)...: 100%|██████████| 1/1 [00:00<00:00,  5.06it/s]\n"
     ]
    },
    {
     "name": "stdout",
     "output_type": "stream",
     "text": [
      "2024-05-05 18:29:29|DEBUG|utility_functions.wrapper: avh.auto_validate_by_history._generate_parallel Took 2856.9200 ms to execute.\n",
      "2024-05-05 18:29:29|DEBUG|utility_functions.wrapper: avh.auto_validate_by_history.generate Took 2857.1632 ms to execute.\n"
     ]
    }
   ],
   "source": [
    "PS = avh.generate(H, fpr_target=0.05)"
   ]
  },
  {
   "cell_type": "code",
   "execution_count": 9,
   "metadata": {},
   "outputs": [
    {
     "data": {
      "text/plain": [
       "{'money': ChebyshevConstraint(28666.9549 <= Sum <= 31364.6545, FPR = 0.0051)\n",
       " CantelliConstraint(0.0000 <= EMD <= 10.9308, FPR = 0.0051), FPR = 0.010178}"
      ]
     },
     "execution_count": 9,
     "metadata": {},
     "output_type": "execute_result"
    }
   ],
   "source": [
    "PS"
   ]
  },
  {
   "cell_type": "code",
   "execution_count": 12,
   "metadata": {},
   "outputs": [
    {
     "data": {
      "text/plain": [
       "{'money': ChebyshevConstraint(29590.4123 <= Sum <= 30411.5838, FPR = 0.0400), FPR = 0.040000}"
      ]
     },
     "execution_count": 12,
     "metadata": {},
     "output_type": "execute_result"
    }
   ],
   "source": [
    "PS"
   ]
  },
  {
   "cell_type": "markdown",
   "metadata": {},
   "source": [
    "### Synthetic benchmark data generation"
   ]
  },
  {
   "cell_type": "markdown",
   "metadata": {},
   "source": [
    "**Benchmark setup**  \n",
    "columns:\n",
    "- Numeric:\n",
    "    - count: 1000\n",
    "    - dtypes:\n",
    "        - int: 30%\n",
    "        - float: 70%\n",
    "    - distributions:\n",
    "        - uniform: 10%\n",
    "        - normal: 20%\n",
    "        - beta: 70%\n",
    "- Categorical:\n",
    "    - count: 1000"
   ]
  },
  {
   "cell_type": "code",
   "execution_count": 8,
   "metadata": {},
   "outputs": [],
   "source": [
    "rng = np.random.default_rng(42)\n",
    "n = 1000\n",
    "\n",
    "numeric_columns = []\n",
    "for i in range(n):\n",
    "\n",
    "    column_name = f\"numeric_{i}\"\n",
    "    dtype = rng.choice([np.int32, np.float32], p=[0.3, 0.7])\n",
    "    distribution = rng.choice([\"uniform\", \"normal\", \"beta\"], p=[0.1, 0.1, 0.8])\n",
    "\n",
    "    scale = rng.integers(1, 100000)\n",
    "    sign = rng.choice([-1, 1], p=[0.2, 0.8])\n",
    "\n",
    "    if distribution == \"uniform\":\n",
    "        low = rng.uniform(0, scale)\n",
    "        high = rng.uniform(low, scale)\n",
    "\n",
    "        if sign == -1:\n",
    "            low, high = high * sign, low * sign\n",
    "\n",
    "        column = UniformNumericColumn(column_name, low, high, dtype=dtype)\n",
    "\n",
    "    elif distribution == \"normal\":\n",
    "        mean = rng.uniform(0, scale) * sign\n",
    "        std = rng.uniform(0, 10)\n",
    "        column = NormalNumericColumn(column_name, mean, std, dtype=dtype)\n",
    "\n",
    "    elif distribution == \"beta\":\n",
    "        alfa = rng.uniform(0.1, 10)\n",
    "        beta = rng.uniform(0.1, 10)\n",
    "        column = BetaNumericColumn(\n",
    "            column_name, alfa, beta, scale=scale * sign, dtype=dtype\n",
    "        )\n",
    "\n",
    "    numeric_columns.append(column)\n",
    "\n",
    "pipeline = DataGenerationPipeline(numeric_columns, random_state=rng)"
   ]
  },
  {
   "cell_type": "code",
   "execution_count": 9,
   "metadata": {},
   "outputs": [
    {
     "data": {
      "text/html": [
       "<div>\n",
       "<style scoped>\n",
       "    .dataframe tbody tr th:only-of-type {\n",
       "        vertical-align: middle;\n",
       "    }\n",
       "\n",
       "    .dataframe tbody tr th {\n",
       "        vertical-align: top;\n",
       "    }\n",
       "\n",
       "    .dataframe thead th {\n",
       "        text-align: right;\n",
       "    }\n",
       "</style>\n",
       "<table border=\"1\" class=\"dataframe\">\n",
       "  <thead>\n",
       "    <tr style=\"text-align: right;\">\n",
       "      <th></th>\n",
       "      <th>numeric_0</th>\n",
       "      <th>numeric_1</th>\n",
       "      <th>numeric_2</th>\n",
       "      <th>numeric_3</th>\n",
       "      <th>numeric_4</th>\n",
       "      <th>numeric_5</th>\n",
       "      <th>numeric_6</th>\n",
       "      <th>numeric_7</th>\n",
       "      <th>numeric_8</th>\n",
       "      <th>numeric_9</th>\n",
       "      <th>...</th>\n",
       "      <th>numeric_990</th>\n",
       "      <th>numeric_991</th>\n",
       "      <th>numeric_992</th>\n",
       "      <th>numeric_993</th>\n",
       "      <th>numeric_994</th>\n",
       "      <th>numeric_995</th>\n",
       "      <th>numeric_996</th>\n",
       "      <th>numeric_997</th>\n",
       "      <th>numeric_998</th>\n",
       "      <th>numeric_999</th>\n",
       "    </tr>\n",
       "  </thead>\n",
       "  <tbody>\n",
       "    <tr>\n",
       "      <th>0</th>\n",
       "      <td>5821.104980</td>\n",
       "      <td>-34834.832031</td>\n",
       "      <td>11238.599609</td>\n",
       "      <td>60716</td>\n",
       "      <td>-66111.226562</td>\n",
       "      <td>63082</td>\n",
       "      <td>-51763.378906</td>\n",
       "      <td>15023.037109</td>\n",
       "      <td>81354.015625</td>\n",
       "      <td>31916</td>\n",
       "      <td>...</td>\n",
       "      <td>40273</td>\n",
       "      <td>-18550.923828</td>\n",
       "      <td>-35820</td>\n",
       "      <td>-12002</td>\n",
       "      <td>4568</td>\n",
       "      <td>-2344</td>\n",
       "      <td>-16475.402344</td>\n",
       "      <td>925.599182</td>\n",
       "      <td>30427.248047</td>\n",
       "      <td>2100</td>\n",
       "    </tr>\n",
       "    <tr>\n",
       "      <th>1</th>\n",
       "      <td>10925.531250</td>\n",
       "      <td>-26888.644531</td>\n",
       "      <td>7864.008301</td>\n",
       "      <td>54449</td>\n",
       "      <td>-67443.421875</td>\n",
       "      <td>64605</td>\n",
       "      <td>-35486.953125</td>\n",
       "      <td>10741.845703</td>\n",
       "      <td>64389.609375</td>\n",
       "      <td>29698</td>\n",
       "      <td>...</td>\n",
       "      <td>39738</td>\n",
       "      <td>-22038.558594</td>\n",
       "      <td>-39154</td>\n",
       "      <td>-13365</td>\n",
       "      <td>33</td>\n",
       "      <td>-3469</td>\n",
       "      <td>-12637.672852</td>\n",
       "      <td>986.680237</td>\n",
       "      <td>14986.859375</td>\n",
       "      <td>24766</td>\n",
       "    </tr>\n",
       "    <tr>\n",
       "      <th>2</th>\n",
       "      <td>501.136169</td>\n",
       "      <td>-37594.253906</td>\n",
       "      <td>3560.182373</td>\n",
       "      <td>63364</td>\n",
       "      <td>-66828.265625</td>\n",
       "      <td>71020</td>\n",
       "      <td>-51227.363281</td>\n",
       "      <td>10221.790039</td>\n",
       "      <td>82744.335938</td>\n",
       "      <td>31576</td>\n",
       "      <td>...</td>\n",
       "      <td>39960</td>\n",
       "      <td>-21410.837891</td>\n",
       "      <td>-29715</td>\n",
       "      <td>-10334</td>\n",
       "      <td>19782</td>\n",
       "      <td>-2780</td>\n",
       "      <td>-46713.929688</td>\n",
       "      <td>1121.689941</td>\n",
       "      <td>24671.345703</td>\n",
       "      <td>6055</td>\n",
       "    </tr>\n",
       "    <tr>\n",
       "      <th>3</th>\n",
       "      <td>8450.057617</td>\n",
       "      <td>-43200.699219</td>\n",
       "      <td>21597.923828</td>\n",
       "      <td>50026</td>\n",
       "      <td>-35321.585938</td>\n",
       "      <td>58457</td>\n",
       "      <td>-57433.160156</td>\n",
       "      <td>14897.063477</td>\n",
       "      <td>72058.531250</td>\n",
       "      <td>26262</td>\n",
       "      <td>...</td>\n",
       "      <td>31435</td>\n",
       "      <td>-17814.777344</td>\n",
       "      <td>-42209</td>\n",
       "      <td>-10778</td>\n",
       "      <td>7125</td>\n",
       "      <td>-784</td>\n",
       "      <td>-33630.265625</td>\n",
       "      <td>317.320984</td>\n",
       "      <td>4732.359863</td>\n",
       "      <td>92</td>\n",
       "    </tr>\n",
       "    <tr>\n",
       "      <th>4</th>\n",
       "      <td>853.856262</td>\n",
       "      <td>-68572.703125</td>\n",
       "      <td>14830.930664</td>\n",
       "      <td>61871</td>\n",
       "      <td>-67020.437500</td>\n",
       "      <td>55112</td>\n",
       "      <td>-29222.072266</td>\n",
       "      <td>13150.475586</td>\n",
       "      <td>74611.960938</td>\n",
       "      <td>32657</td>\n",
       "      <td>...</td>\n",
       "      <td>40299</td>\n",
       "      <td>-27168.732422</td>\n",
       "      <td>-41292</td>\n",
       "      <td>-11566</td>\n",
       "      <td>9054</td>\n",
       "      <td>-1135</td>\n",
       "      <td>-49678.265625</td>\n",
       "      <td>894.154236</td>\n",
       "      <td>8903.215820</td>\n",
       "      <td>1332</td>\n",
       "    </tr>\n",
       "    <tr>\n",
       "      <th>5</th>\n",
       "      <td>5146.479492</td>\n",
       "      <td>-56280.953125</td>\n",
       "      <td>6069.199219</td>\n",
       "      <td>54402</td>\n",
       "      <td>-52296.609375</td>\n",
       "      <td>68768</td>\n",
       "      <td>-34627.914062</td>\n",
       "      <td>14542.632812</td>\n",
       "      <td>72402.140625</td>\n",
       "      <td>26402</td>\n",
       "      <td>...</td>\n",
       "      <td>40125</td>\n",
       "      <td>-26632.451172</td>\n",
       "      <td>-33060</td>\n",
       "      <td>-8514</td>\n",
       "      <td>4918</td>\n",
       "      <td>-5780</td>\n",
       "      <td>-38391.890625</td>\n",
       "      <td>241.083893</td>\n",
       "      <td>14546.629883</td>\n",
       "      <td>895</td>\n",
       "    </tr>\n",
       "    <tr>\n",
       "      <th>6</th>\n",
       "      <td>78.213112</td>\n",
       "      <td>-23492.179688</td>\n",
       "      <td>2075.531738</td>\n",
       "      <td>34764</td>\n",
       "      <td>-55568.453125</td>\n",
       "      <td>55883</td>\n",
       "      <td>-52167.539062</td>\n",
       "      <td>9609.795898</td>\n",
       "      <td>75772.273438</td>\n",
       "      <td>28715</td>\n",
       "      <td>...</td>\n",
       "      <td>40273</td>\n",
       "      <td>-17016.589844</td>\n",
       "      <td>-41198</td>\n",
       "      <td>-7225</td>\n",
       "      <td>1124</td>\n",
       "      <td>-1048</td>\n",
       "      <td>-42372.964844</td>\n",
       "      <td>559.309387</td>\n",
       "      <td>38492.242188</td>\n",
       "      <td>2613</td>\n",
       "    </tr>\n",
       "    <tr>\n",
       "      <th>7</th>\n",
       "      <td>2068.486816</td>\n",
       "      <td>-62414.558594</td>\n",
       "      <td>9188.073242</td>\n",
       "      <td>63151</td>\n",
       "      <td>-67206.203125</td>\n",
       "      <td>68311</td>\n",
       "      <td>-39544.320312</td>\n",
       "      <td>8298.933594</td>\n",
       "      <td>73562.179688</td>\n",
       "      <td>27038</td>\n",
       "      <td>...</td>\n",
       "      <td>39464</td>\n",
       "      <td>-21363.919922</td>\n",
       "      <td>-42758</td>\n",
       "      <td>-10456</td>\n",
       "      <td>8527</td>\n",
       "      <td>-4460</td>\n",
       "      <td>-52713.937500</td>\n",
       "      <td>347.820770</td>\n",
       "      <td>24417.640625</td>\n",
       "      <td>18088</td>\n",
       "    </tr>\n",
       "    <tr>\n",
       "      <th>8</th>\n",
       "      <td>2648.368652</td>\n",
       "      <td>-59181.843750</td>\n",
       "      <td>22179.609375</td>\n",
       "      <td>49566</td>\n",
       "      <td>-55144.070312</td>\n",
       "      <td>46833</td>\n",
       "      <td>-52097.671875</td>\n",
       "      <td>15849.641602</td>\n",
       "      <td>66682.640625</td>\n",
       "      <td>32410</td>\n",
       "      <td>...</td>\n",
       "      <td>38680</td>\n",
       "      <td>-27883.966797</td>\n",
       "      <td>-35883</td>\n",
       "      <td>-8601</td>\n",
       "      <td>1364</td>\n",
       "      <td>-227</td>\n",
       "      <td>-58724.406250</td>\n",
       "      <td>1006.673279</td>\n",
       "      <td>8738.956055</td>\n",
       "      <td>7082</td>\n",
       "    </tr>\n",
       "    <tr>\n",
       "      <th>9</th>\n",
       "      <td>228.171494</td>\n",
       "      <td>-29470.943359</td>\n",
       "      <td>9205.548828</td>\n",
       "      <td>68273</td>\n",
       "      <td>-64909.343750</td>\n",
       "      <td>70608</td>\n",
       "      <td>-45762.242188</td>\n",
       "      <td>16670.693359</td>\n",
       "      <td>71053.734375</td>\n",
       "      <td>31205</td>\n",
       "      <td>...</td>\n",
       "      <td>30016</td>\n",
       "      <td>-17459.476562</td>\n",
       "      <td>-36026</td>\n",
       "      <td>-10307</td>\n",
       "      <td>130</td>\n",
       "      <td>-2129</td>\n",
       "      <td>-56958.410156</td>\n",
       "      <td>1366.932861</td>\n",
       "      <td>39745.515625</td>\n",
       "      <td>10437</td>\n",
       "    </tr>\n",
       "  </tbody>\n",
       "</table>\n",
       "<p>10 rows × 1000 columns</p>\n",
       "</div>"
      ],
      "text/plain": [
       "      numeric_0     numeric_1     numeric_2  numeric_3     numeric_4  \\\n",
       "0   5821.104980 -34834.832031  11238.599609      60716 -66111.226562   \n",
       "1  10925.531250 -26888.644531   7864.008301      54449 -67443.421875   \n",
       "2    501.136169 -37594.253906   3560.182373      63364 -66828.265625   \n",
       "3   8450.057617 -43200.699219  21597.923828      50026 -35321.585938   \n",
       "4    853.856262 -68572.703125  14830.930664      61871 -67020.437500   \n",
       "5   5146.479492 -56280.953125   6069.199219      54402 -52296.609375   \n",
       "6     78.213112 -23492.179688   2075.531738      34764 -55568.453125   \n",
       "7   2068.486816 -62414.558594   9188.073242      63151 -67206.203125   \n",
       "8   2648.368652 -59181.843750  22179.609375      49566 -55144.070312   \n",
       "9    228.171494 -29470.943359   9205.548828      68273 -64909.343750   \n",
       "\n",
       "   numeric_5     numeric_6     numeric_7     numeric_8  numeric_9  ...  \\\n",
       "0      63082 -51763.378906  15023.037109  81354.015625      31916  ...   \n",
       "1      64605 -35486.953125  10741.845703  64389.609375      29698  ...   \n",
       "2      71020 -51227.363281  10221.790039  82744.335938      31576  ...   \n",
       "3      58457 -57433.160156  14897.063477  72058.531250      26262  ...   \n",
       "4      55112 -29222.072266  13150.475586  74611.960938      32657  ...   \n",
       "5      68768 -34627.914062  14542.632812  72402.140625      26402  ...   \n",
       "6      55883 -52167.539062   9609.795898  75772.273438      28715  ...   \n",
       "7      68311 -39544.320312   8298.933594  73562.179688      27038  ...   \n",
       "8      46833 -52097.671875  15849.641602  66682.640625      32410  ...   \n",
       "9      70608 -45762.242188  16670.693359  71053.734375      31205  ...   \n",
       "\n",
       "   numeric_990   numeric_991  numeric_992  numeric_993  numeric_994  \\\n",
       "0        40273 -18550.923828       -35820       -12002         4568   \n",
       "1        39738 -22038.558594       -39154       -13365           33   \n",
       "2        39960 -21410.837891       -29715       -10334        19782   \n",
       "3        31435 -17814.777344       -42209       -10778         7125   \n",
       "4        40299 -27168.732422       -41292       -11566         9054   \n",
       "5        40125 -26632.451172       -33060        -8514         4918   \n",
       "6        40273 -17016.589844       -41198        -7225         1124   \n",
       "7        39464 -21363.919922       -42758       -10456         8527   \n",
       "8        38680 -27883.966797       -35883        -8601         1364   \n",
       "9        30016 -17459.476562       -36026       -10307          130   \n",
       "\n",
       "   numeric_995   numeric_996  numeric_997   numeric_998  numeric_999  \n",
       "0        -2344 -16475.402344   925.599182  30427.248047         2100  \n",
       "1        -3469 -12637.672852   986.680237  14986.859375        24766  \n",
       "2        -2780 -46713.929688  1121.689941  24671.345703         6055  \n",
       "3         -784 -33630.265625   317.320984   4732.359863           92  \n",
       "4        -1135 -49678.265625   894.154236   8903.215820         1332  \n",
       "5        -5780 -38391.890625   241.083893  14546.629883          895  \n",
       "6        -1048 -42372.964844   559.309387  38492.242188         2613  \n",
       "7        -4460 -52713.937500   347.820770  24417.640625        18088  \n",
       "8         -227 -58724.406250  1006.673279   8738.956055         7082  \n",
       "9        -2129 -56958.410156  1366.932861  39745.515625        10437  \n",
       "\n",
       "[10 rows x 1000 columns]"
      ]
     },
     "execution_count": 9,
     "metadata": {},
     "output_type": "execute_result"
    }
   ],
   "source": [
    "_ = pipeline.generate(10)\n",
    "pipeline.generate(10)"
   ]
  },
  {
   "cell_type": "code",
   "execution_count": 10,
   "metadata": {},
   "outputs": [],
   "source": [
    "H_FULL = [pipeline.generate(100000) for i in range(31)]"
   ]
  },
  {
   "cell_type": "code",
   "execution_count": 11,
   "metadata": {},
   "outputs": [],
   "source": [
    "import pickle"
   ]
  },
  {
   "cell_type": "code",
   "execution_count": 13,
   "metadata": {},
   "outputs": [],
   "source": [
    "with open(\"bruh.pickle\", \"wb\") as f:\n",
    "    pickle.dump(H_FULL, f)"
   ]
  },
  {
   "cell_type": "code",
   "execution_count": 36,
   "metadata": {},
   "outputs": [],
   "source": [
    "# Defining M space\n",
    "M = [\n",
    "    RowCount,\n",
    "    DistinctRatio,\n",
    "    DistinctCount,\n",
    "    CompleteRatio,\n",
    "    Min,\n",
    "    Max,\n",
    "    Mean,\n",
    "    Median,\n",
    "    Sum,\n",
    "    Range,\n",
    "]\n",
    "\n",
    "# Defining available constraint estimators\n",
    "# Note: Order not important as Q space will be constructed\n",
    "#     from cartesian product of E & M\n",
    "E = [CLTConstraint, ChebyshevConstraint]\n",
    "\n",
    "avh = AVH(M, E, random_state=42)"
   ]
  },
  {
   "cell_type": "code",
   "execution_count": 37,
   "metadata": {},
   "outputs": [
    {
     "name": "stderr",
     "output_type": "stream",
     "text": [
      "creating D(C)...: 23it [51:58, 135.60s/it]\n",
      "Generating P(S for columns...:   7%|▋         | 72/1000 [01:16<16:32,  1.07s/it]\n"
     ]
    },
    {
     "ename": "KeyboardInterrupt",
     "evalue": "",
     "output_type": "error",
     "traceback": [
      "\u001b[0;31m---------------------------------------------------------------------------\u001b[0m",
      "\u001b[0;31mKeyboardInterrupt\u001b[0m                         Traceback (most recent call last)",
      "Cell \u001b[0;32mIn[37], line 1\u001b[0m\n\u001b[0;32m----> 1\u001b[0m PS \u001b[38;5;241m=\u001b[39m \u001b[43mavh\u001b[49m\u001b[38;5;241;43m.\u001b[39;49m\u001b[43mgenerate\u001b[49m\u001b[43m(\u001b[49m\u001b[43mH\u001b[49m\u001b[43m,\u001b[49m\u001b[43m \u001b[49m\u001b[43mfpr_target\u001b[49m\u001b[38;5;241;43m=\u001b[39;49m\u001b[38;5;241;43m0.01\u001b[39;49m\u001b[43m)\u001b[49m\n",
      "File \u001b[0;32m~/vinted/Auto-Validate-By-History-Clone/src/avh/utility_functions.py:15\u001b[0m, in \u001b[0;36mdebug_timeit.<locals>.decorator.<locals>.wrapper\u001b[0;34m(*args, **kwargs)\u001b[0m\n\u001b[1;32m     12\u001b[0m local_logger \u001b[38;5;241m=\u001b[39m logging\u001b[38;5;241m.\u001b[39mgetLogger(local_logger_name)\n\u001b[1;32m     14\u001b[0m start_time \u001b[38;5;241m=\u001b[39m time\u001b[38;5;241m.\u001b[39mtime()\n\u001b[0;32m---> 15\u001b[0m result \u001b[38;5;241m=\u001b[39m \u001b[43mfunction\u001b[49m\u001b[43m(\u001b[49m\u001b[38;5;241;43m*\u001b[39;49m\u001b[43margs\u001b[49m\u001b[43m,\u001b[49m\u001b[43m \u001b[49m\u001b[38;5;241;43m*\u001b[39;49m\u001b[38;5;241;43m*\u001b[39;49m\u001b[43mkwargs\u001b[49m\u001b[43m)\u001b[49m\n\u001b[1;32m     16\u001b[0m end_time \u001b[38;5;241m=\u001b[39m time\u001b[38;5;241m.\u001b[39mtime()\n\u001b[1;32m     17\u001b[0m elapsed_time_ms \u001b[38;5;241m=\u001b[39m (end_time \u001b[38;5;241m-\u001b[39m start_time) \u001b[38;5;241m*\u001b[39m \u001b[38;5;241m1000\u001b[39m\n",
      "File \u001b[0;32m~/vinted/Auto-Validate-By-History-Clone/src/avh/auto_validate_by_history.py:99\u001b[0m, in \u001b[0;36mAVH.generate\u001b[0;34m(self, history, fpr_target)\u001b[0m\n\u001b[1;32m     96\u001b[0m columns \u001b[38;5;241m=\u001b[39m \u001b[38;5;28mself\u001b[39m\u001b[38;5;241m.\u001b[39mcolumns \u001b[38;5;28;01mif\u001b[39;00m \u001b[38;5;28mself\u001b[39m\u001b[38;5;241m.\u001b[39mcolumns \u001b[38;5;28;01melse\u001b[39;00m \u001b[38;5;28mlist\u001b[39m(history[\u001b[38;5;241m0\u001b[39m]\u001b[38;5;241m.\u001b[39mcolumns)\n\u001b[1;32m     98\u001b[0m \u001b[38;5;28;01mfor\u001b[39;00m column \u001b[38;5;129;01min\u001b[39;00m tqdm(columns, \u001b[38;5;124m\"\u001b[39m\u001b[38;5;124mGenerating P(S for columns...\u001b[39m\u001b[38;5;124m\"\u001b[39m, disable\u001b[38;5;241m=\u001b[39m\u001b[38;5;129;01mnot\u001b[39;00m \u001b[38;5;28mself\u001b[39m\u001b[38;5;241m.\u001b[39mverbose):\n\u001b[0;32m---> 99\u001b[0m     Q \u001b[38;5;241m=\u001b[39m \u001b[38;5;28;43mself\u001b[39;49m\u001b[38;5;241;43m.\u001b[39;49m\u001b[43m_generate_constraint_space\u001b[49m\u001b[43m(\u001b[49m\n\u001b[1;32m    100\u001b[0m \u001b[43m        \u001b[49m\u001b[43m[\u001b[49m\u001b[43mrun\u001b[49m\u001b[43m[\u001b[49m\u001b[43mcolumn\u001b[49m\u001b[43m]\u001b[49m\u001b[43m \u001b[49m\u001b[38;5;28;43;01mfor\u001b[39;49;00m\u001b[43m \u001b[49m\u001b[43mrun\u001b[49m\u001b[43m \u001b[49m\u001b[38;5;129;43;01min\u001b[39;49;00m\u001b[43m \u001b[49m\u001b[43mhistory\u001b[49m\u001b[43m[\u001b[49m\u001b[43m:\u001b[49m\u001b[38;5;241;43m-\u001b[39;49m\u001b[38;5;241;43m1\u001b[39;49m\u001b[43m]\u001b[49m\u001b[43m]\u001b[49m\n\u001b[1;32m    101\u001b[0m \u001b[43m    \u001b[49m\u001b[43m)\u001b[49m\n\u001b[1;32m    103\u001b[0m     PS[column] \u001b[38;5;241m=\u001b[39m \u001b[38;5;28mself\u001b[39m\u001b[38;5;241m.\u001b[39m_generate_conjuctive_dq_program(\n\u001b[1;32m    104\u001b[0m         Q, DC[column], fpr_target\n\u001b[1;32m    105\u001b[0m     )\n\u001b[1;32m    107\u001b[0m \u001b[38;5;28;01mreturn\u001b[39;00m PS\n",
      "File \u001b[0;32m~/vinted/Auto-Validate-By-History-Clone/src/avh/utility_functions.py:15\u001b[0m, in \u001b[0;36mdebug_timeit.<locals>.decorator.<locals>.wrapper\u001b[0;34m(*args, **kwargs)\u001b[0m\n\u001b[1;32m     12\u001b[0m local_logger \u001b[38;5;241m=\u001b[39m logging\u001b[38;5;241m.\u001b[39mgetLogger(local_logger_name)\n\u001b[1;32m     14\u001b[0m start_time \u001b[38;5;241m=\u001b[39m time\u001b[38;5;241m.\u001b[39mtime()\n\u001b[0;32m---> 15\u001b[0m result \u001b[38;5;241m=\u001b[39m \u001b[43mfunction\u001b[49m\u001b[43m(\u001b[49m\u001b[38;5;241;43m*\u001b[39;49m\u001b[43margs\u001b[49m\u001b[43m,\u001b[49m\u001b[43m \u001b[49m\u001b[38;5;241;43m*\u001b[39;49m\u001b[38;5;241;43m*\u001b[39;49m\u001b[43mkwargs\u001b[49m\u001b[43m)\u001b[49m\n\u001b[1;32m     16\u001b[0m end_time \u001b[38;5;241m=\u001b[39m time\u001b[38;5;241m.\u001b[39mtime()\n\u001b[1;32m     17\u001b[0m elapsed_time_ms \u001b[38;5;241m=\u001b[39m (end_time \u001b[38;5;241m-\u001b[39m start_time) \u001b[38;5;241m*\u001b[39m \u001b[38;5;241m1000\u001b[39m\n",
      "File \u001b[0;32m~/vinted/Auto-Validate-By-History-Clone/src/avh/auto_validate_by_history.py:248\u001b[0m, in \u001b[0;36mAVH._generate_constraint_space\u001b[0;34m(self, history)\u001b[0m\n\u001b[1;32m    245\u001b[0m \u001b[38;5;28;01mif\u001b[39;00m \u001b[38;5;129;01mnot\u001b[39;00m metric\u001b[38;5;241m.\u001b[39mis_column_compatable(history[\u001b[38;5;241m0\u001b[39m]\u001b[38;5;241m.\u001b[39mdtype):\n\u001b[1;32m    246\u001b[0m     \u001b[38;5;28;01mcontinue\u001b[39;00m\n\u001b[0;32m--> 248\u001b[0m metric_history \u001b[38;5;241m=\u001b[39m \u001b[43mmetric\u001b[49m\u001b[38;5;241;43m.\u001b[39;49m\u001b[43mcalculate\u001b[49m\u001b[43m(\u001b[49m\u001b[43mhistory\u001b[49m\u001b[43m)\u001b[49m\n\u001b[1;32m    249\u001b[0m metric_history_std \u001b[38;5;241m=\u001b[39m np\u001b[38;5;241m.\u001b[39mnanstd(metric_history)\n\u001b[1;32m    250\u001b[0m \u001b[38;5;66;03m# preprocessed_metric_history = None\u001b[39;00m\n\u001b[1;32m    251\u001b[0m \n\u001b[1;32m    252\u001b[0m \u001b[38;5;66;03m# TODO: put this into another function\u001b[39;00m\n\u001b[0;32m   (...)\u001b[0m\n\u001b[1;32m    262\u001b[0m \u001b[38;5;66;03m#         preprocessing_func(metric_history), lag\u001b[39;00m\n\u001b[1;32m    263\u001b[0m \u001b[38;5;66;03m#     )\u001b[39;00m\n",
      "File \u001b[0;32m~/vinted/Auto-Validate-By-History-Clone/src/avh/metrics.py:25\u001b[0m, in \u001b[0;36mMetric.calculate\u001b[0;34m(self, data)\u001b[0m\n\u001b[1;32m     21\u001b[0m \u001b[38;5;250m\u001b[39m\u001b[38;5;124;03m\"\"\"\u001b[39;00m\n\u001b[1;32m     22\u001b[0m \u001b[38;5;124;03mMethod for calculating the target metric from given data\u001b[39;00m\n\u001b[1;32m     23\u001b[0m \u001b[38;5;124;03m\"\"\"\u001b[39;00m\n\u001b[1;32m     24\u001b[0m \u001b[38;5;28;01mif\u001b[39;00m \u001b[38;5;28misinstance\u001b[39m(data, \u001b[38;5;28mlist\u001b[39m):\n\u001b[0;32m---> 25\u001b[0m     \u001b[38;5;28;01mreturn\u001b[39;00m \u001b[38;5;28mlist\u001b[39m(\u001b[38;5;28mmap\u001b[39m(\u001b[38;5;28mself\u001b[39m\u001b[38;5;241m.\u001b[39m_calculate, data))\n\u001b[1;32m     26\u001b[0m \u001b[38;5;28;01mreturn\u001b[39;00m \u001b[38;5;28mself\u001b[39m\u001b[38;5;241m.\u001b[39m_calculate(data)\n",
      "File \u001b[0;32m~/vinted/Auto-Validate-By-History-Clone/src/avh/metrics.py:63\u001b[0m, in \u001b[0;36mDistinctRatio._calculate\u001b[0;34m(self, column)\u001b[0m\n\u001b[1;32m     61\u001b[0m \u001b[38;5;129m@classmethod\u001b[39m\n\u001b[1;32m     62\u001b[0m \u001b[38;5;28;01mdef\u001b[39;00m \u001b[38;5;21m_calculate\u001b[39m(\u001b[38;5;28mself\u001b[39m, column: pd\u001b[38;5;241m.\u001b[39mSeries) \u001b[38;5;241m-\u001b[39m\u001b[38;5;241m>\u001b[39m \u001b[38;5;28mfloat\u001b[39m:\n\u001b[0;32m---> 63\u001b[0m     \u001b[38;5;28;01mreturn\u001b[39;00m \u001b[43mcolumn\u001b[49m\u001b[38;5;241;43m.\u001b[39;49m\u001b[43mnunique\u001b[49m\u001b[43m(\u001b[49m\u001b[43mdropna\u001b[49m\u001b[38;5;241;43m=\u001b[39;49m\u001b[38;5;28;43;01mFalse\u001b[39;49;00m\u001b[43m)\u001b[49m \u001b[38;5;241m/\u001b[39m \u001b[38;5;28mlen\u001b[39m(column)\n",
      "File \u001b[0;32m~/vinted/Auto-Validate-By-History-Clone/.venv/lib/python3.11/site-packages/pandas/core/base.py:1063\u001b[0m, in \u001b[0;36mIndexOpsMixin.nunique\u001b[0;34m(self, dropna)\u001b[0m\n\u001b[1;32m   1028\u001b[0m \u001b[38;5;129m@final\u001b[39m\n\u001b[1;32m   1029\u001b[0m \u001b[38;5;28;01mdef\u001b[39;00m \u001b[38;5;21mnunique\u001b[39m(\u001b[38;5;28mself\u001b[39m, dropna: \u001b[38;5;28mbool\u001b[39m \u001b[38;5;241m=\u001b[39m \u001b[38;5;28;01mTrue\u001b[39;00m) \u001b[38;5;241m-\u001b[39m\u001b[38;5;241m>\u001b[39m \u001b[38;5;28mint\u001b[39m:\n\u001b[1;32m   1030\u001b[0m \u001b[38;5;250m    \u001b[39m\u001b[38;5;124;03m\"\"\"\u001b[39;00m\n\u001b[1;32m   1031\u001b[0m \u001b[38;5;124;03m    Return number of unique elements in the object.\u001b[39;00m\n\u001b[1;32m   1032\u001b[0m \n\u001b[0;32m   (...)\u001b[0m\n\u001b[1;32m   1061\u001b[0m \u001b[38;5;124;03m    4\u001b[39;00m\n\u001b[1;32m   1062\u001b[0m \u001b[38;5;124;03m    \"\"\"\u001b[39;00m\n\u001b[0;32m-> 1063\u001b[0m     uniqs \u001b[38;5;241m=\u001b[39m \u001b[38;5;28;43mself\u001b[39;49m\u001b[38;5;241;43m.\u001b[39;49m\u001b[43munique\u001b[49m\u001b[43m(\u001b[49m\u001b[43m)\u001b[49m\n\u001b[1;32m   1064\u001b[0m     \u001b[38;5;28;01mif\u001b[39;00m dropna:\n\u001b[1;32m   1065\u001b[0m         uniqs \u001b[38;5;241m=\u001b[39m remove_na_arraylike(uniqs)\n",
      "File \u001b[0;32m~/vinted/Auto-Validate-By-History-Clone/.venv/lib/python3.11/site-packages/pandas/core/series.py:2407\u001b[0m, in \u001b[0;36mSeries.unique\u001b[0;34m(self)\u001b[0m\n\u001b[1;32m   2344\u001b[0m \u001b[38;5;28;01mdef\u001b[39;00m \u001b[38;5;21munique\u001b[39m(\u001b[38;5;28mself\u001b[39m) \u001b[38;5;241m-\u001b[39m\u001b[38;5;241m>\u001b[39m ArrayLike:  \u001b[38;5;66;03m# pylint: disable=useless-parent-delegation\u001b[39;00m\n\u001b[1;32m   2345\u001b[0m \u001b[38;5;250m    \u001b[39m\u001b[38;5;124;03m\"\"\"\u001b[39;00m\n\u001b[1;32m   2346\u001b[0m \u001b[38;5;124;03m    Return unique values of Series object.\u001b[39;00m\n\u001b[1;32m   2347\u001b[0m \n\u001b[0;32m   (...)\u001b[0m\n\u001b[1;32m   2405\u001b[0m \u001b[38;5;124;03m    Categories (3, object): ['a' < 'b' < 'c']\u001b[39;00m\n\u001b[1;32m   2406\u001b[0m \u001b[38;5;124;03m    \"\"\"\u001b[39;00m\n\u001b[0;32m-> 2407\u001b[0m     \u001b[38;5;28;01mreturn\u001b[39;00m \u001b[38;5;28;43msuper\u001b[39;49m\u001b[43m(\u001b[49m\u001b[43m)\u001b[49m\u001b[38;5;241;43m.\u001b[39;49m\u001b[43munique\u001b[49m\u001b[43m(\u001b[49m\u001b[43m)\u001b[49m\n",
      "File \u001b[0;32m~/vinted/Auto-Validate-By-History-Clone/.venv/lib/python3.11/site-packages/pandas/core/base.py:1025\u001b[0m, in \u001b[0;36mIndexOpsMixin.unique\u001b[0;34m(self)\u001b[0m\n\u001b[1;32m   1023\u001b[0m     result \u001b[38;5;241m=\u001b[39m values\u001b[38;5;241m.\u001b[39munique()\n\u001b[1;32m   1024\u001b[0m \u001b[38;5;28;01melse\u001b[39;00m:\n\u001b[0;32m-> 1025\u001b[0m     result \u001b[38;5;241m=\u001b[39m \u001b[43malgorithms\u001b[49m\u001b[38;5;241;43m.\u001b[39;49m\u001b[43munique1d\u001b[49m\u001b[43m(\u001b[49m\u001b[43mvalues\u001b[49m\u001b[43m)\u001b[49m\n\u001b[1;32m   1026\u001b[0m \u001b[38;5;28;01mreturn\u001b[39;00m result\n",
      "File \u001b[0;32m~/vinted/Auto-Validate-By-History-Clone/.venv/lib/python3.11/site-packages/pandas/core/algorithms.py:401\u001b[0m, in \u001b[0;36munique\u001b[0;34m(values)\u001b[0m\n\u001b[1;32m    307\u001b[0m \u001b[38;5;28;01mdef\u001b[39;00m \u001b[38;5;21munique\u001b[39m(values):\n\u001b[1;32m    308\u001b[0m \u001b[38;5;250m    \u001b[39m\u001b[38;5;124;03m\"\"\"\u001b[39;00m\n\u001b[1;32m    309\u001b[0m \u001b[38;5;124;03m    Return unique values based on a hash table.\u001b[39;00m\n\u001b[1;32m    310\u001b[0m \n\u001b[0;32m   (...)\u001b[0m\n\u001b[1;32m    399\u001b[0m \u001b[38;5;124;03m    array([('a', 'b'), ('b', 'a'), ('a', 'c')], dtype=object)\u001b[39;00m\n\u001b[1;32m    400\u001b[0m \u001b[38;5;124;03m    \"\"\"\u001b[39;00m\n\u001b[0;32m--> 401\u001b[0m     \u001b[38;5;28;01mreturn\u001b[39;00m \u001b[43munique_with_mask\u001b[49m\u001b[43m(\u001b[49m\u001b[43mvalues\u001b[49m\u001b[43m)\u001b[49m\n",
      "File \u001b[0;32m~/vinted/Auto-Validate-By-History-Clone/.venv/lib/python3.11/site-packages/pandas/core/algorithms.py:440\u001b[0m, in \u001b[0;36munique_with_mask\u001b[0;34m(values, mask)\u001b[0m\n\u001b[1;32m    438\u001b[0m table \u001b[38;5;241m=\u001b[39m hashtable(\u001b[38;5;28mlen\u001b[39m(values))\n\u001b[1;32m    439\u001b[0m \u001b[38;5;28;01mif\u001b[39;00m mask \u001b[38;5;129;01mis\u001b[39;00m \u001b[38;5;28;01mNone\u001b[39;00m:\n\u001b[0;32m--> 440\u001b[0m     uniques \u001b[38;5;241m=\u001b[39m \u001b[43mtable\u001b[49m\u001b[38;5;241;43m.\u001b[39;49m\u001b[43munique\u001b[49m\u001b[43m(\u001b[49m\u001b[43mvalues\u001b[49m\u001b[43m)\u001b[49m\n\u001b[1;32m    441\u001b[0m     uniques \u001b[38;5;241m=\u001b[39m _reconstruct_data(uniques, original\u001b[38;5;241m.\u001b[39mdtype, original)\n\u001b[1;32m    442\u001b[0m     \u001b[38;5;28;01mreturn\u001b[39;00m uniques\n",
      "\u001b[0;31mKeyboardInterrupt\u001b[0m: "
     ]
    }
   ],
   "source": [
    "PS = avh.generate(H, fpr_target=0.01)"
   ]
  },
  {
   "cell_type": "code",
   "execution_count": 7,
   "metadata": {},
   "outputs": [],
   "source": [
    "import time"
   ]
  },
  {
   "cell_type": "code",
   "execution_count": 12,
   "metadata": {},
   "outputs": [],
   "source": [
    "def minmax(x):\n",
    "    time.sleep(1)\n",
    "    return x.max() - x.min()"
   ]
  },
  {
   "cell_type": "code",
   "execution_count": 13,
   "metadata": {},
   "outputs": [
    {
     "data": {
      "text/html": [
       "<div>\n",
       "<style scoped>\n",
       "    .dataframe tbody tr th:only-of-type {\n",
       "        vertical-align: middle;\n",
       "    }\n",
       "\n",
       "    .dataframe tbody tr th {\n",
       "        vertical-align: top;\n",
       "    }\n",
       "\n",
       "    .dataframe thead th {\n",
       "        text-align: right;\n",
       "    }\n",
       "</style>\n",
       "<table border=\"1\" class=\"dataframe\">\n",
       "  <thead>\n",
       "    <tr style=\"text-align: right;\">\n",
       "      <th></th>\n",
       "      <th>money</th>\n",
       "      <th>height</th>\n",
       "    </tr>\n",
       "  </thead>\n",
       "  <tbody>\n",
       "    <tr>\n",
       "      <th>0</th>\n",
       "      <td>306.025787</td>\n",
       "      <td>16.935593</td>\n",
       "    </tr>\n",
       "    <tr>\n",
       "      <th>1</th>\n",
       "      <td>307.398956</td>\n",
       "      <td>17.327097</td>\n",
       "    </tr>\n",
       "    <tr>\n",
       "      <th>2</th>\n",
       "      <td>323.848206</td>\n",
       "      <td>18.795792</td>\n",
       "    </tr>\n",
       "    <tr>\n",
       "      <th>3</th>\n",
       "      <td>293.234497</td>\n",
       "      <td>17.923433</td>\n",
       "    </tr>\n",
       "    <tr>\n",
       "      <th>4</th>\n",
       "      <td>303.093597</td>\n",
       "      <td>18.694580</td>\n",
       "    </tr>\n",
       "    <tr>\n",
       "      <th>5</th>\n",
       "      <td>308.189514</td>\n",
       "      <td>16.846575</td>\n",
       "    </tr>\n",
       "    <tr>\n",
       "      <th>6</th>\n",
       "      <td>298.945801</td>\n",
       "      <td>18.116465</td>\n",
       "    </tr>\n",
       "    <tr>\n",
       "      <th>7</th>\n",
       "      <td>302.219177</td>\n",
       "      <td>12.018182</td>\n",
       "    </tr>\n",
       "    <tr>\n",
       "      <th>8</th>\n",
       "      <td>313.597168</td>\n",
       "      <td>18.783092</td>\n",
       "    </tr>\n",
       "    <tr>\n",
       "      <th>9</th>\n",
       "      <td>294.416443</td>\n",
       "      <td>14.882791</td>\n",
       "    </tr>\n",
       "  </tbody>\n",
       "</table>\n",
       "</div>"
      ],
      "text/plain": [
       "        money     height\n",
       "0  306.025787  16.935593\n",
       "1  307.398956  17.327097\n",
       "2  323.848206  18.795792\n",
       "3  293.234497  17.923433\n",
       "4  303.093597  18.694580\n",
       "5  308.189514  16.846575\n",
       "6  298.945801  18.116465\n",
       "7  302.219177  12.018182\n",
       "8  313.597168  18.783092\n",
       "9  294.416443  14.882791"
      ]
     },
     "execution_count": 13,
     "metadata": {},
     "output_type": "execute_result"
    }
   ],
   "source": [
    "df"
   ]
  },
  {
   "cell_type": "code",
   "execution_count": 14,
   "metadata": {},
   "outputs": [
    {
     "name": "stdout",
     "output_type": "stream",
     "text": [
      "CPU times: user 4.56 ms, sys: 1.32 ms, total: 5.88 ms\n",
      "Wall time: 10 s\n"
     ]
    },
    {
     "data": {
      "text/plain": [
       "0    289.090210\n",
       "1    290.071869\n",
       "2    305.052429\n",
       "3    275.311066\n",
       "4    284.399017\n",
       "5    291.342926\n",
       "6    280.829346\n",
       "7    290.200989\n",
       "8    294.814087\n",
       "9    279.533661\n",
       "dtype: float32"
      ]
     },
     "execution_count": 14,
     "metadata": {},
     "output_type": "execute_result"
    }
   ],
   "source": [
    "%%time\n",
    "df.apply(minmax, axis=1)"
   ]
  },
  {
   "cell_type": "code",
   "execution_count": 9,
   "metadata": {},
   "outputs": [],
   "source": [
    "import dask.dataframe as dd"
   ]
  },
  {
   "cell_type": "code",
   "execution_count": 10,
   "metadata": {},
   "outputs": [],
   "source": [
    "ddf = dd.from_pandas(df, npartitions=5)  # Dask DataFrame has 5 partitions"
   ]
  },
  {
   "cell_type": "code",
   "execution_count": 11,
   "metadata": {},
   "outputs": [],
   "source": [
    "def minmax2(df):\n",
    "    return df.apply(minmax, axis=1)"
   ]
  },
  {
   "cell_type": "code",
   "execution_count": 18,
   "metadata": {},
   "outputs": [
    {
     "name": "stdout",
     "output_type": "stream",
     "text": [
      "CPU times: user 11 ms, sys: 3.08 ms, total: 14.1 ms\n",
      "Wall time: 2.02 s\n"
     ]
    },
    {
     "data": {
      "text/plain": [
       "0    289.090210\n",
       "1    290.071869\n",
       "2    305.052429\n",
       "3    275.311066\n",
       "4    284.399017\n",
       "5    291.342926\n",
       "6    280.829346\n",
       "7    290.200989\n",
       "8    294.814087\n",
       "9    279.533661\n",
       "dtype: float32"
      ]
     },
     "execution_count": 18,
     "metadata": {},
     "output_type": "execute_result"
    }
   ],
   "source": [
    "%%time\n",
    "p = ddf.map_partitions(minmax2, meta=(None, \"float32\"))\n",
    "p.compute()"
   ]
  },
  {
   "cell_type": "code",
   "execution_count": null,
   "metadata": {},
   "outputs": [],
   "source": []
  }
 ],
 "metadata": {
  "kernelspec": {
   "display_name": ".venv",
   "language": "python",
   "name": "python3"
  },
  "language_info": {
   "codemirror_mode": {
    "name": "ipython",
    "version": 3
   },
   "file_extension": ".py",
   "mimetype": "text/x-python",
   "name": "python",
   "nbconvert_exporter": "python",
   "pygments_lexer": "ipython3",
   "version": "3.11.6"
  }
 },
 "nbformat": 4,
 "nbformat_minor": 2
}
