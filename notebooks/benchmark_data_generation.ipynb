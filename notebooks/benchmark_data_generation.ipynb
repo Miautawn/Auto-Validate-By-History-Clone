{
 "cells": [
  {
   "cell_type": "code",
   "execution_count": 1,
   "metadata": {},
   "outputs": [],
   "source": [
    "%load_ext autoreload\n",
    "%autoreload 2"
   ]
  },
  {
   "cell_type": "code",
   "execution_count": 2,
   "metadata": {},
   "outputs": [],
   "source": [
    "import uuid\n",
    "import time\n",
    "from typing import List\n",
    "\n",
    "import numpy as np\n",
    "import pandas as pd\n",
    "from tqdm import tqdm\n",
    "from sklearn.utils.validation import check_is_fitted\n",
    "from statsmodels.tsa.stattools import adfuller\n",
    "from IPython.display import Code, display\n",
    "import inspect\n",
    "\n",
    "import avh.utility_functions as utils\n",
    "from avh.data_issues import (\n",
    "    IssueTransfomer,\n",
    "    NumericIssueTransformer,\n",
    "    CategoricalIssueTransformer,\n",
    "    IncreasedNulls,\n",
    "    SchemaChange,\n",
    "    DistributionChange,\n",
    "    UnitChange,\n",
    "    CasingChange,\n",
    "    DQIssueDatasetGenerator,\n",
    "    VolumeChangeUpsample,\n",
    "    VolumeChangeDownsample,\n",
    "    NumericPerturbation,\n",
    ")\n",
    "\n",
    "from avh.data_generation import (\n",
    "    DataColumn,\n",
    "    NumericColumn,\n",
    "    CategoricalColumn,\n",
    "    NormalNumericColumn,\n",
    "    UniformNumericColumn,\n",
    "    BetaNumericColumn,\n",
    "    StaticCategoricalColumn,\n",
    "    RandomCategoricalColumn,\n",
    "    DataGenerationPipeline,\n",
    ")\n",
    "\n",
    "from avh.metrics import (\n",
    "    Metric,\n",
    "    SingleDistributionMetric,\n",
    "    TwoDistributionMetric,\n",
    "    RowCount,\n",
    "    DistinctCount,\n",
    "    DistinctRatio,\n",
    "    CompleteRatio,\n",
    "    Mean,\n",
    "    Median,\n",
    "    Range,\n",
    "    Min,\n",
    "    Max,\n",
    "    Sum,\n",
    "    MeanDigitLength,\n",
    "    MeanPunctuationLength,\n",
    "    MeanStringLength,\n",
    "    EMD,\n",
    "    KsDist,\n",
    "    CohenD,\n",
    "    KlDivergence,\n",
    "    JsDivergence,\n",
    ")\n",
    "\n",
    "from avh.constraints import (\n",
    "    Constraint,\n",
    "    ConstantConstraint,\n",
    "    ChebyshevConstraint,\n",
    "    CantelliConstraint,\n",
    "    CLTConstraint,\n",
    "    ConjuctivDQProgram,\n",
    ")\n",
    "\n",
    "from avh.auto_validate_by_history import AVH"
   ]
  },
  {
   "cell_type": "code",
   "execution_count": 3,
   "metadata": {},
   "outputs": [
    {
     "data": {
      "text/html": [
       "\n",
       "                <script type=\"application/javascript\" id=\"jupyter_black\">\n",
       "                (function() {\n",
       "                    if (window.IPython === undefined) {\n",
       "                        return\n",
       "                    }\n",
       "                    var msg = \"WARNING: it looks like you might have loaded \" +\n",
       "                        \"jupyter_black in a non-lab notebook with \" +\n",
       "                        \"`is_lab=True`. Please double check, and if \" +\n",
       "                        \"loading with `%load_ext` please review the README!\"\n",
       "                    console.log(msg)\n",
       "                    alert(msg)\n",
       "                })()\n",
       "                </script>\n",
       "                "
      ],
      "text/plain": [
       "<IPython.core.display.HTML object>"
      ]
     },
     "metadata": {},
     "output_type": "display_data"
    }
   ],
   "source": [
    "import jupyter_black\n",
    "\n",
    "jupyter_black.load()"
   ]
  },
  {
   "cell_type": "code",
   "execution_count": 4,
   "metadata": {},
   "outputs": [],
   "source": [
    "rng = np.random.default_rng(42)"
   ]
  },
  {
   "cell_type": "code",
   "execution_count": 5,
   "metadata": {},
   "outputs": [],
   "source": [
    "pipeline = DataGenerationPipeline(\n",
    "    columns=[\n",
    "        NormalNumericColumn(\"money\", 300, 10),\n",
    "        NormalNumericColumn(\"height\", 18, 2),\n",
    "        # UniformNumericColumn(\"houses\", 30, 50, dtype=np.int32),\n",
    "        # RandomCategoricalColumn(\"pets\", [\"dog\", \"cat\", \"snail\"]),\n",
    "        # RandomCategoricalColumn(\"pets2\", [\"dog\", \"cat\", \"snail\"]),\n",
    "        # RandomCategoricalColumn(\"text\"),\n",
    "    ],\n",
    "    issues=[\n",
    "        (\"money\", [IncreasedNulls(p=0.9)]),\n",
    "        # (\"height\", [IncreasedNulls(p=0.99)]),\n",
    "        # (\"pets\", [IncreasedNulls(p=0.5)]),\n",
    "    ],\n",
    "    random_state=rng,\n",
    ")"
   ]
  },
  {
   "cell_type": "code",
   "execution_count": 6,
   "metadata": {},
   "outputs": [],
   "source": [
    "# Defining M space\n",
    "M = [\n",
    "    RowCount,\n",
    "    DistinctRatio,\n",
    "    DistinctCount,\n",
    "    CompleteRatio,\n",
    "    Min,\n",
    "    Max,\n",
    "    Mean,\n",
    "    Median,\n",
    "    Sum,\n",
    "    Range,\n",
    "    EMD,\n",
    "    JsDivergence,\n",
    "    KlDivergence,\n",
    "    KsDist,\n",
    "    CohenD,\n",
    "]\n",
    "\n",
    "# # Defining available constraint estimators\n",
    "# # Note: Order not important as Q space will be constructed\n",
    "# #     from cartesian product of E & M\n",
    "E = [\n",
    "    CLTConstraint,\n",
    "    ChebyshevConstraint,\n",
    "    CantelliConstraint,\n",
    "]\n",
    "\n",
    "H = [pipeline.generate(1000) for i in range(31)]"
   ]
  },
  {
   "cell_type": "code",
   "execution_count": 7,
   "metadata": {},
   "outputs": [],
   "source": [
    "avh = AVH(random_state=42, verbose=3, columns=[\"money\"])"
   ]
  },
  {
   "cell_type": "code",
   "execution_count": 8,
   "metadata": {},
   "outputs": [
    {
     "name": "stderr",
     "output_type": "stream",
     "text": [
      "creating D(C)...: 23it [00:03,  6.50it/s] \n",
      "creating P(S) (with joblib)...: 100%|██████████| 1/1 [00:00<00:00,  4.97it/s]"
     ]
    },
    {
     "name": "stdout",
     "output_type": "stream",
     "text": [
      "2024-05-06 18:50:48|DEBUG|utility_functions.wrapper: avh.auto_validate_by_history._generate_parallel Took 3772.1150 ms to execute.\n",
      "2024-05-06 18:50:48|DEBUG|utility_functions.wrapper: avh.auto_validate_by_history.generate Took 3772.5592 ms to execute.\n"
     ]
    },
    {
     "name": "stderr",
     "output_type": "stream",
     "text": [
      "\n"
     ]
    }
   ],
   "source": [
    "PS = avh.generate(H, fpr_target=0.05)"
   ]
  },
  {
   "cell_type": "code",
   "execution_count": 9,
   "metadata": {},
   "outputs": [
    {
     "data": {
      "text/plain": [
       "{'money': ChebyshevConstraint(29341.3798 <= Sum <= 30690.2296, FPR = 0.0204)\n",
       " CantelliConstraint(0.0000 <= EMD <= 10.9308, FPR = 0.0051), FPR = 0.025484}"
      ]
     },
     "execution_count": 9,
     "metadata": {},
     "output_type": "execute_result"
    }
   ],
   "source": [
    "PS"
   ]
  },
  {
   "cell_type": "markdown",
   "metadata": {},
   "source": [
    "### Synthetic benchmark data generation"
   ]
  },
  {
   "cell_type": "markdown",
   "metadata": {},
   "source": [
    "**Benchmark setup**  \n",
    "columns:\n",
    "- Numeric:\n",
    "    - count: 1000\n",
    "    - dtypes:\n",
    "        - int: 30%\n",
    "        - float: 70%\n",
    "    - distributions:\n",
    "        - uniform: 10%\n",
    "        - normal: 20%\n",
    "        - beta: 70%\n",
    "- Categorical:\n",
    "    - count: 1000"
   ]
  },
  {
   "cell_type": "code",
   "execution_count": 8,
   "metadata": {},
   "outputs": [],
   "source": [
    "rng = np.random.default_rng(42)\n",
    "n = 1000\n",
    "\n",
    "numeric_columns = []\n",
    "for i in range(n):\n",
    "\n",
    "    column_name = f\"numeric_{i}\"\n",
    "    dtype = rng.choice([np.int32, np.float32], p=[0.3, 0.7])\n",
    "    distribution = rng.choice([\"uniform\", \"normal\", \"beta\"], p=[0.1, 0.1, 0.8])\n",
    "\n",
    "    scale = rng.integers(1, 100000)\n",
    "    sign = rng.choice([-1, 1], p=[0.2, 0.8])\n",
    "\n",
    "    if distribution == \"uniform\":\n",
    "        low = rng.uniform(0, scale)\n",
    "        high = rng.uniform(low, scale)\n",
    "\n",
    "        if sign == -1:\n",
    "            low, high = high * sign, low * sign\n",
    "\n",
    "        column = UniformNumericColumn(column_name, low, high, dtype=dtype)\n",
    "\n",
    "    elif distribution == \"normal\":\n",
    "        mean = rng.uniform(0, scale) * sign\n",
    "        std = rng.uniform(0, 10)\n",
    "        column = NormalNumericColumn(column_name, mean, std, dtype=dtype)\n",
    "\n",
    "    elif distribution == \"beta\":\n",
    "        alfa = rng.uniform(0.1, 10)\n",
    "        beta = rng.uniform(0.1, 10)\n",
    "        column = BetaNumericColumn(\n",
    "            column_name, alfa, beta, scale=scale * sign, dtype=dtype\n",
    "        )\n",
    "\n",
    "    numeric_columns.append(column)\n",
    "\n",
    "pipeline = DataGenerationPipeline(numeric_columns, random_state=rng)"
   ]
  },
  {
   "cell_type": "code",
   "execution_count": 10,
   "metadata": {},
   "outputs": [],
   "source": [
    "H_FULL = [pipeline.generate(100000) for i in range(31)]"
   ]
  }
 ],
 "metadata": {
  "kernelspec": {
   "display_name": ".venv",
   "language": "python",
   "name": "python3"
  },
  "language_info": {
   "codemirror_mode": {
    "name": "ipython",
    "version": 3
   },
   "file_extension": ".py",
   "mimetype": "text/x-python",
   "name": "python",
   "nbconvert_exporter": "python",
   "pygments_lexer": "ipython3",
   "version": "3.11.6"
  }
 },
 "nbformat": 4,
 "nbformat_minor": 2
}
