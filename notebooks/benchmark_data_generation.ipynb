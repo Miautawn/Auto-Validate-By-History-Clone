{
 "cells": [
  {
   "cell_type": "code",
   "execution_count": 17,
   "metadata": {},
   "outputs": [
    {
     "name": "stdout",
     "output_type": "stream",
     "text": [
      "The autoreload extension is already loaded. To reload it, use:\n",
      "  %reload_ext autoreload\n"
     ]
    }
   ],
   "source": [
    "%load_ext autoreload\n",
    "%autoreload 2"
   ]
  },
  {
   "cell_type": "code",
   "execution_count": 18,
   "metadata": {},
   "outputs": [],
   "source": [
    "# import uuid\n",
    "import time\n",
    "from typing import List\n",
    "\n",
    "import numpy as np\n",
    "import pandas as pd\n",
    "from tqdm import tqdm\n",
    "from sklearn.utils.validation import check_is_fitted\n",
    "from statsmodels.tsa.stattools import adfuller\n",
    "from IPython.display import Code, display\n",
    "import inspect\n",
    "\n",
    "import avh.utility_functions as utils\n",
    "from avh.data_issues import (\n",
    "    IssueTransfomer,\n",
    "    NumericIssueTransformer,\n",
    "    CategoricalIssueTransformer,\n",
    "    IncreasedNulls,\n",
    "    SchemaChange,\n",
    "    DistributionChange,\n",
    "    UnitChange,\n",
    "    CasingChange,\n",
    "    DQIssueDatasetGenerator,\n",
    "    VolumeChangeUpsample,\n",
    "    VolumeChangeDownsample,\n",
    "    NumericPerturbation,\n",
    ")\n",
    "\n",
    "from avh.data_generation import (\n",
    "    DataColumn,\n",
    "    NumericColumn,\n",
    "    CategoricalColumn,\n",
    "    NormalNumericColumn,\n",
    "    UniformNumericColumn,\n",
    "    BetaNumericColumn,\n",
    "    StaticCategoricalColumn,\n",
    "    RandomCategoricalColumn,\n",
    "    DataGenerationPipeline,\n",
    ")\n",
    "\n",
    "from avh.metrics import (\n",
    "    Metric,\n",
    "    SingleDistributionMetric,\n",
    "    TwoDistributionMetric,\n",
    "    RowCount,\n",
    "    DistinctCount,\n",
    "    DistinctRatio,\n",
    "    CompleteRatio,\n",
    "    Mean,\n",
    "    Median,\n",
    "    Range,\n",
    "    Min,\n",
    "    Max,\n",
    "    Sum,\n",
    "    MeanDigitLength,\n",
    "    MeanPunctuationLength,\n",
    "    MeanStringLength,\n",
    "    EMD,\n",
    "    KsDist,\n",
    "    CohenD,\n",
    "    KlDivergence,\n",
    "    JsDivergence,\n",
    ")\n",
    "\n",
    "from avh.constraints import (\n",
    "    Constraint,\n",
    "    ConstantConstraint,\n",
    "    ChebyshevConstraint,\n",
    "    CantelliConstraint,\n",
    "    CLTConstraint,\n",
    "    ConjuctivDQProgram,\n",
    ")\n",
    "\n",
    "from avh.auto_validate_by_history import AVH\n",
    "\n",
    "import plotly.express as px"
   ]
  },
  {
   "cell_type": "code",
   "execution_count": 19,
   "metadata": {},
   "outputs": [],
   "source": [
    "import jupyter_black\n",
    "\n",
    "jupyter_black.load()"
   ]
  },
  {
   "cell_type": "code",
   "execution_count": 20,
   "metadata": {},
   "outputs": [],
   "source": [
    "rng = np.random.default_rng(42)"
   ]
  },
  {
   "cell_type": "code",
   "execution_count": 21,
   "metadata": {},
   "outputs": [],
   "source": [
    "from avh.data_generation import DataGenerationPipeline, NormalNumericColumn, BetaNumericColumn\n",
    "\n",
    "from avh.data_issues import IncreasedNulls\n",
    "from avh.auto_validate_by_history import AVH"
   ]
  },
  {
   "cell_type": "code",
   "execution_count": 22,
   "metadata": {},
   "outputs": [],
   "source": [
    "pipeline = DataGenerationPipeline(\n",
    "    columns=[\n",
    "        NormalNumericColumn(\"money\", mean=300, std=10),\n",
    "        BetaNumericColumn(\"height\", alfa=18, beta=2),\n",
    "    ],\n",
    "    issues=[\n",
    "        (\"money\", [IncreasedNulls(p=0.05)]),\n",
    "    ],\n",
    "    random_state=42,\n",
    ")"
   ]
  },
  {
   "cell_type": "code",
   "execution_count": 23,
   "metadata": {},
   "outputs": [],
   "source": [
    "H = [pipeline.generate_normal(20000, 30) for i in range(30)]"
   ]
  },
  {
   "cell_type": "code",
   "execution_count": 24,
   "metadata": {},
   "outputs": [
    {
     "ename": "KeyError",
     "evalue": "'money'",
     "output_type": "error",
     "traceback": [
      "\u001b[0;31m---------------------------------------------------------------------------\u001b[0m",
      "\u001b[0;31mKeyError\u001b[0m                                  Traceback (most recent call last)",
      "Cell \u001b[0;32mIn[24], line 1\u001b[0m\n\u001b[0;32m----> 1\u001b[0m \u001b[43mPS\u001b[49m\u001b[43m[\u001b[49m\u001b[38;5;124;43m\"\u001b[39;49m\u001b[38;5;124;43mmoney\u001b[39;49m\u001b[38;5;124;43m\"\u001b[39;49m\u001b[43m]\u001b[49m\n",
      "\u001b[0;31mKeyError\u001b[0m: 'money'"
     ]
    }
   ],
   "source": [
    "PS[\"money\"]"
   ]
  },
  {
   "cell_type": "markdown",
   "metadata": {},
   "source": [
    "### Synthetic benchmark data generation"
   ]
  },
  {
   "cell_type": "markdown",
   "metadata": {},
   "source": [
    "**Benchmark setup**  \n",
    "columns:\n",
    "- Numeric:\n",
    "    - count: 1000\n",
    "    - dtypes:\n",
    "        - int: 30%\n",
    "        - float: 70%\n",
    "    - distributions:\n",
    "        - uniform: 10%\n",
    "        - normal: 20%\n",
    "        - beta: 70%\n",
    "- Categorical:\n",
    "    - count: 1000"
   ]
  },
  {
   "cell_type": "markdown",
   "metadata": {},
   "source": [
    "### First attempts"
   ]
  },
  {
   "cell_type": "code",
   "execution_count": null,
   "metadata": {},
   "outputs": [],
   "source": [
    "import pickle"
   ]
  },
  {
   "cell_type": "code",
   "execution_count": null,
   "metadata": {},
   "outputs": [],
   "source": [
    "with open(\"../benchmark/benchmark_data.pickle\", \"rb\") as f:\n",
    "    data = pickle.load(f)\n",
    "    column_history = data[\"column_history\"]\n",
    "    column_perturbations = data[\"column_perturbations\"]"
   ]
  },
  {
   "cell_type": "code",
   "execution_count": null,
   "metadata": {},
   "outputs": [],
   "source": [
    "total_history_size = 60\n",
    "train_history_window_size = 30\n",
    "\n",
    "total_windows = total_history_size - train_history_window_size\n",
    "columns = list([column_set.columns[0] for column_set in column_history[0]])\n",
    "\n",
    "DC_GENERATOR = AVH()._get_default_issue_dataset_generator()\n",
    "\n",
    "fpr_budgets = [\n",
    "    0.0005,\n",
    "    # 0.001,\n",
    "    0.005,\n",
    "    # 0.01,\n",
    "    0.05,\n",
    "    0.1,\n",
    "    # 0.15,\n",
    "    # 0.2,\n",
    "    0.25,\n",
    "    # 0.3,\n",
    "    # 0.35,\n",
    "    # 0.4,\n",
    "    # 0.45,\n",
    "    0.5,\n",
    "]\n",
    "\n",
    "# avh = AVH(verbose=0, random_state=42, optimise_search_space=False, n_jobs=-1)"
   ]
  },
  {
   "cell_type": "code",
   "execution_count": null,
   "metadata": {},
   "outputs": [],
   "source": [
    "column = \"numeric_8\"\n",
    "history = [run[8] for run in column_history]\n",
    "perturbations = column_perturbations[8]"
   ]
  },
  {
   "cell_type": "code",
   "execution_count": 36,
   "metadata": {},
   "outputs": [
    {
     "name": "stderr",
     "output_type": "stream",
     "text": [
      "100%|██████████| 30/30 [00:58<00:00,  1.96s/it]\n"
     ]
    }
   ],
   "source": [
    "avh = AVH(columns=[column], verbose=0, random_state=42, optimise_search_space=False)\n",
    "dc_generator = avh._get_default_issue_dataset_generator()\n",
    "\n",
    "for i in tqdm(range(total_windows)):\n",
    "    train_h = history[i : i + train_history_window_size]\n",
    "    test_h = history[i + train_history_window_size]\n",
    "\n",
    "    Q = avh._generate_constraint_space(\n",
    "        [run[column] for run in train_h], optimise_search_space=False\n",
    "    )\n",
    "    DC = dc_generator.generate(train_h[-1])[column]\n",
    "\n",
    "    constraint_recalls = avh._precalculate_constraint_recalls_fast(Q, DC)\n",
    "\n",
    "    for j, fpr_budget in enumerate(fpr_budgets):\n",
    "        PS_singleton = avh._find_optimal_singleton_conjuctive_dq_program(\n",
    "            Q, constraint_recalls, fpr_budget\n",
    "        )\n",
    "\n",
    "        PS_conjunctive = avh._find_optimal_conjunctive_dq_program(\n",
    "            Q, constraint_recalls, fpr_budget\n",
    "        )\n",
    "        PS = (\n",
    "            PS_conjunctive\n",
    "            if len(PS_conjunctive.recall) >= len(PS_singleton.recall)\n",
    "            else PS_singleton\n",
    "        )"
   ]
  },
  {
   "cell_type": "code",
   "execution_count": 32,
   "metadata": {},
   "outputs": [
    {
     "name": "stdout",
     "output_type": "stream",
     "text": [
      "ChebyshevConstraint(5.9634 <= Range <= 6.1305, FPR = 0.0004)\n",
      "CLTConstraint(14305.2387 <= RowCount <= 25481.0946, FPR = 0.0000)\n",
      "ChebyshevConstraint(1.0000 <= CompleteRatio <= 1.0000, FPR = 0.0000), FPR = 0.000423\n",
      "ChebyshevConstraint(5.9634 <= Range <= 6.1305, FPR = 0.0004)\n",
      "CLTConstraint(14305.2387 <= RowCount <= 25481.0946, FPR = 0.0000)\n",
      "ChebyshevConstraint(1.0000 <= CompleteRatio <= 1.0000, FPR = 0.0000), FPR = 0.000423\n",
      "ChebyshevConstraint(38070.5220 <= Sum <= 72059.9312, FPR = 0.0400)\n",
      "ChebyshevConstraint(1.0000 <= CompleteRatio <= 1.0000, FPR = 0.0000)\n",
      "ChebyshevConstraint(6.1113 <= Max <= 6.2795, FPR = 0.0004), FPR = 0.040416\n",
      "ChebyshevConstraint(38070.5220 <= Sum <= 72059.9312, FPR = 0.0400)\n",
      "ChebyshevConstraint(1.0000 <= CompleteRatio <= 1.0000, FPR = 0.0000)\n",
      "ChebyshevConstraint(6.1113 <= Max <= 6.2795, FPR = 0.0004), FPR = 0.040416\n",
      "CLTConstraint(18030.5240 <= RowCount <= 21755.8093, FPR = 0.1336), FPR = 0.133614\n",
      "CLTConstraint(18651.4049 <= RowCount <= 21134.9284, FPR = 0.3173), FPR = 0.317311\n"
     ]
    }
   ],
   "source": [
    "avh = AVH(columns=[column], verbose=0, random_state=42, optimise_search_space=False)\n",
    "dc_generator = avh._get_default_issue_dataset_generator()\n",
    "\n",
    "\n",
    "for i in range(total_windows):\n",
    "    train_h = history[i : i + train_history_window_size]\n",
    "    test_h = history[i + train_history_window_size]\n",
    "\n",
    "    dq_problems = dc_generator.generate(train_h[-1])\n",
    "\n",
    "    for j, fpr_budget in enumerate(fpr_budgets):\n",
    "        PS = avh.generate(train_h, fpr_target=fpr_budget)\n",
    "        print(PS[\"numeric_8\"])\n",
    "    break"
   ]
  },
  {
   "cell_type": "code",
   "execution_count": null,
   "metadata": {},
   "outputs": [],
   "source": [
    "tp_per_threshold = np.zeros(shape=len(fpr_budgets))\n",
    "\n",
    "avh = AVH(columns=[column], verbose=0, random_state=42, optimise_search_space=False)\n",
    "\n",
    "for j, fpr_budget in enumerate(fpr_budgets):\n",
    "    PS = avh.generate(train_h, fpr_target=fpr_budget)\n",
    "\n",
    "    for recall_test in perturbations:\n",
    "        column_prediction = not PS[column].predict(recall_test[1])\n",
    "        tp_per_threshold[j] += column_prediction"
   ]
  },
  {
   "cell_type": "code",
   "execution_count": null,
   "metadata": {},
   "outputs": [
    {
     "data": {
      "text/plain": [
       "array([23., 23., 23., 23.,  4.,  4.])"
      ]
     },
     "execution_count": 38,
     "metadata": {},
     "output_type": "execute_result"
    }
   ],
   "source": [
    "tp_per_threshold"
   ]
  },
  {
   "cell_type": "code",
   "execution_count": null,
   "metadata": {},
   "outputs": [
    {
     "name": "stdout",
     "output_type": "stream",
     "text": [
      "ChebyshevConstraint(17409.6431 <= RowCount <= 22376.6902, FPR = 0.2500) 4\n",
      "ChebyshevConstraint(16167.8814 <= RowCount <= 23618.4520, FPR = 0.1111) 4\n",
      "ChebyshevConstraint(14926.1196 <= RowCount <= 24860.2137, FPR = 0.0625) 4\n",
      "ChebyshevConstraint(13684.3579 <= RowCount <= 26101.9755, FPR = 0.0400) 4\n",
      "ChebyshevConstraint(12442.5961 <= RowCount <= 27343.7372, FPR = 0.0278) 4\n",
      "ChebyshevConstraint(11200.8343 <= RowCount <= 28585.4990, FPR = 0.0204) 4\n",
      "ChebyshevConstraint(9959.0726 <= RowCount <= 29827.2608, FPR = 0.0156) 3\n",
      "ChebyshevConstraint(8717.3108 <= RowCount <= 31069.0225, FPR = 0.0123) 3\n",
      "ChebyshevConstraint(7475.5491 <= RowCount <= 32310.7843, FPR = 0.0100) 3\n",
      "ChebyshevConstraint(6233.7873 <= RowCount <= 33552.5460, FPR = 0.0083) 3\n",
      "ChebyshevConstraint(4992.0255 <= RowCount <= 34794.3078, FPR = 0.0069) 3\n",
      "ChebyshevConstraint(3750.2638 <= RowCount <= 36036.0696, FPR = 0.0059) 3\n",
      "ChebyshevConstraint(2508.5020 <= RowCount <= 37277.8313, FPR = 0.0051) 3\n",
      "ChebyshevConstraint(1266.7402 <= RowCount <= 38519.5931, FPR = 0.0044) 2\n",
      "ChebyshevConstraint(24.9785 <= RowCount <= 39761.3549, FPR = 0.0039) 2\n",
      "ChebyshevConstraint(-1216.7833 <= RowCount <= 41003.1166, FPR = 0.0035) 2\n",
      "ChebyshevConstraint(-2458.5450 <= RowCount <= 42244.8784, FPR = 0.0031) 2\n",
      "ChebyshevConstraint(-3700.3068 <= RowCount <= 43486.6401, FPR = 0.0028) 2\n",
      "ChebyshevConstraint(-4942.0686 <= RowCount <= 44728.4019, FPR = 0.0025) 1\n",
      "ChebyshevConstraint(-6183.8303 <= RowCount <= 45970.1637, FPR = 0.0023) 1\n",
      "ChebyshevConstraint(-7425.5921 <= RowCount <= 47211.9254, FPR = 0.0021) 1\n",
      "ChebyshevConstraint(-8667.3538 <= RowCount <= 48453.6872, FPR = 0.0019) 1\n",
      "ChebyshevConstraint(-9909.1156 <= RowCount <= 49695.4489, FPR = 0.0017) 1\n",
      "ChebyshevConstraint(-11150.8774 <= RowCount <= 50937.2107, FPR = 0.0016) 1\n",
      "ChebyshevConstraint(-12392.6391 <= RowCount <= 52178.9725, FPR = 0.0015) 1\n",
      "ChebyshevConstraint(-13634.4009 <= RowCount <= 53420.7342, FPR = 0.0014) 1\n",
      "ChebyshevConstraint(-14876.1627 <= RowCount <= 54662.4960, FPR = 0.0013) 1\n",
      "ChebyshevConstraint(-16117.9244 <= RowCount <= 55904.2577, FPR = 0.0012) 1\n",
      "ChebyshevConstraint(-17359.6862 <= RowCount <= 57146.0195, FPR = 0.0011) 1\n",
      "ChebyshevConstraint(-18601.4479 <= RowCount <= 58387.7813, FPR = 0.0010) 1\n",
      "ChebyshevConstraint(-19843.2097 <= RowCount <= 59629.5430, FPR = 0.0010) 1\n",
      "ChebyshevConstraint(-21084.9715 <= RowCount <= 60871.3048, FPR = 0.0009) 1\n",
      "ChebyshevConstraint(-22326.7332 <= RowCount <= 62113.0666, FPR = 0.0009) 1\n",
      "ChebyshevConstraint(-23568.4950 <= RowCount <= 63354.8283, FPR = 0.0008) 1\n",
      "ChebyshevConstraint(-24810.2567 <= RowCount <= 64596.5901, FPR = 0.0008) 1\n",
      "ChebyshevConstraint(-26052.0185 <= RowCount <= 65838.3518, FPR = 0.0007) 1\n",
      "ChebyshevConstraint(-27293.7803 <= RowCount <= 67080.1136, FPR = 0.0007) 1\n",
      "ChebyshevConstraint(-28535.5420 <= RowCount <= 68321.8754, FPR = 0.0007) 1\n",
      "ChebyshevConstraint(-29777.3038 <= RowCount <= 69563.6371, FPR = 0.0006) 1\n",
      "ChebyshevConstraint(-31019.0656 <= RowCount <= 70805.3989, FPR = 0.0006) 1\n",
      "ChebyshevConstraint(-32260.8273 <= RowCount <= 72047.1606, FPR = 0.0006) 1\n",
      "ChebyshevConstraint(-33502.5891 <= RowCount <= 73288.9224, FPR = 0.0005) 1\n",
      "ChebyshevConstraint(-34744.3508 <= RowCount <= 74530.6842, FPR = 0.0005) 1\n",
      "ChebyshevConstraint(-35986.1126 <= RowCount <= 75772.4459, FPR = 0.0005) 1\n",
      "ChebyshevConstraint(-37227.8744 <= RowCount <= 77014.2077, FPR = 0.0005) 1\n",
      "ChebyshevConstraint(-38469.6361 <= RowCount <= 78255.9695, FPR = 0.0005) 1\n",
      "ChebyshevConstraint(-39711.3979 <= RowCount <= 79497.7312, FPR = 0.0004) 1\n",
      "ChebyshevConstraint(-40953.1596 <= RowCount <= 80739.4930, FPR = 0.0004) 1\n",
      "CLTConstraint(18651.4049 <= RowCount <= 21134.9284, FPR = 0.3173) 23\n",
      "CLTConstraint(18030.5240 <= RowCount <= 21755.8093, FPR = 0.1336) 23\n",
      "CLTConstraint(17409.6431 <= RowCount <= 22376.6902, FPR = 0.0455) 4\n",
      "CLTConstraint(16788.7623 <= RowCount <= 22997.5711, FPR = 0.0124) 4\n",
      "CLTConstraint(16167.8814 <= RowCount <= 23618.4520, FPR = 0.0027) 4\n",
      "CLTConstraint(15547.0005 <= RowCount <= 24239.3328, FPR = 0.0005) 4\n",
      "CLTConstraint(14926.1196 <= RowCount <= 24860.2137, FPR = 0.0001) 4\n",
      "CLTConstraint(14305.2387 <= RowCount <= 25481.0946, FPR = 0.0000) 4\n",
      "ChebyshevConstraint(0.9993 <= DistinctRatio <= 0.9999, FPR = 0.2500) 17\n",
      "ChebyshevConstraint(0.9992 <= DistinctRatio <= 1.0000, FPR = 0.1111) 10\n",
      "ChebyshevConstraint(0.9990 <= DistinctRatio <= 1.0002, FPR = 0.0625) 10\n",
      "ChebyshevConstraint(0.9989 <= DistinctRatio <= 1.0003, FPR = 0.0400) 10\n",
      "ChebyshevConstraint(0.9988 <= DistinctRatio <= 1.0005, FPR = 0.0278) 10\n",
      "ChebyshevConstraint(0.9986 <= DistinctRatio <= 1.0006, FPR = 0.0204) 10\n",
      "ChebyshevConstraint(0.9985 <= DistinctRatio <= 1.0008, FPR = 0.0156) 10\n",
      "ChebyshevConstraint(0.9983 <= DistinctRatio <= 1.0009, FPR = 0.0123) 10\n",
      "ChebyshevConstraint(0.9982 <= DistinctRatio <= 1.0010, FPR = 0.0100) 9\n",
      "ChebyshevConstraint(0.9980 <= DistinctRatio <= 1.0012, FPR = 0.0083) 9\n",
      "ChebyshevConstraint(0.9979 <= DistinctRatio <= 1.0013, FPR = 0.0069) 9\n",
      "ChebyshevConstraint(0.9978 <= DistinctRatio <= 1.0015, FPR = 0.0059) 9\n",
      "ChebyshevConstraint(0.9976 <= DistinctRatio <= 1.0016, FPR = 0.0051) 9\n",
      "ChebyshevConstraint(0.9975 <= DistinctRatio <= 1.0018, FPR = 0.0044) 9\n",
      "ChebyshevConstraint(0.9973 <= DistinctRatio <= 1.0019, FPR = 0.0039) 9\n",
      "ChebyshevConstraint(0.9972 <= DistinctRatio <= 1.0020, FPR = 0.0035) 9\n",
      "ChebyshevConstraint(0.9970 <= DistinctRatio <= 1.0022, FPR = 0.0031) 9\n",
      "ChebyshevConstraint(0.9969 <= DistinctRatio <= 1.0023, FPR = 0.0028) 9\n",
      "ChebyshevConstraint(0.9968 <= DistinctRatio <= 1.0025, FPR = 0.0025) 9\n",
      "ChebyshevConstraint(0.9966 <= DistinctRatio <= 1.0026, FPR = 0.0023) 9\n",
      "ChebyshevConstraint(0.9965 <= DistinctRatio <= 1.0028, FPR = 0.0021) 9\n",
      "ChebyshevConstraint(0.9963 <= DistinctRatio <= 1.0029, FPR = 0.0019) 9\n",
      "ChebyshevConstraint(0.9962 <= DistinctRatio <= 1.0030, FPR = 0.0017) 9\n",
      "ChebyshevConstraint(0.9960 <= DistinctRatio <= 1.0032, FPR = 0.0016) 9\n",
      "ChebyshevConstraint(0.9959 <= DistinctRatio <= 1.0033, FPR = 0.0015) 9\n",
      "ChebyshevConstraint(0.9957 <= DistinctRatio <= 1.0035, FPR = 0.0014) 9\n",
      "ChebyshevConstraint(0.9956 <= DistinctRatio <= 1.0036, FPR = 0.0013) 9\n",
      "ChebyshevConstraint(0.9955 <= DistinctRatio <= 1.0038, FPR = 0.0012) 9\n",
      "ChebyshevConstraint(0.9953 <= DistinctRatio <= 1.0039, FPR = 0.0011) 9\n",
      "ChebyshevConstraint(0.9952 <= DistinctRatio <= 1.0040, FPR = 0.0010) 9\n",
      "ChebyshevConstraint(0.9950 <= DistinctRatio <= 1.0042, FPR = 0.0010) 9\n",
      "ChebyshevConstraint(0.9949 <= DistinctRatio <= 1.0043, FPR = 0.0009) 9\n",
      "ChebyshevConstraint(0.9947 <= DistinctRatio <= 1.0045, FPR = 0.0009) 9\n",
      "ChebyshevConstraint(0.9946 <= DistinctRatio <= 1.0046, FPR = 0.0008) 9\n",
      "ChebyshevConstraint(0.9945 <= DistinctRatio <= 1.0048, FPR = 0.0008) 9\n",
      "ChebyshevConstraint(0.9943 <= DistinctRatio <= 1.0049, FPR = 0.0007) 9\n",
      "ChebyshevConstraint(0.9942 <= DistinctRatio <= 1.0051, FPR = 0.0007) 9\n",
      "ChebyshevConstraint(0.9940 <= DistinctRatio <= 1.0052, FPR = 0.0007) 9\n",
      "ChebyshevConstraint(0.9939 <= DistinctRatio <= 1.0053, FPR = 0.0006) 9\n",
      "ChebyshevConstraint(0.9937 <= DistinctRatio <= 1.0055, FPR = 0.0006) 9\n",
      "ChebyshevConstraint(0.9936 <= DistinctRatio <= 1.0056, FPR = 0.0006) 9\n",
      "ChebyshevConstraint(0.9935 <= DistinctRatio <= 1.0058, FPR = 0.0005) 9\n",
      "ChebyshevConstraint(0.9933 <= DistinctRatio <= 1.0059, FPR = 0.0005) 9\n",
      "ChebyshevConstraint(0.9932 <= DistinctRatio <= 1.0061, FPR = 0.0005) 9\n",
      "ChebyshevConstraint(0.9930 <= DistinctRatio <= 1.0062, FPR = 0.0005) 9\n",
      "ChebyshevConstraint(0.9929 <= DistinctRatio <= 1.0063, FPR = 0.0005) 9\n",
      "ChebyshevConstraint(0.9927 <= DistinctRatio <= 1.0065, FPR = 0.0004) 9\n",
      "ChebyshevConstraint(0.9926 <= DistinctRatio <= 1.0066, FPR = 0.0004) 9\n",
      "ChebyshevConstraint(1.0000 <= CompleteRatio <= 1.0000, FPR = 0.0000) 3\n",
      "ChebyshevConstraint(1.0000 <= CompleteRatio <= 1.0000, FPR = 0.0000) 3\n",
      "ChebyshevConstraint(1.0000 <= CompleteRatio <= 1.0000, FPR = 0.0000) 3\n",
      "ChebyshevConstraint(1.0000 <= CompleteRatio <= 1.0000, FPR = 0.0000) 3\n",
      "ChebyshevConstraint(1.0000 <= CompleteRatio <= 1.0000, FPR = 0.0000) 3\n",
      "ChebyshevConstraint(1.0000 <= CompleteRatio <= 1.0000, FPR = 0.0000) 3\n",
      "ChebyshevConstraint(1.0000 <= CompleteRatio <= 1.0000, FPR = 0.0000) 3\n",
      "ChebyshevConstraint(1.0000 <= CompleteRatio <= 1.0000, FPR = 0.0000) 3\n",
      "ChebyshevConstraint(1.0000 <= CompleteRatio <= 1.0000, FPR = 0.0000) 3\n",
      "ChebyshevConstraint(1.0000 <= CompleteRatio <= 1.0000, FPR = 0.0000) 3\n",
      "ChebyshevConstraint(1.0000 <= CompleteRatio <= 1.0000, FPR = 0.0000) 3\n",
      "ChebyshevConstraint(1.0000 <= CompleteRatio <= 1.0000, FPR = 0.0000) 3\n",
      "ChebyshevConstraint(1.0000 <= CompleteRatio <= 1.0000, FPR = 0.0000) 3\n",
      "ChebyshevConstraint(1.0000 <= CompleteRatio <= 1.0000, FPR = 0.0000) 3\n",
      "ChebyshevConstraint(1.0000 <= CompleteRatio <= 1.0000, FPR = 0.0000) 3\n",
      "ChebyshevConstraint(1.0000 <= CompleteRatio <= 1.0000, FPR = 0.0000) 3\n",
      "ChebyshevConstraint(1.0000 <= CompleteRatio <= 1.0000, FPR = 0.0000) 3\n",
      "ChebyshevConstraint(1.0000 <= CompleteRatio <= 1.0000, FPR = 0.0000) 3\n",
      "ChebyshevConstraint(1.0000 <= CompleteRatio <= 1.0000, FPR = 0.0000) 3\n",
      "ChebyshevConstraint(1.0000 <= CompleteRatio <= 1.0000, FPR = 0.0000) 3\n",
      "ChebyshevConstraint(1.0000 <= CompleteRatio <= 1.0000, FPR = 0.0000) 3\n",
      "ChebyshevConstraint(1.0000 <= CompleteRatio <= 1.0000, FPR = 0.0000) 3\n",
      "ChebyshevConstraint(1.0000 <= CompleteRatio <= 1.0000, FPR = 0.0000) 3\n",
      "ChebyshevConstraint(1.0000 <= CompleteRatio <= 1.0000, FPR = 0.0000) 3\n",
      "ChebyshevConstraint(1.0000 <= CompleteRatio <= 1.0000, FPR = 0.0000) 3\n",
      "ChebyshevConstraint(1.0000 <= CompleteRatio <= 1.0000, FPR = 0.0000) 3\n",
      "ChebyshevConstraint(1.0000 <= CompleteRatio <= 1.0000, FPR = 0.0000) 3\n",
      "ChebyshevConstraint(1.0000 <= CompleteRatio <= 1.0000, FPR = 0.0000) 3\n",
      "ChebyshevConstraint(1.0000 <= CompleteRatio <= 1.0000, FPR = 0.0000) 3\n",
      "ChebyshevConstraint(1.0000 <= CompleteRatio <= 1.0000, FPR = 0.0000) 3\n",
      "ChebyshevConstraint(1.0000 <= CompleteRatio <= 1.0000, FPR = 0.0000) 3\n",
      "ChebyshevConstraint(1.0000 <= CompleteRatio <= 1.0000, FPR = 0.0000) 3\n",
      "ChebyshevConstraint(1.0000 <= CompleteRatio <= 1.0000, FPR = 0.0000) 3\n",
      "ChebyshevConstraint(1.0000 <= CompleteRatio <= 1.0000, FPR = 0.0000) 3\n",
      "ChebyshevConstraint(1.0000 <= CompleteRatio <= 1.0000, FPR = 0.0000) 3\n",
      "ChebyshevConstraint(1.0000 <= CompleteRatio <= 1.0000, FPR = 0.0000) 3\n",
      "ChebyshevConstraint(1.0000 <= CompleteRatio <= 1.0000, FPR = 0.0000) 3\n",
      "ChebyshevConstraint(1.0000 <= CompleteRatio <= 1.0000, FPR = 0.0000) 3\n",
      "ChebyshevConstraint(1.0000 <= CompleteRatio <= 1.0000, FPR = 0.0000) 3\n",
      "ChebyshevConstraint(1.0000 <= CompleteRatio <= 1.0000, FPR = 0.0000) 3\n",
      "ChebyshevConstraint(1.0000 <= CompleteRatio <= 1.0000, FPR = 0.0000) 3\n",
      "ChebyshevConstraint(1.0000 <= CompleteRatio <= 1.0000, FPR = 0.0000) 3\n",
      "ChebyshevConstraint(1.0000 <= CompleteRatio <= 1.0000, FPR = 0.0000) 3\n",
      "ChebyshevConstraint(1.0000 <= CompleteRatio <= 1.0000, FPR = 0.0000) 3\n",
      "ChebyshevConstraint(1.0000 <= CompleteRatio <= 1.0000, FPR = 0.0000) 3\n",
      "ChebyshevConstraint(1.0000 <= CompleteRatio <= 1.0000, FPR = 0.0000) 3\n",
      "ChebyshevConstraint(1.0000 <= CompleteRatio <= 1.0000, FPR = 0.0000) 3\n",
      "ChebyshevConstraint(1.0000 <= CompleteRatio <= 1.0000, FPR = 0.0000) 3\n",
      "CLTConstraint(1.0000 <= CompleteRatio <= 1.0000, FPR = 0.0000) 3\n",
      "CLTConstraint(1.0000 <= CompleteRatio <= 1.0000, FPR = 0.0000) 3\n",
      "CLTConstraint(1.0000 <= CompleteRatio <= 1.0000, FPR = 0.0000) 3\n",
      "CLTConstraint(1.0000 <= CompleteRatio <= 1.0000, FPR = 0.0000) 3\n",
      "CLTConstraint(1.0000 <= CompleteRatio <= 1.0000, FPR = 0.0000) 3\n",
      "CLTConstraint(1.0000 <= CompleteRatio <= 1.0000, FPR = 0.0000) 3\n",
      "CLTConstraint(1.0000 <= CompleteRatio <= 1.0000, FPR = 0.0000) 3\n",
      "CLTConstraint(1.0000 <= CompleteRatio <= 1.0000, FPR = 0.0000) 3\n",
      "ChebyshevConstraint(0.1479 <= Min <= 0.1490, FPR = 0.2500) 11\n",
      "ChebyshevConstraint(0.1476 <= Min <= 0.1493, FPR = 0.1111) 11\n",
      "ChebyshevConstraint(0.1473 <= Min <= 0.1496, FPR = 0.0625) 11\n",
      "ChebyshevConstraint(0.1471 <= Min <= 0.1499, FPR = 0.0400) 11\n",
      "ChebyshevConstraint(0.1468 <= Min <= 0.1501, FPR = 0.0278) 11\n",
      "ChebyshevConstraint(0.1465 <= Min <= 0.1504, FPR = 0.0204) 11\n",
      "ChebyshevConstraint(0.1462 <= Min <= 0.1507, FPR = 0.0156) 11\n",
      "ChebyshevConstraint(0.1459 <= Min <= 0.1510, FPR = 0.0123) 11\n",
      "ChebyshevConstraint(0.1457 <= Min <= 0.1513, FPR = 0.0100) 11\n",
      "ChebyshevConstraint(0.1454 <= Min <= 0.1515, FPR = 0.0083) 11\n",
      "ChebyshevConstraint(0.1451 <= Min <= 0.1518, FPR = 0.0069) 11\n",
      "ChebyshevConstraint(0.1448 <= Min <= 0.1521, FPR = 0.0059) 11\n",
      "ChebyshevConstraint(0.1445 <= Min <= 0.1524, FPR = 0.0051) 11\n",
      "ChebyshevConstraint(0.1443 <= Min <= 0.1527, FPR = 0.0044) 11\n",
      "ChebyshevConstraint(0.1440 <= Min <= 0.1530, FPR = 0.0039) 11\n",
      "ChebyshevConstraint(0.1437 <= Min <= 0.1532, FPR = 0.0035) 11\n",
      "ChebyshevConstraint(0.1434 <= Min <= 0.1535, FPR = 0.0031) 11\n",
      "ChebyshevConstraint(0.1431 <= Min <= 0.1538, FPR = 0.0028) 11\n",
      "ChebyshevConstraint(0.1429 <= Min <= 0.1541, FPR = 0.0025) 11\n",
      "ChebyshevConstraint(0.1426 <= Min <= 0.1544, FPR = 0.0023) 10\n",
      "ChebyshevConstraint(0.1423 <= Min <= 0.1546, FPR = 0.0021) 10\n",
      "ChebyshevConstraint(0.1420 <= Min <= 0.1549, FPR = 0.0019) 10\n",
      "ChebyshevConstraint(0.1417 <= Min <= 0.1552, FPR = 0.0017) 10\n",
      "ChebyshevConstraint(0.1415 <= Min <= 0.1555, FPR = 0.0016) 10\n",
      "ChebyshevConstraint(0.1412 <= Min <= 0.1558, FPR = 0.0015) 10\n",
      "ChebyshevConstraint(0.1409 <= Min <= 0.1560, FPR = 0.0014) 10\n",
      "ChebyshevConstraint(0.1406 <= Min <= 0.1563, FPR = 0.0013) 10\n",
      "ChebyshevConstraint(0.1403 <= Min <= 0.1566, FPR = 0.0012) 10\n",
      "ChebyshevConstraint(0.1401 <= Min <= 0.1569, FPR = 0.0011) 10\n",
      "ChebyshevConstraint(0.1398 <= Min <= 0.1572, FPR = 0.0010) 10\n",
      "ChebyshevConstraint(0.1395 <= Min <= 0.1574, FPR = 0.0010) 10\n",
      "ChebyshevConstraint(0.1392 <= Min <= 0.1577, FPR = 0.0009) 10\n",
      "ChebyshevConstraint(0.1389 <= Min <= 0.1580, FPR = 0.0009) 10\n",
      "ChebyshevConstraint(0.1386 <= Min <= 0.1583, FPR = 0.0008) 10\n",
      "ChebyshevConstraint(0.1384 <= Min <= 0.1586, FPR = 0.0008) 10\n",
      "ChebyshevConstraint(0.1381 <= Min <= 0.1588, FPR = 0.0007) 10\n",
      "ChebyshevConstraint(0.1378 <= Min <= 0.1591, FPR = 0.0007) 10\n",
      "ChebyshevConstraint(0.1375 <= Min <= 0.1594, FPR = 0.0007) 10\n",
      "ChebyshevConstraint(0.1372 <= Min <= 0.1597, FPR = 0.0006) 10\n",
      "ChebyshevConstraint(0.1370 <= Min <= 0.1600, FPR = 0.0006) 10\n",
      "ChebyshevConstraint(0.1367 <= Min <= 0.1602, FPR = 0.0006) 10\n",
      "ChebyshevConstraint(0.1364 <= Min <= 0.1605, FPR = 0.0005) 10\n",
      "ChebyshevConstraint(0.1361 <= Min <= 0.1608, FPR = 0.0005) 10\n",
      "ChebyshevConstraint(0.1358 <= Min <= 0.1611, FPR = 0.0005) 10\n",
      "ChebyshevConstraint(0.1356 <= Min <= 0.1614, FPR = 0.0005) 10\n",
      "ChebyshevConstraint(0.1353 <= Min <= 0.1616, FPR = 0.0005) 10\n",
      "ChebyshevConstraint(0.1350 <= Min <= 0.1619, FPR = 0.0004) 10\n",
      "ChebyshevConstraint(0.1347 <= Min <= 0.1622, FPR = 0.0004) 10\n",
      "ChebyshevConstraint(6.1920 <= Max <= 6.1989, FPR = 0.2500) 15\n",
      "ChebyshevConstraint(6.1903 <= Max <= 6.2006, FPR = 0.1111) 15\n",
      "ChebyshevConstraint(6.1886 <= Max <= 6.2023, FPR = 0.0625) 15\n",
      "ChebyshevConstraint(6.1868 <= Max <= 6.2040, FPR = 0.0400) 15\n",
      "ChebyshevConstraint(6.1851 <= Max <= 6.2057, FPR = 0.0278) 15\n",
      "ChebyshevConstraint(6.1834 <= Max <= 6.2074, FPR = 0.0204) 15\n",
      "ChebyshevConstraint(6.1817 <= Max <= 6.2092, FPR = 0.0156) 15\n",
      "ChebyshevConstraint(6.1800 <= Max <= 6.2109, FPR = 0.0123) 15\n",
      "ChebyshevConstraint(6.1783 <= Max <= 6.2126, FPR = 0.0100) 15\n",
      "ChebyshevConstraint(6.1766 <= Max <= 6.2143, FPR = 0.0083) 15\n",
      "ChebyshevConstraint(6.1748 <= Max <= 6.2160, FPR = 0.0069) 15\n",
      "ChebyshevConstraint(6.1731 <= Max <= 6.2177, FPR = 0.0059) 15\n",
      "ChebyshevConstraint(6.1714 <= Max <= 6.2195, FPR = 0.0051) 15\n",
      "ChebyshevConstraint(6.1697 <= Max <= 6.2212, FPR = 0.0044) 15\n",
      "ChebyshevConstraint(6.1680 <= Max <= 6.2229, FPR = 0.0039) 15\n",
      "ChebyshevConstraint(6.1663 <= Max <= 6.2246, FPR = 0.0035) 15\n",
      "ChebyshevConstraint(6.1645 <= Max <= 6.2263, FPR = 0.0031) 15\n",
      "ChebyshevConstraint(6.1628 <= Max <= 6.2280, FPR = 0.0028) 15\n",
      "ChebyshevConstraint(6.1611 <= Max <= 6.2297, FPR = 0.0025) 15\n",
      "ChebyshevConstraint(6.1594 <= Max <= 6.2315, FPR = 0.0023) 15\n",
      "ChebyshevConstraint(6.1577 <= Max <= 6.2332, FPR = 0.0021) 15\n",
      "ChebyshevConstraint(6.1560 <= Max <= 6.2349, FPR = 0.0019) 15\n",
      "ChebyshevConstraint(6.1542 <= Max <= 6.2366, FPR = 0.0017) 15\n",
      "ChebyshevConstraint(6.1525 <= Max <= 6.2383, FPR = 0.0016) 15\n",
      "ChebyshevConstraint(6.1508 <= Max <= 6.2400, FPR = 0.0015) 15\n",
      "ChebyshevConstraint(6.1491 <= Max <= 6.2418, FPR = 0.0014) 15\n",
      "ChebyshevConstraint(6.1474 <= Max <= 6.2435, FPR = 0.0013) 15\n",
      "ChebyshevConstraint(6.1457 <= Max <= 6.2452, FPR = 0.0012) 15\n",
      "ChebyshevConstraint(6.1439 <= Max <= 6.2469, FPR = 0.0011) 15\n",
      "ChebyshevConstraint(6.1422 <= Max <= 6.2486, FPR = 0.0010) 15\n",
      "ChebyshevConstraint(6.1405 <= Max <= 6.2503, FPR = 0.0010) 15\n",
      "ChebyshevConstraint(6.1388 <= Max <= 6.2521, FPR = 0.0009) 15\n",
      "ChebyshevConstraint(6.1371 <= Max <= 6.2538, FPR = 0.0009) 15\n",
      "ChebyshevConstraint(6.1354 <= Max <= 6.2555, FPR = 0.0008) 15\n",
      "ChebyshevConstraint(6.1336 <= Max <= 6.2572, FPR = 0.0008) 15\n",
      "ChebyshevConstraint(6.1319 <= Max <= 6.2589, FPR = 0.0007) 15\n",
      "ChebyshevConstraint(6.1302 <= Max <= 6.2606, FPR = 0.0007) 15\n",
      "ChebyshevConstraint(6.1285 <= Max <= 6.2624, FPR = 0.0007) 15\n",
      "ChebyshevConstraint(6.1268 <= Max <= 6.2641, FPR = 0.0006) 15\n",
      "ChebyshevConstraint(6.1251 <= Max <= 6.2658, FPR = 0.0006) 15\n",
      "ChebyshevConstraint(6.1234 <= Max <= 6.2675, FPR = 0.0006) 15\n",
      "ChebyshevConstraint(6.1216 <= Max <= 6.2692, FPR = 0.0005) 15\n",
      "ChebyshevConstraint(6.1199 <= Max <= 6.2709, FPR = 0.0005) 15\n",
      "ChebyshevConstraint(6.1182 <= Max <= 6.2726, FPR = 0.0005) 15\n",
      "ChebyshevConstraint(6.1165 <= Max <= 6.2744, FPR = 0.0005) 15\n",
      "ChebyshevConstraint(6.1148 <= Max <= 6.2761, FPR = 0.0005) 15\n",
      "ChebyshevConstraint(6.1131 <= Max <= 6.2778, FPR = 0.0004) 15\n",
      "ChebyshevConstraint(6.1113 <= Max <= 6.2795, FPR = 0.0004) 15\n",
      "ChebyshevConstraint(2.7482 <= Mean <= 2.7882, FPR = 0.2500) 17\n",
      "ChebyshevConstraint(2.7382 <= Mean <= 2.7982, FPR = 0.1111) 17\n",
      "ChebyshevConstraint(2.7282 <= Mean <= 2.8082, FPR = 0.0625) 16\n",
      "ChebyshevConstraint(2.7182 <= Mean <= 2.8182, FPR = 0.0400) 16\n",
      "ChebyshevConstraint(2.7082 <= Mean <= 2.8282, FPR = 0.0278) 16\n",
      "ChebyshevConstraint(2.6982 <= Mean <= 2.8382, FPR = 0.0204) 16\n",
      "ChebyshevConstraint(2.6882 <= Mean <= 2.8482, FPR = 0.0156) 16\n",
      "ChebyshevConstraint(2.6782 <= Mean <= 2.8582, FPR = 0.0123) 16\n",
      "ChebyshevConstraint(2.6682 <= Mean <= 2.8682, FPR = 0.0100) 16\n",
      "ChebyshevConstraint(2.6582 <= Mean <= 2.8782, FPR = 0.0083) 16\n",
      "ChebyshevConstraint(2.6482 <= Mean <= 2.8882, FPR = 0.0069) 16\n",
      "ChebyshevConstraint(2.6382 <= Mean <= 2.8982, FPR = 0.0059) 16\n",
      "ChebyshevConstraint(2.6282 <= Mean <= 2.9082, FPR = 0.0051) 16\n",
      "ChebyshevConstraint(2.6182 <= Mean <= 2.9182, FPR = 0.0044) 16\n",
      "ChebyshevConstraint(2.6082 <= Mean <= 2.9282, FPR = 0.0039) 16\n",
      "ChebyshevConstraint(2.5982 <= Mean <= 2.9382, FPR = 0.0035) 16\n",
      "ChebyshevConstraint(2.5882 <= Mean <= 2.9482, FPR = 0.0031) 16\n",
      "ChebyshevConstraint(2.5782 <= Mean <= 2.9582, FPR = 0.0028) 16\n",
      "ChebyshevConstraint(2.5682 <= Mean <= 2.9681, FPR = 0.0025) 16\n",
      "ChebyshevConstraint(2.5582 <= Mean <= 2.9781, FPR = 0.0023) 16\n",
      "ChebyshevConstraint(2.5482 <= Mean <= 2.9881, FPR = 0.0021) 16\n",
      "ChebyshevConstraint(2.5382 <= Mean <= 2.9981, FPR = 0.0019) 16\n",
      "ChebyshevConstraint(2.5282 <= Mean <= 3.0081, FPR = 0.0017) 16\n",
      "ChebyshevConstraint(2.5182 <= Mean <= 3.0181, FPR = 0.0016) 16\n",
      "ChebyshevConstraint(2.5082 <= Mean <= 3.0281, FPR = 0.0015) 16\n",
      "ChebyshevConstraint(2.4982 <= Mean <= 3.0381, FPR = 0.0014) 16\n",
      "ChebyshevConstraint(2.4882 <= Mean <= 3.0481, FPR = 0.0013) 16\n",
      "ChebyshevConstraint(2.4782 <= Mean <= 3.0581, FPR = 0.0012) 16\n",
      "ChebyshevConstraint(2.4682 <= Mean <= 3.0681, FPR = 0.0011) 16\n",
      "ChebyshevConstraint(2.4582 <= Mean <= 3.0781, FPR = 0.0010) 16\n",
      "ChebyshevConstraint(2.4482 <= Mean <= 3.0881, FPR = 0.0010) 16\n",
      "ChebyshevConstraint(2.4382 <= Mean <= 3.0981, FPR = 0.0009) 16\n",
      "ChebyshevConstraint(2.4282 <= Mean <= 3.1081, FPR = 0.0009) 16\n",
      "ChebyshevConstraint(2.4182 <= Mean <= 3.1181, FPR = 0.0008) 16\n",
      "ChebyshevConstraint(2.4082 <= Mean <= 3.1281, FPR = 0.0008) 16\n",
      "ChebyshevConstraint(2.3983 <= Mean <= 3.1381, FPR = 0.0007) 16\n",
      "ChebyshevConstraint(2.3883 <= Mean <= 3.1481, FPR = 0.0007) 16\n",
      "ChebyshevConstraint(2.3783 <= Mean <= 3.1581, FPR = 0.0007) 16\n",
      "ChebyshevConstraint(2.3683 <= Mean <= 3.1681, FPR = 0.0006) 16\n",
      "ChebyshevConstraint(2.3583 <= Mean <= 3.1781, FPR = 0.0006) 16\n",
      "ChebyshevConstraint(2.3483 <= Mean <= 3.1881, FPR = 0.0006) 16\n",
      "ChebyshevConstraint(2.3383 <= Mean <= 3.1981, FPR = 0.0005) 16\n",
      "ChebyshevConstraint(2.3283 <= Mean <= 3.2081, FPR = 0.0005) 16\n",
      "ChebyshevConstraint(2.3183 <= Mean <= 3.2181, FPR = 0.0005) 16\n",
      "ChebyshevConstraint(2.3083 <= Mean <= 3.2281, FPR = 0.0005) 16\n",
      "ChebyshevConstraint(2.2983 <= Mean <= 3.2381, FPR = 0.0005) 16\n",
      "ChebyshevConstraint(2.2883 <= Mean <= 3.2481, FPR = 0.0004) 16\n",
      "ChebyshevConstraint(2.2783 <= Mean <= 3.2581, FPR = 0.0004) 16\n",
      "CLTConstraint(2.7582 <= Mean <= 2.7782, FPR = 0.3173) 21\n",
      "CLTConstraint(2.7532 <= Mean <= 2.7832, FPR = 0.1336) 18\n",
      "CLTConstraint(2.7482 <= Mean <= 2.7882, FPR = 0.0455) 17\n",
      "CLTConstraint(2.7432 <= Mean <= 2.7932, FPR = 0.0124) 17\n",
      "CLTConstraint(2.7382 <= Mean <= 2.7982, FPR = 0.0027) 17\n",
      "CLTConstraint(2.7332 <= Mean <= 2.8032, FPR = 0.0005) 17\n",
      "CLTConstraint(2.7282 <= Mean <= 2.8082, FPR = 0.0001) 16\n",
      "CLTConstraint(2.7232 <= Mean <= 2.8132, FPR = 0.0000) 16\n",
      "ChebyshevConstraint(2.5941 <= Median <= 2.6660, FPR = 0.2500) 17\n",
      "ChebyshevConstraint(2.5761 <= Median <= 2.6840, FPR = 0.1111) 16\n",
      "ChebyshevConstraint(2.5581 <= Median <= 2.7019, FPR = 0.0625) 16\n",
      "ChebyshevConstraint(2.5402 <= Median <= 2.7199, FPR = 0.0400) 16\n",
      "ChebyshevConstraint(2.5222 <= Median <= 2.7379, FPR = 0.0278) 16\n",
      "ChebyshevConstraint(2.5042 <= Median <= 2.7559, FPR = 0.0204) 16\n",
      "ChebyshevConstraint(2.4862 <= Median <= 2.7738, FPR = 0.0156) 16\n",
      "ChebyshevConstraint(2.4683 <= Median <= 2.7918, FPR = 0.0123) 16\n",
      "ChebyshevConstraint(2.4503 <= Median <= 2.8098, FPR = 0.0100) 16\n",
      "ChebyshevConstraint(2.4323 <= Median <= 2.8278, FPR = 0.0083) 16\n",
      "ChebyshevConstraint(2.4143 <= Median <= 2.8457, FPR = 0.0069) 16\n",
      "ChebyshevConstraint(2.3964 <= Median <= 2.8637, FPR = 0.0059) 16\n",
      "ChebyshevConstraint(2.3784 <= Median <= 2.8817, FPR = 0.0051) 16\n",
      "ChebyshevConstraint(2.3604 <= Median <= 2.8997, FPR = 0.0044) 16\n",
      "ChebyshevConstraint(2.3425 <= Median <= 2.9176, FPR = 0.0039) 15\n",
      "ChebyshevConstraint(2.3245 <= Median <= 2.9356, FPR = 0.0035) 12\n",
      "ChebyshevConstraint(2.3065 <= Median <= 2.9536, FPR = 0.0031) 12\n",
      "ChebyshevConstraint(2.2885 <= Median <= 2.9716, FPR = 0.0028) 12\n",
      "ChebyshevConstraint(2.2706 <= Median <= 2.9895, FPR = 0.0025) 12\n",
      "ChebyshevConstraint(2.2526 <= Median <= 3.0075, FPR = 0.0023) 12\n",
      "ChebyshevConstraint(2.2346 <= Median <= 3.0255, FPR = 0.0021) 12\n",
      "ChebyshevConstraint(2.2166 <= Median <= 3.0435, FPR = 0.0019) 12\n",
      "ChebyshevConstraint(2.1987 <= Median <= 3.0614, FPR = 0.0017) 12\n",
      "ChebyshevConstraint(2.1807 <= Median <= 3.0794, FPR = 0.0016) 12\n",
      "ChebyshevConstraint(2.1627 <= Median <= 3.0974, FPR = 0.0015) 12\n",
      "ChebyshevConstraint(2.1447 <= Median <= 3.1154, FPR = 0.0014) 12\n",
      "ChebyshevConstraint(2.1268 <= Median <= 3.1333, FPR = 0.0013) 12\n",
      "ChebyshevConstraint(2.1088 <= Median <= 3.1513, FPR = 0.0012) 12\n",
      "ChebyshevConstraint(2.0908 <= Median <= 3.1693, FPR = 0.0011) 12\n",
      "ChebyshevConstraint(2.0728 <= Median <= 3.1873, FPR = 0.0010) 12\n",
      "ChebyshevConstraint(2.0549 <= Median <= 3.2052, FPR = 0.0010) 12\n",
      "ChebyshevConstraint(2.0369 <= Median <= 3.2232, FPR = 0.0009) 12\n",
      "ChebyshevConstraint(2.0189 <= Median <= 3.2412, FPR = 0.0009) 12\n",
      "ChebyshevConstraint(2.0009 <= Median <= 3.2592, FPR = 0.0008) 12\n",
      "ChebyshevConstraint(1.9830 <= Median <= 3.2771, FPR = 0.0008) 12\n",
      "ChebyshevConstraint(1.9650 <= Median <= 3.2951, FPR = 0.0007) 12\n",
      "ChebyshevConstraint(1.9470 <= Median <= 3.3131, FPR = 0.0007) 12\n",
      "ChebyshevConstraint(1.9290 <= Median <= 3.3311, FPR = 0.0007) 12\n",
      "ChebyshevConstraint(1.9111 <= Median <= 3.3490, FPR = 0.0006) 12\n",
      "ChebyshevConstraint(1.8931 <= Median <= 3.3670, FPR = 0.0006) 12\n",
      "ChebyshevConstraint(1.8751 <= Median <= 3.3850, FPR = 0.0006) 12\n",
      "ChebyshevConstraint(1.8571 <= Median <= 3.4030, FPR = 0.0005) 12\n",
      "ChebyshevConstraint(1.8392 <= Median <= 3.4209, FPR = 0.0005) 12\n",
      "ChebyshevConstraint(1.8212 <= Median <= 3.4389, FPR = 0.0005) 12\n",
      "ChebyshevConstraint(1.8032 <= Median <= 3.4569, FPR = 0.0005) 12\n",
      "ChebyshevConstraint(1.7852 <= Median <= 3.4749, FPR = 0.0005) 12\n",
      "ChebyshevConstraint(1.7673 <= Median <= 3.4928, FPR = 0.0004) 12\n",
      "ChebyshevConstraint(1.7493 <= Median <= 3.5108, FPR = 0.0004) 12\n",
      "ChebyshevConstraint(48267.3447 <= Sum <= 61863.1084, FPR = 0.2500) 22\n",
      "ChebyshevConstraint(44868.4038 <= Sum <= 65262.0493, FPR = 0.1111) 21\n",
      "ChebyshevConstraint(41469.4629 <= Sum <= 68660.9902, FPR = 0.0625) 21\n",
      "ChebyshevConstraint(38070.5220 <= Sum <= 72059.9312, FPR = 0.0400) 21\n",
      "ChebyshevConstraint(34671.5811 <= Sum <= 75458.8721, FPR = 0.0278) 20\n",
      "ChebyshevConstraint(31272.6401 <= Sum <= 78857.8130, FPR = 0.0204) 20\n",
      "ChebyshevConstraint(27873.6992 <= Sum <= 82256.7539, FPR = 0.0156) 17\n",
      "ChebyshevConstraint(24474.7583 <= Sum <= 85655.6948, FPR = 0.0123) 17\n",
      "ChebyshevConstraint(21075.8174 <= Sum <= 89054.6357, FPR = 0.0100) 17\n",
      "ChebyshevConstraint(17676.8765 <= Sum <= 92453.5767, FPR = 0.0083) 17\n",
      "ChebyshevConstraint(14277.9355 <= Sum <= 95852.5176, FPR = 0.0069) 15\n",
      "ChebyshevConstraint(10878.9946 <= Sum <= 99251.4585, FPR = 0.0059) 15\n",
      "ChebyshevConstraint(7480.0537 <= Sum <= 102650.3994, FPR = 0.0051) 14\n",
      "ChebyshevConstraint(4081.1128 <= Sum <= 106049.3403, FPR = 0.0044) 13\n",
      "ChebyshevConstraint(682.1719 <= Sum <= 109448.2812, FPR = 0.0039) 13\n",
      "ChebyshevConstraint(-2716.7690 <= Sum <= 112847.2222, FPR = 0.0035) 11\n",
      "ChebyshevConstraint(-6115.7100 <= Sum <= 116246.1631, FPR = 0.0031) 11\n",
      "ChebyshevConstraint(-9514.6509 <= Sum <= 119645.1040, FPR = 0.0028) 10\n",
      "ChebyshevConstraint(-12913.5918 <= Sum <= 123044.0449, FPR = 0.0025) 9\n",
      "ChebyshevConstraint(-16312.5327 <= Sum <= 126442.9858, FPR = 0.0023) 8\n",
      "ChebyshevConstraint(-19711.4736 <= Sum <= 129841.9268, FPR = 0.0021) 7\n",
      "ChebyshevConstraint(-23110.4146 <= Sum <= 133240.8677, FPR = 0.0019) 7\n",
      "ChebyshevConstraint(-26509.3555 <= Sum <= 136639.8086, FPR = 0.0017) 7\n",
      "ChebyshevConstraint(-29908.2964 <= Sum <= 140038.7495, FPR = 0.0016) 7\n",
      "ChebyshevConstraint(-33307.2373 <= Sum <= 143437.6904, FPR = 0.0015) 7\n",
      "ChebyshevConstraint(-36706.1782 <= Sum <= 146836.6313, FPR = 0.0014) 7\n",
      "ChebyshevConstraint(-40105.1191 <= Sum <= 150235.5723, FPR = 0.0013) 7\n",
      "ChebyshevConstraint(-43504.0601 <= Sum <= 153634.5132, FPR = 0.0012) 7\n",
      "ChebyshevConstraint(-46903.0010 <= Sum <= 157033.4541, FPR = 0.0011) 7\n",
      "ChebyshevConstraint(-50301.9419 <= Sum <= 160432.3950, FPR = 0.0010) 7\n",
      "ChebyshevConstraint(-53700.8828 <= Sum <= 163831.3359, FPR = 0.0010) 7\n",
      "ChebyshevConstraint(-57099.8237 <= Sum <= 167230.2769, FPR = 0.0009) 7\n",
      "ChebyshevConstraint(-60498.7646 <= Sum <= 170629.2178, FPR = 0.0009) 7\n",
      "ChebyshevConstraint(-63897.7056 <= Sum <= 174028.1587, FPR = 0.0008) 7\n",
      "ChebyshevConstraint(-67296.6465 <= Sum <= 177427.0996, FPR = 0.0008) 7\n",
      "ChebyshevConstraint(-70695.5874 <= Sum <= 180826.0405, FPR = 0.0007) 7\n",
      "ChebyshevConstraint(-74094.5283 <= Sum <= 184224.9814, FPR = 0.0007) 7\n",
      "ChebyshevConstraint(-77493.4692 <= Sum <= 187623.9224, FPR = 0.0007) 7\n",
      "ChebyshevConstraint(-80892.4102 <= Sum <= 191022.8633, FPR = 0.0006) 7\n",
      "ChebyshevConstraint(-84291.3511 <= Sum <= 194421.8042, FPR = 0.0006) 7\n",
      "ChebyshevConstraint(-87690.2920 <= Sum <= 197820.7451, FPR = 0.0006) 6\n",
      "ChebyshevConstraint(-91089.2329 <= Sum <= 201219.6860, FPR = 0.0005) 6\n",
      "ChebyshevConstraint(-94488.1738 <= Sum <= 204618.6270, FPR = 0.0005) 6\n",
      "ChebyshevConstraint(-97887.1147 <= Sum <= 208017.5679, FPR = 0.0005) 6\n",
      "ChebyshevConstraint(-101286.0557 <= Sum <= 211416.5088, FPR = 0.0005) 6\n",
      "ChebyshevConstraint(-104684.9966 <= Sum <= 214815.4497, FPR = 0.0005) 6\n",
      "ChebyshevConstraint(-108083.9375 <= Sum <= 218214.3906, FPR = 0.0004) 6\n",
      "ChebyshevConstraint(-111482.8784 <= Sum <= 221613.3315, FPR = 0.0004) 6\n",
      "ChebyshevConstraint(6.0436 <= Range <= 6.0504, FPR = 0.2500) 18\n",
      "ChebyshevConstraint(6.0418 <= Range <= 6.0521, FPR = 0.1111) 18\n",
      "ChebyshevConstraint(6.0401 <= Range <= 6.0538, FPR = 0.0625) 17\n",
      "ChebyshevConstraint(6.0384 <= Range <= 6.0555, FPR = 0.0400) 17\n",
      "ChebyshevConstraint(6.0367 <= Range <= 6.0572, FPR = 0.0278) 17\n",
      "ChebyshevConstraint(6.0350 <= Range <= 6.0589, FPR = 0.0204) 17\n",
      "ChebyshevConstraint(6.0333 <= Range <= 6.0606, FPR = 0.0156) 17\n",
      "ChebyshevConstraint(6.0316 <= Range <= 6.0623, FPR = 0.0123) 17\n",
      "ChebyshevConstraint(6.0299 <= Range <= 6.0640, FPR = 0.0100) 17\n",
      "ChebyshevConstraint(6.0282 <= Range <= 6.0657, FPR = 0.0083) 17\n",
      "ChebyshevConstraint(6.0265 <= Range <= 6.0674, FPR = 0.0069) 17\n",
      "ChebyshevConstraint(6.0248 <= Range <= 6.0691, FPR = 0.0059) 17\n",
      "ChebyshevConstraint(6.0231 <= Range <= 6.0708, FPR = 0.0051) 17\n",
      "ChebyshevConstraint(6.0214 <= Range <= 6.0725, FPR = 0.0044) 17\n",
      "ChebyshevConstraint(6.0197 <= Range <= 6.0742, FPR = 0.0039) 17\n",
      "ChebyshevConstraint(6.0180 <= Range <= 6.0760, FPR = 0.0035) 17\n",
      "ChebyshevConstraint(6.0163 <= Range <= 6.0777, FPR = 0.0031) 17\n",
      "ChebyshevConstraint(6.0146 <= Range <= 6.0794, FPR = 0.0028) 17\n",
      "ChebyshevConstraint(6.0129 <= Range <= 6.0811, FPR = 0.0025) 17\n",
      "ChebyshevConstraint(6.0112 <= Range <= 6.0828, FPR = 0.0023) 17\n",
      "ChebyshevConstraint(6.0094 <= Range <= 6.0845, FPR = 0.0021) 17\n",
      "ChebyshevConstraint(6.0077 <= Range <= 6.0862, FPR = 0.0019) 17\n",
      "ChebyshevConstraint(6.0060 <= Range <= 6.0879, FPR = 0.0017) 17\n",
      "ChebyshevConstraint(6.0043 <= Range <= 6.0896, FPR = 0.0016) 17\n",
      "ChebyshevConstraint(6.0026 <= Range <= 6.0913, FPR = 0.0015) 17\n",
      "ChebyshevConstraint(6.0009 <= Range <= 6.0930, FPR = 0.0014) 17\n",
      "ChebyshevConstraint(5.9992 <= Range <= 6.0947, FPR = 0.0013) 17\n",
      "ChebyshevConstraint(5.9975 <= Range <= 6.0964, FPR = 0.0012) 17\n",
      "ChebyshevConstraint(5.9958 <= Range <= 6.0981, FPR = 0.0011) 17\n",
      "ChebyshevConstraint(5.9941 <= Range <= 6.0998, FPR = 0.0010) 17\n",
      "ChebyshevConstraint(5.9924 <= Range <= 6.1015, FPR = 0.0010) 17\n",
      "ChebyshevConstraint(5.9907 <= Range <= 6.1032, FPR = 0.0009) 17\n",
      "ChebyshevConstraint(5.9890 <= Range <= 6.1049, FPR = 0.0009) 17\n",
      "ChebyshevConstraint(5.9873 <= Range <= 6.1066, FPR = 0.0008) 17\n",
      "ChebyshevConstraint(5.9856 <= Range <= 6.1084, FPR = 0.0008) 17\n",
      "ChebyshevConstraint(5.9839 <= Range <= 6.1101, FPR = 0.0007) 17\n",
      "ChebyshevConstraint(5.9822 <= Range <= 6.1118, FPR = 0.0007) 17\n",
      "ChebyshevConstraint(5.9805 <= Range <= 6.1135, FPR = 0.0007) 17\n",
      "ChebyshevConstraint(5.9787 <= Range <= 6.1152, FPR = 0.0006) 17\n",
      "ChebyshevConstraint(5.9770 <= Range <= 6.1169, FPR = 0.0006) 17\n",
      "ChebyshevConstraint(5.9753 <= Range <= 6.1186, FPR = 0.0006) 17\n",
      "ChebyshevConstraint(5.9736 <= Range <= 6.1203, FPR = 0.0005) 17\n",
      "ChebyshevConstraint(5.9719 <= Range <= 6.1220, FPR = 0.0005) 17\n",
      "ChebyshevConstraint(5.9702 <= Range <= 6.1237, FPR = 0.0005) 17\n",
      "ChebyshevConstraint(5.9685 <= Range <= 6.1254, FPR = 0.0005) 17\n",
      "ChebyshevConstraint(5.9668 <= Range <= 6.1271, FPR = 0.0005) 17\n",
      "ChebyshevConstraint(5.9651 <= Range <= 6.1288, FPR = 0.0004) 17\n",
      "ChebyshevConstraint(5.9634 <= Range <= 6.1305, FPR = 0.0004) 17\n",
      "ChebyshevConstraint(0.0033 <= EMD <= 0.0321, FPR = 0.2500) 18\n",
      "ChebyshevConstraint(-0.0039 <= EMD <= 0.0393, FPR = 0.1111) 17\n",
      "ChebyshevConstraint(-0.0112 <= EMD <= 0.0465, FPR = 0.0625) 17\n",
      "ChebyshevConstraint(-0.0184 <= EMD <= 0.0537, FPR = 0.0400) 16\n",
      "ChebyshevConstraint(-0.0256 <= EMD <= 0.0609, FPR = 0.0278) 16\n",
      "ChebyshevConstraint(-0.0328 <= EMD <= 0.0681, FPR = 0.0204) 16\n",
      "ChebyshevConstraint(-0.0400 <= EMD <= 0.0753, FPR = 0.0156) 16\n",
      "ChebyshevConstraint(-0.0472 <= EMD <= 0.0825, FPR = 0.0123) 16\n",
      "ChebyshevConstraint(-0.0544 <= EMD <= 0.0897, FPR = 0.0100) 16\n",
      "ChebyshevConstraint(-0.0616 <= EMD <= 0.0969, FPR = 0.0083) 16\n",
      "ChebyshevConstraint(-0.0688 <= EMD <= 0.1042, FPR = 0.0069) 16\n",
      "ChebyshevConstraint(-0.0760 <= EMD <= 0.1114, FPR = 0.0059) 16\n",
      "ChebyshevConstraint(-0.0832 <= EMD <= 0.1186, FPR = 0.0051) 16\n",
      "ChebyshevConstraint(-0.0904 <= EMD <= 0.1258, FPR = 0.0044) 16\n",
      "ChebyshevConstraint(-0.0976 <= EMD <= 0.1330, FPR = 0.0039) 16\n",
      "ChebyshevConstraint(-0.1048 <= EMD <= 0.1402, FPR = 0.0035) 16\n",
      "ChebyshevConstraint(-0.1121 <= EMD <= 0.1474, FPR = 0.0031) 16\n",
      "ChebyshevConstraint(-0.1193 <= EMD <= 0.1546, FPR = 0.0028) 16\n",
      "ChebyshevConstraint(-0.1265 <= EMD <= 0.1618, FPR = 0.0025) 16\n",
      "ChebyshevConstraint(-0.1337 <= EMD <= 0.1690, FPR = 0.0023) 16\n",
      "ChebyshevConstraint(-0.1409 <= EMD <= 0.1762, FPR = 0.0021) 16\n",
      "ChebyshevConstraint(-0.1481 <= EMD <= 0.1834, FPR = 0.0019) 16\n",
      "ChebyshevConstraint(-0.1553 <= EMD <= 0.1906, FPR = 0.0017) 16\n",
      "ChebyshevConstraint(-0.1625 <= EMD <= 0.1978, FPR = 0.0016) 16\n",
      "ChebyshevConstraint(-0.1697 <= EMD <= 0.2051, FPR = 0.0015) 16\n",
      "ChebyshevConstraint(-0.1769 <= EMD <= 0.2123, FPR = 0.0014) 16\n",
      "ChebyshevConstraint(-0.1841 <= EMD <= 0.2195, FPR = 0.0013) 16\n",
      "ChebyshevConstraint(-0.1913 <= EMD <= 0.2267, FPR = 0.0012) 16\n",
      "ChebyshevConstraint(-0.1985 <= EMD <= 0.2339, FPR = 0.0011) 16\n",
      "ChebyshevConstraint(-0.2057 <= EMD <= 0.2411, FPR = 0.0010) 16\n",
      "ChebyshevConstraint(-0.2130 <= EMD <= 0.2483, FPR = 0.0010) 16\n",
      "ChebyshevConstraint(-0.2202 <= EMD <= 0.2555, FPR = 0.0009) 16\n",
      "ChebyshevConstraint(-0.2274 <= EMD <= 0.2627, FPR = 0.0009) 16\n",
      "ChebyshevConstraint(-0.2346 <= EMD <= 0.2699, FPR = 0.0008) 16\n",
      "ChebyshevConstraint(-0.2418 <= EMD <= 0.2771, FPR = 0.0008) 16\n",
      "ChebyshevConstraint(-0.2490 <= EMD <= 0.2843, FPR = 0.0007) 16\n",
      "ChebyshevConstraint(-0.2562 <= EMD <= 0.2915, FPR = 0.0007) 16\n",
      "ChebyshevConstraint(-0.2634 <= EMD <= 0.2987, FPR = 0.0007) 16\n",
      "ChebyshevConstraint(-0.2706 <= EMD <= 0.3060, FPR = 0.0006) 16\n",
      "ChebyshevConstraint(-0.2778 <= EMD <= 0.3132, FPR = 0.0006) 16\n",
      "ChebyshevConstraint(-0.2850 <= EMD <= 0.3204, FPR = 0.0006) 16\n",
      "ChebyshevConstraint(-0.2922 <= EMD <= 0.3276, FPR = 0.0005) 16\n",
      "ChebyshevConstraint(-0.2994 <= EMD <= 0.3348, FPR = 0.0005) 16\n",
      "ChebyshevConstraint(-0.3066 <= EMD <= 0.3420, FPR = 0.0005) 16\n",
      "ChebyshevConstraint(-0.3139 <= EMD <= 0.3492, FPR = 0.0005) 16\n",
      "ChebyshevConstraint(-0.3211 <= EMD <= 0.3564, FPR = 0.0005) 16\n",
      "ChebyshevConstraint(-0.3283 <= EMD <= 0.3636, FPR = 0.0004) 16\n",
      "ChebyshevConstraint(-0.3355 <= EMD <= 0.3708, FPR = 0.0004) 16\n",
      "CantelliConstraint(0.0000 <= EMD <= 0.0249, FPR = 0.5000) 18\n",
      "CantelliConstraint(0.0000 <= EMD <= 0.0321, FPR = 0.2000) 17\n",
      "CantelliConstraint(0.0000 <= EMD <= 0.0393, FPR = 0.1000) 17\n",
      "CantelliConstraint(0.0000 <= EMD <= 0.0465, FPR = 0.0588) 17\n",
      "CantelliConstraint(0.0000 <= EMD <= 0.0537, FPR = 0.0385) 16\n",
      "CantelliConstraint(0.0000 <= EMD <= 0.0609, FPR = 0.0270) 16\n",
      "CantelliConstraint(0.0000 <= EMD <= 0.0681, FPR = 0.0200) 16\n",
      "CantelliConstraint(0.0000 <= EMD <= 0.0753, FPR = 0.0154) 16\n",
      "CantelliConstraint(0.0000 <= EMD <= 0.0825, FPR = 0.0122) 16\n",
      "CantelliConstraint(0.0000 <= EMD <= 0.0897, FPR = 0.0099) 16\n",
      "CantelliConstraint(0.0000 <= EMD <= 0.0969, FPR = 0.0082) 16\n",
      "CantelliConstraint(0.0000 <= EMD <= 0.1042, FPR = 0.0069) 16\n",
      "CantelliConstraint(0.0000 <= EMD <= 0.1114, FPR = 0.0059) 16\n",
      "CantelliConstraint(0.0000 <= EMD <= 0.1186, FPR = 0.0051) 16\n",
      "CantelliConstraint(0.0000 <= EMD <= 0.1258, FPR = 0.0044) 16\n",
      "CantelliConstraint(0.0000 <= EMD <= 0.1330, FPR = 0.0039) 16\n",
      "CantelliConstraint(0.0000 <= EMD <= 0.1402, FPR = 0.0034) 16\n",
      "CantelliConstraint(0.0000 <= EMD <= 0.1474, FPR = 0.0031) 16\n",
      "CantelliConstraint(0.0000 <= EMD <= 0.1546, FPR = 0.0028) 16\n",
      "CantelliConstraint(0.0000 <= EMD <= 0.1618, FPR = 0.0025) 16\n",
      "CantelliConstraint(0.0000 <= EMD <= 0.1690, FPR = 0.0023) 16\n",
      "CantelliConstraint(0.0000 <= EMD <= 0.1762, FPR = 0.0021) 16\n",
      "CantelliConstraint(0.0000 <= EMD <= 0.1834, FPR = 0.0019) 16\n",
      "CantelliConstraint(0.0000 <= EMD <= 0.1906, FPR = 0.0017) 16\n",
      "CantelliConstraint(0.0000 <= EMD <= 0.1978, FPR = 0.0016) 16\n",
      "CantelliConstraint(0.0000 <= EMD <= 0.2051, FPR = 0.0015) 16\n",
      "CantelliConstraint(0.0000 <= EMD <= 0.2123, FPR = 0.0014) 16\n",
      "CantelliConstraint(0.0000 <= EMD <= 0.2195, FPR = 0.0013) 16\n",
      "CantelliConstraint(0.0000 <= EMD <= 0.2267, FPR = 0.0012) 16\n",
      "CantelliConstraint(0.0000 <= EMD <= 0.2339, FPR = 0.0011) 16\n",
      "CantelliConstraint(0.0000 <= EMD <= 0.2411, FPR = 0.0010) 16\n",
      "CantelliConstraint(0.0000 <= EMD <= 0.2483, FPR = 0.0010) 16\n",
      "CantelliConstraint(0.0000 <= EMD <= 0.2555, FPR = 0.0009) 16\n",
      "CantelliConstraint(0.0000 <= EMD <= 0.2627, FPR = 0.0009) 16\n",
      "CantelliConstraint(0.0000 <= EMD <= 0.2699, FPR = 0.0008) 16\n",
      "CantelliConstraint(0.0000 <= EMD <= 0.2771, FPR = 0.0008) 16\n",
      "CantelliConstraint(0.0000 <= EMD <= 0.2843, FPR = 0.0007) 16\n",
      "CantelliConstraint(0.0000 <= EMD <= 0.2915, FPR = 0.0007) 16\n",
      "CantelliConstraint(0.0000 <= EMD <= 0.2987, FPR = 0.0007) 16\n",
      "CantelliConstraint(0.0000 <= EMD <= 0.3060, FPR = 0.0006) 16\n",
      "CantelliConstraint(0.0000 <= EMD <= 0.3132, FPR = 0.0006) 16\n",
      "CantelliConstraint(0.0000 <= EMD <= 0.3204, FPR = 0.0006) 16\n",
      "CantelliConstraint(0.0000 <= EMD <= 0.3276, FPR = 0.0005) 16\n",
      "CantelliConstraint(0.0000 <= EMD <= 0.3348, FPR = 0.0005) 16\n",
      "CantelliConstraint(0.0000 <= EMD <= 0.3420, FPR = 0.0005) 16\n",
      "CantelliConstraint(0.0000 <= EMD <= 0.3492, FPR = 0.0005) 16\n",
      "CantelliConstraint(0.0000 <= EMD <= 0.3564, FPR = 0.0005) 16\n",
      "CantelliConstraint(0.0000 <= EMD <= 0.3636, FPR = 0.0004) 16\n",
      "ChebyshevConstraint(0.0060 <= JsDivergence <= 0.0158, FPR = 0.2500) 22\n",
      "ChebyshevConstraint(0.0036 <= JsDivergence <= 0.0182, FPR = 0.1111) 19\n",
      "ChebyshevConstraint(0.0011 <= JsDivergence <= 0.0206, FPR = 0.0625) 16\n",
      "ChebyshevConstraint(-0.0013 <= JsDivergence <= 0.0231, FPR = 0.0400) 7\n",
      "ChebyshevConstraint(-0.0037 <= JsDivergence <= 0.0255, FPR = 0.0278) 7\n",
      "ChebyshevConstraint(-0.0062 <= JsDivergence <= 0.0279, FPR = 0.0204) 7\n",
      "ChebyshevConstraint(-0.0086 <= JsDivergence <= 0.0304, FPR = 0.0156) 7\n",
      "ChebyshevConstraint(-0.0110 <= JsDivergence <= 0.0328, FPR = 0.0123) 7\n",
      "ChebyshevConstraint(-0.0135 <= JsDivergence <= 0.0353, FPR = 0.0100) 7\n",
      "ChebyshevConstraint(-0.0159 <= JsDivergence <= 0.0377, FPR = 0.0083) 7\n",
      "ChebyshevConstraint(-0.0183 <= JsDivergence <= 0.0401, FPR = 0.0069) 7\n",
      "ChebyshevConstraint(-0.0208 <= JsDivergence <= 0.0426, FPR = 0.0059) 7\n",
      "ChebyshevConstraint(-0.0232 <= JsDivergence <= 0.0450, FPR = 0.0051) 7\n",
      "ChebyshevConstraint(-0.0257 <= JsDivergence <= 0.0474, FPR = 0.0044) 7\n",
      "ChebyshevConstraint(-0.0281 <= JsDivergence <= 0.0499, FPR = 0.0039) 7\n",
      "ChebyshevConstraint(-0.0305 <= JsDivergence <= 0.0523, FPR = 0.0035) 7\n",
      "ChebyshevConstraint(-0.0330 <= JsDivergence <= 0.0547, FPR = 0.0031) 7\n",
      "ChebyshevConstraint(-0.0354 <= JsDivergence <= 0.0572, FPR = 0.0028) 7\n",
      "ChebyshevConstraint(-0.0378 <= JsDivergence <= 0.0596, FPR = 0.0025) 7\n",
      "ChebyshevConstraint(-0.0403 <= JsDivergence <= 0.0621, FPR = 0.0023) 7\n",
      "ChebyshevConstraint(-0.0427 <= JsDivergence <= 0.0645, FPR = 0.0021) 7\n",
      "ChebyshevConstraint(-0.0452 <= JsDivergence <= 0.0669, FPR = 0.0019) 7\n",
      "ChebyshevConstraint(-0.0476 <= JsDivergence <= 0.0694, FPR = 0.0017) 7\n",
      "ChebyshevConstraint(-0.0500 <= JsDivergence <= 0.0718, FPR = 0.0016) 7\n",
      "ChebyshevConstraint(-0.0525 <= JsDivergence <= 0.0742, FPR = 0.0015) 7\n",
      "ChebyshevConstraint(-0.0549 <= JsDivergence <= 0.0767, FPR = 0.0014) 7\n",
      "ChebyshevConstraint(-0.0573 <= JsDivergence <= 0.0791, FPR = 0.0013) 7\n",
      "ChebyshevConstraint(-0.0598 <= JsDivergence <= 0.0815, FPR = 0.0012) 7\n",
      "ChebyshevConstraint(-0.0622 <= JsDivergence <= 0.0840, FPR = 0.0011) 7\n",
      "ChebyshevConstraint(-0.0646 <= JsDivergence <= 0.0864, FPR = 0.0010) 7\n",
      "ChebyshevConstraint(-0.0671 <= JsDivergence <= 0.0889, FPR = 0.0010) 7\n",
      "ChebyshevConstraint(-0.0695 <= JsDivergence <= 0.0913, FPR = 0.0009) 7\n",
      "ChebyshevConstraint(-0.0720 <= JsDivergence <= 0.0937, FPR = 0.0009) 7\n",
      "ChebyshevConstraint(-0.0744 <= JsDivergence <= 0.0962, FPR = 0.0008) 7\n",
      "ChebyshevConstraint(-0.0768 <= JsDivergence <= 0.0986, FPR = 0.0008) 7\n",
      "ChebyshevConstraint(-0.0793 <= JsDivergence <= 0.1010, FPR = 0.0007) 7\n",
      "ChebyshevConstraint(-0.0817 <= JsDivergence <= 0.1035, FPR = 0.0007) 7\n",
      "ChebyshevConstraint(-0.0841 <= JsDivergence <= 0.1059, FPR = 0.0007) 7\n",
      "ChebyshevConstraint(-0.0866 <= JsDivergence <= 0.1084, FPR = 0.0006) 7\n",
      "ChebyshevConstraint(-0.0890 <= JsDivergence <= 0.1108, FPR = 0.0006) 7\n",
      "ChebyshevConstraint(-0.0914 <= JsDivergence <= 0.1132, FPR = 0.0006) 7\n",
      "ChebyshevConstraint(-0.0939 <= JsDivergence <= 0.1157, FPR = 0.0005) 7\n",
      "ChebyshevConstraint(-0.0963 <= JsDivergence <= 0.1181, FPR = 0.0005) 7\n",
      "ChebyshevConstraint(-0.0988 <= JsDivergence <= 0.1205, FPR = 0.0005) 7\n",
      "ChebyshevConstraint(-0.1012 <= JsDivergence <= 0.1230, FPR = 0.0005) 7\n",
      "ChebyshevConstraint(-0.1036 <= JsDivergence <= 0.1254, FPR = 0.0005) 7\n",
      "ChebyshevConstraint(-0.1061 <= JsDivergence <= 0.1278, FPR = 0.0004) 7\n",
      "ChebyshevConstraint(-0.1085 <= JsDivergence <= 0.1303, FPR = 0.0004) 7\n",
      "CantelliConstraint(0.0000 <= JsDivergence <= 0.0133, FPR = 0.5000) 9\n",
      "CantelliConstraint(0.0000 <= JsDivergence <= 0.0158, FPR = 0.2000) 9\n",
      "CantelliConstraint(0.0000 <= JsDivergence <= 0.0182, FPR = 0.1000) 9\n",
      "CantelliConstraint(0.0000 <= JsDivergence <= 0.0206, FPR = 0.0588) 8\n",
      "CantelliConstraint(0.0000 <= JsDivergence <= 0.0231, FPR = 0.0385) 7\n",
      "CantelliConstraint(0.0000 <= JsDivergence <= 0.0255, FPR = 0.0270) 7\n",
      "CantelliConstraint(0.0000 <= JsDivergence <= 0.0279, FPR = 0.0200) 7\n",
      "CantelliConstraint(0.0000 <= JsDivergence <= 0.0304, FPR = 0.0154) 7\n",
      "CantelliConstraint(0.0000 <= JsDivergence <= 0.0328, FPR = 0.0122) 7\n",
      "CantelliConstraint(0.0000 <= JsDivergence <= 0.0353, FPR = 0.0099) 7\n",
      "CantelliConstraint(0.0000 <= JsDivergence <= 0.0377, FPR = 0.0082) 7\n",
      "CantelliConstraint(0.0000 <= JsDivergence <= 0.0401, FPR = 0.0069) 7\n",
      "CantelliConstraint(0.0000 <= JsDivergence <= 0.0426, FPR = 0.0059) 7\n",
      "CantelliConstraint(0.0000 <= JsDivergence <= 0.0450, FPR = 0.0051) 7\n",
      "CantelliConstraint(0.0000 <= JsDivergence <= 0.0474, FPR = 0.0044) 7\n",
      "CantelliConstraint(0.0000 <= JsDivergence <= 0.0499, FPR = 0.0039) 7\n",
      "CantelliConstraint(0.0000 <= JsDivergence <= 0.0523, FPR = 0.0034) 7\n",
      "CantelliConstraint(0.0000 <= JsDivergence <= 0.0547, FPR = 0.0031) 7\n",
      "CantelliConstraint(0.0000 <= JsDivergence <= 0.0572, FPR = 0.0028) 7\n",
      "CantelliConstraint(0.0000 <= JsDivergence <= 0.0596, FPR = 0.0025) 7\n",
      "CantelliConstraint(0.0000 <= JsDivergence <= 0.0621, FPR = 0.0023) 7\n",
      "CantelliConstraint(0.0000 <= JsDivergence <= 0.0645, FPR = 0.0021) 7\n",
      "CantelliConstraint(0.0000 <= JsDivergence <= 0.0669, FPR = 0.0019) 7\n",
      "CantelliConstraint(0.0000 <= JsDivergence <= 0.0694, FPR = 0.0017) 7\n",
      "CantelliConstraint(0.0000 <= JsDivergence <= 0.0718, FPR = 0.0016) 7\n",
      "CantelliConstraint(0.0000 <= JsDivergence <= 0.0742, FPR = 0.0015) 7\n",
      "CantelliConstraint(0.0000 <= JsDivergence <= 0.0767, FPR = 0.0014) 7\n",
      "CantelliConstraint(0.0000 <= JsDivergence <= 0.0791, FPR = 0.0013) 7\n",
      "CantelliConstraint(0.0000 <= JsDivergence <= 0.0815, FPR = 0.0012) 7\n",
      "CantelliConstraint(0.0000 <= JsDivergence <= 0.0840, FPR = 0.0011) 7\n",
      "CantelliConstraint(0.0000 <= JsDivergence <= 0.0864, FPR = 0.0010) 7\n",
      "CantelliConstraint(0.0000 <= JsDivergence <= 0.0889, FPR = 0.0010) 7\n",
      "CantelliConstraint(0.0000 <= JsDivergence <= 0.0913, FPR = 0.0009) 7\n",
      "CantelliConstraint(0.0000 <= JsDivergence <= 0.0937, FPR = 0.0009) 7\n",
      "CantelliConstraint(0.0000 <= JsDivergence <= 0.0962, FPR = 0.0008) 7\n",
      "CantelliConstraint(0.0000 <= JsDivergence <= 0.0986, FPR = 0.0008) 7\n",
      "CantelliConstraint(0.0000 <= JsDivergence <= 0.1010, FPR = 0.0007) 7\n",
      "CantelliConstraint(0.0000 <= JsDivergence <= 0.1035, FPR = 0.0007) 7\n",
      "CantelliConstraint(0.0000 <= JsDivergence <= 0.1059, FPR = 0.0007) 7\n",
      "CantelliConstraint(0.0000 <= JsDivergence <= 0.1084, FPR = 0.0006) 7\n",
      "CantelliConstraint(0.0000 <= JsDivergence <= 0.1108, FPR = 0.0006) 7\n",
      "CantelliConstraint(0.0000 <= JsDivergence <= 0.1132, FPR = 0.0006) 7\n",
      "CantelliConstraint(0.0000 <= JsDivergence <= 0.1157, FPR = 0.0005) 7\n",
      "CantelliConstraint(0.0000 <= JsDivergence <= 0.1181, FPR = 0.0005) 7\n",
      "CantelliConstraint(0.0000 <= JsDivergence <= 0.1205, FPR = 0.0005) 7\n",
      "CantelliConstraint(0.0000 <= JsDivergence <= 0.1230, FPR = 0.0005) 7\n",
      "CantelliConstraint(0.0000 <= JsDivergence <= 0.1254, FPR = 0.0005) 7\n",
      "CantelliConstraint(0.0000 <= JsDivergence <= 0.1278, FPR = 0.0004) 7\n",
      "ChebyshevConstraint(0.0001 <= KlDivergence <= 0.0009, FPR = 0.2500) 20\n",
      "ChebyshevConstraint(-0.0001 <= KlDivergence <= 0.0011, FPR = 0.1111) 9\n",
      "ChebyshevConstraint(-0.0003 <= KlDivergence <= 0.0013, FPR = 0.0625) 9\n",
      "ChebyshevConstraint(-0.0006 <= KlDivergence <= 0.0015, FPR = 0.0400) 9\n",
      "ChebyshevConstraint(-0.0008 <= KlDivergence <= 0.0018, FPR = 0.0278) 8\n",
      "ChebyshevConstraint(-0.0010 <= KlDivergence <= 0.0020, FPR = 0.0204) 7\n",
      "ChebyshevConstraint(-0.0012 <= KlDivergence <= 0.0022, FPR = 0.0156) 7\n",
      "ChebyshevConstraint(-0.0014 <= KlDivergence <= 0.0024, FPR = 0.0123) 7\n",
      "ChebyshevConstraint(-0.0016 <= KlDivergence <= 0.0026, FPR = 0.0100) 7\n",
      "ChebyshevConstraint(-0.0018 <= KlDivergence <= 0.0028, FPR = 0.0083) 7\n",
      "ChebyshevConstraint(-0.0020 <= KlDivergence <= 0.0030, FPR = 0.0069) 7\n",
      "ChebyshevConstraint(-0.0022 <= KlDivergence <= 0.0032, FPR = 0.0059) 7\n",
      "ChebyshevConstraint(-0.0024 <= KlDivergence <= 0.0034, FPR = 0.0051) 7\n",
      "ChebyshevConstraint(-0.0027 <= KlDivergence <= 0.0036, FPR = 0.0044) 7\n",
      "ChebyshevConstraint(-0.0029 <= KlDivergence <= 0.0039, FPR = 0.0039) 7\n",
      "ChebyshevConstraint(-0.0031 <= KlDivergence <= 0.0041, FPR = 0.0035) 7\n",
      "ChebyshevConstraint(-0.0033 <= KlDivergence <= 0.0043, FPR = 0.0031) 7\n",
      "ChebyshevConstraint(-0.0035 <= KlDivergence <= 0.0045, FPR = 0.0028) 7\n",
      "ChebyshevConstraint(-0.0037 <= KlDivergence <= 0.0047, FPR = 0.0025) 7\n",
      "ChebyshevConstraint(-0.0039 <= KlDivergence <= 0.0049, FPR = 0.0023) 7\n",
      "ChebyshevConstraint(-0.0041 <= KlDivergence <= 0.0051, FPR = 0.0021) 7\n",
      "ChebyshevConstraint(-0.0043 <= KlDivergence <= 0.0053, FPR = 0.0019) 7\n",
      "ChebyshevConstraint(-0.0045 <= KlDivergence <= 0.0055, FPR = 0.0017) 7\n",
      "ChebyshevConstraint(-0.0048 <= KlDivergence <= 0.0057, FPR = 0.0016) 7\n",
      "ChebyshevConstraint(-0.0050 <= KlDivergence <= 0.0060, FPR = 0.0015) 7\n",
      "ChebyshevConstraint(-0.0052 <= KlDivergence <= 0.0062, FPR = 0.0014) 7\n",
      "ChebyshevConstraint(-0.0054 <= KlDivergence <= 0.0064, FPR = 0.0013) 7\n",
      "ChebyshevConstraint(-0.0056 <= KlDivergence <= 0.0066, FPR = 0.0012) 7\n",
      "ChebyshevConstraint(-0.0058 <= KlDivergence <= 0.0068, FPR = 0.0011) 7\n",
      "ChebyshevConstraint(-0.0060 <= KlDivergence <= 0.0070, FPR = 0.0010) 7\n",
      "ChebyshevConstraint(-0.0062 <= KlDivergence <= 0.0072, FPR = 0.0010) 7\n",
      "ChebyshevConstraint(-0.0064 <= KlDivergence <= 0.0074, FPR = 0.0009) 7\n",
      "ChebyshevConstraint(-0.0066 <= KlDivergence <= 0.0076, FPR = 0.0009) 7\n",
      "ChebyshevConstraint(-0.0069 <= KlDivergence <= 0.0079, FPR = 0.0008) 7\n",
      "ChebyshevConstraint(-0.0071 <= KlDivergence <= 0.0081, FPR = 0.0008) 7\n",
      "ChebyshevConstraint(-0.0073 <= KlDivergence <= 0.0083, FPR = 0.0007) 7\n",
      "ChebyshevConstraint(-0.0075 <= KlDivergence <= 0.0085, FPR = 0.0007) 7\n",
      "ChebyshevConstraint(-0.0077 <= KlDivergence <= 0.0087, FPR = 0.0007) 7\n",
      "ChebyshevConstraint(-0.0079 <= KlDivergence <= 0.0089, FPR = 0.0006) 7\n",
      "ChebyshevConstraint(-0.0081 <= KlDivergence <= 0.0091, FPR = 0.0006) 7\n",
      "ChebyshevConstraint(-0.0083 <= KlDivergence <= 0.0093, FPR = 0.0006) 7\n",
      "ChebyshevConstraint(-0.0085 <= KlDivergence <= 0.0095, FPR = 0.0005) 7\n",
      "ChebyshevConstraint(-0.0087 <= KlDivergence <= 0.0097, FPR = 0.0005) 7\n",
      "ChebyshevConstraint(-0.0090 <= KlDivergence <= 0.0100, FPR = 0.0005) 7\n",
      "ChebyshevConstraint(-0.0092 <= KlDivergence <= 0.0102, FPR = 0.0005) 7\n",
      "ChebyshevConstraint(-0.0094 <= KlDivergence <= 0.0104, FPR = 0.0005) 7\n",
      "ChebyshevConstraint(-0.0096 <= KlDivergence <= 0.0106, FPR = 0.0004) 7\n",
      "ChebyshevConstraint(-0.0098 <= KlDivergence <= 0.0108, FPR = 0.0004) 7\n",
      "CantelliConstraint(0.0000 <= KlDivergence <= 0.0007, FPR = 0.5000) 9\n",
      "CantelliConstraint(0.0000 <= KlDivergence <= 0.0009, FPR = 0.2000) 9\n",
      "CantelliConstraint(0.0000 <= KlDivergence <= 0.0011, FPR = 0.1000) 9\n",
      "CantelliConstraint(0.0000 <= KlDivergence <= 0.0013, FPR = 0.0588) 9\n",
      "CantelliConstraint(0.0000 <= KlDivergence <= 0.0015, FPR = 0.0385) 9\n",
      "CantelliConstraint(0.0000 <= KlDivergence <= 0.0018, FPR = 0.0270) 8\n",
      "CantelliConstraint(0.0000 <= KlDivergence <= 0.0020, FPR = 0.0200) 7\n",
      "CantelliConstraint(0.0000 <= KlDivergence <= 0.0022, FPR = 0.0154) 7\n",
      "CantelliConstraint(0.0000 <= KlDivergence <= 0.0024, FPR = 0.0122) 7\n",
      "CantelliConstraint(0.0000 <= KlDivergence <= 0.0026, FPR = 0.0099) 7\n",
      "CantelliConstraint(0.0000 <= KlDivergence <= 0.0028, FPR = 0.0082) 7\n",
      "CantelliConstraint(0.0000 <= KlDivergence <= 0.0030, FPR = 0.0069) 7\n",
      "CantelliConstraint(0.0000 <= KlDivergence <= 0.0032, FPR = 0.0059) 7\n",
      "CantelliConstraint(0.0000 <= KlDivergence <= 0.0034, FPR = 0.0051) 7\n",
      "CantelliConstraint(0.0000 <= KlDivergence <= 0.0036, FPR = 0.0044) 7\n",
      "CantelliConstraint(0.0000 <= KlDivergence <= 0.0039, FPR = 0.0039) 7\n",
      "CantelliConstraint(0.0000 <= KlDivergence <= 0.0041, FPR = 0.0034) 7\n",
      "CantelliConstraint(0.0000 <= KlDivergence <= 0.0043, FPR = 0.0031) 7\n",
      "CantelliConstraint(0.0000 <= KlDivergence <= 0.0045, FPR = 0.0028) 7\n",
      "CantelliConstraint(0.0000 <= KlDivergence <= 0.0047, FPR = 0.0025) 7\n",
      "CantelliConstraint(0.0000 <= KlDivergence <= 0.0049, FPR = 0.0023) 7\n",
      "CantelliConstraint(0.0000 <= KlDivergence <= 0.0051, FPR = 0.0021) 7\n",
      "CantelliConstraint(0.0000 <= KlDivergence <= 0.0053, FPR = 0.0019) 7\n",
      "CantelliConstraint(0.0000 <= KlDivergence <= 0.0055, FPR = 0.0017) 7\n",
      "CantelliConstraint(0.0000 <= KlDivergence <= 0.0057, FPR = 0.0016) 7\n",
      "CantelliConstraint(0.0000 <= KlDivergence <= 0.0060, FPR = 0.0015) 7\n",
      "CantelliConstraint(0.0000 <= KlDivergence <= 0.0062, FPR = 0.0014) 7\n",
      "CantelliConstraint(0.0000 <= KlDivergence <= 0.0064, FPR = 0.0013) 7\n",
      "CantelliConstraint(0.0000 <= KlDivergence <= 0.0066, FPR = 0.0012) 7\n",
      "CantelliConstraint(0.0000 <= KlDivergence <= 0.0068, FPR = 0.0011) 7\n",
      "CantelliConstraint(0.0000 <= KlDivergence <= 0.0070, FPR = 0.0010) 7\n",
      "CantelliConstraint(0.0000 <= KlDivergence <= 0.0072, FPR = 0.0010) 7\n",
      "CantelliConstraint(0.0000 <= KlDivergence <= 0.0074, FPR = 0.0009) 7\n",
      "CantelliConstraint(0.0000 <= KlDivergence <= 0.0076, FPR = 0.0009) 7\n",
      "CantelliConstraint(0.0000 <= KlDivergence <= 0.0079, FPR = 0.0008) 7\n",
      "CantelliConstraint(0.0000 <= KlDivergence <= 0.0081, FPR = 0.0008) 7\n",
      "CantelliConstraint(0.0000 <= KlDivergence <= 0.0083, FPR = 0.0007) 7\n",
      "CantelliConstraint(0.0000 <= KlDivergence <= 0.0085, FPR = 0.0007) 7\n",
      "CantelliConstraint(0.0000 <= KlDivergence <= 0.0087, FPR = 0.0007) 7\n",
      "CantelliConstraint(0.0000 <= KlDivergence <= 0.0089, FPR = 0.0006) 7\n",
      "CantelliConstraint(0.0000 <= KlDivergence <= 0.0091, FPR = 0.0006) 7\n",
      "CantelliConstraint(0.0000 <= KlDivergence <= 0.0093, FPR = 0.0006) 7\n",
      "CantelliConstraint(0.0000 <= KlDivergence <= 0.0095, FPR = 0.0005) 7\n",
      "CantelliConstraint(0.0000 <= KlDivergence <= 0.0097, FPR = 0.0005) 7\n",
      "CantelliConstraint(0.0000 <= KlDivergence <= 0.0100, FPR = 0.0005) 7\n",
      "CantelliConstraint(0.0000 <= KlDivergence <= 0.0102, FPR = 0.0005) 7\n",
      "CantelliConstraint(0.0000 <= KlDivergence <= 0.0104, FPR = 0.0005) 7\n",
      "CantelliConstraint(0.0000 <= KlDivergence <= 0.0106, FPR = 0.0004) 7\n",
      "ChebyshevConstraint(-0.0618 <= KsDist <= 1.0299, FPR = 0.2500) 1\n",
      "ChebyshevConstraint(-0.3347 <= KsDist <= 1.3028, FPR = 0.1111) 1\n",
      "ChebyshevConstraint(-0.6076 <= KsDist <= 1.5757, FPR = 0.0625) 1\n",
      "ChebyshevConstraint(-0.8805 <= KsDist <= 1.8486, FPR = 0.0400) 1\n",
      "ChebyshevConstraint(-1.1535 <= KsDist <= 2.1215, FPR = 0.0278) 1\n",
      "ChebyshevConstraint(-1.4264 <= KsDist <= 2.3945, FPR = 0.0204) 1\n",
      "ChebyshevConstraint(-1.6993 <= KsDist <= 2.6674, FPR = 0.0156) 1\n",
      "ChebyshevConstraint(-1.9722 <= KsDist <= 2.9403, FPR = 0.0123) 1\n",
      "ChebyshevConstraint(-2.2451 <= KsDist <= 3.2132, FPR = 0.0100) 1\n",
      "ChebyshevConstraint(-2.5181 <= KsDist <= 3.4861, FPR = 0.0083) 1\n",
      "ChebyshevConstraint(-2.7910 <= KsDist <= 3.7590, FPR = 0.0069) 1\n",
      "ChebyshevConstraint(-3.0639 <= KsDist <= 4.0320, FPR = 0.0059) 1\n",
      "ChebyshevConstraint(-3.3368 <= KsDist <= 4.3049, FPR = 0.0051) 1\n",
      "ChebyshevConstraint(-3.6097 <= KsDist <= 4.5778, FPR = 0.0044) 1\n",
      "ChebyshevConstraint(-3.8826 <= KsDist <= 4.8507, FPR = 0.0039) 1\n",
      "ChebyshevConstraint(-4.1556 <= KsDist <= 5.1236, FPR = 0.0035) 1\n",
      "ChebyshevConstraint(-4.4285 <= KsDist <= 5.3966, FPR = 0.0031) 1\n",
      "ChebyshevConstraint(-4.7014 <= KsDist <= 5.6695, FPR = 0.0028) 1\n",
      "ChebyshevConstraint(-4.9743 <= KsDist <= 5.9424, FPR = 0.0025) 1\n",
      "ChebyshevConstraint(-5.2472 <= KsDist <= 6.2153, FPR = 0.0023) 1\n",
      "ChebyshevConstraint(-5.5201 <= KsDist <= 6.4882, FPR = 0.0021) 1\n",
      "ChebyshevConstraint(-5.7931 <= KsDist <= 6.7611, FPR = 0.0019) 1\n",
      "ChebyshevConstraint(-6.0660 <= KsDist <= 7.0341, FPR = 0.0017) 1\n",
      "ChebyshevConstraint(-6.3389 <= KsDist <= 7.3070, FPR = 0.0016) 1\n",
      "ChebyshevConstraint(-6.6118 <= KsDist <= 7.5799, FPR = 0.0015) 1\n",
      "ChebyshevConstraint(-6.8847 <= KsDist <= 7.8528, FPR = 0.0014) 1\n",
      "ChebyshevConstraint(-7.1577 <= KsDist <= 8.1257, FPR = 0.0013) 1\n",
      "ChebyshevConstraint(-7.4306 <= KsDist <= 8.3986, FPR = 0.0012) 1\n",
      "ChebyshevConstraint(-7.7035 <= KsDist <= 8.6716, FPR = 0.0011) 1\n",
      "ChebyshevConstraint(-7.9764 <= KsDist <= 8.9445, FPR = 0.0010) 1\n",
      "ChebyshevConstraint(-8.2493 <= KsDist <= 9.2174, FPR = 0.0010) 1\n",
      "ChebyshevConstraint(-8.5222 <= KsDist <= 9.4903, FPR = 0.0009) 1\n",
      "ChebyshevConstraint(-8.7952 <= KsDist <= 9.7632, FPR = 0.0009) 1\n",
      "ChebyshevConstraint(-9.0681 <= KsDist <= 10.0362, FPR = 0.0008) 1\n",
      "ChebyshevConstraint(-9.3410 <= KsDist <= 10.3091, FPR = 0.0008) 1\n",
      "ChebyshevConstraint(-9.6139 <= KsDist <= 10.5820, FPR = 0.0007) 1\n",
      "ChebyshevConstraint(-9.8868 <= KsDist <= 10.8549, FPR = 0.0007) 1\n",
      "ChebyshevConstraint(-10.1597 <= KsDist <= 11.1278, FPR = 0.0007) 1\n",
      "ChebyshevConstraint(-10.4327 <= KsDist <= 11.4007, FPR = 0.0006) 1\n",
      "ChebyshevConstraint(-10.7056 <= KsDist <= 11.6737, FPR = 0.0006) 1\n",
      "ChebyshevConstraint(-10.9785 <= KsDist <= 11.9466, FPR = 0.0006) 1\n",
      "ChebyshevConstraint(-11.2514 <= KsDist <= 12.2195, FPR = 0.0005) 1\n",
      "ChebyshevConstraint(-11.5243 <= KsDist <= 12.4924, FPR = 0.0005) 1\n",
      "ChebyshevConstraint(-11.7972 <= KsDist <= 12.7653, FPR = 0.0005) 1\n",
      "ChebyshevConstraint(-12.0702 <= KsDist <= 13.0382, FPR = 0.0005) 1\n",
      "ChebyshevConstraint(-12.3431 <= KsDist <= 13.3112, FPR = 0.0005) 1\n",
      "ChebyshevConstraint(-12.6160 <= KsDist <= 13.5841, FPR = 0.0004) 1\n",
      "ChebyshevConstraint(-12.8889 <= KsDist <= 13.8570, FPR = 0.0004) 1\n",
      "CantelliConstraint(0.0000 <= KsDist <= 0.7570, FPR = 0.5000) 17\n",
      "CantelliConstraint(0.0000 <= KsDist <= 1.0299, FPR = 0.2000) 1\n",
      "CantelliConstraint(0.0000 <= KsDist <= 1.3028, FPR = 0.1000) 1\n",
      "CantelliConstraint(0.0000 <= KsDist <= 1.5757, FPR = 0.0588) 1\n",
      "CantelliConstraint(0.0000 <= KsDist <= 1.8486, FPR = 0.0385) 1\n",
      "CantelliConstraint(0.0000 <= KsDist <= 2.1215, FPR = 0.0270) 1\n",
      "CantelliConstraint(0.0000 <= KsDist <= 2.3945, FPR = 0.0200) 1\n",
      "CantelliConstraint(0.0000 <= KsDist <= 2.6674, FPR = 0.0154) 1\n",
      "CantelliConstraint(0.0000 <= KsDist <= 2.9403, FPR = 0.0122) 1\n",
      "CantelliConstraint(0.0000 <= KsDist <= 3.2132, FPR = 0.0099) 1\n",
      "CantelliConstraint(0.0000 <= KsDist <= 3.4861, FPR = 0.0082) 1\n",
      "CantelliConstraint(0.0000 <= KsDist <= 3.7590, FPR = 0.0069) 1\n",
      "CantelliConstraint(0.0000 <= KsDist <= 4.0320, FPR = 0.0059) 1\n",
      "CantelliConstraint(0.0000 <= KsDist <= 4.3049, FPR = 0.0051) 1\n",
      "CantelliConstraint(0.0000 <= KsDist <= 4.5778, FPR = 0.0044) 1\n",
      "CantelliConstraint(0.0000 <= KsDist <= 4.8507, FPR = 0.0039) 1\n",
      "CantelliConstraint(0.0000 <= KsDist <= 5.1236, FPR = 0.0034) 1\n",
      "CantelliConstraint(0.0000 <= KsDist <= 5.3966, FPR = 0.0031) 1\n",
      "CantelliConstraint(0.0000 <= KsDist <= 5.6695, FPR = 0.0028) 1\n",
      "CantelliConstraint(0.0000 <= KsDist <= 5.9424, FPR = 0.0025) 1\n",
      "CantelliConstraint(0.0000 <= KsDist <= 6.2153, FPR = 0.0023) 1\n",
      "CantelliConstraint(0.0000 <= KsDist <= 6.4882, FPR = 0.0021) 1\n",
      "CantelliConstraint(0.0000 <= KsDist <= 6.7611, FPR = 0.0019) 1\n",
      "CantelliConstraint(0.0000 <= KsDist <= 7.0341, FPR = 0.0017) 1\n",
      "CantelliConstraint(0.0000 <= KsDist <= 7.3070, FPR = 0.0016) 1\n",
      "CantelliConstraint(0.0000 <= KsDist <= 7.5799, FPR = 0.0015) 1\n",
      "CantelliConstraint(0.0000 <= KsDist <= 7.8528, FPR = 0.0014) 1\n",
      "CantelliConstraint(0.0000 <= KsDist <= 8.1257, FPR = 0.0013) 1\n",
      "CantelliConstraint(0.0000 <= KsDist <= 8.3986, FPR = 0.0012) 1\n",
      "CantelliConstraint(0.0000 <= KsDist <= 8.6716, FPR = 0.0011) 1\n",
      "CantelliConstraint(0.0000 <= KsDist <= 8.9445, FPR = 0.0010) 1\n",
      "CantelliConstraint(0.0000 <= KsDist <= 9.2174, FPR = 0.0010) 1\n",
      "CantelliConstraint(0.0000 <= KsDist <= 9.4903, FPR = 0.0009) 1\n",
      "CantelliConstraint(0.0000 <= KsDist <= 9.7632, FPR = 0.0009) 1\n",
      "CantelliConstraint(0.0000 <= KsDist <= 10.0362, FPR = 0.0008) 1\n",
      "CantelliConstraint(0.0000 <= KsDist <= 10.3091, FPR = 0.0008) 1\n",
      "CantelliConstraint(0.0000 <= KsDist <= 10.5820, FPR = 0.0007) 1\n",
      "CantelliConstraint(0.0000 <= KsDist <= 10.8549, FPR = 0.0007) 1\n",
      "CantelliConstraint(0.0000 <= KsDist <= 11.1278, FPR = 0.0007) 1\n",
      "CantelliConstraint(0.0000 <= KsDist <= 11.4007, FPR = 0.0006) 1\n",
      "CantelliConstraint(0.0000 <= KsDist <= 11.6737, FPR = 0.0006) 1\n",
      "CantelliConstraint(0.0000 <= KsDist <= 11.9466, FPR = 0.0006) 1\n",
      "CantelliConstraint(0.0000 <= KsDist <= 12.2195, FPR = 0.0005) 1\n",
      "CantelliConstraint(0.0000 <= KsDist <= 12.4924, FPR = 0.0005) 1\n",
      "CantelliConstraint(0.0000 <= KsDist <= 12.7653, FPR = 0.0005) 1\n",
      "CantelliConstraint(0.0000 <= KsDist <= 13.0382, FPR = 0.0005) 1\n",
      "CantelliConstraint(0.0000 <= KsDist <= 13.3112, FPR = 0.0005) 1\n",
      "CantelliConstraint(0.0000 <= KsDist <= 13.5841, FPR = 0.0004) 1\n",
      "ChebyshevConstraint(-0.0034 <= CohenD <= 0.0179, FPR = 0.2500) 17\n",
      "ChebyshevConstraint(-0.0087 <= CohenD <= 0.0232, FPR = 0.1111) 17\n",
      "ChebyshevConstraint(-0.0140 <= CohenD <= 0.0285, FPR = 0.0625) 17\n",
      "ChebyshevConstraint(-0.0193 <= CohenD <= 0.0338, FPR = 0.0400) 16\n",
      "ChebyshevConstraint(-0.0246 <= CohenD <= 0.0391, FPR = 0.0278) 16\n",
      "ChebyshevConstraint(-0.0299 <= CohenD <= 0.0444, FPR = 0.0204) 16\n",
      "ChebyshevConstraint(-0.0352 <= CohenD <= 0.0497, FPR = 0.0156) 16\n",
      "ChebyshevConstraint(-0.0405 <= CohenD <= 0.0550, FPR = 0.0123) 16\n",
      "ChebyshevConstraint(-0.0458 <= CohenD <= 0.0603, FPR = 0.0100) 16\n",
      "ChebyshevConstraint(-0.0511 <= CohenD <= 0.0656, FPR = 0.0083) 16\n",
      "ChebyshevConstraint(-0.0564 <= CohenD <= 0.0709, FPR = 0.0069) 16\n",
      "ChebyshevConstraint(-0.0617 <= CohenD <= 0.0762, FPR = 0.0059) 16\n",
      "ChebyshevConstraint(-0.0670 <= CohenD <= 0.0815, FPR = 0.0051) 16\n",
      "ChebyshevConstraint(-0.0723 <= CohenD <= 0.0868, FPR = 0.0044) 16\n",
      "ChebyshevConstraint(-0.0776 <= CohenD <= 0.0921, FPR = 0.0039) 16\n",
      "ChebyshevConstraint(-0.0829 <= CohenD <= 0.0974, FPR = 0.0035) 16\n",
      "ChebyshevConstraint(-0.0882 <= CohenD <= 0.1027, FPR = 0.0031) 16\n",
      "ChebyshevConstraint(-0.0935 <= CohenD <= 0.1080, FPR = 0.0028) 16\n",
      "ChebyshevConstraint(-0.0988 <= CohenD <= 0.1133, FPR = 0.0025) 16\n",
      "ChebyshevConstraint(-0.1041 <= CohenD <= 0.1186, FPR = 0.0023) 16\n",
      "ChebyshevConstraint(-0.1094 <= CohenD <= 0.1239, FPR = 0.0021) 16\n",
      "ChebyshevConstraint(-0.1147 <= CohenD <= 0.1292, FPR = 0.0019) 16\n",
      "ChebyshevConstraint(-0.1200 <= CohenD <= 0.1345, FPR = 0.0017) 16\n",
      "ChebyshevConstraint(-0.1254 <= CohenD <= 0.1398, FPR = 0.0016) 16\n",
      "ChebyshevConstraint(-0.1307 <= CohenD <= 0.1452, FPR = 0.0015) 16\n",
      "ChebyshevConstraint(-0.1360 <= CohenD <= 0.1505, FPR = 0.0014) 16\n",
      "ChebyshevConstraint(-0.1413 <= CohenD <= 0.1558, FPR = 0.0013) 16\n",
      "ChebyshevConstraint(-0.1466 <= CohenD <= 0.1611, FPR = 0.0012) 16\n",
      "ChebyshevConstraint(-0.1519 <= CohenD <= 0.1664, FPR = 0.0011) 16\n",
      "ChebyshevConstraint(-0.1572 <= CohenD <= 0.1717, FPR = 0.0010) 16\n",
      "ChebyshevConstraint(-0.1625 <= CohenD <= 0.1770, FPR = 0.0010) 16\n",
      "ChebyshevConstraint(-0.1678 <= CohenD <= 0.1823, FPR = 0.0009) 16\n",
      "ChebyshevConstraint(-0.1731 <= CohenD <= 0.1876, FPR = 0.0009) 16\n",
      "ChebyshevConstraint(-0.1784 <= CohenD <= 0.1929, FPR = 0.0008) 16\n",
      "ChebyshevConstraint(-0.1837 <= CohenD <= 0.1982, FPR = 0.0008) 16\n",
      "ChebyshevConstraint(-0.1890 <= CohenD <= 0.2035, FPR = 0.0007) 16\n",
      "ChebyshevConstraint(-0.1943 <= CohenD <= 0.2088, FPR = 0.0007) 16\n",
      "ChebyshevConstraint(-0.1996 <= CohenD <= 0.2141, FPR = 0.0007) 16\n",
      "ChebyshevConstraint(-0.2049 <= CohenD <= 0.2194, FPR = 0.0006) 16\n",
      "ChebyshevConstraint(-0.2102 <= CohenD <= 0.2247, FPR = 0.0006) 16\n",
      "ChebyshevConstraint(-0.2155 <= CohenD <= 0.2300, FPR = 0.0006) 16\n",
      "ChebyshevConstraint(-0.2208 <= CohenD <= 0.2353, FPR = 0.0005) 16\n",
      "ChebyshevConstraint(-0.2261 <= CohenD <= 0.2406, FPR = 0.0005) 16\n",
      "ChebyshevConstraint(-0.2314 <= CohenD <= 0.2459, FPR = 0.0005) 16\n",
      "ChebyshevConstraint(-0.2367 <= CohenD <= 0.2512, FPR = 0.0005) 16\n",
      "ChebyshevConstraint(-0.2420 <= CohenD <= 0.2565, FPR = 0.0005) 16\n",
      "ChebyshevConstraint(-0.2473 <= CohenD <= 0.2618, FPR = 0.0004) 16\n",
      "ChebyshevConstraint(-0.2527 <= CohenD <= 0.2671, FPR = 0.0004) 16\n",
      "CantelliConstraint(0.0000 <= CohenD <= 0.0126, FPR = 0.5000) 17\n",
      "CantelliConstraint(0.0000 <= CohenD <= 0.0179, FPR = 0.2000) 17\n",
      "CantelliConstraint(0.0000 <= CohenD <= 0.0232, FPR = 0.1000) 17\n",
      "CantelliConstraint(0.0000 <= CohenD <= 0.0285, FPR = 0.0588) 17\n",
      "CantelliConstraint(0.0000 <= CohenD <= 0.0338, FPR = 0.0385) 16\n",
      "CantelliConstraint(0.0000 <= CohenD <= 0.0391, FPR = 0.0270) 16\n",
      "CantelliConstraint(0.0000 <= CohenD <= 0.0444, FPR = 0.0200) 16\n",
      "CantelliConstraint(0.0000 <= CohenD <= 0.0497, FPR = 0.0154) 16\n",
      "CantelliConstraint(0.0000 <= CohenD <= 0.0550, FPR = 0.0122) 16\n",
      "CantelliConstraint(0.0000 <= CohenD <= 0.0603, FPR = 0.0099) 16\n",
      "CantelliConstraint(0.0000 <= CohenD <= 0.0656, FPR = 0.0082) 16\n",
      "CantelliConstraint(0.0000 <= CohenD <= 0.0709, FPR = 0.0069) 16\n",
      "CantelliConstraint(0.0000 <= CohenD <= 0.0762, FPR = 0.0059) 16\n",
      "CantelliConstraint(0.0000 <= CohenD <= 0.0815, FPR = 0.0051) 16\n",
      "CantelliConstraint(0.0000 <= CohenD <= 0.0868, FPR = 0.0044) 16\n",
      "CantelliConstraint(0.0000 <= CohenD <= 0.0921, FPR = 0.0039) 16\n",
      "CantelliConstraint(0.0000 <= CohenD <= 0.0974, FPR = 0.0034) 16\n",
      "CantelliConstraint(0.0000 <= CohenD <= 0.1027, FPR = 0.0031) 16\n",
      "CantelliConstraint(0.0000 <= CohenD <= 0.1080, FPR = 0.0028) 16\n",
      "CantelliConstraint(0.0000 <= CohenD <= 0.1133, FPR = 0.0025) 16\n",
      "CantelliConstraint(0.0000 <= CohenD <= 0.1186, FPR = 0.0023) 16\n",
      "CantelliConstraint(0.0000 <= CohenD <= 0.1239, FPR = 0.0021) 16\n",
      "CantelliConstraint(0.0000 <= CohenD <= 0.1292, FPR = 0.0019) 16\n",
      "CantelliConstraint(0.0000 <= CohenD <= 0.1345, FPR = 0.0017) 16\n",
      "CantelliConstraint(0.0000 <= CohenD <= 0.1398, FPR = 0.0016) 16\n",
      "CantelliConstraint(0.0000 <= CohenD <= 0.1452, FPR = 0.0015) 16\n",
      "CantelliConstraint(0.0000 <= CohenD <= 0.1505, FPR = 0.0014) 16\n",
      "CantelliConstraint(0.0000 <= CohenD <= 0.1558, FPR = 0.0013) 16\n",
      "CantelliConstraint(0.0000 <= CohenD <= 0.1611, FPR = 0.0012) 16\n",
      "CantelliConstraint(0.0000 <= CohenD <= 0.1664, FPR = 0.0011) 16\n",
      "CantelliConstraint(0.0000 <= CohenD <= 0.1717, FPR = 0.0010) 16\n",
      "CantelliConstraint(0.0000 <= CohenD <= 0.1770, FPR = 0.0010) 16\n",
      "CantelliConstraint(0.0000 <= CohenD <= 0.1823, FPR = 0.0009) 16\n",
      "CantelliConstraint(0.0000 <= CohenD <= 0.1876, FPR = 0.0009) 16\n",
      "CantelliConstraint(0.0000 <= CohenD <= 0.1929, FPR = 0.0008) 16\n",
      "CantelliConstraint(0.0000 <= CohenD <= 0.1982, FPR = 0.0008) 16\n",
      "CantelliConstraint(0.0000 <= CohenD <= 0.2035, FPR = 0.0007) 16\n",
      "CantelliConstraint(0.0000 <= CohenD <= 0.2088, FPR = 0.0007) 16\n",
      "CantelliConstraint(0.0000 <= CohenD <= 0.2141, FPR = 0.0007) 16\n",
      "CantelliConstraint(0.0000 <= CohenD <= 0.2194, FPR = 0.0006) 16\n",
      "CantelliConstraint(0.0000 <= CohenD <= 0.2247, FPR = 0.0006) 16\n",
      "CantelliConstraint(0.0000 <= CohenD <= 0.2300, FPR = 0.0006) 16\n",
      "CantelliConstraint(0.0000 <= CohenD <= 0.2353, FPR = 0.0005) 16\n",
      "CantelliConstraint(0.0000 <= CohenD <= 0.2406, FPR = 0.0005) 16\n",
      "CantelliConstraint(0.0000 <= CohenD <= 0.2459, FPR = 0.0005) 16\n",
      "CantelliConstraint(0.0000 <= CohenD <= 0.2512, FPR = 0.0005) 16\n",
      "CantelliConstraint(0.0000 <= CohenD <= 0.2565, FPR = 0.0005) 16\n",
      "CantelliConstraint(0.0000 <= CohenD <= 0.2618, FPR = 0.0004) 16\n",
      "{'numeric_8': ChebyshevConstraint(38070.5220 <= Sum <= 72059.9312, FPR = 0.0400)\n",
      "ChebyshevConstraint(1.0000 <= CompleteRatio <= 1.0000, FPR = 0.0000)\n",
      "ChebyshevConstraint(6.1113 <= Max <= 6.2795, FPR = 0.0004), FPR = 0.040416}\n",
      "False\n",
      "False\n",
      "False\n",
      "False\n",
      "False\n",
      "False\n",
      "False\n",
      "False\n",
      "False\n",
      "False\n",
      "False\n",
      "False\n",
      "False\n",
      "False\n",
      "False\n",
      "False\n",
      "False\n",
      "False\n",
      "False\n",
      "False\n",
      "False\n",
      "False\n",
      "False\n"
     ]
    }
   ],
   "source": [
    "avh = AVH(columns=[column], verbose=0, random_state=42, optimise_search_space=False)\n",
    "PS = avh.generate(train_h, fpr_target=0.1)\n",
    "\n",
    "print(PS)\n",
    "\n",
    "for recall_test in perturbations:\n",
    "    print(PS[column].predict(recall_test[1]))"
   ]
  },
  {
   "cell_type": "code",
   "execution_count": null,
   "metadata": {},
   "outputs": [
    {
     "data": {
      "text/html": [
       "<style>#sk-container-id-1 {\n",
       "  /* Definition of color scheme common for light and dark mode */\n",
       "  --sklearn-color-text: black;\n",
       "  --sklearn-color-line: gray;\n",
       "  /* Definition of color scheme for unfitted estimators */\n",
       "  --sklearn-color-unfitted-level-0: #fff5e6;\n",
       "  --sklearn-color-unfitted-level-1: #f6e4d2;\n",
       "  --sklearn-color-unfitted-level-2: #ffe0b3;\n",
       "  --sklearn-color-unfitted-level-3: chocolate;\n",
       "  /* Definition of color scheme for fitted estimators */\n",
       "  --sklearn-color-fitted-level-0: #f0f8ff;\n",
       "  --sklearn-color-fitted-level-1: #d4ebff;\n",
       "  --sklearn-color-fitted-level-2: #b3dbfd;\n",
       "  --sklearn-color-fitted-level-3: cornflowerblue;\n",
       "\n",
       "  /* Specific color for light theme */\n",
       "  --sklearn-color-text-on-default-background: var(--sg-text-color, var(--theme-code-foreground, var(--jp-content-font-color1, black)));\n",
       "  --sklearn-color-background: var(--sg-background-color, var(--theme-background, var(--jp-layout-color0, white)));\n",
       "  --sklearn-color-border-box: var(--sg-text-color, var(--theme-code-foreground, var(--jp-content-font-color1, black)));\n",
       "  --sklearn-color-icon: #696969;\n",
       "\n",
       "  @media (prefers-color-scheme: dark) {\n",
       "    /* Redefinition of color scheme for dark theme */\n",
       "    --sklearn-color-text-on-default-background: var(--sg-text-color, var(--theme-code-foreground, var(--jp-content-font-color1, white)));\n",
       "    --sklearn-color-background: var(--sg-background-color, var(--theme-background, var(--jp-layout-color0, #111)));\n",
       "    --sklearn-color-border-box: var(--sg-text-color, var(--theme-code-foreground, var(--jp-content-font-color1, white)));\n",
       "    --sklearn-color-icon: #878787;\n",
       "  }\n",
       "}\n",
       "\n",
       "#sk-container-id-1 {\n",
       "  color: var(--sklearn-color-text);\n",
       "}\n",
       "\n",
       "#sk-container-id-1 pre {\n",
       "  padding: 0;\n",
       "}\n",
       "\n",
       "#sk-container-id-1 input.sk-hidden--visually {\n",
       "  border: 0;\n",
       "  clip: rect(1px 1px 1px 1px);\n",
       "  clip: rect(1px, 1px, 1px, 1px);\n",
       "  height: 1px;\n",
       "  margin: -1px;\n",
       "  overflow: hidden;\n",
       "  padding: 0;\n",
       "  position: absolute;\n",
       "  width: 1px;\n",
       "}\n",
       "\n",
       "#sk-container-id-1 div.sk-dashed-wrapped {\n",
       "  border: 1px dashed var(--sklearn-color-line);\n",
       "  margin: 0 0.4em 0.5em 0.4em;\n",
       "  box-sizing: border-box;\n",
       "  padding-bottom: 0.4em;\n",
       "  background-color: var(--sklearn-color-background);\n",
       "}\n",
       "\n",
       "#sk-container-id-1 div.sk-container {\n",
       "  /* jupyter's `normalize.less` sets `[hidden] { display: none; }`\n",
       "     but bootstrap.min.css set `[hidden] { display: none !important; }`\n",
       "     so we also need the `!important` here to be able to override the\n",
       "     default hidden behavior on the sphinx rendered scikit-learn.org.\n",
       "     See: https://github.com/scikit-learn/scikit-learn/issues/21755 */\n",
       "  display: inline-block !important;\n",
       "  position: relative;\n",
       "}\n",
       "\n",
       "#sk-container-id-1 div.sk-text-repr-fallback {\n",
       "  display: none;\n",
       "}\n",
       "\n",
       "div.sk-parallel-item,\n",
       "div.sk-serial,\n",
       "div.sk-item {\n",
       "  /* draw centered vertical line to link estimators */\n",
       "  background-image: linear-gradient(var(--sklearn-color-text-on-default-background), var(--sklearn-color-text-on-default-background));\n",
       "  background-size: 2px 100%;\n",
       "  background-repeat: no-repeat;\n",
       "  background-position: center center;\n",
       "}\n",
       "\n",
       "/* Parallel-specific style estimator block */\n",
       "\n",
       "#sk-container-id-1 div.sk-parallel-item::after {\n",
       "  content: \"\";\n",
       "  width: 100%;\n",
       "  border-bottom: 2px solid var(--sklearn-color-text-on-default-background);\n",
       "  flex-grow: 1;\n",
       "}\n",
       "\n",
       "#sk-container-id-1 div.sk-parallel {\n",
       "  display: flex;\n",
       "  align-items: stretch;\n",
       "  justify-content: center;\n",
       "  background-color: var(--sklearn-color-background);\n",
       "  position: relative;\n",
       "}\n",
       "\n",
       "#sk-container-id-1 div.sk-parallel-item {\n",
       "  display: flex;\n",
       "  flex-direction: column;\n",
       "}\n",
       "\n",
       "#sk-container-id-1 div.sk-parallel-item:first-child::after {\n",
       "  align-self: flex-end;\n",
       "  width: 50%;\n",
       "}\n",
       "\n",
       "#sk-container-id-1 div.sk-parallel-item:last-child::after {\n",
       "  align-self: flex-start;\n",
       "  width: 50%;\n",
       "}\n",
       "\n",
       "#sk-container-id-1 div.sk-parallel-item:only-child::after {\n",
       "  width: 0;\n",
       "}\n",
       "\n",
       "/* Serial-specific style estimator block */\n",
       "\n",
       "#sk-container-id-1 div.sk-serial {\n",
       "  display: flex;\n",
       "  flex-direction: column;\n",
       "  align-items: center;\n",
       "  background-color: var(--sklearn-color-background);\n",
       "  padding-right: 1em;\n",
       "  padding-left: 1em;\n",
       "}\n",
       "\n",
       "\n",
       "/* Toggleable style: style used for estimator/Pipeline/ColumnTransformer box that is\n",
       "clickable and can be expanded/collapsed.\n",
       "- Pipeline and ColumnTransformer use this feature and define the default style\n",
       "- Estimators will overwrite some part of the style using the `sk-estimator` class\n",
       "*/\n",
       "\n",
       "/* Pipeline and ColumnTransformer style (default) */\n",
       "\n",
       "#sk-container-id-1 div.sk-toggleable {\n",
       "  /* Default theme specific background. It is overwritten whether we have a\n",
       "  specific estimator or a Pipeline/ColumnTransformer */\n",
       "  background-color: var(--sklearn-color-background);\n",
       "}\n",
       "\n",
       "/* Toggleable label */\n",
       "#sk-container-id-1 label.sk-toggleable__label {\n",
       "  cursor: pointer;\n",
       "  display: block;\n",
       "  width: 100%;\n",
       "  margin-bottom: 0;\n",
       "  padding: 0.5em;\n",
       "  box-sizing: border-box;\n",
       "  text-align: center;\n",
       "}\n",
       "\n",
       "#sk-container-id-1 label.sk-toggleable__label-arrow:before {\n",
       "  /* Arrow on the left of the label */\n",
       "  content: \"▸\";\n",
       "  float: left;\n",
       "  margin-right: 0.25em;\n",
       "  color: var(--sklearn-color-icon);\n",
       "}\n",
       "\n",
       "#sk-container-id-1 label.sk-toggleable__label-arrow:hover:before {\n",
       "  color: var(--sklearn-color-text);\n",
       "}\n",
       "\n",
       "/* Toggleable content - dropdown */\n",
       "\n",
       "#sk-container-id-1 div.sk-toggleable__content {\n",
       "  max-height: 0;\n",
       "  max-width: 0;\n",
       "  overflow: hidden;\n",
       "  text-align: left;\n",
       "  /* unfitted */\n",
       "  background-color: var(--sklearn-color-unfitted-level-0);\n",
       "}\n",
       "\n",
       "#sk-container-id-1 div.sk-toggleable__content.fitted {\n",
       "  /* fitted */\n",
       "  background-color: var(--sklearn-color-fitted-level-0);\n",
       "}\n",
       "\n",
       "#sk-container-id-1 div.sk-toggleable__content pre {\n",
       "  margin: 0.2em;\n",
       "  border-radius: 0.25em;\n",
       "  color: var(--sklearn-color-text);\n",
       "  /* unfitted */\n",
       "  background-color: var(--sklearn-color-unfitted-level-0);\n",
       "}\n",
       "\n",
       "#sk-container-id-1 div.sk-toggleable__content.fitted pre {\n",
       "  /* unfitted */\n",
       "  background-color: var(--sklearn-color-fitted-level-0);\n",
       "}\n",
       "\n",
       "#sk-container-id-1 input.sk-toggleable__control:checked~div.sk-toggleable__content {\n",
       "  /* Expand drop-down */\n",
       "  max-height: 200px;\n",
       "  max-width: 100%;\n",
       "  overflow: auto;\n",
       "}\n",
       "\n",
       "#sk-container-id-1 input.sk-toggleable__control:checked~label.sk-toggleable__label-arrow:before {\n",
       "  content: \"▾\";\n",
       "}\n",
       "\n",
       "/* Pipeline/ColumnTransformer-specific style */\n",
       "\n",
       "#sk-container-id-1 div.sk-label input.sk-toggleable__control:checked~label.sk-toggleable__label {\n",
       "  color: var(--sklearn-color-text);\n",
       "  background-color: var(--sklearn-color-unfitted-level-2);\n",
       "}\n",
       "\n",
       "#sk-container-id-1 div.sk-label.fitted input.sk-toggleable__control:checked~label.sk-toggleable__label {\n",
       "  background-color: var(--sklearn-color-fitted-level-2);\n",
       "}\n",
       "\n",
       "/* Estimator-specific style */\n",
       "\n",
       "/* Colorize estimator box */\n",
       "#sk-container-id-1 div.sk-estimator input.sk-toggleable__control:checked~label.sk-toggleable__label {\n",
       "  /* unfitted */\n",
       "  background-color: var(--sklearn-color-unfitted-level-2);\n",
       "}\n",
       "\n",
       "#sk-container-id-1 div.sk-estimator.fitted input.sk-toggleable__control:checked~label.sk-toggleable__label {\n",
       "  /* fitted */\n",
       "  background-color: var(--sklearn-color-fitted-level-2);\n",
       "}\n",
       "\n",
       "#sk-container-id-1 div.sk-label label.sk-toggleable__label,\n",
       "#sk-container-id-1 div.sk-label label {\n",
       "  /* The background is the default theme color */\n",
       "  color: var(--sklearn-color-text-on-default-background);\n",
       "}\n",
       "\n",
       "/* On hover, darken the color of the background */\n",
       "#sk-container-id-1 div.sk-label:hover label.sk-toggleable__label {\n",
       "  color: var(--sklearn-color-text);\n",
       "  background-color: var(--sklearn-color-unfitted-level-2);\n",
       "}\n",
       "\n",
       "/* Label box, darken color on hover, fitted */\n",
       "#sk-container-id-1 div.sk-label.fitted:hover label.sk-toggleable__label.fitted {\n",
       "  color: var(--sklearn-color-text);\n",
       "  background-color: var(--sklearn-color-fitted-level-2);\n",
       "}\n",
       "\n",
       "/* Estimator label */\n",
       "\n",
       "#sk-container-id-1 div.sk-label label {\n",
       "  font-family: monospace;\n",
       "  font-weight: bold;\n",
       "  display: inline-block;\n",
       "  line-height: 1.2em;\n",
       "}\n",
       "\n",
       "#sk-container-id-1 div.sk-label-container {\n",
       "  text-align: center;\n",
       "}\n",
       "\n",
       "/* Estimator-specific */\n",
       "#sk-container-id-1 div.sk-estimator {\n",
       "  font-family: monospace;\n",
       "  border: 1px dotted var(--sklearn-color-border-box);\n",
       "  border-radius: 0.25em;\n",
       "  box-sizing: border-box;\n",
       "  margin-bottom: 0.5em;\n",
       "  /* unfitted */\n",
       "  background-color: var(--sklearn-color-unfitted-level-0);\n",
       "}\n",
       "\n",
       "#sk-container-id-1 div.sk-estimator.fitted {\n",
       "  /* fitted */\n",
       "  background-color: var(--sklearn-color-fitted-level-0);\n",
       "}\n",
       "\n",
       "/* on hover */\n",
       "#sk-container-id-1 div.sk-estimator:hover {\n",
       "  /* unfitted */\n",
       "  background-color: var(--sklearn-color-unfitted-level-2);\n",
       "}\n",
       "\n",
       "#sk-container-id-1 div.sk-estimator.fitted:hover {\n",
       "  /* fitted */\n",
       "  background-color: var(--sklearn-color-fitted-level-2);\n",
       "}\n",
       "\n",
       "/* Specification for estimator info (e.g. \"i\" and \"?\") */\n",
       "\n",
       "/* Common style for \"i\" and \"?\" */\n",
       "\n",
       ".sk-estimator-doc-link,\n",
       "a:link.sk-estimator-doc-link,\n",
       "a:visited.sk-estimator-doc-link {\n",
       "  float: right;\n",
       "  font-size: smaller;\n",
       "  line-height: 1em;\n",
       "  font-family: monospace;\n",
       "  background-color: var(--sklearn-color-background);\n",
       "  border-radius: 1em;\n",
       "  height: 1em;\n",
       "  width: 1em;\n",
       "  text-decoration: none !important;\n",
       "  margin-left: 1ex;\n",
       "  /* unfitted */\n",
       "  border: var(--sklearn-color-unfitted-level-1) 1pt solid;\n",
       "  color: var(--sklearn-color-unfitted-level-1);\n",
       "}\n",
       "\n",
       ".sk-estimator-doc-link.fitted,\n",
       "a:link.sk-estimator-doc-link.fitted,\n",
       "a:visited.sk-estimator-doc-link.fitted {\n",
       "  /* fitted */\n",
       "  border: var(--sklearn-color-fitted-level-1) 1pt solid;\n",
       "  color: var(--sklearn-color-fitted-level-1);\n",
       "}\n",
       "\n",
       "/* On hover */\n",
       "div.sk-estimator:hover .sk-estimator-doc-link:hover,\n",
       ".sk-estimator-doc-link:hover,\n",
       "div.sk-label-container:hover .sk-estimator-doc-link:hover,\n",
       ".sk-estimator-doc-link:hover {\n",
       "  /* unfitted */\n",
       "  background-color: var(--sklearn-color-unfitted-level-3);\n",
       "  color: var(--sklearn-color-background);\n",
       "  text-decoration: none;\n",
       "}\n",
       "\n",
       "div.sk-estimator.fitted:hover .sk-estimator-doc-link.fitted:hover,\n",
       ".sk-estimator-doc-link.fitted:hover,\n",
       "div.sk-label-container:hover .sk-estimator-doc-link.fitted:hover,\n",
       ".sk-estimator-doc-link.fitted:hover {\n",
       "  /* fitted */\n",
       "  background-color: var(--sklearn-color-fitted-level-3);\n",
       "  color: var(--sklearn-color-background);\n",
       "  text-decoration: none;\n",
       "}\n",
       "\n",
       "/* Span, style for the box shown on hovering the info icon */\n",
       ".sk-estimator-doc-link span {\n",
       "  display: none;\n",
       "  z-index: 9999;\n",
       "  position: relative;\n",
       "  font-weight: normal;\n",
       "  right: .2ex;\n",
       "  padding: .5ex;\n",
       "  margin: .5ex;\n",
       "  width: min-content;\n",
       "  min-width: 20ex;\n",
       "  max-width: 50ex;\n",
       "  color: var(--sklearn-color-text);\n",
       "  box-shadow: 2pt 2pt 4pt #999;\n",
       "  /* unfitted */\n",
       "  background: var(--sklearn-color-unfitted-level-0);\n",
       "  border: .5pt solid var(--sklearn-color-unfitted-level-3);\n",
       "}\n",
       "\n",
       ".sk-estimator-doc-link.fitted span {\n",
       "  /* fitted */\n",
       "  background: var(--sklearn-color-fitted-level-0);\n",
       "  border: var(--sklearn-color-fitted-level-3);\n",
       "}\n",
       "\n",
       ".sk-estimator-doc-link:hover span {\n",
       "  display: block;\n",
       "}\n",
       "\n",
       "/* \"?\"-specific style due to the `<a>` HTML tag */\n",
       "\n",
       "#sk-container-id-1 a.estimator_doc_link {\n",
       "  float: right;\n",
       "  font-size: 1rem;\n",
       "  line-height: 1em;\n",
       "  font-family: monospace;\n",
       "  background-color: var(--sklearn-color-background);\n",
       "  border-radius: 1rem;\n",
       "  height: 1rem;\n",
       "  width: 1rem;\n",
       "  text-decoration: none;\n",
       "  /* unfitted */\n",
       "  color: var(--sklearn-color-unfitted-level-1);\n",
       "  border: var(--sklearn-color-unfitted-level-1) 1pt solid;\n",
       "}\n",
       "\n",
       "#sk-container-id-1 a.estimator_doc_link.fitted {\n",
       "  /* fitted */\n",
       "  border: var(--sklearn-color-fitted-level-1) 1pt solid;\n",
       "  color: var(--sklearn-color-fitted-level-1);\n",
       "}\n",
       "\n",
       "/* On hover */\n",
       "#sk-container-id-1 a.estimator_doc_link:hover {\n",
       "  /* unfitted */\n",
       "  background-color: var(--sklearn-color-unfitted-level-3);\n",
       "  color: var(--sklearn-color-background);\n",
       "  text-decoration: none;\n",
       "}\n",
       "\n",
       "#sk-container-id-1 a.estimator_doc_link.fitted:hover {\n",
       "  /* fitted */\n",
       "  background-color: var(--sklearn-color-fitted-level-3);\n",
       "}\n",
       "</style><div id=\"sk-container-id-1\" class=\"sk-top-container\"><div class=\"sk-text-repr-fallback\"><pre>CLTConstraint(18030.5240 &lt;= RowCount &lt;= 21755.8093, FPR = 0.1336)</pre><b>In a Jupyter environment, please rerun this cell to show the HTML representation or trust the notebook. <br />On GitHub, the HTML representation is unable to render, please try loading this page with nbviewer.org.</b></div><div class=\"sk-container\" hidden><div class=\"sk-item\"><div class=\"sk-estimator fitted sk-toggleable\"><input class=\"sk-toggleable__control sk-hidden--visually\" id=\"sk-estimator-id-1\" type=\"checkbox\" checked><label for=\"sk-estimator-id-1\" class=\"sk-toggleable__label fitted sk-toggleable__label-arrow fitted\">&nbsp;CLTConstraint<span class=\"sk-estimator-doc-link fitted\">i<span>Fitted</span></span></label><div class=\"sk-toggleable__content fitted\"><pre>CLTConstraint(18030.5240 &lt;= RowCount &lt;= 21755.8093, FPR = 0.1336)</pre></div> </div></div></div></div>"
      ],
      "text/plain": [
       "CLTConstraint(18030.5240 <= RowCount <= 21755.8093, FPR = 0.1336)"
      ]
     },
     "execution_count": 13,
     "metadata": {},
     "output_type": "execute_result"
    }
   ],
   "source": [
    "c = CLTConstraint(RowCount)\n",
    "c.fit(train_h, beta=1.5, strategy=\"std\")"
   ]
  },
  {
   "cell_type": "code",
   "execution_count": null,
   "metadata": {},
   "outputs": [
    {
     "name": "stdout",
     "output_type": "stream",
     "text": [
      "True\n",
      "True\n",
      "True\n",
      "True\n",
      "True\n",
      "True\n",
      "False\n",
      "False\n",
      "False\n",
      "False\n",
      "True\n",
      "True\n",
      "True\n",
      "True\n",
      "True\n",
      "True\n",
      "True\n",
      "True\n",
      "True\n",
      "True\n",
      "True\n",
      "True\n",
      "True\n"
     ]
    }
   ],
   "source": [
    "for bruh in perturbations:\n",
    "    print(c.predict(bruh[1]))"
   ]
  },
  {
   "cell_type": "code",
   "execution_count": null,
   "metadata": {},
   "outputs": [
    {
     "data": {
      "text/html": [
       "<div>\n",
       "<style scoped>\n",
       "    .dataframe tbody tr th:only-of-type {\n",
       "        vertical-align: middle;\n",
       "    }\n",
       "\n",
       "    .dataframe tbody tr th {\n",
       "        vertical-align: top;\n",
       "    }\n",
       "\n",
       "    .dataframe thead th {\n",
       "        text-align: right;\n",
       "    }\n",
       "</style>\n",
       "<table border=\"1\" class=\"dataframe\">\n",
       "  <thead>\n",
       "    <tr style=\"text-align: right;\">\n",
       "      <th></th>\n",
       "      <th>numeric_8</th>\n",
       "      <th>numeric_8_neighbor</th>\n",
       "    </tr>\n",
       "  </thead>\n",
       "  <tbody>\n",
       "    <tr>\n",
       "      <th>0</th>\n",
       "      <td>0.414507</td>\n",
       "      <td>8.550938</td>\n",
       "    </tr>\n",
       "    <tr>\n",
       "      <th>1</th>\n",
       "      <td>4.436840</td>\n",
       "      <td>9.319068</td>\n",
       "    </tr>\n",
       "    <tr>\n",
       "      <th>2</th>\n",
       "      <td>5.211691</td>\n",
       "      <td>10.864843</td>\n",
       "    </tr>\n",
       "    <tr>\n",
       "      <th>3</th>\n",
       "      <td>4.287375</td>\n",
       "      <td>11.542261</td>\n",
       "    </tr>\n",
       "    <tr>\n",
       "      <th>4</th>\n",
       "      <td>4.547087</td>\n",
       "      <td>8.661777</td>\n",
       "    </tr>\n",
       "    <tr>\n",
       "      <th>...</th>\n",
       "      <td>...</td>\n",
       "      <td>...</td>\n",
       "    </tr>\n",
       "    <tr>\n",
       "      <th>22213</th>\n",
       "      <td>5.650488</td>\n",
       "      <td>7.521687</td>\n",
       "    </tr>\n",
       "    <tr>\n",
       "      <th>22214</th>\n",
       "      <td>1.437375</td>\n",
       "      <td>9.912807</td>\n",
       "    </tr>\n",
       "    <tr>\n",
       "      <th>22215</th>\n",
       "      <td>0.266548</td>\n",
       "      <td>9.550843</td>\n",
       "    </tr>\n",
       "    <tr>\n",
       "      <th>22216</th>\n",
       "      <td>1.675252</td>\n",
       "      <td>8.976658</td>\n",
       "    </tr>\n",
       "    <tr>\n",
       "      <th>22217</th>\n",
       "      <td>0.920348</td>\n",
       "      <td>11.266306</td>\n",
       "    </tr>\n",
       "  </tbody>\n",
       "</table>\n",
       "<p>22218 rows × 2 columns</p>\n",
       "</div>"
      ],
      "text/plain": [
       "       numeric_8  numeric_8_neighbor\n",
       "0       0.414507            8.550938\n",
       "1       4.436840            9.319068\n",
       "2       5.211691           10.864843\n",
       "3       4.287375           11.542261\n",
       "4       4.547087            8.661777\n",
       "...          ...                 ...\n",
       "22213   5.650488            7.521687\n",
       "22214   1.437375            9.912807\n",
       "22215   0.266548            9.550843\n",
       "22216   1.675252            8.976658\n",
       "22217   0.920348           11.266306\n",
       "\n",
       "[22218 rows x 2 columns]"
      ]
     },
     "execution_count": 18,
     "metadata": {},
     "output_type": "execute_result"
    }
   ],
   "source": [
    "history[29]"
   ]
  },
  {
   "cell_type": "code",
   "execution_count": null,
   "metadata": {},
   "outputs": [
    {
     "name": "stdout",
     "output_type": "stream",
     "text": [
      "ChebyshevConstraint(17409.6431 <= RowCount <= 22376.6902, FPR = 0.2500) 4\n",
      "ChebyshevConstraint(16167.8814 <= RowCount <= 23618.4520, FPR = 0.1111) 4\n",
      "ChebyshevConstraint(14926.1196 <= RowCount <= 24860.2137, FPR = 0.0625) 4\n",
      "ChebyshevConstraint(13684.3579 <= RowCount <= 26101.9755, FPR = 0.0400) 4\n",
      "ChebyshevConstraint(12442.5961 <= RowCount <= 27343.7372, FPR = 0.0278) 4\n",
      "ChebyshevConstraint(11200.8343 <= RowCount <= 28585.4990, FPR = 0.0204) 4\n",
      "ChebyshevConstraint(9959.0726 <= RowCount <= 29827.2608, FPR = 0.0156) 3\n",
      "ChebyshevConstraint(8717.3108 <= RowCount <= 31069.0225, FPR = 0.0123) 3\n",
      "ChebyshevConstraint(7475.5491 <= RowCount <= 32310.7843, FPR = 0.0100) 3\n",
      "ChebyshevConstraint(6233.7873 <= RowCount <= 33552.5460, FPR = 0.0083) 3\n",
      "ChebyshevConstraint(4992.0255 <= RowCount <= 34794.3078, FPR = 0.0069) 3\n",
      "ChebyshevConstraint(3750.2638 <= RowCount <= 36036.0696, FPR = 0.0059) 3\n",
      "ChebyshevConstraint(2508.5020 <= RowCount <= 37277.8313, FPR = 0.0051) 3\n",
      "ChebyshevConstraint(1266.7402 <= RowCount <= 38519.5931, FPR = 0.0044) 2\n",
      "ChebyshevConstraint(24.9785 <= RowCount <= 39761.3549, FPR = 0.0039) 2\n",
      "ChebyshevConstraint(-1216.7833 <= RowCount <= 41003.1166, FPR = 0.0035) 2\n",
      "ChebyshevConstraint(-2458.5450 <= RowCount <= 42244.8784, FPR = 0.0031) 2\n",
      "ChebyshevConstraint(-3700.3068 <= RowCount <= 43486.6401, FPR = 0.0028) 2\n",
      "ChebyshevConstraint(-4942.0686 <= RowCount <= 44728.4019, FPR = 0.0025) 1\n",
      "ChebyshevConstraint(-6183.8303 <= RowCount <= 45970.1637, FPR = 0.0023) 1\n",
      "ChebyshevConstraint(-7425.5921 <= RowCount <= 47211.9254, FPR = 0.0021) 1\n",
      "ChebyshevConstraint(-8667.3538 <= RowCount <= 48453.6872, FPR = 0.0019) 1\n",
      "ChebyshevConstraint(-9909.1156 <= RowCount <= 49695.4489, FPR = 0.0017) 1\n",
      "ChebyshevConstraint(-11150.8774 <= RowCount <= 50937.2107, FPR = 0.0016) 1\n",
      "ChebyshevConstraint(-12392.6391 <= RowCount <= 52178.9725, FPR = 0.0015) 1\n",
      "ChebyshevConstraint(-13634.4009 <= RowCount <= 53420.7342, FPR = 0.0014) 1\n",
      "ChebyshevConstraint(-14876.1627 <= RowCount <= 54662.4960, FPR = 0.0013) 1\n",
      "ChebyshevConstraint(-16117.9244 <= RowCount <= 55904.2577, FPR = 0.0012) 1\n",
      "ChebyshevConstraint(-17359.6862 <= RowCount <= 57146.0195, FPR = 0.0011) 1\n",
      "ChebyshevConstraint(-18601.4479 <= RowCount <= 58387.7813, FPR = 0.0010) 1\n",
      "ChebyshevConstraint(-19843.2097 <= RowCount <= 59629.5430, FPR = 0.0010) 1\n",
      "ChebyshevConstraint(-21084.9715 <= RowCount <= 60871.3048, FPR = 0.0009) 1\n",
      "ChebyshevConstraint(-22326.7332 <= RowCount <= 62113.0666, FPR = 0.0009) 1\n",
      "ChebyshevConstraint(-23568.4950 <= RowCount <= 63354.8283, FPR = 0.0008) 1\n",
      "ChebyshevConstraint(-24810.2567 <= RowCount <= 64596.5901, FPR = 0.0008) 1\n",
      "ChebyshevConstraint(-26052.0185 <= RowCount <= 65838.3518, FPR = 0.0007) 1\n",
      "ChebyshevConstraint(-27293.7803 <= RowCount <= 67080.1136, FPR = 0.0007) 1\n",
      "ChebyshevConstraint(-28535.5420 <= RowCount <= 68321.8754, FPR = 0.0007) 1\n",
      "ChebyshevConstraint(-29777.3038 <= RowCount <= 69563.6371, FPR = 0.0006) 1\n",
      "ChebyshevConstraint(-31019.0656 <= RowCount <= 70805.3989, FPR = 0.0006) 1\n",
      "ChebyshevConstraint(-32260.8273 <= RowCount <= 72047.1606, FPR = 0.0006) 1\n",
      "ChebyshevConstraint(-33502.5891 <= RowCount <= 73288.9224, FPR = 0.0005) 1\n",
      "ChebyshevConstraint(-34744.3508 <= RowCount <= 74530.6842, FPR = 0.0005) 1\n",
      "ChebyshevConstraint(-35986.1126 <= RowCount <= 75772.4459, FPR = 0.0005) 1\n",
      "ChebyshevConstraint(-37227.8744 <= RowCount <= 77014.2077, FPR = 0.0005) 1\n",
      "ChebyshevConstraint(-38469.6361 <= RowCount <= 78255.9695, FPR = 0.0005) 1\n",
      "ChebyshevConstraint(-39711.3979 <= RowCount <= 79497.7312, FPR = 0.0004) 1\n",
      "ChebyshevConstraint(-40953.1596 <= RowCount <= 80739.4930, FPR = 0.0004) 1\n",
      "CLTConstraint(18651.4049 <= RowCount <= 21134.9284, FPR = 0.3173) 23\n",
      "CLTConstraint(18030.5240 <= RowCount <= 21755.8093, FPR = 0.1336) 23\n",
      "CLTConstraint(17409.6431 <= RowCount <= 22376.6902, FPR = 0.0455) 4\n",
      "CLTConstraint(16788.7623 <= RowCount <= 22997.5711, FPR = 0.0124) 4\n",
      "CLTConstraint(16167.8814 <= RowCount <= 23618.4520, FPR = 0.0027) 4\n",
      "CLTConstraint(15547.0005 <= RowCount <= 24239.3328, FPR = 0.0005) 4\n",
      "CLTConstraint(14926.1196 <= RowCount <= 24860.2137, FPR = 0.0001) 4\n",
      "CLTConstraint(14305.2387 <= RowCount <= 25481.0946, FPR = 0.0000) 4\n",
      "ChebyshevConstraint(0.9993 <= DistinctRatio <= 0.9999, FPR = 0.2500) 17\n",
      "ChebyshevConstraint(0.9992 <= DistinctRatio <= 1.0000, FPR = 0.1111) 10\n",
      "ChebyshevConstraint(0.9990 <= DistinctRatio <= 1.0002, FPR = 0.0625) 10\n",
      "ChebyshevConstraint(0.9989 <= DistinctRatio <= 1.0003, FPR = 0.0400) 10\n",
      "ChebyshevConstraint(0.9988 <= DistinctRatio <= 1.0005, FPR = 0.0278) 10\n",
      "ChebyshevConstraint(0.9986 <= DistinctRatio <= 1.0006, FPR = 0.0204) 10\n",
      "ChebyshevConstraint(0.9985 <= DistinctRatio <= 1.0008, FPR = 0.0156) 10\n",
      "ChebyshevConstraint(0.9983 <= DistinctRatio <= 1.0009, FPR = 0.0123) 10\n",
      "ChebyshevConstraint(0.9982 <= DistinctRatio <= 1.0010, FPR = 0.0100) 9\n",
      "ChebyshevConstraint(0.9980 <= DistinctRatio <= 1.0012, FPR = 0.0083) 9\n",
      "ChebyshevConstraint(0.9979 <= DistinctRatio <= 1.0013, FPR = 0.0069) 9\n",
      "ChebyshevConstraint(0.9978 <= DistinctRatio <= 1.0015, FPR = 0.0059) 9\n",
      "ChebyshevConstraint(0.9976 <= DistinctRatio <= 1.0016, FPR = 0.0051) 9\n",
      "ChebyshevConstraint(0.9975 <= DistinctRatio <= 1.0018, FPR = 0.0044) 9\n",
      "ChebyshevConstraint(0.9973 <= DistinctRatio <= 1.0019, FPR = 0.0039) 9\n",
      "ChebyshevConstraint(0.9972 <= DistinctRatio <= 1.0020, FPR = 0.0035) 9\n",
      "ChebyshevConstraint(0.9970 <= DistinctRatio <= 1.0022, FPR = 0.0031) 9\n",
      "ChebyshevConstraint(0.9969 <= DistinctRatio <= 1.0023, FPR = 0.0028) 9\n",
      "ChebyshevConstraint(0.9968 <= DistinctRatio <= 1.0025, FPR = 0.0025) 9\n",
      "ChebyshevConstraint(0.9966 <= DistinctRatio <= 1.0026, FPR = 0.0023) 9\n",
      "ChebyshevConstraint(0.9965 <= DistinctRatio <= 1.0028, FPR = 0.0021) 9\n",
      "ChebyshevConstraint(0.9963 <= DistinctRatio <= 1.0029, FPR = 0.0019) 9\n",
      "ChebyshevConstraint(0.9962 <= DistinctRatio <= 1.0030, FPR = 0.0017) 9\n",
      "ChebyshevConstraint(0.9960 <= DistinctRatio <= 1.0032, FPR = 0.0016) 9\n",
      "ChebyshevConstraint(0.9959 <= DistinctRatio <= 1.0033, FPR = 0.0015) 9\n",
      "ChebyshevConstraint(0.9957 <= DistinctRatio <= 1.0035, FPR = 0.0014) 9\n",
      "ChebyshevConstraint(0.9956 <= DistinctRatio <= 1.0036, FPR = 0.0013) 9\n",
      "ChebyshevConstraint(0.9955 <= DistinctRatio <= 1.0038, FPR = 0.0012) 9\n",
      "ChebyshevConstraint(0.9953 <= DistinctRatio <= 1.0039, FPR = 0.0011) 9\n",
      "ChebyshevConstraint(0.9952 <= DistinctRatio <= 1.0040, FPR = 0.0010) 9\n",
      "ChebyshevConstraint(0.9950 <= DistinctRatio <= 1.0042, FPR = 0.0010) 9\n",
      "ChebyshevConstraint(0.9949 <= DistinctRatio <= 1.0043, FPR = 0.0009) 9\n",
      "ChebyshevConstraint(0.9947 <= DistinctRatio <= 1.0045, FPR = 0.0009) 9\n",
      "ChebyshevConstraint(0.9946 <= DistinctRatio <= 1.0046, FPR = 0.0008) 9\n",
      "ChebyshevConstraint(0.9945 <= DistinctRatio <= 1.0048, FPR = 0.0008) 9\n",
      "ChebyshevConstraint(0.9943 <= DistinctRatio <= 1.0049, FPR = 0.0007) 9\n",
      "ChebyshevConstraint(0.9942 <= DistinctRatio <= 1.0051, FPR = 0.0007) 9\n",
      "ChebyshevConstraint(0.9940 <= DistinctRatio <= 1.0052, FPR = 0.0007) 9\n",
      "ChebyshevConstraint(0.9939 <= DistinctRatio <= 1.0053, FPR = 0.0006) 9\n",
      "ChebyshevConstraint(0.9937 <= DistinctRatio <= 1.0055, FPR = 0.0006) 9\n",
      "ChebyshevConstraint(0.9936 <= DistinctRatio <= 1.0056, FPR = 0.0006) 9\n",
      "ChebyshevConstraint(0.9935 <= DistinctRatio <= 1.0058, FPR = 0.0005) 9\n",
      "ChebyshevConstraint(0.9933 <= DistinctRatio <= 1.0059, FPR = 0.0005) 9\n",
      "ChebyshevConstraint(0.9932 <= DistinctRatio <= 1.0061, FPR = 0.0005) 9\n",
      "ChebyshevConstraint(0.9930 <= DistinctRatio <= 1.0062, FPR = 0.0005) 9\n",
      "ChebyshevConstraint(0.9929 <= DistinctRatio <= 1.0063, FPR = 0.0005) 9\n",
      "ChebyshevConstraint(0.9927 <= DistinctRatio <= 1.0065, FPR = 0.0004) 9\n",
      "ChebyshevConstraint(0.9926 <= DistinctRatio <= 1.0066, FPR = 0.0004) 9\n",
      "ChebyshevConstraint(1.0000 <= CompleteRatio <= 1.0000, FPR = 0.0000) 3\n",
      "ChebyshevConstraint(1.0000 <= CompleteRatio <= 1.0000, FPR = 0.0000) 3\n",
      "ChebyshevConstraint(1.0000 <= CompleteRatio <= 1.0000, FPR = 0.0000) 3\n",
      "ChebyshevConstraint(1.0000 <= CompleteRatio <= 1.0000, FPR = 0.0000) 3\n",
      "ChebyshevConstraint(1.0000 <= CompleteRatio <= 1.0000, FPR = 0.0000) 3\n",
      "ChebyshevConstraint(1.0000 <= CompleteRatio <= 1.0000, FPR = 0.0000) 3\n",
      "ChebyshevConstraint(1.0000 <= CompleteRatio <= 1.0000, FPR = 0.0000) 3\n",
      "ChebyshevConstraint(1.0000 <= CompleteRatio <= 1.0000, FPR = 0.0000) 3\n",
      "ChebyshevConstraint(1.0000 <= CompleteRatio <= 1.0000, FPR = 0.0000) 3\n",
      "ChebyshevConstraint(1.0000 <= CompleteRatio <= 1.0000, FPR = 0.0000) 3\n",
      "ChebyshevConstraint(1.0000 <= CompleteRatio <= 1.0000, FPR = 0.0000) 3\n",
      "ChebyshevConstraint(1.0000 <= CompleteRatio <= 1.0000, FPR = 0.0000) 3\n",
      "ChebyshevConstraint(1.0000 <= CompleteRatio <= 1.0000, FPR = 0.0000) 3\n",
      "ChebyshevConstraint(1.0000 <= CompleteRatio <= 1.0000, FPR = 0.0000) 3\n",
      "ChebyshevConstraint(1.0000 <= CompleteRatio <= 1.0000, FPR = 0.0000) 3\n",
      "ChebyshevConstraint(1.0000 <= CompleteRatio <= 1.0000, FPR = 0.0000) 3\n",
      "ChebyshevConstraint(1.0000 <= CompleteRatio <= 1.0000, FPR = 0.0000) 3\n",
      "ChebyshevConstraint(1.0000 <= CompleteRatio <= 1.0000, FPR = 0.0000) 3\n",
      "ChebyshevConstraint(1.0000 <= CompleteRatio <= 1.0000, FPR = 0.0000) 3\n",
      "ChebyshevConstraint(1.0000 <= CompleteRatio <= 1.0000, FPR = 0.0000) 3\n",
      "ChebyshevConstraint(1.0000 <= CompleteRatio <= 1.0000, FPR = 0.0000) 3\n",
      "ChebyshevConstraint(1.0000 <= CompleteRatio <= 1.0000, FPR = 0.0000) 3\n",
      "ChebyshevConstraint(1.0000 <= CompleteRatio <= 1.0000, FPR = 0.0000) 3\n",
      "ChebyshevConstraint(1.0000 <= CompleteRatio <= 1.0000, FPR = 0.0000) 3\n",
      "ChebyshevConstraint(1.0000 <= CompleteRatio <= 1.0000, FPR = 0.0000) 3\n",
      "ChebyshevConstraint(1.0000 <= CompleteRatio <= 1.0000, FPR = 0.0000) 3\n",
      "ChebyshevConstraint(1.0000 <= CompleteRatio <= 1.0000, FPR = 0.0000) 3\n",
      "ChebyshevConstraint(1.0000 <= CompleteRatio <= 1.0000, FPR = 0.0000) 3\n",
      "ChebyshevConstraint(1.0000 <= CompleteRatio <= 1.0000, FPR = 0.0000) 3\n",
      "ChebyshevConstraint(1.0000 <= CompleteRatio <= 1.0000, FPR = 0.0000) 3\n",
      "ChebyshevConstraint(1.0000 <= CompleteRatio <= 1.0000, FPR = 0.0000) 3\n",
      "ChebyshevConstraint(1.0000 <= CompleteRatio <= 1.0000, FPR = 0.0000) 3\n",
      "ChebyshevConstraint(1.0000 <= CompleteRatio <= 1.0000, FPR = 0.0000) 3\n",
      "ChebyshevConstraint(1.0000 <= CompleteRatio <= 1.0000, FPR = 0.0000) 3\n",
      "ChebyshevConstraint(1.0000 <= CompleteRatio <= 1.0000, FPR = 0.0000) 3\n",
      "ChebyshevConstraint(1.0000 <= CompleteRatio <= 1.0000, FPR = 0.0000) 3\n",
      "ChebyshevConstraint(1.0000 <= CompleteRatio <= 1.0000, FPR = 0.0000) 3\n",
      "ChebyshevConstraint(1.0000 <= CompleteRatio <= 1.0000, FPR = 0.0000) 3\n",
      "ChebyshevConstraint(1.0000 <= CompleteRatio <= 1.0000, FPR = 0.0000) 3\n",
      "ChebyshevConstraint(1.0000 <= CompleteRatio <= 1.0000, FPR = 0.0000) 3\n",
      "ChebyshevConstraint(1.0000 <= CompleteRatio <= 1.0000, FPR = 0.0000) 3\n",
      "ChebyshevConstraint(1.0000 <= CompleteRatio <= 1.0000, FPR = 0.0000) 3\n",
      "ChebyshevConstraint(1.0000 <= CompleteRatio <= 1.0000, FPR = 0.0000) 3\n",
      "ChebyshevConstraint(1.0000 <= CompleteRatio <= 1.0000, FPR = 0.0000) 3\n",
      "ChebyshevConstraint(1.0000 <= CompleteRatio <= 1.0000, FPR = 0.0000) 3\n",
      "ChebyshevConstraint(1.0000 <= CompleteRatio <= 1.0000, FPR = 0.0000) 3\n",
      "ChebyshevConstraint(1.0000 <= CompleteRatio <= 1.0000, FPR = 0.0000) 3\n",
      "ChebyshevConstraint(1.0000 <= CompleteRatio <= 1.0000, FPR = 0.0000) 3\n",
      "CLTConstraint(1.0000 <= CompleteRatio <= 1.0000, FPR = 0.0000) 3\n",
      "CLTConstraint(1.0000 <= CompleteRatio <= 1.0000, FPR = 0.0000) 3\n",
      "CLTConstraint(1.0000 <= CompleteRatio <= 1.0000, FPR = 0.0000) 3\n",
      "CLTConstraint(1.0000 <= CompleteRatio <= 1.0000, FPR = 0.0000) 3\n",
      "CLTConstraint(1.0000 <= CompleteRatio <= 1.0000, FPR = 0.0000) 3\n",
      "CLTConstraint(1.0000 <= CompleteRatio <= 1.0000, FPR = 0.0000) 3\n",
      "CLTConstraint(1.0000 <= CompleteRatio <= 1.0000, FPR = 0.0000) 3\n",
      "CLTConstraint(1.0000 <= CompleteRatio <= 1.0000, FPR = 0.0000) 3\n",
      "ChebyshevConstraint(0.1479 <= Min <= 0.1490, FPR = 0.2500) 11\n",
      "ChebyshevConstraint(0.1476 <= Min <= 0.1493, FPR = 0.1111) 11\n",
      "ChebyshevConstraint(0.1473 <= Min <= 0.1496, FPR = 0.0625) 11\n",
      "ChebyshevConstraint(0.1471 <= Min <= 0.1499, FPR = 0.0400) 11\n",
      "ChebyshevConstraint(0.1468 <= Min <= 0.1501, FPR = 0.0278) 11\n",
      "ChebyshevConstraint(0.1465 <= Min <= 0.1504, FPR = 0.0204) 11\n",
      "ChebyshevConstraint(0.1462 <= Min <= 0.1507, FPR = 0.0156) 11\n",
      "ChebyshevConstraint(0.1459 <= Min <= 0.1510, FPR = 0.0123) 11\n",
      "ChebyshevConstraint(0.1457 <= Min <= 0.1513, FPR = 0.0100) 11\n",
      "ChebyshevConstraint(0.1454 <= Min <= 0.1515, FPR = 0.0083) 11\n",
      "ChebyshevConstraint(0.1451 <= Min <= 0.1518, FPR = 0.0069) 11\n",
      "ChebyshevConstraint(0.1448 <= Min <= 0.1521, FPR = 0.0059) 11\n",
      "ChebyshevConstraint(0.1445 <= Min <= 0.1524, FPR = 0.0051) 11\n",
      "ChebyshevConstraint(0.1443 <= Min <= 0.1527, FPR = 0.0044) 11\n",
      "ChebyshevConstraint(0.1440 <= Min <= 0.1530, FPR = 0.0039) 11\n",
      "ChebyshevConstraint(0.1437 <= Min <= 0.1532, FPR = 0.0035) 11\n",
      "ChebyshevConstraint(0.1434 <= Min <= 0.1535, FPR = 0.0031) 11\n",
      "ChebyshevConstraint(0.1431 <= Min <= 0.1538, FPR = 0.0028) 11\n",
      "ChebyshevConstraint(0.1429 <= Min <= 0.1541, FPR = 0.0025) 11\n",
      "ChebyshevConstraint(0.1426 <= Min <= 0.1544, FPR = 0.0023) 10\n",
      "ChebyshevConstraint(0.1423 <= Min <= 0.1546, FPR = 0.0021) 10\n",
      "ChebyshevConstraint(0.1420 <= Min <= 0.1549, FPR = 0.0019) 10\n",
      "ChebyshevConstraint(0.1417 <= Min <= 0.1552, FPR = 0.0017) 10\n",
      "ChebyshevConstraint(0.1415 <= Min <= 0.1555, FPR = 0.0016) 10\n",
      "ChebyshevConstraint(0.1412 <= Min <= 0.1558, FPR = 0.0015) 10\n",
      "ChebyshevConstraint(0.1409 <= Min <= 0.1560, FPR = 0.0014) 10\n",
      "ChebyshevConstraint(0.1406 <= Min <= 0.1563, FPR = 0.0013) 10\n",
      "ChebyshevConstraint(0.1403 <= Min <= 0.1566, FPR = 0.0012) 10\n",
      "ChebyshevConstraint(0.1401 <= Min <= 0.1569, FPR = 0.0011) 10\n",
      "ChebyshevConstraint(0.1398 <= Min <= 0.1572, FPR = 0.0010) 10\n",
      "ChebyshevConstraint(0.1395 <= Min <= 0.1574, FPR = 0.0010) 10\n",
      "ChebyshevConstraint(0.1392 <= Min <= 0.1577, FPR = 0.0009) 10\n",
      "ChebyshevConstraint(0.1389 <= Min <= 0.1580, FPR = 0.0009) 10\n",
      "ChebyshevConstraint(0.1386 <= Min <= 0.1583, FPR = 0.0008) 10\n",
      "ChebyshevConstraint(0.1384 <= Min <= 0.1586, FPR = 0.0008) 10\n",
      "ChebyshevConstraint(0.1381 <= Min <= 0.1588, FPR = 0.0007) 10\n",
      "ChebyshevConstraint(0.1378 <= Min <= 0.1591, FPR = 0.0007) 10\n",
      "ChebyshevConstraint(0.1375 <= Min <= 0.1594, FPR = 0.0007) 10\n",
      "ChebyshevConstraint(0.1372 <= Min <= 0.1597, FPR = 0.0006) 10\n",
      "ChebyshevConstraint(0.1370 <= Min <= 0.1600, FPR = 0.0006) 10\n",
      "ChebyshevConstraint(0.1367 <= Min <= 0.1602, FPR = 0.0006) 10\n",
      "ChebyshevConstraint(0.1364 <= Min <= 0.1605, FPR = 0.0005) 10\n",
      "ChebyshevConstraint(0.1361 <= Min <= 0.1608, FPR = 0.0005) 10\n",
      "ChebyshevConstraint(0.1358 <= Min <= 0.1611, FPR = 0.0005) 10\n",
      "ChebyshevConstraint(0.1356 <= Min <= 0.1614, FPR = 0.0005) 10\n",
      "ChebyshevConstraint(0.1353 <= Min <= 0.1616, FPR = 0.0005) 10\n",
      "ChebyshevConstraint(0.1350 <= Min <= 0.1619, FPR = 0.0004) 10\n",
      "ChebyshevConstraint(0.1347 <= Min <= 0.1622, FPR = 0.0004) 10\n",
      "ChebyshevConstraint(6.1920 <= Max <= 6.1989, FPR = 0.2500) 15\n",
      "ChebyshevConstraint(6.1903 <= Max <= 6.2006, FPR = 0.1111) 15\n",
      "ChebyshevConstraint(6.1886 <= Max <= 6.2023, FPR = 0.0625) 15\n",
      "ChebyshevConstraint(6.1868 <= Max <= 6.2040, FPR = 0.0400) 15\n",
      "ChebyshevConstraint(6.1851 <= Max <= 6.2057, FPR = 0.0278) 15\n",
      "ChebyshevConstraint(6.1834 <= Max <= 6.2074, FPR = 0.0204) 15\n",
      "ChebyshevConstraint(6.1817 <= Max <= 6.2092, FPR = 0.0156) 15\n",
      "ChebyshevConstraint(6.1800 <= Max <= 6.2109, FPR = 0.0123) 15\n",
      "ChebyshevConstraint(6.1783 <= Max <= 6.2126, FPR = 0.0100) 15\n",
      "ChebyshevConstraint(6.1766 <= Max <= 6.2143, FPR = 0.0083) 15\n",
      "ChebyshevConstraint(6.1748 <= Max <= 6.2160, FPR = 0.0069) 15\n",
      "ChebyshevConstraint(6.1731 <= Max <= 6.2177, FPR = 0.0059) 15\n",
      "ChebyshevConstraint(6.1714 <= Max <= 6.2195, FPR = 0.0051) 15\n",
      "ChebyshevConstraint(6.1697 <= Max <= 6.2212, FPR = 0.0044) 15\n",
      "ChebyshevConstraint(6.1680 <= Max <= 6.2229, FPR = 0.0039) 15\n",
      "ChebyshevConstraint(6.1663 <= Max <= 6.2246, FPR = 0.0035) 15\n",
      "ChebyshevConstraint(6.1645 <= Max <= 6.2263, FPR = 0.0031) 15\n",
      "ChebyshevConstraint(6.1628 <= Max <= 6.2280, FPR = 0.0028) 15\n",
      "ChebyshevConstraint(6.1611 <= Max <= 6.2297, FPR = 0.0025) 15\n",
      "ChebyshevConstraint(6.1594 <= Max <= 6.2315, FPR = 0.0023) 15\n",
      "ChebyshevConstraint(6.1577 <= Max <= 6.2332, FPR = 0.0021) 15\n",
      "ChebyshevConstraint(6.1560 <= Max <= 6.2349, FPR = 0.0019) 15\n",
      "ChebyshevConstraint(6.1542 <= Max <= 6.2366, FPR = 0.0017) 15\n",
      "ChebyshevConstraint(6.1525 <= Max <= 6.2383, FPR = 0.0016) 15\n",
      "ChebyshevConstraint(6.1508 <= Max <= 6.2400, FPR = 0.0015) 15\n",
      "ChebyshevConstraint(6.1491 <= Max <= 6.2418, FPR = 0.0014) 15\n",
      "ChebyshevConstraint(6.1474 <= Max <= 6.2435, FPR = 0.0013) 15\n",
      "ChebyshevConstraint(6.1457 <= Max <= 6.2452, FPR = 0.0012) 15\n",
      "ChebyshevConstraint(6.1439 <= Max <= 6.2469, FPR = 0.0011) 15\n",
      "ChebyshevConstraint(6.1422 <= Max <= 6.2486, FPR = 0.0010) 15\n",
      "ChebyshevConstraint(6.1405 <= Max <= 6.2503, FPR = 0.0010) 15\n",
      "ChebyshevConstraint(6.1388 <= Max <= 6.2521, FPR = 0.0009) 15\n",
      "ChebyshevConstraint(6.1371 <= Max <= 6.2538, FPR = 0.0009) 15\n",
      "ChebyshevConstraint(6.1354 <= Max <= 6.2555, FPR = 0.0008) 15\n",
      "ChebyshevConstraint(6.1336 <= Max <= 6.2572, FPR = 0.0008) 15\n",
      "ChebyshevConstraint(6.1319 <= Max <= 6.2589, FPR = 0.0007) 15\n",
      "ChebyshevConstraint(6.1302 <= Max <= 6.2606, FPR = 0.0007) 15\n",
      "ChebyshevConstraint(6.1285 <= Max <= 6.2624, FPR = 0.0007) 15\n",
      "ChebyshevConstraint(6.1268 <= Max <= 6.2641, FPR = 0.0006) 15\n",
      "ChebyshevConstraint(6.1251 <= Max <= 6.2658, FPR = 0.0006) 15\n",
      "ChebyshevConstraint(6.1234 <= Max <= 6.2675, FPR = 0.0006) 15\n",
      "ChebyshevConstraint(6.1216 <= Max <= 6.2692, FPR = 0.0005) 15\n",
      "ChebyshevConstraint(6.1199 <= Max <= 6.2709, FPR = 0.0005) 15\n",
      "ChebyshevConstraint(6.1182 <= Max <= 6.2726, FPR = 0.0005) 15\n",
      "ChebyshevConstraint(6.1165 <= Max <= 6.2744, FPR = 0.0005) 15\n",
      "ChebyshevConstraint(6.1148 <= Max <= 6.2761, FPR = 0.0005) 15\n",
      "ChebyshevConstraint(6.1131 <= Max <= 6.2778, FPR = 0.0004) 15\n",
      "ChebyshevConstraint(6.1113 <= Max <= 6.2795, FPR = 0.0004) 15\n",
      "ChebyshevConstraint(2.7482 <= Mean <= 2.7882, FPR = 0.2500) 17\n",
      "ChebyshevConstraint(2.7382 <= Mean <= 2.7982, FPR = 0.1111) 17\n",
      "ChebyshevConstraint(2.7282 <= Mean <= 2.8082, FPR = 0.0625) 16\n",
      "ChebyshevConstraint(2.7182 <= Mean <= 2.8182, FPR = 0.0400) 16\n",
      "ChebyshevConstraint(2.7082 <= Mean <= 2.8282, FPR = 0.0278) 16\n",
      "ChebyshevConstraint(2.6982 <= Mean <= 2.8382, FPR = 0.0204) 16\n",
      "ChebyshevConstraint(2.6882 <= Mean <= 2.8482, FPR = 0.0156) 16\n",
      "ChebyshevConstraint(2.6782 <= Mean <= 2.8582, FPR = 0.0123) 16\n",
      "ChebyshevConstraint(2.6682 <= Mean <= 2.8682, FPR = 0.0100) 16\n",
      "ChebyshevConstraint(2.6582 <= Mean <= 2.8782, FPR = 0.0083) 16\n",
      "ChebyshevConstraint(2.6482 <= Mean <= 2.8882, FPR = 0.0069) 16\n",
      "ChebyshevConstraint(2.6382 <= Mean <= 2.8982, FPR = 0.0059) 16\n",
      "ChebyshevConstraint(2.6282 <= Mean <= 2.9082, FPR = 0.0051) 16\n",
      "ChebyshevConstraint(2.6182 <= Mean <= 2.9182, FPR = 0.0044) 16\n",
      "ChebyshevConstraint(2.6082 <= Mean <= 2.9282, FPR = 0.0039) 16\n",
      "ChebyshevConstraint(2.5982 <= Mean <= 2.9382, FPR = 0.0035) 16\n",
      "ChebyshevConstraint(2.5882 <= Mean <= 2.9482, FPR = 0.0031) 16\n",
      "ChebyshevConstraint(2.5782 <= Mean <= 2.9582, FPR = 0.0028) 16\n",
      "ChebyshevConstraint(2.5682 <= Mean <= 2.9681, FPR = 0.0025) 16\n",
      "ChebyshevConstraint(2.5582 <= Mean <= 2.9781, FPR = 0.0023) 16\n",
      "ChebyshevConstraint(2.5482 <= Mean <= 2.9881, FPR = 0.0021) 16\n",
      "ChebyshevConstraint(2.5382 <= Mean <= 2.9981, FPR = 0.0019) 16\n",
      "ChebyshevConstraint(2.5282 <= Mean <= 3.0081, FPR = 0.0017) 16\n",
      "ChebyshevConstraint(2.5182 <= Mean <= 3.0181, FPR = 0.0016) 16\n",
      "ChebyshevConstraint(2.5082 <= Mean <= 3.0281, FPR = 0.0015) 16\n",
      "ChebyshevConstraint(2.4982 <= Mean <= 3.0381, FPR = 0.0014) 16\n",
      "ChebyshevConstraint(2.4882 <= Mean <= 3.0481, FPR = 0.0013) 16\n",
      "ChebyshevConstraint(2.4782 <= Mean <= 3.0581, FPR = 0.0012) 16\n",
      "ChebyshevConstraint(2.4682 <= Mean <= 3.0681, FPR = 0.0011) 16\n",
      "ChebyshevConstraint(2.4582 <= Mean <= 3.0781, FPR = 0.0010) 16\n",
      "ChebyshevConstraint(2.4482 <= Mean <= 3.0881, FPR = 0.0010) 16\n",
      "ChebyshevConstraint(2.4382 <= Mean <= 3.0981, FPR = 0.0009) 16\n",
      "ChebyshevConstraint(2.4282 <= Mean <= 3.1081, FPR = 0.0009) 16\n",
      "ChebyshevConstraint(2.4182 <= Mean <= 3.1181, FPR = 0.0008) 16\n",
      "ChebyshevConstraint(2.4082 <= Mean <= 3.1281, FPR = 0.0008) 16\n",
      "ChebyshevConstraint(2.3983 <= Mean <= 3.1381, FPR = 0.0007) 16\n",
      "ChebyshevConstraint(2.3883 <= Mean <= 3.1481, FPR = 0.0007) 16\n",
      "ChebyshevConstraint(2.3783 <= Mean <= 3.1581, FPR = 0.0007) 16\n",
      "ChebyshevConstraint(2.3683 <= Mean <= 3.1681, FPR = 0.0006) 16\n",
      "ChebyshevConstraint(2.3583 <= Mean <= 3.1781, FPR = 0.0006) 16\n",
      "ChebyshevConstraint(2.3483 <= Mean <= 3.1881, FPR = 0.0006) 16\n",
      "ChebyshevConstraint(2.3383 <= Mean <= 3.1981, FPR = 0.0005) 16\n",
      "ChebyshevConstraint(2.3283 <= Mean <= 3.2081, FPR = 0.0005) 16\n",
      "ChebyshevConstraint(2.3183 <= Mean <= 3.2181, FPR = 0.0005) 16\n",
      "ChebyshevConstraint(2.3083 <= Mean <= 3.2281, FPR = 0.0005) 16\n",
      "ChebyshevConstraint(2.2983 <= Mean <= 3.2381, FPR = 0.0005) 16\n",
      "ChebyshevConstraint(2.2883 <= Mean <= 3.2481, FPR = 0.0004) 16\n",
      "ChebyshevConstraint(2.2783 <= Mean <= 3.2581, FPR = 0.0004) 16\n",
      "CLTConstraint(2.7582 <= Mean <= 2.7782, FPR = 0.3173) 21\n",
      "CLTConstraint(2.7532 <= Mean <= 2.7832, FPR = 0.1336) 18\n",
      "CLTConstraint(2.7482 <= Mean <= 2.7882, FPR = 0.0455) 17\n",
      "CLTConstraint(2.7432 <= Mean <= 2.7932, FPR = 0.0124) 17\n",
      "CLTConstraint(2.7382 <= Mean <= 2.7982, FPR = 0.0027) 17\n",
      "CLTConstraint(2.7332 <= Mean <= 2.8032, FPR = 0.0005) 17\n",
      "CLTConstraint(2.7282 <= Mean <= 2.8082, FPR = 0.0001) 16\n",
      "CLTConstraint(2.7232 <= Mean <= 2.8132, FPR = 0.0000) 16\n",
      "ChebyshevConstraint(2.5941 <= Median <= 2.6660, FPR = 0.2500) 17\n",
      "ChebyshevConstraint(2.5761 <= Median <= 2.6840, FPR = 0.1111) 16\n",
      "ChebyshevConstraint(2.5581 <= Median <= 2.7019, FPR = 0.0625) 16\n",
      "ChebyshevConstraint(2.5402 <= Median <= 2.7199, FPR = 0.0400) 16\n",
      "ChebyshevConstraint(2.5222 <= Median <= 2.7379, FPR = 0.0278) 16\n",
      "ChebyshevConstraint(2.5042 <= Median <= 2.7559, FPR = 0.0204) 16\n",
      "ChebyshevConstraint(2.4862 <= Median <= 2.7738, FPR = 0.0156) 16\n",
      "ChebyshevConstraint(2.4683 <= Median <= 2.7918, FPR = 0.0123) 16\n",
      "ChebyshevConstraint(2.4503 <= Median <= 2.8098, FPR = 0.0100) 16\n",
      "ChebyshevConstraint(2.4323 <= Median <= 2.8278, FPR = 0.0083) 16\n",
      "ChebyshevConstraint(2.4143 <= Median <= 2.8457, FPR = 0.0069) 16\n",
      "ChebyshevConstraint(2.3964 <= Median <= 2.8637, FPR = 0.0059) 16\n",
      "ChebyshevConstraint(2.3784 <= Median <= 2.8817, FPR = 0.0051) 16\n",
      "ChebyshevConstraint(2.3604 <= Median <= 2.8997, FPR = 0.0044) 16\n",
      "ChebyshevConstraint(2.3425 <= Median <= 2.9176, FPR = 0.0039) 15\n",
      "ChebyshevConstraint(2.3245 <= Median <= 2.9356, FPR = 0.0035) 12\n",
      "ChebyshevConstraint(2.3065 <= Median <= 2.9536, FPR = 0.0031) 12\n",
      "ChebyshevConstraint(2.2885 <= Median <= 2.9716, FPR = 0.0028) 12\n",
      "ChebyshevConstraint(2.2706 <= Median <= 2.9895, FPR = 0.0025) 12\n",
      "ChebyshevConstraint(2.2526 <= Median <= 3.0075, FPR = 0.0023) 12\n",
      "ChebyshevConstraint(2.2346 <= Median <= 3.0255, FPR = 0.0021) 12\n",
      "ChebyshevConstraint(2.2166 <= Median <= 3.0435, FPR = 0.0019) 12\n",
      "ChebyshevConstraint(2.1987 <= Median <= 3.0614, FPR = 0.0017) 12\n",
      "ChebyshevConstraint(2.1807 <= Median <= 3.0794, FPR = 0.0016) 12\n",
      "ChebyshevConstraint(2.1627 <= Median <= 3.0974, FPR = 0.0015) 12\n",
      "ChebyshevConstraint(2.1447 <= Median <= 3.1154, FPR = 0.0014) 12\n",
      "ChebyshevConstraint(2.1268 <= Median <= 3.1333, FPR = 0.0013) 12\n",
      "ChebyshevConstraint(2.1088 <= Median <= 3.1513, FPR = 0.0012) 12\n",
      "ChebyshevConstraint(2.0908 <= Median <= 3.1693, FPR = 0.0011) 12\n",
      "ChebyshevConstraint(2.0728 <= Median <= 3.1873, FPR = 0.0010) 12\n",
      "ChebyshevConstraint(2.0549 <= Median <= 3.2052, FPR = 0.0010) 12\n",
      "ChebyshevConstraint(2.0369 <= Median <= 3.2232, FPR = 0.0009) 12\n",
      "ChebyshevConstraint(2.0189 <= Median <= 3.2412, FPR = 0.0009) 12\n",
      "ChebyshevConstraint(2.0009 <= Median <= 3.2592, FPR = 0.0008) 12\n",
      "ChebyshevConstraint(1.9830 <= Median <= 3.2771, FPR = 0.0008) 12\n",
      "ChebyshevConstraint(1.9650 <= Median <= 3.2951, FPR = 0.0007) 12\n",
      "ChebyshevConstraint(1.9470 <= Median <= 3.3131, FPR = 0.0007) 12\n",
      "ChebyshevConstraint(1.9290 <= Median <= 3.3311, FPR = 0.0007) 12\n",
      "ChebyshevConstraint(1.9111 <= Median <= 3.3490, FPR = 0.0006) 12\n",
      "ChebyshevConstraint(1.8931 <= Median <= 3.3670, FPR = 0.0006) 12\n",
      "ChebyshevConstraint(1.8751 <= Median <= 3.3850, FPR = 0.0006) 12\n",
      "ChebyshevConstraint(1.8571 <= Median <= 3.4030, FPR = 0.0005) 12\n",
      "ChebyshevConstraint(1.8392 <= Median <= 3.4209, FPR = 0.0005) 12\n",
      "ChebyshevConstraint(1.8212 <= Median <= 3.4389, FPR = 0.0005) 12\n",
      "ChebyshevConstraint(1.8032 <= Median <= 3.4569, FPR = 0.0005) 12\n",
      "ChebyshevConstraint(1.7852 <= Median <= 3.4749, FPR = 0.0005) 12\n",
      "ChebyshevConstraint(1.7673 <= Median <= 3.4928, FPR = 0.0004) 12\n",
      "ChebyshevConstraint(1.7493 <= Median <= 3.5108, FPR = 0.0004) 12\n",
      "ChebyshevConstraint(48267.3447 <= Sum <= 61863.1084, FPR = 0.2500) 22\n",
      "ChebyshevConstraint(44868.4038 <= Sum <= 65262.0493, FPR = 0.1111) 21\n",
      "ChebyshevConstraint(41469.4629 <= Sum <= 68660.9902, FPR = 0.0625) 21\n",
      "ChebyshevConstraint(38070.5220 <= Sum <= 72059.9312, FPR = 0.0400) 21\n",
      "ChebyshevConstraint(34671.5811 <= Sum <= 75458.8721, FPR = 0.0278) 20\n",
      "ChebyshevConstraint(31272.6401 <= Sum <= 78857.8130, FPR = 0.0204) 20\n",
      "ChebyshevConstraint(27873.6992 <= Sum <= 82256.7539, FPR = 0.0156) 17\n",
      "ChebyshevConstraint(24474.7583 <= Sum <= 85655.6948, FPR = 0.0123) 17\n",
      "ChebyshevConstraint(21075.8174 <= Sum <= 89054.6357, FPR = 0.0100) 17\n",
      "ChebyshevConstraint(17676.8765 <= Sum <= 92453.5767, FPR = 0.0083) 17\n",
      "ChebyshevConstraint(14277.9355 <= Sum <= 95852.5176, FPR = 0.0069) 15\n",
      "ChebyshevConstraint(10878.9946 <= Sum <= 99251.4585, FPR = 0.0059) 15\n",
      "ChebyshevConstraint(7480.0537 <= Sum <= 102650.3994, FPR = 0.0051) 14\n",
      "ChebyshevConstraint(4081.1128 <= Sum <= 106049.3403, FPR = 0.0044) 13\n",
      "ChebyshevConstraint(682.1719 <= Sum <= 109448.2812, FPR = 0.0039) 13\n",
      "ChebyshevConstraint(-2716.7690 <= Sum <= 112847.2222, FPR = 0.0035) 11\n",
      "ChebyshevConstraint(-6115.7100 <= Sum <= 116246.1631, FPR = 0.0031) 11\n",
      "ChebyshevConstraint(-9514.6509 <= Sum <= 119645.1040, FPR = 0.0028) 10\n",
      "ChebyshevConstraint(-12913.5918 <= Sum <= 123044.0449, FPR = 0.0025) 9\n",
      "ChebyshevConstraint(-16312.5327 <= Sum <= 126442.9858, FPR = 0.0023) 8\n",
      "ChebyshevConstraint(-19711.4736 <= Sum <= 129841.9268, FPR = 0.0021) 7\n",
      "ChebyshevConstraint(-23110.4146 <= Sum <= 133240.8677, FPR = 0.0019) 7\n",
      "ChebyshevConstraint(-26509.3555 <= Sum <= 136639.8086, FPR = 0.0017) 7\n",
      "ChebyshevConstraint(-29908.2964 <= Sum <= 140038.7495, FPR = 0.0016) 7\n",
      "ChebyshevConstraint(-33307.2373 <= Sum <= 143437.6904, FPR = 0.0015) 7\n",
      "ChebyshevConstraint(-36706.1782 <= Sum <= 146836.6313, FPR = 0.0014) 7\n",
      "ChebyshevConstraint(-40105.1191 <= Sum <= 150235.5723, FPR = 0.0013) 7\n",
      "ChebyshevConstraint(-43504.0601 <= Sum <= 153634.5132, FPR = 0.0012) 7\n",
      "ChebyshevConstraint(-46903.0010 <= Sum <= 157033.4541, FPR = 0.0011) 7\n",
      "ChebyshevConstraint(-50301.9419 <= Sum <= 160432.3950, FPR = 0.0010) 7\n",
      "ChebyshevConstraint(-53700.8828 <= Sum <= 163831.3359, FPR = 0.0010) 7\n",
      "ChebyshevConstraint(-57099.8237 <= Sum <= 167230.2769, FPR = 0.0009) 7\n",
      "ChebyshevConstraint(-60498.7646 <= Sum <= 170629.2178, FPR = 0.0009) 7\n",
      "ChebyshevConstraint(-63897.7056 <= Sum <= 174028.1587, FPR = 0.0008) 7\n",
      "ChebyshevConstraint(-67296.6465 <= Sum <= 177427.0996, FPR = 0.0008) 7\n",
      "ChebyshevConstraint(-70695.5874 <= Sum <= 180826.0405, FPR = 0.0007) 7\n",
      "ChebyshevConstraint(-74094.5283 <= Sum <= 184224.9814, FPR = 0.0007) 7\n",
      "ChebyshevConstraint(-77493.4692 <= Sum <= 187623.9224, FPR = 0.0007) 7\n",
      "ChebyshevConstraint(-80892.4102 <= Sum <= 191022.8633, FPR = 0.0006) 7\n",
      "ChebyshevConstraint(-84291.3511 <= Sum <= 194421.8042, FPR = 0.0006) 7\n",
      "ChebyshevConstraint(-87690.2920 <= Sum <= 197820.7451, FPR = 0.0006) 6\n",
      "ChebyshevConstraint(-91089.2329 <= Sum <= 201219.6860, FPR = 0.0005) 6\n",
      "ChebyshevConstraint(-94488.1738 <= Sum <= 204618.6270, FPR = 0.0005) 6\n",
      "ChebyshevConstraint(-97887.1147 <= Sum <= 208017.5679, FPR = 0.0005) 6\n",
      "ChebyshevConstraint(-101286.0557 <= Sum <= 211416.5088, FPR = 0.0005) 6\n",
      "ChebyshevConstraint(-104684.9966 <= Sum <= 214815.4497, FPR = 0.0005) 6\n",
      "ChebyshevConstraint(-108083.9375 <= Sum <= 218214.3906, FPR = 0.0004) 6\n",
      "ChebyshevConstraint(-111482.8784 <= Sum <= 221613.3315, FPR = 0.0004) 6\n",
      "ChebyshevConstraint(6.0436 <= Range <= 6.0504, FPR = 0.2500) 18\n",
      "ChebyshevConstraint(6.0418 <= Range <= 6.0521, FPR = 0.1111) 18\n",
      "ChebyshevConstraint(6.0401 <= Range <= 6.0538, FPR = 0.0625) 17\n",
      "ChebyshevConstraint(6.0384 <= Range <= 6.0555, FPR = 0.0400) 17\n",
      "ChebyshevConstraint(6.0367 <= Range <= 6.0572, FPR = 0.0278) 17\n",
      "ChebyshevConstraint(6.0350 <= Range <= 6.0589, FPR = 0.0204) 17\n",
      "ChebyshevConstraint(6.0333 <= Range <= 6.0606, FPR = 0.0156) 17\n",
      "ChebyshevConstraint(6.0316 <= Range <= 6.0623, FPR = 0.0123) 17\n",
      "ChebyshevConstraint(6.0299 <= Range <= 6.0640, FPR = 0.0100) 17\n",
      "ChebyshevConstraint(6.0282 <= Range <= 6.0657, FPR = 0.0083) 17\n",
      "ChebyshevConstraint(6.0265 <= Range <= 6.0674, FPR = 0.0069) 17\n",
      "ChebyshevConstraint(6.0248 <= Range <= 6.0691, FPR = 0.0059) 17\n",
      "ChebyshevConstraint(6.0231 <= Range <= 6.0708, FPR = 0.0051) 17\n",
      "ChebyshevConstraint(6.0214 <= Range <= 6.0725, FPR = 0.0044) 17\n",
      "ChebyshevConstraint(6.0197 <= Range <= 6.0742, FPR = 0.0039) 17\n",
      "ChebyshevConstraint(6.0180 <= Range <= 6.0760, FPR = 0.0035) 17\n",
      "ChebyshevConstraint(6.0163 <= Range <= 6.0777, FPR = 0.0031) 17\n",
      "ChebyshevConstraint(6.0146 <= Range <= 6.0794, FPR = 0.0028) 17\n",
      "ChebyshevConstraint(6.0129 <= Range <= 6.0811, FPR = 0.0025) 17\n",
      "ChebyshevConstraint(6.0112 <= Range <= 6.0828, FPR = 0.0023) 17\n",
      "ChebyshevConstraint(6.0094 <= Range <= 6.0845, FPR = 0.0021) 17\n",
      "ChebyshevConstraint(6.0077 <= Range <= 6.0862, FPR = 0.0019) 17\n",
      "ChebyshevConstraint(6.0060 <= Range <= 6.0879, FPR = 0.0017) 17\n",
      "ChebyshevConstraint(6.0043 <= Range <= 6.0896, FPR = 0.0016) 17\n",
      "ChebyshevConstraint(6.0026 <= Range <= 6.0913, FPR = 0.0015) 17\n",
      "ChebyshevConstraint(6.0009 <= Range <= 6.0930, FPR = 0.0014) 17\n",
      "ChebyshevConstraint(5.9992 <= Range <= 6.0947, FPR = 0.0013) 17\n",
      "ChebyshevConstraint(5.9975 <= Range <= 6.0964, FPR = 0.0012) 17\n",
      "ChebyshevConstraint(5.9958 <= Range <= 6.0981, FPR = 0.0011) 17\n",
      "ChebyshevConstraint(5.9941 <= Range <= 6.0998, FPR = 0.0010) 17\n",
      "ChebyshevConstraint(5.9924 <= Range <= 6.1015, FPR = 0.0010) 17\n",
      "ChebyshevConstraint(5.9907 <= Range <= 6.1032, FPR = 0.0009) 17\n",
      "ChebyshevConstraint(5.9890 <= Range <= 6.1049, FPR = 0.0009) 17\n",
      "ChebyshevConstraint(5.9873 <= Range <= 6.1066, FPR = 0.0008) 17\n",
      "ChebyshevConstraint(5.9856 <= Range <= 6.1084, FPR = 0.0008) 17\n",
      "ChebyshevConstraint(5.9839 <= Range <= 6.1101, FPR = 0.0007) 17\n",
      "ChebyshevConstraint(5.9822 <= Range <= 6.1118, FPR = 0.0007) 17\n",
      "ChebyshevConstraint(5.9805 <= Range <= 6.1135, FPR = 0.0007) 17\n",
      "ChebyshevConstraint(5.9787 <= Range <= 6.1152, FPR = 0.0006) 17\n",
      "ChebyshevConstraint(5.9770 <= Range <= 6.1169, FPR = 0.0006) 17\n",
      "ChebyshevConstraint(5.9753 <= Range <= 6.1186, FPR = 0.0006) 17\n",
      "ChebyshevConstraint(5.9736 <= Range <= 6.1203, FPR = 0.0005) 17\n",
      "ChebyshevConstraint(5.9719 <= Range <= 6.1220, FPR = 0.0005) 17\n",
      "ChebyshevConstraint(5.9702 <= Range <= 6.1237, FPR = 0.0005) 17\n",
      "ChebyshevConstraint(5.9685 <= Range <= 6.1254, FPR = 0.0005) 17\n",
      "ChebyshevConstraint(5.9668 <= Range <= 6.1271, FPR = 0.0005) 17\n",
      "ChebyshevConstraint(5.9651 <= Range <= 6.1288, FPR = 0.0004) 17\n",
      "ChebyshevConstraint(5.9634 <= Range <= 6.1305, FPR = 0.0004) 17\n",
      "ChebyshevConstraint(0.0033 <= EMD <= 0.0321, FPR = 0.2500) 18\n",
      "ChebyshevConstraint(-0.0039 <= EMD <= 0.0393, FPR = 0.1111) 17\n",
      "ChebyshevConstraint(-0.0112 <= EMD <= 0.0465, FPR = 0.0625) 17\n",
      "ChebyshevConstraint(-0.0184 <= EMD <= 0.0537, FPR = 0.0400) 16\n",
      "ChebyshevConstraint(-0.0256 <= EMD <= 0.0609, FPR = 0.0278) 16\n",
      "ChebyshevConstraint(-0.0328 <= EMD <= 0.0681, FPR = 0.0204) 16\n",
      "ChebyshevConstraint(-0.0400 <= EMD <= 0.0753, FPR = 0.0156) 16\n",
      "ChebyshevConstraint(-0.0472 <= EMD <= 0.0825, FPR = 0.0123) 16\n",
      "ChebyshevConstraint(-0.0544 <= EMD <= 0.0897, FPR = 0.0100) 16\n",
      "ChebyshevConstraint(-0.0616 <= EMD <= 0.0969, FPR = 0.0083) 16\n",
      "ChebyshevConstraint(-0.0688 <= EMD <= 0.1042, FPR = 0.0069) 16\n",
      "ChebyshevConstraint(-0.0760 <= EMD <= 0.1114, FPR = 0.0059) 16\n",
      "ChebyshevConstraint(-0.0832 <= EMD <= 0.1186, FPR = 0.0051) 16\n",
      "ChebyshevConstraint(-0.0904 <= EMD <= 0.1258, FPR = 0.0044) 16\n",
      "ChebyshevConstraint(-0.0976 <= EMD <= 0.1330, FPR = 0.0039) 16\n",
      "ChebyshevConstraint(-0.1048 <= EMD <= 0.1402, FPR = 0.0035) 16\n",
      "ChebyshevConstraint(-0.1121 <= EMD <= 0.1474, FPR = 0.0031) 16\n",
      "ChebyshevConstraint(-0.1193 <= EMD <= 0.1546, FPR = 0.0028) 16\n",
      "ChebyshevConstraint(-0.1265 <= EMD <= 0.1618, FPR = 0.0025) 16\n",
      "ChebyshevConstraint(-0.1337 <= EMD <= 0.1690, FPR = 0.0023) 16\n",
      "ChebyshevConstraint(-0.1409 <= EMD <= 0.1762, FPR = 0.0021) 16\n",
      "ChebyshevConstraint(-0.1481 <= EMD <= 0.1834, FPR = 0.0019) 16\n",
      "ChebyshevConstraint(-0.1553 <= EMD <= 0.1906, FPR = 0.0017) 16\n",
      "ChebyshevConstraint(-0.1625 <= EMD <= 0.1978, FPR = 0.0016) 16\n",
      "ChebyshevConstraint(-0.1697 <= EMD <= 0.2051, FPR = 0.0015) 16\n",
      "ChebyshevConstraint(-0.1769 <= EMD <= 0.2123, FPR = 0.0014) 16\n",
      "ChebyshevConstraint(-0.1841 <= EMD <= 0.2195, FPR = 0.0013) 16\n",
      "ChebyshevConstraint(-0.1913 <= EMD <= 0.2267, FPR = 0.0012) 16\n",
      "ChebyshevConstraint(-0.1985 <= EMD <= 0.2339, FPR = 0.0011) 16\n",
      "ChebyshevConstraint(-0.2057 <= EMD <= 0.2411, FPR = 0.0010) 16\n",
      "ChebyshevConstraint(-0.2130 <= EMD <= 0.2483, FPR = 0.0010) 16\n",
      "ChebyshevConstraint(-0.2202 <= EMD <= 0.2555, FPR = 0.0009) 16\n",
      "ChebyshevConstraint(-0.2274 <= EMD <= 0.2627, FPR = 0.0009) 16\n",
      "ChebyshevConstraint(-0.2346 <= EMD <= 0.2699, FPR = 0.0008) 16\n",
      "ChebyshevConstraint(-0.2418 <= EMD <= 0.2771, FPR = 0.0008) 16\n",
      "ChebyshevConstraint(-0.2490 <= EMD <= 0.2843, FPR = 0.0007) 16\n",
      "ChebyshevConstraint(-0.2562 <= EMD <= 0.2915, FPR = 0.0007) 16\n",
      "ChebyshevConstraint(-0.2634 <= EMD <= 0.2987, FPR = 0.0007) 16\n",
      "ChebyshevConstraint(-0.2706 <= EMD <= 0.3060, FPR = 0.0006) 16\n",
      "ChebyshevConstraint(-0.2778 <= EMD <= 0.3132, FPR = 0.0006) 16\n",
      "ChebyshevConstraint(-0.2850 <= EMD <= 0.3204, FPR = 0.0006) 16\n",
      "ChebyshevConstraint(-0.2922 <= EMD <= 0.3276, FPR = 0.0005) 16\n",
      "ChebyshevConstraint(-0.2994 <= EMD <= 0.3348, FPR = 0.0005) 16\n",
      "ChebyshevConstraint(-0.3066 <= EMD <= 0.3420, FPR = 0.0005) 16\n",
      "ChebyshevConstraint(-0.3139 <= EMD <= 0.3492, FPR = 0.0005) 16\n",
      "ChebyshevConstraint(-0.3211 <= EMD <= 0.3564, FPR = 0.0005) 16\n",
      "ChebyshevConstraint(-0.3283 <= EMD <= 0.3636, FPR = 0.0004) 16\n",
      "ChebyshevConstraint(-0.3355 <= EMD <= 0.3708, FPR = 0.0004) 16\n",
      "CantelliConstraint(0.0000 <= EMD <= 0.0249, FPR = 0.5000) 18\n",
      "CantelliConstraint(0.0000 <= EMD <= 0.0321, FPR = 0.2000) 17\n",
      "CantelliConstraint(0.0000 <= EMD <= 0.0393, FPR = 0.1000) 17\n",
      "CantelliConstraint(0.0000 <= EMD <= 0.0465, FPR = 0.0588) 17\n",
      "CantelliConstraint(0.0000 <= EMD <= 0.0537, FPR = 0.0385) 16\n",
      "CantelliConstraint(0.0000 <= EMD <= 0.0609, FPR = 0.0270) 16\n",
      "CantelliConstraint(0.0000 <= EMD <= 0.0681, FPR = 0.0200) 16\n",
      "CantelliConstraint(0.0000 <= EMD <= 0.0753, FPR = 0.0154) 16\n",
      "CantelliConstraint(0.0000 <= EMD <= 0.0825, FPR = 0.0122) 16\n",
      "CantelliConstraint(0.0000 <= EMD <= 0.0897, FPR = 0.0099) 16\n",
      "CantelliConstraint(0.0000 <= EMD <= 0.0969, FPR = 0.0082) 16\n",
      "CantelliConstraint(0.0000 <= EMD <= 0.1042, FPR = 0.0069) 16\n",
      "CantelliConstraint(0.0000 <= EMD <= 0.1114, FPR = 0.0059) 16\n",
      "CantelliConstraint(0.0000 <= EMD <= 0.1186, FPR = 0.0051) 16\n",
      "CantelliConstraint(0.0000 <= EMD <= 0.1258, FPR = 0.0044) 16\n",
      "CantelliConstraint(0.0000 <= EMD <= 0.1330, FPR = 0.0039) 16\n",
      "CantelliConstraint(0.0000 <= EMD <= 0.1402, FPR = 0.0034) 16\n",
      "CantelliConstraint(0.0000 <= EMD <= 0.1474, FPR = 0.0031) 16\n",
      "CantelliConstraint(0.0000 <= EMD <= 0.1546, FPR = 0.0028) 16\n",
      "CantelliConstraint(0.0000 <= EMD <= 0.1618, FPR = 0.0025) 16\n",
      "CantelliConstraint(0.0000 <= EMD <= 0.1690, FPR = 0.0023) 16\n",
      "CantelliConstraint(0.0000 <= EMD <= 0.1762, FPR = 0.0021) 16\n",
      "CantelliConstraint(0.0000 <= EMD <= 0.1834, FPR = 0.0019) 16\n",
      "CantelliConstraint(0.0000 <= EMD <= 0.1906, FPR = 0.0017) 16\n",
      "CantelliConstraint(0.0000 <= EMD <= 0.1978, FPR = 0.0016) 16\n",
      "CantelliConstraint(0.0000 <= EMD <= 0.2051, FPR = 0.0015) 16\n",
      "CantelliConstraint(0.0000 <= EMD <= 0.2123, FPR = 0.0014) 16\n",
      "CantelliConstraint(0.0000 <= EMD <= 0.2195, FPR = 0.0013) 16\n",
      "CantelliConstraint(0.0000 <= EMD <= 0.2267, FPR = 0.0012) 16\n",
      "CantelliConstraint(0.0000 <= EMD <= 0.2339, FPR = 0.0011) 16\n",
      "CantelliConstraint(0.0000 <= EMD <= 0.2411, FPR = 0.0010) 16\n",
      "CantelliConstraint(0.0000 <= EMD <= 0.2483, FPR = 0.0010) 16\n",
      "CantelliConstraint(0.0000 <= EMD <= 0.2555, FPR = 0.0009) 16\n",
      "CantelliConstraint(0.0000 <= EMD <= 0.2627, FPR = 0.0009) 16\n",
      "CantelliConstraint(0.0000 <= EMD <= 0.2699, FPR = 0.0008) 16\n",
      "CantelliConstraint(0.0000 <= EMD <= 0.2771, FPR = 0.0008) 16\n",
      "CantelliConstraint(0.0000 <= EMD <= 0.2843, FPR = 0.0007) 16\n",
      "CantelliConstraint(0.0000 <= EMD <= 0.2915, FPR = 0.0007) 16\n",
      "CantelliConstraint(0.0000 <= EMD <= 0.2987, FPR = 0.0007) 16\n",
      "CantelliConstraint(0.0000 <= EMD <= 0.3060, FPR = 0.0006) 16\n",
      "CantelliConstraint(0.0000 <= EMD <= 0.3132, FPR = 0.0006) 16\n",
      "CantelliConstraint(0.0000 <= EMD <= 0.3204, FPR = 0.0006) 16\n",
      "CantelliConstraint(0.0000 <= EMD <= 0.3276, FPR = 0.0005) 16\n",
      "CantelliConstraint(0.0000 <= EMD <= 0.3348, FPR = 0.0005) 16\n",
      "CantelliConstraint(0.0000 <= EMD <= 0.3420, FPR = 0.0005) 16\n",
      "CantelliConstraint(0.0000 <= EMD <= 0.3492, FPR = 0.0005) 16\n",
      "CantelliConstraint(0.0000 <= EMD <= 0.3564, FPR = 0.0005) 16\n",
      "CantelliConstraint(0.0000 <= EMD <= 0.3636, FPR = 0.0004) 16\n",
      "ChebyshevConstraint(0.0060 <= JsDivergence <= 0.0158, FPR = 0.2500) 22\n",
      "ChebyshevConstraint(0.0036 <= JsDivergence <= 0.0182, FPR = 0.1111) 19\n",
      "ChebyshevConstraint(0.0011 <= JsDivergence <= 0.0206, FPR = 0.0625) 16\n",
      "ChebyshevConstraint(-0.0013 <= JsDivergence <= 0.0231, FPR = 0.0400) 7\n",
      "ChebyshevConstraint(-0.0037 <= JsDivergence <= 0.0255, FPR = 0.0278) 7\n",
      "ChebyshevConstraint(-0.0062 <= JsDivergence <= 0.0279, FPR = 0.0204) 7\n",
      "ChebyshevConstraint(-0.0086 <= JsDivergence <= 0.0304, FPR = 0.0156) 7\n",
      "ChebyshevConstraint(-0.0110 <= JsDivergence <= 0.0328, FPR = 0.0123) 7\n",
      "ChebyshevConstraint(-0.0135 <= JsDivergence <= 0.0353, FPR = 0.0100) 7\n",
      "ChebyshevConstraint(-0.0159 <= JsDivergence <= 0.0377, FPR = 0.0083) 7\n",
      "ChebyshevConstraint(-0.0183 <= JsDivergence <= 0.0401, FPR = 0.0069) 7\n",
      "ChebyshevConstraint(-0.0208 <= JsDivergence <= 0.0426, FPR = 0.0059) 7\n",
      "ChebyshevConstraint(-0.0232 <= JsDivergence <= 0.0450, FPR = 0.0051) 7\n",
      "ChebyshevConstraint(-0.0257 <= JsDivergence <= 0.0474, FPR = 0.0044) 7\n",
      "ChebyshevConstraint(-0.0281 <= JsDivergence <= 0.0499, FPR = 0.0039) 7\n",
      "ChebyshevConstraint(-0.0305 <= JsDivergence <= 0.0523, FPR = 0.0035) 7\n",
      "ChebyshevConstraint(-0.0330 <= JsDivergence <= 0.0547, FPR = 0.0031) 7\n",
      "ChebyshevConstraint(-0.0354 <= JsDivergence <= 0.0572, FPR = 0.0028) 7\n",
      "ChebyshevConstraint(-0.0378 <= JsDivergence <= 0.0596, FPR = 0.0025) 7\n",
      "ChebyshevConstraint(-0.0403 <= JsDivergence <= 0.0621, FPR = 0.0023) 7\n",
      "ChebyshevConstraint(-0.0427 <= JsDivergence <= 0.0645, FPR = 0.0021) 7\n",
      "ChebyshevConstraint(-0.0452 <= JsDivergence <= 0.0669, FPR = 0.0019) 7\n",
      "ChebyshevConstraint(-0.0476 <= JsDivergence <= 0.0694, FPR = 0.0017) 7\n",
      "ChebyshevConstraint(-0.0500 <= JsDivergence <= 0.0718, FPR = 0.0016) 7\n",
      "ChebyshevConstraint(-0.0525 <= JsDivergence <= 0.0742, FPR = 0.0015) 7\n",
      "ChebyshevConstraint(-0.0549 <= JsDivergence <= 0.0767, FPR = 0.0014) 7\n",
      "ChebyshevConstraint(-0.0573 <= JsDivergence <= 0.0791, FPR = 0.0013) 7\n",
      "ChebyshevConstraint(-0.0598 <= JsDivergence <= 0.0815, FPR = 0.0012) 7\n",
      "ChebyshevConstraint(-0.0622 <= JsDivergence <= 0.0840, FPR = 0.0011) 7\n",
      "ChebyshevConstraint(-0.0646 <= JsDivergence <= 0.0864, FPR = 0.0010) 7\n",
      "ChebyshevConstraint(-0.0671 <= JsDivergence <= 0.0889, FPR = 0.0010) 7\n",
      "ChebyshevConstraint(-0.0695 <= JsDivergence <= 0.0913, FPR = 0.0009) 7\n",
      "ChebyshevConstraint(-0.0720 <= JsDivergence <= 0.0937, FPR = 0.0009) 7\n",
      "ChebyshevConstraint(-0.0744 <= JsDivergence <= 0.0962, FPR = 0.0008) 7\n",
      "ChebyshevConstraint(-0.0768 <= JsDivergence <= 0.0986, FPR = 0.0008) 7\n",
      "ChebyshevConstraint(-0.0793 <= JsDivergence <= 0.1010, FPR = 0.0007) 7\n",
      "ChebyshevConstraint(-0.0817 <= JsDivergence <= 0.1035, FPR = 0.0007) 7\n",
      "ChebyshevConstraint(-0.0841 <= JsDivergence <= 0.1059, FPR = 0.0007) 7\n",
      "ChebyshevConstraint(-0.0866 <= JsDivergence <= 0.1084, FPR = 0.0006) 7\n",
      "ChebyshevConstraint(-0.0890 <= JsDivergence <= 0.1108, FPR = 0.0006) 7\n",
      "ChebyshevConstraint(-0.0914 <= JsDivergence <= 0.1132, FPR = 0.0006) 7\n",
      "ChebyshevConstraint(-0.0939 <= JsDivergence <= 0.1157, FPR = 0.0005) 7\n",
      "ChebyshevConstraint(-0.0963 <= JsDivergence <= 0.1181, FPR = 0.0005) 7\n",
      "ChebyshevConstraint(-0.0988 <= JsDivergence <= 0.1205, FPR = 0.0005) 7\n",
      "ChebyshevConstraint(-0.1012 <= JsDivergence <= 0.1230, FPR = 0.0005) 7\n",
      "ChebyshevConstraint(-0.1036 <= JsDivergence <= 0.1254, FPR = 0.0005) 7\n",
      "ChebyshevConstraint(-0.1061 <= JsDivergence <= 0.1278, FPR = 0.0004) 7\n",
      "ChebyshevConstraint(-0.1085 <= JsDivergence <= 0.1303, FPR = 0.0004) 7\n",
      "CantelliConstraint(0.0000 <= JsDivergence <= 0.0133, FPR = 0.5000) 9\n",
      "CantelliConstraint(0.0000 <= JsDivergence <= 0.0158, FPR = 0.2000) 9\n",
      "CantelliConstraint(0.0000 <= JsDivergence <= 0.0182, FPR = 0.1000) 9\n",
      "CantelliConstraint(0.0000 <= JsDivergence <= 0.0206, FPR = 0.0588) 8\n",
      "CantelliConstraint(0.0000 <= JsDivergence <= 0.0231, FPR = 0.0385) 7\n",
      "CantelliConstraint(0.0000 <= JsDivergence <= 0.0255, FPR = 0.0270) 7\n",
      "CantelliConstraint(0.0000 <= JsDivergence <= 0.0279, FPR = 0.0200) 7\n",
      "CantelliConstraint(0.0000 <= JsDivergence <= 0.0304, FPR = 0.0154) 7\n",
      "CantelliConstraint(0.0000 <= JsDivergence <= 0.0328, FPR = 0.0122) 7\n",
      "CantelliConstraint(0.0000 <= JsDivergence <= 0.0353, FPR = 0.0099) 7\n",
      "CantelliConstraint(0.0000 <= JsDivergence <= 0.0377, FPR = 0.0082) 7\n",
      "CantelliConstraint(0.0000 <= JsDivergence <= 0.0401, FPR = 0.0069) 7\n",
      "CantelliConstraint(0.0000 <= JsDivergence <= 0.0426, FPR = 0.0059) 7\n",
      "CantelliConstraint(0.0000 <= JsDivergence <= 0.0450, FPR = 0.0051) 7\n",
      "CantelliConstraint(0.0000 <= JsDivergence <= 0.0474, FPR = 0.0044) 7\n",
      "CantelliConstraint(0.0000 <= JsDivergence <= 0.0499, FPR = 0.0039) 7\n",
      "CantelliConstraint(0.0000 <= JsDivergence <= 0.0523, FPR = 0.0034) 7\n",
      "CantelliConstraint(0.0000 <= JsDivergence <= 0.0547, FPR = 0.0031) 7\n",
      "CantelliConstraint(0.0000 <= JsDivergence <= 0.0572, FPR = 0.0028) 7\n",
      "CantelliConstraint(0.0000 <= JsDivergence <= 0.0596, FPR = 0.0025) 7\n",
      "CantelliConstraint(0.0000 <= JsDivergence <= 0.0621, FPR = 0.0023) 7\n",
      "CantelliConstraint(0.0000 <= JsDivergence <= 0.0645, FPR = 0.0021) 7\n",
      "CantelliConstraint(0.0000 <= JsDivergence <= 0.0669, FPR = 0.0019) 7\n",
      "CantelliConstraint(0.0000 <= JsDivergence <= 0.0694, FPR = 0.0017) 7\n",
      "CantelliConstraint(0.0000 <= JsDivergence <= 0.0718, FPR = 0.0016) 7\n",
      "CantelliConstraint(0.0000 <= JsDivergence <= 0.0742, FPR = 0.0015) 7\n",
      "CantelliConstraint(0.0000 <= JsDivergence <= 0.0767, FPR = 0.0014) 7\n",
      "CantelliConstraint(0.0000 <= JsDivergence <= 0.0791, FPR = 0.0013) 7\n",
      "CantelliConstraint(0.0000 <= JsDivergence <= 0.0815, FPR = 0.0012) 7\n",
      "CantelliConstraint(0.0000 <= JsDivergence <= 0.0840, FPR = 0.0011) 7\n",
      "CantelliConstraint(0.0000 <= JsDivergence <= 0.0864, FPR = 0.0010) 7\n",
      "CantelliConstraint(0.0000 <= JsDivergence <= 0.0889, FPR = 0.0010) 7\n",
      "CantelliConstraint(0.0000 <= JsDivergence <= 0.0913, FPR = 0.0009) 7\n",
      "CantelliConstraint(0.0000 <= JsDivergence <= 0.0937, FPR = 0.0009) 7\n",
      "CantelliConstraint(0.0000 <= JsDivergence <= 0.0962, FPR = 0.0008) 7\n",
      "CantelliConstraint(0.0000 <= JsDivergence <= 0.0986, FPR = 0.0008) 7\n",
      "CantelliConstraint(0.0000 <= JsDivergence <= 0.1010, FPR = 0.0007) 7\n",
      "CantelliConstraint(0.0000 <= JsDivergence <= 0.1035, FPR = 0.0007) 7\n",
      "CantelliConstraint(0.0000 <= JsDivergence <= 0.1059, FPR = 0.0007) 7\n",
      "CantelliConstraint(0.0000 <= JsDivergence <= 0.1084, FPR = 0.0006) 7\n",
      "CantelliConstraint(0.0000 <= JsDivergence <= 0.1108, FPR = 0.0006) 7\n",
      "CantelliConstraint(0.0000 <= JsDivergence <= 0.1132, FPR = 0.0006) 7\n",
      "CantelliConstraint(0.0000 <= JsDivergence <= 0.1157, FPR = 0.0005) 7\n",
      "CantelliConstraint(0.0000 <= JsDivergence <= 0.1181, FPR = 0.0005) 7\n",
      "CantelliConstraint(0.0000 <= JsDivergence <= 0.1205, FPR = 0.0005) 7\n",
      "CantelliConstraint(0.0000 <= JsDivergence <= 0.1230, FPR = 0.0005) 7\n",
      "CantelliConstraint(0.0000 <= JsDivergence <= 0.1254, FPR = 0.0005) 7\n",
      "CantelliConstraint(0.0000 <= JsDivergence <= 0.1278, FPR = 0.0004) 7\n",
      "ChebyshevConstraint(0.0001 <= KlDivergence <= 0.0009, FPR = 0.2500) 20\n",
      "ChebyshevConstraint(-0.0001 <= KlDivergence <= 0.0011, FPR = 0.1111) 9\n",
      "ChebyshevConstraint(-0.0003 <= KlDivergence <= 0.0013, FPR = 0.0625) 9\n",
      "ChebyshevConstraint(-0.0006 <= KlDivergence <= 0.0015, FPR = 0.0400) 9\n",
      "ChebyshevConstraint(-0.0008 <= KlDivergence <= 0.0018, FPR = 0.0278) 8\n",
      "ChebyshevConstraint(-0.0010 <= KlDivergence <= 0.0020, FPR = 0.0204) 7\n",
      "ChebyshevConstraint(-0.0012 <= KlDivergence <= 0.0022, FPR = 0.0156) 7\n",
      "ChebyshevConstraint(-0.0014 <= KlDivergence <= 0.0024, FPR = 0.0123) 7\n",
      "ChebyshevConstraint(-0.0016 <= KlDivergence <= 0.0026, FPR = 0.0100) 7\n",
      "ChebyshevConstraint(-0.0018 <= KlDivergence <= 0.0028, FPR = 0.0083) 7\n",
      "ChebyshevConstraint(-0.0020 <= KlDivergence <= 0.0030, FPR = 0.0069) 7\n",
      "ChebyshevConstraint(-0.0022 <= KlDivergence <= 0.0032, FPR = 0.0059) 7\n",
      "ChebyshevConstraint(-0.0024 <= KlDivergence <= 0.0034, FPR = 0.0051) 7\n",
      "ChebyshevConstraint(-0.0027 <= KlDivergence <= 0.0036, FPR = 0.0044) 7\n",
      "ChebyshevConstraint(-0.0029 <= KlDivergence <= 0.0039, FPR = 0.0039) 7\n",
      "ChebyshevConstraint(-0.0031 <= KlDivergence <= 0.0041, FPR = 0.0035) 7\n",
      "ChebyshevConstraint(-0.0033 <= KlDivergence <= 0.0043, FPR = 0.0031) 7\n",
      "ChebyshevConstraint(-0.0035 <= KlDivergence <= 0.0045, FPR = 0.0028) 7\n",
      "ChebyshevConstraint(-0.0037 <= KlDivergence <= 0.0047, FPR = 0.0025) 7\n",
      "ChebyshevConstraint(-0.0039 <= KlDivergence <= 0.0049, FPR = 0.0023) 7\n",
      "ChebyshevConstraint(-0.0041 <= KlDivergence <= 0.0051, FPR = 0.0021) 7\n",
      "ChebyshevConstraint(-0.0043 <= KlDivergence <= 0.0053, FPR = 0.0019) 7\n",
      "ChebyshevConstraint(-0.0045 <= KlDivergence <= 0.0055, FPR = 0.0017) 7\n",
      "ChebyshevConstraint(-0.0048 <= KlDivergence <= 0.0057, FPR = 0.0016) 7\n",
      "ChebyshevConstraint(-0.0050 <= KlDivergence <= 0.0060, FPR = 0.0015) 7\n",
      "ChebyshevConstraint(-0.0052 <= KlDivergence <= 0.0062, FPR = 0.0014) 7\n",
      "ChebyshevConstraint(-0.0054 <= KlDivergence <= 0.0064, FPR = 0.0013) 7\n",
      "ChebyshevConstraint(-0.0056 <= KlDivergence <= 0.0066, FPR = 0.0012) 7\n",
      "ChebyshevConstraint(-0.0058 <= KlDivergence <= 0.0068, FPR = 0.0011) 7\n",
      "ChebyshevConstraint(-0.0060 <= KlDivergence <= 0.0070, FPR = 0.0010) 7\n",
      "ChebyshevConstraint(-0.0062 <= KlDivergence <= 0.0072, FPR = 0.0010) 7\n",
      "ChebyshevConstraint(-0.0064 <= KlDivergence <= 0.0074, FPR = 0.0009) 7\n",
      "ChebyshevConstraint(-0.0066 <= KlDivergence <= 0.0076, FPR = 0.0009) 7\n",
      "ChebyshevConstraint(-0.0069 <= KlDivergence <= 0.0079, FPR = 0.0008) 7\n",
      "ChebyshevConstraint(-0.0071 <= KlDivergence <= 0.0081, FPR = 0.0008) 7\n",
      "ChebyshevConstraint(-0.0073 <= KlDivergence <= 0.0083, FPR = 0.0007) 7\n",
      "ChebyshevConstraint(-0.0075 <= KlDivergence <= 0.0085, FPR = 0.0007) 7\n",
      "ChebyshevConstraint(-0.0077 <= KlDivergence <= 0.0087, FPR = 0.0007) 7\n",
      "ChebyshevConstraint(-0.0079 <= KlDivergence <= 0.0089, FPR = 0.0006) 7\n",
      "ChebyshevConstraint(-0.0081 <= KlDivergence <= 0.0091, FPR = 0.0006) 7\n",
      "ChebyshevConstraint(-0.0083 <= KlDivergence <= 0.0093, FPR = 0.0006) 7\n",
      "ChebyshevConstraint(-0.0085 <= KlDivergence <= 0.0095, FPR = 0.0005) 7\n",
      "ChebyshevConstraint(-0.0087 <= KlDivergence <= 0.0097, FPR = 0.0005) 7\n",
      "ChebyshevConstraint(-0.0090 <= KlDivergence <= 0.0100, FPR = 0.0005) 7\n",
      "ChebyshevConstraint(-0.0092 <= KlDivergence <= 0.0102, FPR = 0.0005) 7\n",
      "ChebyshevConstraint(-0.0094 <= KlDivergence <= 0.0104, FPR = 0.0005) 7\n",
      "ChebyshevConstraint(-0.0096 <= KlDivergence <= 0.0106, FPR = 0.0004) 7\n",
      "ChebyshevConstraint(-0.0098 <= KlDivergence <= 0.0108, FPR = 0.0004) 7\n",
      "CantelliConstraint(0.0000 <= KlDivergence <= 0.0007, FPR = 0.5000) 9\n",
      "CantelliConstraint(0.0000 <= KlDivergence <= 0.0009, FPR = 0.2000) 9\n",
      "CantelliConstraint(0.0000 <= KlDivergence <= 0.0011, FPR = 0.1000) 9\n",
      "CantelliConstraint(0.0000 <= KlDivergence <= 0.0013, FPR = 0.0588) 9\n",
      "CantelliConstraint(0.0000 <= KlDivergence <= 0.0015, FPR = 0.0385) 9\n",
      "CantelliConstraint(0.0000 <= KlDivergence <= 0.0018, FPR = 0.0270) 8\n",
      "CantelliConstraint(0.0000 <= KlDivergence <= 0.0020, FPR = 0.0200) 7\n",
      "CantelliConstraint(0.0000 <= KlDivergence <= 0.0022, FPR = 0.0154) 7\n",
      "CantelliConstraint(0.0000 <= KlDivergence <= 0.0024, FPR = 0.0122) 7\n",
      "CantelliConstraint(0.0000 <= KlDivergence <= 0.0026, FPR = 0.0099) 7\n",
      "CantelliConstraint(0.0000 <= KlDivergence <= 0.0028, FPR = 0.0082) 7\n",
      "CantelliConstraint(0.0000 <= KlDivergence <= 0.0030, FPR = 0.0069) 7\n",
      "CantelliConstraint(0.0000 <= KlDivergence <= 0.0032, FPR = 0.0059) 7\n",
      "CantelliConstraint(0.0000 <= KlDivergence <= 0.0034, FPR = 0.0051) 7\n",
      "CantelliConstraint(0.0000 <= KlDivergence <= 0.0036, FPR = 0.0044) 7\n",
      "CantelliConstraint(0.0000 <= KlDivergence <= 0.0039, FPR = 0.0039) 7\n",
      "CantelliConstraint(0.0000 <= KlDivergence <= 0.0041, FPR = 0.0034) 7\n",
      "CantelliConstraint(0.0000 <= KlDivergence <= 0.0043, FPR = 0.0031) 7\n",
      "CantelliConstraint(0.0000 <= KlDivergence <= 0.0045, FPR = 0.0028) 7\n",
      "CantelliConstraint(0.0000 <= KlDivergence <= 0.0047, FPR = 0.0025) 7\n",
      "CantelliConstraint(0.0000 <= KlDivergence <= 0.0049, FPR = 0.0023) 7\n",
      "CantelliConstraint(0.0000 <= KlDivergence <= 0.0051, FPR = 0.0021) 7\n",
      "CantelliConstraint(0.0000 <= KlDivergence <= 0.0053, FPR = 0.0019) 7\n",
      "CantelliConstraint(0.0000 <= KlDivergence <= 0.0055, FPR = 0.0017) 7\n",
      "CantelliConstraint(0.0000 <= KlDivergence <= 0.0057, FPR = 0.0016) 7\n",
      "CantelliConstraint(0.0000 <= KlDivergence <= 0.0060, FPR = 0.0015) 7\n",
      "CantelliConstraint(0.0000 <= KlDivergence <= 0.0062, FPR = 0.0014) 7\n",
      "CantelliConstraint(0.0000 <= KlDivergence <= 0.0064, FPR = 0.0013) 7\n",
      "CantelliConstraint(0.0000 <= KlDivergence <= 0.0066, FPR = 0.0012) 7\n",
      "CantelliConstraint(0.0000 <= KlDivergence <= 0.0068, FPR = 0.0011) 7\n",
      "CantelliConstraint(0.0000 <= KlDivergence <= 0.0070, FPR = 0.0010) 7\n",
      "CantelliConstraint(0.0000 <= KlDivergence <= 0.0072, FPR = 0.0010) 7\n",
      "CantelliConstraint(0.0000 <= KlDivergence <= 0.0074, FPR = 0.0009) 7\n",
      "CantelliConstraint(0.0000 <= KlDivergence <= 0.0076, FPR = 0.0009) 7\n",
      "CantelliConstraint(0.0000 <= KlDivergence <= 0.0079, FPR = 0.0008) 7\n",
      "CantelliConstraint(0.0000 <= KlDivergence <= 0.0081, FPR = 0.0008) 7\n",
      "CantelliConstraint(0.0000 <= KlDivergence <= 0.0083, FPR = 0.0007) 7\n",
      "CantelliConstraint(0.0000 <= KlDivergence <= 0.0085, FPR = 0.0007) 7\n",
      "CantelliConstraint(0.0000 <= KlDivergence <= 0.0087, FPR = 0.0007) 7\n",
      "CantelliConstraint(0.0000 <= KlDivergence <= 0.0089, FPR = 0.0006) 7\n",
      "CantelliConstraint(0.0000 <= KlDivergence <= 0.0091, FPR = 0.0006) 7\n",
      "CantelliConstraint(0.0000 <= KlDivergence <= 0.0093, FPR = 0.0006) 7\n",
      "CantelliConstraint(0.0000 <= KlDivergence <= 0.0095, FPR = 0.0005) 7\n",
      "CantelliConstraint(0.0000 <= KlDivergence <= 0.0097, FPR = 0.0005) 7\n",
      "CantelliConstraint(0.0000 <= KlDivergence <= 0.0100, FPR = 0.0005) 7\n",
      "CantelliConstraint(0.0000 <= KlDivergence <= 0.0102, FPR = 0.0005) 7\n",
      "CantelliConstraint(0.0000 <= KlDivergence <= 0.0104, FPR = 0.0005) 7\n",
      "CantelliConstraint(0.0000 <= KlDivergence <= 0.0106, FPR = 0.0004) 7\n",
      "ChebyshevConstraint(-0.0618 <= KsDist <= 1.0299, FPR = 0.2500) 1\n",
      "ChebyshevConstraint(-0.3347 <= KsDist <= 1.3028, FPR = 0.1111) 1\n",
      "ChebyshevConstraint(-0.6076 <= KsDist <= 1.5757, FPR = 0.0625) 1\n",
      "ChebyshevConstraint(-0.8805 <= KsDist <= 1.8486, FPR = 0.0400) 1\n",
      "ChebyshevConstraint(-1.1535 <= KsDist <= 2.1215, FPR = 0.0278) 1\n",
      "ChebyshevConstraint(-1.4264 <= KsDist <= 2.3945, FPR = 0.0204) 1\n",
      "ChebyshevConstraint(-1.6993 <= KsDist <= 2.6674, FPR = 0.0156) 1\n",
      "ChebyshevConstraint(-1.9722 <= KsDist <= 2.9403, FPR = 0.0123) 1\n",
      "ChebyshevConstraint(-2.2451 <= KsDist <= 3.2132, FPR = 0.0100) 1\n",
      "ChebyshevConstraint(-2.5181 <= KsDist <= 3.4861, FPR = 0.0083) 1\n",
      "ChebyshevConstraint(-2.7910 <= KsDist <= 3.7590, FPR = 0.0069) 1\n",
      "ChebyshevConstraint(-3.0639 <= KsDist <= 4.0320, FPR = 0.0059) 1\n",
      "ChebyshevConstraint(-3.3368 <= KsDist <= 4.3049, FPR = 0.0051) 1\n",
      "ChebyshevConstraint(-3.6097 <= KsDist <= 4.5778, FPR = 0.0044) 1\n",
      "ChebyshevConstraint(-3.8826 <= KsDist <= 4.8507, FPR = 0.0039) 1\n",
      "ChebyshevConstraint(-4.1556 <= KsDist <= 5.1236, FPR = 0.0035) 1\n",
      "ChebyshevConstraint(-4.4285 <= KsDist <= 5.3966, FPR = 0.0031) 1\n",
      "ChebyshevConstraint(-4.7014 <= KsDist <= 5.6695, FPR = 0.0028) 1\n",
      "ChebyshevConstraint(-4.9743 <= KsDist <= 5.9424, FPR = 0.0025) 1\n",
      "ChebyshevConstraint(-5.2472 <= KsDist <= 6.2153, FPR = 0.0023) 1\n",
      "ChebyshevConstraint(-5.5201 <= KsDist <= 6.4882, FPR = 0.0021) 1\n",
      "ChebyshevConstraint(-5.7931 <= KsDist <= 6.7611, FPR = 0.0019) 1\n",
      "ChebyshevConstraint(-6.0660 <= KsDist <= 7.0341, FPR = 0.0017) 1\n",
      "ChebyshevConstraint(-6.3389 <= KsDist <= 7.3070, FPR = 0.0016) 1\n",
      "ChebyshevConstraint(-6.6118 <= KsDist <= 7.5799, FPR = 0.0015) 1\n",
      "ChebyshevConstraint(-6.8847 <= KsDist <= 7.8528, FPR = 0.0014) 1\n",
      "ChebyshevConstraint(-7.1577 <= KsDist <= 8.1257, FPR = 0.0013) 1\n",
      "ChebyshevConstraint(-7.4306 <= KsDist <= 8.3986, FPR = 0.0012) 1\n",
      "ChebyshevConstraint(-7.7035 <= KsDist <= 8.6716, FPR = 0.0011) 1\n",
      "ChebyshevConstraint(-7.9764 <= KsDist <= 8.9445, FPR = 0.0010) 1\n",
      "ChebyshevConstraint(-8.2493 <= KsDist <= 9.2174, FPR = 0.0010) 1\n",
      "ChebyshevConstraint(-8.5222 <= KsDist <= 9.4903, FPR = 0.0009) 1\n",
      "ChebyshevConstraint(-8.7952 <= KsDist <= 9.7632, FPR = 0.0009) 1\n",
      "ChebyshevConstraint(-9.0681 <= KsDist <= 10.0362, FPR = 0.0008) 1\n",
      "ChebyshevConstraint(-9.3410 <= KsDist <= 10.3091, FPR = 0.0008) 1\n",
      "ChebyshevConstraint(-9.6139 <= KsDist <= 10.5820, FPR = 0.0007) 1\n",
      "ChebyshevConstraint(-9.8868 <= KsDist <= 10.8549, FPR = 0.0007) 1\n",
      "ChebyshevConstraint(-10.1597 <= KsDist <= 11.1278, FPR = 0.0007) 1\n",
      "ChebyshevConstraint(-10.4327 <= KsDist <= 11.4007, FPR = 0.0006) 1\n",
      "ChebyshevConstraint(-10.7056 <= KsDist <= 11.6737, FPR = 0.0006) 1\n",
      "ChebyshevConstraint(-10.9785 <= KsDist <= 11.9466, FPR = 0.0006) 1\n",
      "ChebyshevConstraint(-11.2514 <= KsDist <= 12.2195, FPR = 0.0005) 1\n",
      "ChebyshevConstraint(-11.5243 <= KsDist <= 12.4924, FPR = 0.0005) 1\n",
      "ChebyshevConstraint(-11.7972 <= KsDist <= 12.7653, FPR = 0.0005) 1\n",
      "ChebyshevConstraint(-12.0702 <= KsDist <= 13.0382, FPR = 0.0005) 1\n",
      "ChebyshevConstraint(-12.3431 <= KsDist <= 13.3112, FPR = 0.0005) 1\n",
      "ChebyshevConstraint(-12.6160 <= KsDist <= 13.5841, FPR = 0.0004) 1\n",
      "ChebyshevConstraint(-12.8889 <= KsDist <= 13.8570, FPR = 0.0004) 1\n",
      "CantelliConstraint(0.0000 <= KsDist <= 0.7570, FPR = 0.5000) 17\n",
      "CantelliConstraint(0.0000 <= KsDist <= 1.0299, FPR = 0.2000) 1\n",
      "CantelliConstraint(0.0000 <= KsDist <= 1.3028, FPR = 0.1000) 1\n",
      "CantelliConstraint(0.0000 <= KsDist <= 1.5757, FPR = 0.0588) 1\n",
      "CantelliConstraint(0.0000 <= KsDist <= 1.8486, FPR = 0.0385) 1\n",
      "CantelliConstraint(0.0000 <= KsDist <= 2.1215, FPR = 0.0270) 1\n",
      "CantelliConstraint(0.0000 <= KsDist <= 2.3945, FPR = 0.0200) 1\n",
      "CantelliConstraint(0.0000 <= KsDist <= 2.6674, FPR = 0.0154) 1\n",
      "CantelliConstraint(0.0000 <= KsDist <= 2.9403, FPR = 0.0122) 1\n",
      "CantelliConstraint(0.0000 <= KsDist <= 3.2132, FPR = 0.0099) 1\n",
      "CantelliConstraint(0.0000 <= KsDist <= 3.4861, FPR = 0.0082) 1\n",
      "CantelliConstraint(0.0000 <= KsDist <= 3.7590, FPR = 0.0069) 1\n",
      "CantelliConstraint(0.0000 <= KsDist <= 4.0320, FPR = 0.0059) 1\n",
      "CantelliConstraint(0.0000 <= KsDist <= 4.3049, FPR = 0.0051) 1\n",
      "CantelliConstraint(0.0000 <= KsDist <= 4.5778, FPR = 0.0044) 1\n",
      "CantelliConstraint(0.0000 <= KsDist <= 4.8507, FPR = 0.0039) 1\n",
      "CantelliConstraint(0.0000 <= KsDist <= 5.1236, FPR = 0.0034) 1\n",
      "CantelliConstraint(0.0000 <= KsDist <= 5.3966, FPR = 0.0031) 1\n",
      "CantelliConstraint(0.0000 <= KsDist <= 5.6695, FPR = 0.0028) 1\n",
      "CantelliConstraint(0.0000 <= KsDist <= 5.9424, FPR = 0.0025) 1\n",
      "CantelliConstraint(0.0000 <= KsDist <= 6.2153, FPR = 0.0023) 1\n",
      "CantelliConstraint(0.0000 <= KsDist <= 6.4882, FPR = 0.0021) 1\n",
      "CantelliConstraint(0.0000 <= KsDist <= 6.7611, FPR = 0.0019) 1\n",
      "CantelliConstraint(0.0000 <= KsDist <= 7.0341, FPR = 0.0017) 1\n",
      "CantelliConstraint(0.0000 <= KsDist <= 7.3070, FPR = 0.0016) 1\n",
      "CantelliConstraint(0.0000 <= KsDist <= 7.5799, FPR = 0.0015) 1\n",
      "CantelliConstraint(0.0000 <= KsDist <= 7.8528, FPR = 0.0014) 1\n",
      "CantelliConstraint(0.0000 <= KsDist <= 8.1257, FPR = 0.0013) 1\n",
      "CantelliConstraint(0.0000 <= KsDist <= 8.3986, FPR = 0.0012) 1\n",
      "CantelliConstraint(0.0000 <= KsDist <= 8.6716, FPR = 0.0011) 1\n",
      "CantelliConstraint(0.0000 <= KsDist <= 8.9445, FPR = 0.0010) 1\n",
      "CantelliConstraint(0.0000 <= KsDist <= 9.2174, FPR = 0.0010) 1\n",
      "CantelliConstraint(0.0000 <= KsDist <= 9.4903, FPR = 0.0009) 1\n",
      "CantelliConstraint(0.0000 <= KsDist <= 9.7632, FPR = 0.0009) 1\n",
      "CantelliConstraint(0.0000 <= KsDist <= 10.0362, FPR = 0.0008) 1\n",
      "CantelliConstraint(0.0000 <= KsDist <= 10.3091, FPR = 0.0008) 1\n",
      "CantelliConstraint(0.0000 <= KsDist <= 10.5820, FPR = 0.0007) 1\n",
      "CantelliConstraint(0.0000 <= KsDist <= 10.8549, FPR = 0.0007) 1\n",
      "CantelliConstraint(0.0000 <= KsDist <= 11.1278, FPR = 0.0007) 1\n",
      "CantelliConstraint(0.0000 <= KsDist <= 11.4007, FPR = 0.0006) 1\n",
      "CantelliConstraint(0.0000 <= KsDist <= 11.6737, FPR = 0.0006) 1\n",
      "CantelliConstraint(0.0000 <= KsDist <= 11.9466, FPR = 0.0006) 1\n",
      "CantelliConstraint(0.0000 <= KsDist <= 12.2195, FPR = 0.0005) 1\n",
      "CantelliConstraint(0.0000 <= KsDist <= 12.4924, FPR = 0.0005) 1\n",
      "CantelliConstraint(0.0000 <= KsDist <= 12.7653, FPR = 0.0005) 1\n",
      "CantelliConstraint(0.0000 <= KsDist <= 13.0382, FPR = 0.0005) 1\n",
      "CantelliConstraint(0.0000 <= KsDist <= 13.3112, FPR = 0.0005) 1\n",
      "CantelliConstraint(0.0000 <= KsDist <= 13.5841, FPR = 0.0004) 1\n",
      "ChebyshevConstraint(-0.0034 <= CohenD <= 0.0179, FPR = 0.2500) 17\n",
      "ChebyshevConstraint(-0.0087 <= CohenD <= 0.0232, FPR = 0.1111) 17\n",
      "ChebyshevConstraint(-0.0140 <= CohenD <= 0.0285, FPR = 0.0625) 17\n",
      "ChebyshevConstraint(-0.0193 <= CohenD <= 0.0338, FPR = 0.0400) 16\n",
      "ChebyshevConstraint(-0.0246 <= CohenD <= 0.0391, FPR = 0.0278) 16\n",
      "ChebyshevConstraint(-0.0299 <= CohenD <= 0.0444, FPR = 0.0204) 16\n",
      "ChebyshevConstraint(-0.0352 <= CohenD <= 0.0497, FPR = 0.0156) 16\n",
      "ChebyshevConstraint(-0.0405 <= CohenD <= 0.0550, FPR = 0.0123) 16\n",
      "ChebyshevConstraint(-0.0458 <= CohenD <= 0.0603, FPR = 0.0100) 16\n",
      "ChebyshevConstraint(-0.0511 <= CohenD <= 0.0656, FPR = 0.0083) 16\n",
      "ChebyshevConstraint(-0.0564 <= CohenD <= 0.0709, FPR = 0.0069) 16\n",
      "ChebyshevConstraint(-0.0617 <= CohenD <= 0.0762, FPR = 0.0059) 16\n",
      "ChebyshevConstraint(-0.0670 <= CohenD <= 0.0815, FPR = 0.0051) 16\n",
      "ChebyshevConstraint(-0.0723 <= CohenD <= 0.0868, FPR = 0.0044) 16\n",
      "ChebyshevConstraint(-0.0776 <= CohenD <= 0.0921, FPR = 0.0039) 16\n",
      "ChebyshevConstraint(-0.0829 <= CohenD <= 0.0974, FPR = 0.0035) 16\n",
      "ChebyshevConstraint(-0.0882 <= CohenD <= 0.1027, FPR = 0.0031) 16\n",
      "ChebyshevConstraint(-0.0935 <= CohenD <= 0.1080, FPR = 0.0028) 16\n",
      "ChebyshevConstraint(-0.0988 <= CohenD <= 0.1133, FPR = 0.0025) 16\n",
      "ChebyshevConstraint(-0.1041 <= CohenD <= 0.1186, FPR = 0.0023) 16\n",
      "ChebyshevConstraint(-0.1094 <= CohenD <= 0.1239, FPR = 0.0021) 16\n",
      "ChebyshevConstraint(-0.1147 <= CohenD <= 0.1292, FPR = 0.0019) 16\n",
      "ChebyshevConstraint(-0.1200 <= CohenD <= 0.1345, FPR = 0.0017) 16\n",
      "ChebyshevConstraint(-0.1254 <= CohenD <= 0.1398, FPR = 0.0016) 16\n",
      "ChebyshevConstraint(-0.1307 <= CohenD <= 0.1452, FPR = 0.0015) 16\n",
      "ChebyshevConstraint(-0.1360 <= CohenD <= 0.1505, FPR = 0.0014) 16\n",
      "ChebyshevConstraint(-0.1413 <= CohenD <= 0.1558, FPR = 0.0013) 16\n",
      "ChebyshevConstraint(-0.1466 <= CohenD <= 0.1611, FPR = 0.0012) 16\n",
      "ChebyshevConstraint(-0.1519 <= CohenD <= 0.1664, FPR = 0.0011) 16\n",
      "ChebyshevConstraint(-0.1572 <= CohenD <= 0.1717, FPR = 0.0010) 16\n",
      "ChebyshevConstraint(-0.1625 <= CohenD <= 0.1770, FPR = 0.0010) 16\n",
      "ChebyshevConstraint(-0.1678 <= CohenD <= 0.1823, FPR = 0.0009) 16\n",
      "ChebyshevConstraint(-0.1731 <= CohenD <= 0.1876, FPR = 0.0009) 16\n",
      "ChebyshevConstraint(-0.1784 <= CohenD <= 0.1929, FPR = 0.0008) 16\n",
      "ChebyshevConstraint(-0.1837 <= CohenD <= 0.1982, FPR = 0.0008) 16\n",
      "ChebyshevConstraint(-0.1890 <= CohenD <= 0.2035, FPR = 0.0007) 16\n",
      "ChebyshevConstraint(-0.1943 <= CohenD <= 0.2088, FPR = 0.0007) 16\n",
      "ChebyshevConstraint(-0.1996 <= CohenD <= 0.2141, FPR = 0.0007) 16\n",
      "ChebyshevConstraint(-0.2049 <= CohenD <= 0.2194, FPR = 0.0006) 16\n",
      "ChebyshevConstraint(-0.2102 <= CohenD <= 0.2247, FPR = 0.0006) 16\n",
      "ChebyshevConstraint(-0.2155 <= CohenD <= 0.2300, FPR = 0.0006) 16\n",
      "ChebyshevConstraint(-0.2208 <= CohenD <= 0.2353, FPR = 0.0005) 16\n",
      "ChebyshevConstraint(-0.2261 <= CohenD <= 0.2406, FPR = 0.0005) 16\n",
      "ChebyshevConstraint(-0.2314 <= CohenD <= 0.2459, FPR = 0.0005) 16\n",
      "ChebyshevConstraint(-0.2367 <= CohenD <= 0.2512, FPR = 0.0005) 16\n",
      "ChebyshevConstraint(-0.2420 <= CohenD <= 0.2565, FPR = 0.0005) 16\n",
      "ChebyshevConstraint(-0.2473 <= CohenD <= 0.2618, FPR = 0.0004) 16\n",
      "ChebyshevConstraint(-0.2527 <= CohenD <= 0.2671, FPR = 0.0004) 16\n",
      "CantelliConstraint(0.0000 <= CohenD <= 0.0126, FPR = 0.5000) 17\n",
      "CantelliConstraint(0.0000 <= CohenD <= 0.0179, FPR = 0.2000) 17\n",
      "CantelliConstraint(0.0000 <= CohenD <= 0.0232, FPR = 0.1000) 17\n",
      "CantelliConstraint(0.0000 <= CohenD <= 0.0285, FPR = 0.0588) 17\n",
      "CantelliConstraint(0.0000 <= CohenD <= 0.0338, FPR = 0.0385) 16\n",
      "CantelliConstraint(0.0000 <= CohenD <= 0.0391, FPR = 0.0270) 16\n",
      "CantelliConstraint(0.0000 <= CohenD <= 0.0444, FPR = 0.0200) 16\n",
      "CantelliConstraint(0.0000 <= CohenD <= 0.0497, FPR = 0.0154) 16\n",
      "CantelliConstraint(0.0000 <= CohenD <= 0.0550, FPR = 0.0122) 16\n",
      "CantelliConstraint(0.0000 <= CohenD <= 0.0603, FPR = 0.0099) 16\n",
      "CantelliConstraint(0.0000 <= CohenD <= 0.0656, FPR = 0.0082) 16\n",
      "CantelliConstraint(0.0000 <= CohenD <= 0.0709, FPR = 0.0069) 16\n",
      "CantelliConstraint(0.0000 <= CohenD <= 0.0762, FPR = 0.0059) 16\n",
      "CantelliConstraint(0.0000 <= CohenD <= 0.0815, FPR = 0.0051) 16\n",
      "CantelliConstraint(0.0000 <= CohenD <= 0.0868, FPR = 0.0044) 16\n",
      "CantelliConstraint(0.0000 <= CohenD <= 0.0921, FPR = 0.0039) 16\n",
      "CantelliConstraint(0.0000 <= CohenD <= 0.0974, FPR = 0.0034) 16\n",
      "CantelliConstraint(0.0000 <= CohenD <= 0.1027, FPR = 0.0031) 16\n",
      "CantelliConstraint(0.0000 <= CohenD <= 0.1080, FPR = 0.0028) 16\n",
      "CantelliConstraint(0.0000 <= CohenD <= 0.1133, FPR = 0.0025) 16\n",
      "CantelliConstraint(0.0000 <= CohenD <= 0.1186, FPR = 0.0023) 16\n",
      "CantelliConstraint(0.0000 <= CohenD <= 0.1239, FPR = 0.0021) 16\n",
      "CantelliConstraint(0.0000 <= CohenD <= 0.1292, FPR = 0.0019) 16\n",
      "CantelliConstraint(0.0000 <= CohenD <= 0.1345, FPR = 0.0017) 16\n",
      "CantelliConstraint(0.0000 <= CohenD <= 0.1398, FPR = 0.0016) 16\n",
      "CantelliConstraint(0.0000 <= CohenD <= 0.1452, FPR = 0.0015) 16\n",
      "CantelliConstraint(0.0000 <= CohenD <= 0.1505, FPR = 0.0014) 16\n",
      "CantelliConstraint(0.0000 <= CohenD <= 0.1558, FPR = 0.0013) 16\n",
      "CantelliConstraint(0.0000 <= CohenD <= 0.1611, FPR = 0.0012) 16\n",
      "CantelliConstraint(0.0000 <= CohenD <= 0.1664, FPR = 0.0011) 16\n",
      "CantelliConstraint(0.0000 <= CohenD <= 0.1717, FPR = 0.0010) 16\n",
      "CantelliConstraint(0.0000 <= CohenD <= 0.1770, FPR = 0.0010) 16\n",
      "CantelliConstraint(0.0000 <= CohenD <= 0.1823, FPR = 0.0009) 16\n",
      "CantelliConstraint(0.0000 <= CohenD <= 0.1876, FPR = 0.0009) 16\n",
      "CantelliConstraint(0.0000 <= CohenD <= 0.1929, FPR = 0.0008) 16\n",
      "CantelliConstraint(0.0000 <= CohenD <= 0.1982, FPR = 0.0008) 16\n",
      "CantelliConstraint(0.0000 <= CohenD <= 0.2035, FPR = 0.0007) 16\n",
      "CantelliConstraint(0.0000 <= CohenD <= 0.2088, FPR = 0.0007) 16\n",
      "CantelliConstraint(0.0000 <= CohenD <= 0.2141, FPR = 0.0007) 16\n",
      "CantelliConstraint(0.0000 <= CohenD <= 0.2194, FPR = 0.0006) 16\n",
      "CantelliConstraint(0.0000 <= CohenD <= 0.2247, FPR = 0.0006) 16\n",
      "CantelliConstraint(0.0000 <= CohenD <= 0.2300, FPR = 0.0006) 16\n",
      "CantelliConstraint(0.0000 <= CohenD <= 0.2353, FPR = 0.0005) 16\n",
      "CantelliConstraint(0.0000 <= CohenD <= 0.2406, FPR = 0.0005) 16\n",
      "CantelliConstraint(0.0000 <= CohenD <= 0.2459, FPR = 0.0005) 16\n",
      "CantelliConstraint(0.0000 <= CohenD <= 0.2512, FPR = 0.0005) 16\n",
      "CantelliConstraint(0.0000 <= CohenD <= 0.2565, FPR = 0.0005) 16\n",
      "CantelliConstraint(0.0000 <= CohenD <= 0.2618, FPR = 0.0004) 16\n",
      "{'numeric_8': CLTConstraint(18030.5240 <= RowCount <= 21755.8093, FPR = 0.1336), FPR = 0.133614}\n",
      "True\n",
      "True\n",
      "True\n",
      "True\n",
      "True\n",
      "True\n",
      "False\n",
      "False\n",
      "False\n",
      "False\n",
      "True\n",
      "True\n",
      "True\n",
      "True\n",
      "True\n",
      "True\n",
      "True\n",
      "True\n",
      "True\n",
      "True\n",
      "True\n",
      "True\n",
      "True\n"
     ]
    }
   ],
   "source": [
    "avh = AVH(columns=[column], verbose=0, random_state=42, optimise_search_space=False)\n",
    "PS = avh.generate(train_h, fpr_target=0.25)\n",
    "\n",
    "print(PS)\n",
    "\n",
    "for recall_test in perturbations:\n",
    "    print(PS[column].predict(recall_test[1]))"
   ]
  },
  {
   "cell_type": "code",
   "execution_count": null,
   "metadata": {},
   "outputs": [],
   "source": [
    "# general casse:\n",
    "def test_precision(history: List[pd.DataFrame], column: str):\n",
    "    fp_per_threshold = np.zeros(shape=len(fpr_budgets))\n",
    "\n",
    "    avh = AVH(columns=[column], verbose=0, random_state=42, optimise_search_space=False)\n",
    "    for i in range(total_windows):\n",
    "        train_h = history[i : i + train_history_window_size]\n",
    "        test_h = history[i + train_history_window_size]\n",
    "\n",
    "        for j, fpr_budget in enumerate(fpr_budgets):\n",
    "            PS = avh.generate(train_h, fpr_target=fpr_budget)\n",
    "\n",
    "            column_prediction = not PS[column].predict(test_h[column])\n",
    "            fp_per_threshold[j] += column_prediction\n",
    "\n",
    "    return fp_per_threshold\n",
    "\n",
    "\n",
    "def test_recall(history: List[pd.DataFrame], column: str):\n",
    "    tp_per_threshold = np.zeros(shape=len(fpr_budgets))\n",
    "\n",
    "    train_h = history[:train_history_window_size]\n",
    "    test_h = history[train_history_window_size]\n",
    "    recall_tests = DC_GENERATOR.generate(test_h)[column]\n",
    "\n",
    "    avh = AVH(columns=[column], verbose=0, random_state=42, optimise_search_space=False)\n",
    "\n",
    "    for j, fpr_budget in enumerate(fpr_budgets):\n",
    "        PS = avh.generate(train_h, fpr_target=fpr_budget)\n",
    "\n",
    "        for recall_test in recall_tests:\n",
    "            column_prediction = not PS[column].predict(recall_test[1])\n",
    "            tp_per_threshold[j] += column_prediction\n",
    "\n",
    "    return tp_per_threshold\n",
    "\n",
    "\n",
    "def test_algorithm(history: List[pd.DataFrame], column: str):\n",
    "    fp_per_threshold = test_precision(history, column)\n",
    "    tp_per_thershold = test_recall(history, column)\n",
    "\n",
    "    return fp_per_threshold, tp_per_thershold\n",
    "\n",
    "\n",
    "# column_fp_per_threshold = []\n",
    "# column_tp_per_threshold = []\n",
    "\n",
    "# for i, column in enumerate(tqdm(columns)):\n",
    "#     history = [run[i] for run in H_FULL]\n",
    "#     # fp_per_threshold = test_precision(history, column)\n",
    "#     tp_per_thershold = test_recall(history, column)\n",
    "\n",
    "#     # column_fp_per_threshold.append(fp_per_threshold)\n",
    "#     column_tp_per_threshold.append(tp_per_thershold)"
   ]
  },
  {
   "cell_type": "code",
   "execution_count": null,
   "metadata": {},
   "outputs": [],
   "source": [
    "from joblib import Parallel, delayed"
   ]
  },
  {
   "cell_type": "code",
   "execution_count": null,
   "metadata": {},
   "outputs": [
    {
     "name": "stderr",
     "output_type": "stream",
     "text": [
      "100%|██████████| 2/2 [06:48<00:00, 204.19s/it]\n"
     ]
    }
   ],
   "source": [
    "# parallelize per column\n",
    "column_fp_per_threshold = []\n",
    "column_tp_per_threshold = []\n",
    "\n",
    "results = Parallel(n_jobs=2, timeout=9999, return_as=\"generator\")(\n",
    "    delayed(test_algorithm)([run[i] for run in H_FULL], col) for i, col in enumerate(columns)\n",
    ")\n",
    "\n",
    "for fp_array, tp_array in tqdm(results, total=len(columns)):\n",
    "    column_fp_per_threshold.append(fp_array)\n",
    "    column_tp_per_threshold.append(tp_array)"
   ]
  },
  {
   "cell_type": "code",
   "execution_count": null,
   "metadata": {},
   "outputs": [
    {
     "data": {
      "text/plain": [
       "[array([0., 0., 0., 0., 2., 4.]), array([0., 0., 0., 0., 1., 1.])]"
      ]
     },
     "execution_count": 17,
     "metadata": {},
     "output_type": "execute_result"
    }
   ],
   "source": [
    "column_fp_per_threshold"
   ]
  },
  {
   "cell_type": "code",
   "execution_count": null,
   "metadata": {},
   "outputs": [
    {
     "data": {
      "text/plain": [
       "[array([23., 23., 22., 23., 23., 23.]), array([23., 23., 23., 23., 23., 23.])]"
      ]
     },
     "execution_count": 18,
     "metadata": {},
     "output_type": "execute_result"
    }
   ],
   "source": [
    "column_tp_per_threshold"
   ]
  },
  {
   "cell_type": "code",
   "execution_count": null,
   "metadata": {},
   "outputs": [],
   "source": [
    "fp_predictions = np.array(column_fp_per_threshold)\n",
    "tp_predictions = np.array(column_tp_per_threshold)"
   ]
  },
  {
   "cell_type": "code",
   "execution_count": null,
   "metadata": {},
   "outputs": [
    {
     "data": {
      "text/plain": [
       "array([[0., 0., 0., 0., 2., 4.],\n",
       "       [0., 0., 0., 0., 1., 1.]])"
      ]
     },
     "execution_count": 20,
     "metadata": {},
     "output_type": "execute_result"
    }
   ],
   "source": [
    "fp_predictions"
   ]
  },
  {
   "cell_type": "code",
   "execution_count": null,
   "metadata": {},
   "outputs": [
    {
     "data": {
      "text/plain": [
       "array([[23., 23., 22., 23., 23., 23.],\n",
       "       [23., 23., 23., 23., 23., 23.]])"
      ]
     },
     "execution_count": 21,
     "metadata": {},
     "output_type": "execute_result"
    }
   ],
   "source": [
    "tp_predictions"
   ]
  },
  {
   "cell_type": "code",
   "execution_count": null,
   "metadata": {},
   "outputs": [],
   "source": [
    "recalls = tp_predictions / 23\n",
    "precisions = tp_predictions / (fp_predictions + tp_predictions)"
   ]
  },
  {
   "cell_type": "code",
   "execution_count": null,
   "metadata": {},
   "outputs": [
    {
     "data": {
      "text/plain": [
       "(2, 6)"
      ]
     },
     "execution_count": 29,
     "metadata": {},
     "output_type": "execute_result"
    }
   ],
   "source": [
    "recalls.shape"
   ]
  },
  {
   "cell_type": "code",
   "execution_count": null,
   "metadata": {},
   "outputs": [],
   "source": [
    "a = recalls.mean(axis=0)\n",
    "b = precisions.mean(axis=0)"
   ]
  },
  {
   "cell_type": "code",
   "execution_count": null,
   "metadata": {},
   "outputs": [
    {
     "data": {
      "application/vnd.plotly.v1+json": {
       "config": {
        "plotlyServerURL": "https://plot.ly"
       },
       "data": [
        {
         "hovertemplate": "x=%{x}<br>y=%{y}<extra></extra>",
         "legendgroup": "",
         "line": {
          "color": "#636efa",
          "dash": "solid"
         },
         "marker": {
          "symbol": "circle"
         },
         "mode": "lines",
         "name": "",
         "orientation": "v",
         "showlegend": false,
         "type": "scatter",
         "x": [
          1,
          1,
          0.9782608695652174,
          1,
          1,
          1
         ],
         "xaxis": "x",
         "y": [
          1,
          1,
          1,
          1,
          0.9391666666666667,
          0.9050925925925926
         ],
         "yaxis": "y"
        }
       ],
       "layout": {
        "legend": {
         "tracegroupgap": 0
        },
        "margin": {
         "t": 60
        },
        "template": {
         "data": {
          "bar": [
           {
            "error_x": {
             "color": "#2a3f5f"
            },
            "error_y": {
             "color": "#2a3f5f"
            },
            "marker": {
             "line": {
              "color": "#E5ECF6",
              "width": 0.5
             },
             "pattern": {
              "fillmode": "overlay",
              "size": 10,
              "solidity": 0.2
             }
            },
            "type": "bar"
           }
          ],
          "barpolar": [
           {
            "marker": {
             "line": {
              "color": "#E5ECF6",
              "width": 0.5
             },
             "pattern": {
              "fillmode": "overlay",
              "size": 10,
              "solidity": 0.2
             }
            },
            "type": "barpolar"
           }
          ],
          "carpet": [
           {
            "aaxis": {
             "endlinecolor": "#2a3f5f",
             "gridcolor": "white",
             "linecolor": "white",
             "minorgridcolor": "white",
             "startlinecolor": "#2a3f5f"
            },
            "baxis": {
             "endlinecolor": "#2a3f5f",
             "gridcolor": "white",
             "linecolor": "white",
             "minorgridcolor": "white",
             "startlinecolor": "#2a3f5f"
            },
            "type": "carpet"
           }
          ],
          "choropleth": [
           {
            "colorbar": {
             "outlinewidth": 0,
             "ticks": ""
            },
            "type": "choropleth"
           }
          ],
          "contour": [
           {
            "colorbar": {
             "outlinewidth": 0,
             "ticks": ""
            },
            "colorscale": [
             [
              0,
              "#0d0887"
             ],
             [
              0.1111111111111111,
              "#46039f"
             ],
             [
              0.2222222222222222,
              "#7201a8"
             ],
             [
              0.3333333333333333,
              "#9c179e"
             ],
             [
              0.4444444444444444,
              "#bd3786"
             ],
             [
              0.5555555555555556,
              "#d8576b"
             ],
             [
              0.6666666666666666,
              "#ed7953"
             ],
             [
              0.7777777777777778,
              "#fb9f3a"
             ],
             [
              0.8888888888888888,
              "#fdca26"
             ],
             [
              1,
              "#f0f921"
             ]
            ],
            "type": "contour"
           }
          ],
          "contourcarpet": [
           {
            "colorbar": {
             "outlinewidth": 0,
             "ticks": ""
            },
            "type": "contourcarpet"
           }
          ],
          "heatmap": [
           {
            "colorbar": {
             "outlinewidth": 0,
             "ticks": ""
            },
            "colorscale": [
             [
              0,
              "#0d0887"
             ],
             [
              0.1111111111111111,
              "#46039f"
             ],
             [
              0.2222222222222222,
              "#7201a8"
             ],
             [
              0.3333333333333333,
              "#9c179e"
             ],
             [
              0.4444444444444444,
              "#bd3786"
             ],
             [
              0.5555555555555556,
              "#d8576b"
             ],
             [
              0.6666666666666666,
              "#ed7953"
             ],
             [
              0.7777777777777778,
              "#fb9f3a"
             ],
             [
              0.8888888888888888,
              "#fdca26"
             ],
             [
              1,
              "#f0f921"
             ]
            ],
            "type": "heatmap"
           }
          ],
          "heatmapgl": [
           {
            "colorbar": {
             "outlinewidth": 0,
             "ticks": ""
            },
            "colorscale": [
             [
              0,
              "#0d0887"
             ],
             [
              0.1111111111111111,
              "#46039f"
             ],
             [
              0.2222222222222222,
              "#7201a8"
             ],
             [
              0.3333333333333333,
              "#9c179e"
             ],
             [
              0.4444444444444444,
              "#bd3786"
             ],
             [
              0.5555555555555556,
              "#d8576b"
             ],
             [
              0.6666666666666666,
              "#ed7953"
             ],
             [
              0.7777777777777778,
              "#fb9f3a"
             ],
             [
              0.8888888888888888,
              "#fdca26"
             ],
             [
              1,
              "#f0f921"
             ]
            ],
            "type": "heatmapgl"
           }
          ],
          "histogram": [
           {
            "marker": {
             "pattern": {
              "fillmode": "overlay",
              "size": 10,
              "solidity": 0.2
             }
            },
            "type": "histogram"
           }
          ],
          "histogram2d": [
           {
            "colorbar": {
             "outlinewidth": 0,
             "ticks": ""
            },
            "colorscale": [
             [
              0,
              "#0d0887"
             ],
             [
              0.1111111111111111,
              "#46039f"
             ],
             [
              0.2222222222222222,
              "#7201a8"
             ],
             [
              0.3333333333333333,
              "#9c179e"
             ],
             [
              0.4444444444444444,
              "#bd3786"
             ],
             [
              0.5555555555555556,
              "#d8576b"
             ],
             [
              0.6666666666666666,
              "#ed7953"
             ],
             [
              0.7777777777777778,
              "#fb9f3a"
             ],
             [
              0.8888888888888888,
              "#fdca26"
             ],
             [
              1,
              "#f0f921"
             ]
            ],
            "type": "histogram2d"
           }
          ],
          "histogram2dcontour": [
           {
            "colorbar": {
             "outlinewidth": 0,
             "ticks": ""
            },
            "colorscale": [
             [
              0,
              "#0d0887"
             ],
             [
              0.1111111111111111,
              "#46039f"
             ],
             [
              0.2222222222222222,
              "#7201a8"
             ],
             [
              0.3333333333333333,
              "#9c179e"
             ],
             [
              0.4444444444444444,
              "#bd3786"
             ],
             [
              0.5555555555555556,
              "#d8576b"
             ],
             [
              0.6666666666666666,
              "#ed7953"
             ],
             [
              0.7777777777777778,
              "#fb9f3a"
             ],
             [
              0.8888888888888888,
              "#fdca26"
             ],
             [
              1,
              "#f0f921"
             ]
            ],
            "type": "histogram2dcontour"
           }
          ],
          "mesh3d": [
           {
            "colorbar": {
             "outlinewidth": 0,
             "ticks": ""
            },
            "type": "mesh3d"
           }
          ],
          "parcoords": [
           {
            "line": {
             "colorbar": {
              "outlinewidth": 0,
              "ticks": ""
             }
            },
            "type": "parcoords"
           }
          ],
          "pie": [
           {
            "automargin": true,
            "type": "pie"
           }
          ],
          "scatter": [
           {
            "fillpattern": {
             "fillmode": "overlay",
             "size": 10,
             "solidity": 0.2
            },
            "type": "scatter"
           }
          ],
          "scatter3d": [
           {
            "line": {
             "colorbar": {
              "outlinewidth": 0,
              "ticks": ""
             }
            },
            "marker": {
             "colorbar": {
              "outlinewidth": 0,
              "ticks": ""
             }
            },
            "type": "scatter3d"
           }
          ],
          "scattercarpet": [
           {
            "marker": {
             "colorbar": {
              "outlinewidth": 0,
              "ticks": ""
             }
            },
            "type": "scattercarpet"
           }
          ],
          "scattergeo": [
           {
            "marker": {
             "colorbar": {
              "outlinewidth": 0,
              "ticks": ""
             }
            },
            "type": "scattergeo"
           }
          ],
          "scattergl": [
           {
            "marker": {
             "colorbar": {
              "outlinewidth": 0,
              "ticks": ""
             }
            },
            "type": "scattergl"
           }
          ],
          "scattermapbox": [
           {
            "marker": {
             "colorbar": {
              "outlinewidth": 0,
              "ticks": ""
             }
            },
            "type": "scattermapbox"
           }
          ],
          "scatterpolar": [
           {
            "marker": {
             "colorbar": {
              "outlinewidth": 0,
              "ticks": ""
             }
            },
            "type": "scatterpolar"
           }
          ],
          "scatterpolargl": [
           {
            "marker": {
             "colorbar": {
              "outlinewidth": 0,
              "ticks": ""
             }
            },
            "type": "scatterpolargl"
           }
          ],
          "scatterternary": [
           {
            "marker": {
             "colorbar": {
              "outlinewidth": 0,
              "ticks": ""
             }
            },
            "type": "scatterternary"
           }
          ],
          "surface": [
           {
            "colorbar": {
             "outlinewidth": 0,
             "ticks": ""
            },
            "colorscale": [
             [
              0,
              "#0d0887"
             ],
             [
              0.1111111111111111,
              "#46039f"
             ],
             [
              0.2222222222222222,
              "#7201a8"
             ],
             [
              0.3333333333333333,
              "#9c179e"
             ],
             [
              0.4444444444444444,
              "#bd3786"
             ],
             [
              0.5555555555555556,
              "#d8576b"
             ],
             [
              0.6666666666666666,
              "#ed7953"
             ],
             [
              0.7777777777777778,
              "#fb9f3a"
             ],
             [
              0.8888888888888888,
              "#fdca26"
             ],
             [
              1,
              "#f0f921"
             ]
            ],
            "type": "surface"
           }
          ],
          "table": [
           {
            "cells": {
             "fill": {
              "color": "#EBF0F8"
             },
             "line": {
              "color": "white"
             }
            },
            "header": {
             "fill": {
              "color": "#C8D4E3"
             },
             "line": {
              "color": "white"
             }
            },
            "type": "table"
           }
          ]
         },
         "layout": {
          "annotationdefaults": {
           "arrowcolor": "#2a3f5f",
           "arrowhead": 0,
           "arrowwidth": 1
          },
          "autotypenumbers": "strict",
          "coloraxis": {
           "colorbar": {
            "outlinewidth": 0,
            "ticks": ""
           }
          },
          "colorscale": {
           "diverging": [
            [
             0,
             "#8e0152"
            ],
            [
             0.1,
             "#c51b7d"
            ],
            [
             0.2,
             "#de77ae"
            ],
            [
             0.3,
             "#f1b6da"
            ],
            [
             0.4,
             "#fde0ef"
            ],
            [
             0.5,
             "#f7f7f7"
            ],
            [
             0.6,
             "#e6f5d0"
            ],
            [
             0.7,
             "#b8e186"
            ],
            [
             0.8,
             "#7fbc41"
            ],
            [
             0.9,
             "#4d9221"
            ],
            [
             1,
             "#276419"
            ]
           ],
           "sequential": [
            [
             0,
             "#0d0887"
            ],
            [
             0.1111111111111111,
             "#46039f"
            ],
            [
             0.2222222222222222,
             "#7201a8"
            ],
            [
             0.3333333333333333,
             "#9c179e"
            ],
            [
             0.4444444444444444,
             "#bd3786"
            ],
            [
             0.5555555555555556,
             "#d8576b"
            ],
            [
             0.6666666666666666,
             "#ed7953"
            ],
            [
             0.7777777777777778,
             "#fb9f3a"
            ],
            [
             0.8888888888888888,
             "#fdca26"
            ],
            [
             1,
             "#f0f921"
            ]
           ],
           "sequentialminus": [
            [
             0,
             "#0d0887"
            ],
            [
             0.1111111111111111,
             "#46039f"
            ],
            [
             0.2222222222222222,
             "#7201a8"
            ],
            [
             0.3333333333333333,
             "#9c179e"
            ],
            [
             0.4444444444444444,
             "#bd3786"
            ],
            [
             0.5555555555555556,
             "#d8576b"
            ],
            [
             0.6666666666666666,
             "#ed7953"
            ],
            [
             0.7777777777777778,
             "#fb9f3a"
            ],
            [
             0.8888888888888888,
             "#fdca26"
            ],
            [
             1,
             "#f0f921"
            ]
           ]
          },
          "colorway": [
           "#636efa",
           "#EF553B",
           "#00cc96",
           "#ab63fa",
           "#FFA15A",
           "#19d3f3",
           "#FF6692",
           "#B6E880",
           "#FF97FF",
           "#FECB52"
          ],
          "font": {
           "color": "#2a3f5f"
          },
          "geo": {
           "bgcolor": "white",
           "lakecolor": "white",
           "landcolor": "#E5ECF6",
           "showlakes": true,
           "showland": true,
           "subunitcolor": "white"
          },
          "hoverlabel": {
           "align": "left"
          },
          "hovermode": "closest",
          "mapbox": {
           "style": "light"
          },
          "paper_bgcolor": "white",
          "plot_bgcolor": "#E5ECF6",
          "polar": {
           "angularaxis": {
            "gridcolor": "white",
            "linecolor": "white",
            "ticks": ""
           },
           "bgcolor": "#E5ECF6",
           "radialaxis": {
            "gridcolor": "white",
            "linecolor": "white",
            "ticks": ""
           }
          },
          "scene": {
           "xaxis": {
            "backgroundcolor": "#E5ECF6",
            "gridcolor": "white",
            "gridwidth": 2,
            "linecolor": "white",
            "showbackground": true,
            "ticks": "",
            "zerolinecolor": "white"
           },
           "yaxis": {
            "backgroundcolor": "#E5ECF6",
            "gridcolor": "white",
            "gridwidth": 2,
            "linecolor": "white",
            "showbackground": true,
            "ticks": "",
            "zerolinecolor": "white"
           },
           "zaxis": {
            "backgroundcolor": "#E5ECF6",
            "gridcolor": "white",
            "gridwidth": 2,
            "linecolor": "white",
            "showbackground": true,
            "ticks": "",
            "zerolinecolor": "white"
           }
          },
          "shapedefaults": {
           "line": {
            "color": "#2a3f5f"
           }
          },
          "ternary": {
           "aaxis": {
            "gridcolor": "white",
            "linecolor": "white",
            "ticks": ""
           },
           "baxis": {
            "gridcolor": "white",
            "linecolor": "white",
            "ticks": ""
           },
           "bgcolor": "#E5ECF6",
           "caxis": {
            "gridcolor": "white",
            "linecolor": "white",
            "ticks": ""
           }
          },
          "title": {
           "x": 0.05
          },
          "xaxis": {
           "automargin": true,
           "gridcolor": "white",
           "linecolor": "white",
           "ticks": "",
           "title": {
            "standoff": 15
           },
           "zerolinecolor": "white",
           "zerolinewidth": 2
          },
          "yaxis": {
           "automargin": true,
           "gridcolor": "white",
           "linecolor": "white",
           "ticks": "",
           "title": {
            "standoff": 15
           },
           "zerolinecolor": "white",
           "zerolinewidth": 2
          }
         }
        },
        "xaxis": {
         "anchor": "y",
         "domain": [
          0,
          1
         ],
         "title": {
          "text": "x"
         }
        },
        "yaxis": {
         "anchor": "x",
         "domain": [
          0,
          1
         ],
         "title": {
          "text": "y"
         }
        }
       }
      }
     },
     "metadata": {},
     "output_type": "display_data"
    }
   ],
   "source": [
    "px.line(x=a, y=b)"
   ]
  },
  {
   "cell_type": "markdown",
   "metadata": {},
   "source": [
    "### LOF tests"
   ]
  },
  {
   "cell_type": "code",
   "execution_count": 39,
   "metadata": {},
   "outputs": [],
   "source": [
    "from joblib import Parallel, delayed\n",
    "from sklearn.neighbors import LocalOutlierFactor\n",
    "from sklearn.preprocessing import StandardScaler"
   ]
  },
  {
   "cell_type": "code",
   "execution_count": null,
   "metadata": {},
   "outputs": [],
   "source": [
    "total_history_size = 60\n",
    "train_history_window_size = 30\n",
    "\n",
    "total_windows = total_history_size - train_history_window_size\n",
    "columns = list([column_set.columns[0] for column_set in H_FULL[0]])\n",
    "\n",
    "thresholds = np.arange(0, 1, 0.01)\n",
    "\n",
    "DC_GENERATOR = AVH()._get_default_issue_dataset_generator()"
   ]
  },
  {
   "cell_type": "code",
   "execution_count": null,
   "metadata": {},
   "outputs": [],
   "source": [
    "# general casse:\n",
    "def test_precision(history: List[pd.DataFrame], feature_history: np.ndarray, column: str):\n",
    "    fp_per_threshold = np.zeros(shape=len(thresholds))\n",
    "\n",
    "    scaler = StandardScaler()\n",
    "    lof = LocalOutlierFactor(n_neighbors=30, contamination=\"auto\", novelty=True)\n",
    "\n",
    "    for j in range(total_windows):\n",
    "        train_x = feature_history[j : j + train_history_window_size]\n",
    "        test_x = feature_history[j + train_history_window_size].reshape(1, -1)\n",
    "\n",
    "        train_x_scaled = scaler.fit_transform(train_x)\n",
    "        test_x_scaled = scaler.transform(test_x)\n",
    "\n",
    "        lof.fit(train_x_scaled)\n",
    "        shifted_local_outlier_factor = lof.decision_function(test_x_scaled)\n",
    "\n",
    "        fp_per_threshold += shifted_local_outlier_factor < thresholds\n",
    "\n",
    "    return fp_per_threshold\n",
    "\n",
    "\n",
    "def test_recall(\n",
    "    history: List[pd.DataFrame], feature_history: np.ndarray, column: str\n",
    ") -> np.ndarray:\n",
    "    tp_per_threshold = np.zeros(shape=len(thresholds))\n",
    "\n",
    "    dc_generator = AVH()._get_default_issue_dataset_generator()\n",
    "    scaler = StandardScaler()\n",
    "    lof = LocalOutlierFactor(n_neighbors=30, contamination=\"auto\", novelty=True)\n",
    "\n",
    "    train_x = feature_history[:train_history_window_size]\n",
    "    original_test_sample = history[train_history_window_size]\n",
    "\n",
    "    train_x_scaled = scaler.fit_transform(train_x)\n",
    "    lof.fit(train_x_scaled)\n",
    "\n",
    "    for recall_test in dc_generator.generate(original_test_sample)[column]:\n",
    "        test_x = extract_features(recall_test[1]).reshape(1, -1)\n",
    "        test_x_scaled = scaler.transform(test_x)\n",
    "\n",
    "        shifted_local_outlier_factor = lof.decision_function(test_x_scaled)\n",
    "        tp_per_threshold += shifted_local_outlier_factor < thresholds\n",
    "\n",
    "    return tp_per_threshold\n",
    "\n",
    "\n",
    "def extract_features(data: pd.Series) -> np.ndarray:\n",
    "    row_count = RowCount.calculate(data)\n",
    "    min_val = Min.calculate(data)\n",
    "    max_val = Max.calculate(data)\n",
    "    mean_val = Mean.calculate(data)\n",
    "    median_val = Median.calculate(data)\n",
    "    sum_val = Sum.calculate(data)\n",
    "    range_val = Range.calculate(data)\n",
    "    distinct_ratio = DistinctRatio.calculate(data)\n",
    "    complete_ratio = CompleteRatio.calculate(data)\n",
    "\n",
    "    features = [\n",
    "        row_count,\n",
    "        min_val,\n",
    "        max_val,\n",
    "        mean_val,\n",
    "        median_val,\n",
    "        sum_val,\n",
    "        range_val,\n",
    "        distinct_ratio,\n",
    "        complete_ratio,\n",
    "    ]\n",
    "\n",
    "    return np.array(features)\n",
    "\n",
    "\n",
    "def calculate_feature_history(history: List[pd.DataFrame], column: str) -> np.ndarray:\n",
    "    feature_history = [extract_features(run[column]) for run in history]\n",
    "    return np.array(feature_history)\n",
    "\n",
    "\n",
    "def test_algorithm(history: List[pd.DataFrame], column: str):\n",
    "    feature_history = calculate_feature_history(history, column)\n",
    "    fp_per_threshold = test_precision(history, feature_history, column)\n",
    "    tp_per_thershold = test_recall(history, feature_history, column)\n",
    "\n",
    "    return fp_per_threshold, tp_per_thershold\n",
    "\n",
    "\n",
    "# column_fp_per_threshold, column_tp_per_threshold = [], []\n",
    "# for i, column in enumerate(tqdm(columns)):\n",
    "#     history = [run[i] for run in H_FULL]\n",
    "\n",
    "#     feature_history = calculate_feature_history(history, column)\n",
    "#     fp_per_threshold = test_precision(history, feature_history, column)\n",
    "#     tp_per_thershold = test_recall(history, feature_history, column)\n",
    "\n",
    "#     column_fp_per_threshold.append(fp_per_threshold)\n",
    "#     column_tp_per_threshold.append(tp_per_thershold)"
   ]
  },
  {
   "cell_type": "code",
   "execution_count": null,
   "metadata": {},
   "outputs": [
    {
     "name": "stderr",
     "output_type": "stream",
     "text": [
      "100%|██████████| 30/30 [00:08<00:00,  3.62it/s]\n"
     ]
    }
   ],
   "source": [
    "# parallelize per column\n",
    "column_fp_per_threshold, column_tp_per_threshold = [], []\n",
    "\n",
    "results = Parallel(n_jobs=-1, timeout=9999, return_as=\"generator\")(\n",
    "    delayed(test_algorithm)([run[i] for run in H_FULL], col) for i, col in enumerate(columns)\n",
    ")\n",
    "\n",
    "for fp_array, tp_array in tqdm(results, total=len(columns)):\n",
    "    column_fp_per_threshold.append(fp_array)\n",
    "    column_tp_per_threshold.append(tp_array)"
   ]
  },
  {
   "cell_type": "code",
   "execution_count": null,
   "metadata": {},
   "outputs": [],
   "source": [
    "column_fp_per_threshold = np.array(column_fp_per_threshold)\n",
    "column_tp_per_threshold = np.array(column_tp_per_threshold)"
   ]
  },
  {
   "cell_type": "code",
   "execution_count": null,
   "metadata": {},
   "outputs": [],
   "source": [
    "recalls = column_tp_per_threshold / 23\n",
    "precisions = column_tp_per_threshold / (column_fp_per_threshold + column_tp_per_threshold)"
   ]
  },
  {
   "cell_type": "code",
   "execution_count": null,
   "metadata": {},
   "outputs": [],
   "source": [
    "a = recalls.mean(axis=0)\n",
    "b = precisions.mean(axis=0)"
   ]
  },
  {
   "cell_type": "code",
   "execution_count": 40,
   "metadata": {},
   "outputs": [],
   "source": [
    "import pickle\n",
    "import plotly.graph_objects as go\n",
    "from copy import deepcopy"
   ]
  },
  {
   "cell_type": "code",
   "execution_count": 45,
   "metadata": {},
   "outputs": [],
   "source": [
    "with open(\"../benchmark/benchmark_avh_metrics.pickle\", \"rb\") as f:\n",
    "    metrics_avh = pickle.load(f)\n",
    "\n",
    "with open(\"../benchmark/benchmark_ks_test_metrics.pickle\", \"rb\") as f:\n",
    "    metrics_ks = pickle.load(f)\n",
    "\n",
    "with open(\"../benchmark/benchmark_lof_metrics.pickle\", \"rb\") as f:\n",
    "    metrics_lof = pickle.load(f)\n",
    "\n",
    "with open(\"../benchmark/benchmark_tfdv_metrics.pickle\", \"rb\") as f:\n",
    "    metrics_tfdv = pickle.load(f)"
   ]
  },
  {
   "cell_type": "code",
   "execution_count": 44,
   "metadata": {},
   "outputs": [
    {
     "data": {
      "application/vnd.plotly.v1+json": {
       "config": {
        "plotlyServerURL": "https://plot.ly"
       },
       "data": [
        {
         "name": "AVH",
         "type": "scatter",
         "x": [
          0.9782608695652172,
          0.9826086956521738,
          0.9826086956521738,
          0.9826086956521738,
          0.7565217391304346,
          0.7782608695652173
         ],
         "y": [
          0.992,
          0.992,
          0.9753043478260869,
          0.9753043478260869,
          0.8545053830991305,
          0.7732854385744191
         ]
        },
        {
         "name": "KS-test",
         "type": "scatter",
         "x": [
          0.04347826086956521,
          0.7130434782608693,
          0.726086956521739,
          0.7434782608695653,
          0.7695652173913043,
          0.7869565217391304,
          0.8,
          0.808695652173913,
          0.826086956521739,
          0.8434782608695652,
          0.8434782608695652,
          0.8478260869565217,
          0.8652173913043478,
          0.8782608695652174,
          0.8913043478260871,
          0.9043478260869566,
          0.9347826086956521,
          0.9434782608695652,
          0.9565217391304346,
          0.9695652173913043,
          1
         ],
         "y": [
          1,
          0.8997265221878227,
          0.8428719603783543,
          0.7797428353492427,
          0.7299128842172321,
          0.7007384226079878,
          0.671300657363626,
          0.6387810565870911,
          0.6064856072927705,
          0.5853608999729689,
          0.5566593784738945,
          0.531892969557396,
          0.5167985036023051,
          0.504427982438476,
          0.49141771177518895,
          0.4731712663060145,
          0.4674479019174737,
          0.4581886220099124,
          0.4474070476472741,
          0.4415981422731187,
          0.4339622641509434
         ]
        },
        {
         "name": "LOF",
         "type": "scatter",
         "x": [
          0.9521739130434783,
          0.9521739130434783,
          0.9521739130434783,
          0.9521739130434783,
          0.9521739130434783,
          0.9521739130434783,
          0.9521739130434783,
          0.9521739130434783,
          0.9521739130434783,
          0.9521739130434783,
          0.9521739130434783,
          0.9521739130434783,
          0.9521739130434783,
          0.9521739130434783,
          0.9521739130434783,
          0.9521739130434783,
          0.9521739130434783,
          0.9521739130434783,
          0.9521739130434783,
          0.9521739130434783,
          0.9521739130434783,
          0.9521739130434783,
          0.9521739130434783,
          0.9565217391304346,
          0.9565217391304346,
          0.9565217391304346,
          0.9565217391304346,
          0.9565217391304346,
          0.9565217391304346,
          0.9565217391304346,
          0.9565217391304346,
          0.9565217391304346,
          0.9565217391304346,
          0.9565217391304346,
          0.9565217391304346,
          0.9565217391304346,
          0.9565217391304346,
          0.9565217391304346,
          0.9565217391304346,
          0.9565217391304346,
          0.9565217391304346,
          0.9565217391304346,
          0.9565217391304346,
          0.9565217391304346,
          0.9565217391304346,
          0.9565217391304346,
          0.9565217391304346,
          0.9565217391304346,
          0.9565217391304346,
          0.9608695652173912,
          0.9608695652173912,
          0.9695652173913045,
          1,
          1,
          1,
          1,
          1,
          1,
          1,
          1,
          1,
          1,
          1,
          1,
          1,
          1,
          1,
          1,
          1,
          1,
          1,
          1,
          1,
          1,
          1,
          1,
          1,
          1,
          1,
          1,
          1,
          1,
          1,
          1,
          1,
          1,
          1,
          1,
          1,
          1,
          1,
          1,
          1,
          1,
          1,
          1,
          1,
          1,
          1,
          1
         ],
         "y": [
          1,
          1,
          1,
          1,
          1,
          1,
          1,
          1,
          1,
          1,
          1,
          1,
          1,
          1,
          1,
          1,
          1,
          1,
          1,
          1,
          1,
          1,
          1,
          1,
          1,
          1,
          1,
          1,
          1,
          1,
          1,
          1,
          1,
          1,
          1,
          1,
          1,
          0.9958333333333333,
          0.9958333333333333,
          0.9958333333333333,
          0.9958333333333333,
          0.9958333333333333,
          0.9958333333333333,
          0.9916666666666668,
          0.9916666666666668,
          0.9878333333333333,
          0.9878333333333333,
          0.970409090909091,
          0.9540083105300496,
          0.9394730639730641,
          0.9084346024346026,
          0.565913192491374,
          0.4339622641509434,
          0.4339622641509434,
          0.4339622641509434,
          0.4339622641509434,
          0.4339622641509434,
          0.4339622641509434,
          0.4339622641509434,
          0.4339622641509434,
          0.4339622641509434,
          0.4339622641509434,
          0.4339622641509434,
          0.4339622641509434,
          0.4339622641509434,
          0.4339622641509434,
          0.4339622641509434,
          0.4339622641509434,
          0.4339622641509434,
          0.4339622641509434,
          0.4339622641509434,
          0.4339622641509434,
          0.4339622641509434,
          0.4339622641509434,
          0.4339622641509434,
          0.4339622641509434,
          0.4339622641509434,
          0.4339622641509434,
          0.4339622641509434,
          0.4339622641509434,
          0.4339622641509434,
          0.4339622641509434,
          0.4339622641509434,
          0.4339622641509434,
          0.4339622641509434,
          0.4339622641509434,
          0.4339622641509434,
          0.4339622641509434,
          0.4339622641509434,
          0.4339622641509434,
          0.4339622641509434,
          0.4339622641509434,
          0.4339622641509434,
          0.4339622641509434,
          0.4339622641509434,
          0.4339622641509434,
          0.4339622641509434,
          0.4339622641509434,
          0.4339622641509434,
          0.4339622641509434
         ]
        },
        {
         "name": "TFDV",
         "type": "scatter",
         "x": [
          0.7782608695652176,
          0.7782608695652176,
          0.7782608695652176,
          0.773913043478261,
          0.6521739130434783,
          0.26956521739130435,
          0.23043478260869565,
          0.2217391304347826,
          0.2086956521739131,
          0.2086956521739131,
          0.20434782608695654,
          0.20434782608695654,
          0.2,
          0.2,
          0.2,
          0.2,
          0.2
         ],
         "y": [
          0.37250739426205265,
          0.37250739426205265,
          0.37250739426205265,
          0.3712829044661343,
          0.48313868078232575,
          1,
          1,
          1,
          1,
          1,
          1,
          1,
          1,
          1,
          1,
          1,
          1
         ]
        }
       ],
       "layout": {
        "height": 700,
        "template": {
         "data": {
          "bar": [
           {
            "error_x": {
             "color": "#2a3f5f"
            },
            "error_y": {
             "color": "#2a3f5f"
            },
            "marker": {
             "line": {
              "color": "#E5ECF6",
              "width": 0.5
             },
             "pattern": {
              "fillmode": "overlay",
              "size": 10,
              "solidity": 0.2
             }
            },
            "type": "bar"
           }
          ],
          "barpolar": [
           {
            "marker": {
             "line": {
              "color": "#E5ECF6",
              "width": 0.5
             },
             "pattern": {
              "fillmode": "overlay",
              "size": 10,
              "solidity": 0.2
             }
            },
            "type": "barpolar"
           }
          ],
          "carpet": [
           {
            "aaxis": {
             "endlinecolor": "#2a3f5f",
             "gridcolor": "white",
             "linecolor": "white",
             "minorgridcolor": "white",
             "startlinecolor": "#2a3f5f"
            },
            "baxis": {
             "endlinecolor": "#2a3f5f",
             "gridcolor": "white",
             "linecolor": "white",
             "minorgridcolor": "white",
             "startlinecolor": "#2a3f5f"
            },
            "type": "carpet"
           }
          ],
          "choropleth": [
           {
            "colorbar": {
             "outlinewidth": 0,
             "ticks": ""
            },
            "type": "choropleth"
           }
          ],
          "contour": [
           {
            "colorbar": {
             "outlinewidth": 0,
             "ticks": ""
            },
            "colorscale": [
             [
              0,
              "#0d0887"
             ],
             [
              0.1111111111111111,
              "#46039f"
             ],
             [
              0.2222222222222222,
              "#7201a8"
             ],
             [
              0.3333333333333333,
              "#9c179e"
             ],
             [
              0.4444444444444444,
              "#bd3786"
             ],
             [
              0.5555555555555556,
              "#d8576b"
             ],
             [
              0.6666666666666666,
              "#ed7953"
             ],
             [
              0.7777777777777778,
              "#fb9f3a"
             ],
             [
              0.8888888888888888,
              "#fdca26"
             ],
             [
              1,
              "#f0f921"
             ]
            ],
            "type": "contour"
           }
          ],
          "contourcarpet": [
           {
            "colorbar": {
             "outlinewidth": 0,
             "ticks": ""
            },
            "type": "contourcarpet"
           }
          ],
          "heatmap": [
           {
            "colorbar": {
             "outlinewidth": 0,
             "ticks": ""
            },
            "colorscale": [
             [
              0,
              "#0d0887"
             ],
             [
              0.1111111111111111,
              "#46039f"
             ],
             [
              0.2222222222222222,
              "#7201a8"
             ],
             [
              0.3333333333333333,
              "#9c179e"
             ],
             [
              0.4444444444444444,
              "#bd3786"
             ],
             [
              0.5555555555555556,
              "#d8576b"
             ],
             [
              0.6666666666666666,
              "#ed7953"
             ],
             [
              0.7777777777777778,
              "#fb9f3a"
             ],
             [
              0.8888888888888888,
              "#fdca26"
             ],
             [
              1,
              "#f0f921"
             ]
            ],
            "type": "heatmap"
           }
          ],
          "heatmapgl": [
           {
            "colorbar": {
             "outlinewidth": 0,
             "ticks": ""
            },
            "colorscale": [
             [
              0,
              "#0d0887"
             ],
             [
              0.1111111111111111,
              "#46039f"
             ],
             [
              0.2222222222222222,
              "#7201a8"
             ],
             [
              0.3333333333333333,
              "#9c179e"
             ],
             [
              0.4444444444444444,
              "#bd3786"
             ],
             [
              0.5555555555555556,
              "#d8576b"
             ],
             [
              0.6666666666666666,
              "#ed7953"
             ],
             [
              0.7777777777777778,
              "#fb9f3a"
             ],
             [
              0.8888888888888888,
              "#fdca26"
             ],
             [
              1,
              "#f0f921"
             ]
            ],
            "type": "heatmapgl"
           }
          ],
          "histogram": [
           {
            "marker": {
             "pattern": {
              "fillmode": "overlay",
              "size": 10,
              "solidity": 0.2
             }
            },
            "type": "histogram"
           }
          ],
          "histogram2d": [
           {
            "colorbar": {
             "outlinewidth": 0,
             "ticks": ""
            },
            "colorscale": [
             [
              0,
              "#0d0887"
             ],
             [
              0.1111111111111111,
              "#46039f"
             ],
             [
              0.2222222222222222,
              "#7201a8"
             ],
             [
              0.3333333333333333,
              "#9c179e"
             ],
             [
              0.4444444444444444,
              "#bd3786"
             ],
             [
              0.5555555555555556,
              "#d8576b"
             ],
             [
              0.6666666666666666,
              "#ed7953"
             ],
             [
              0.7777777777777778,
              "#fb9f3a"
             ],
             [
              0.8888888888888888,
              "#fdca26"
             ],
             [
              1,
              "#f0f921"
             ]
            ],
            "type": "histogram2d"
           }
          ],
          "histogram2dcontour": [
           {
            "colorbar": {
             "outlinewidth": 0,
             "ticks": ""
            },
            "colorscale": [
             [
              0,
              "#0d0887"
             ],
             [
              0.1111111111111111,
              "#46039f"
             ],
             [
              0.2222222222222222,
              "#7201a8"
             ],
             [
              0.3333333333333333,
              "#9c179e"
             ],
             [
              0.4444444444444444,
              "#bd3786"
             ],
             [
              0.5555555555555556,
              "#d8576b"
             ],
             [
              0.6666666666666666,
              "#ed7953"
             ],
             [
              0.7777777777777778,
              "#fb9f3a"
             ],
             [
              0.8888888888888888,
              "#fdca26"
             ],
             [
              1,
              "#f0f921"
             ]
            ],
            "type": "histogram2dcontour"
           }
          ],
          "mesh3d": [
           {
            "colorbar": {
             "outlinewidth": 0,
             "ticks": ""
            },
            "type": "mesh3d"
           }
          ],
          "parcoords": [
           {
            "line": {
             "colorbar": {
              "outlinewidth": 0,
              "ticks": ""
             }
            },
            "type": "parcoords"
           }
          ],
          "pie": [
           {
            "automargin": true,
            "type": "pie"
           }
          ],
          "scatter": [
           {
            "fillpattern": {
             "fillmode": "overlay",
             "size": 10,
             "solidity": 0.2
            },
            "type": "scatter"
           }
          ],
          "scatter3d": [
           {
            "line": {
             "colorbar": {
              "outlinewidth": 0,
              "ticks": ""
             }
            },
            "marker": {
             "colorbar": {
              "outlinewidth": 0,
              "ticks": ""
             }
            },
            "type": "scatter3d"
           }
          ],
          "scattercarpet": [
           {
            "marker": {
             "colorbar": {
              "outlinewidth": 0,
              "ticks": ""
             }
            },
            "type": "scattercarpet"
           }
          ],
          "scattergeo": [
           {
            "marker": {
             "colorbar": {
              "outlinewidth": 0,
              "ticks": ""
             }
            },
            "type": "scattergeo"
           }
          ],
          "scattergl": [
           {
            "marker": {
             "colorbar": {
              "outlinewidth": 0,
              "ticks": ""
             }
            },
            "type": "scattergl"
           }
          ],
          "scattermapbox": [
           {
            "marker": {
             "colorbar": {
              "outlinewidth": 0,
              "ticks": ""
             }
            },
            "type": "scattermapbox"
           }
          ],
          "scatterpolar": [
           {
            "marker": {
             "colorbar": {
              "outlinewidth": 0,
              "ticks": ""
             }
            },
            "type": "scatterpolar"
           }
          ],
          "scatterpolargl": [
           {
            "marker": {
             "colorbar": {
              "outlinewidth": 0,
              "ticks": ""
             }
            },
            "type": "scatterpolargl"
           }
          ],
          "scatterternary": [
           {
            "marker": {
             "colorbar": {
              "outlinewidth": 0,
              "ticks": ""
             }
            },
            "type": "scatterternary"
           }
          ],
          "surface": [
           {
            "colorbar": {
             "outlinewidth": 0,
             "ticks": ""
            },
            "colorscale": [
             [
              0,
              "#0d0887"
             ],
             [
              0.1111111111111111,
              "#46039f"
             ],
             [
              0.2222222222222222,
              "#7201a8"
             ],
             [
              0.3333333333333333,
              "#9c179e"
             ],
             [
              0.4444444444444444,
              "#bd3786"
             ],
             [
              0.5555555555555556,
              "#d8576b"
             ],
             [
              0.6666666666666666,
              "#ed7953"
             ],
             [
              0.7777777777777778,
              "#fb9f3a"
             ],
             [
              0.8888888888888888,
              "#fdca26"
             ],
             [
              1,
              "#f0f921"
             ]
            ],
            "type": "surface"
           }
          ],
          "table": [
           {
            "cells": {
             "fill": {
              "color": "#EBF0F8"
             },
             "line": {
              "color": "white"
             }
            },
            "header": {
             "fill": {
              "color": "#C8D4E3"
             },
             "line": {
              "color": "white"
             }
            },
            "type": "table"
           }
          ]
         },
         "layout": {
          "annotationdefaults": {
           "arrowcolor": "#2a3f5f",
           "arrowhead": 0,
           "arrowwidth": 1
          },
          "autotypenumbers": "strict",
          "coloraxis": {
           "colorbar": {
            "outlinewidth": 0,
            "ticks": ""
           }
          },
          "colorscale": {
           "diverging": [
            [
             0,
             "#8e0152"
            ],
            [
             0.1,
             "#c51b7d"
            ],
            [
             0.2,
             "#de77ae"
            ],
            [
             0.3,
             "#f1b6da"
            ],
            [
             0.4,
             "#fde0ef"
            ],
            [
             0.5,
             "#f7f7f7"
            ],
            [
             0.6,
             "#e6f5d0"
            ],
            [
             0.7,
             "#b8e186"
            ],
            [
             0.8,
             "#7fbc41"
            ],
            [
             0.9,
             "#4d9221"
            ],
            [
             1,
             "#276419"
            ]
           ],
           "sequential": [
            [
             0,
             "#0d0887"
            ],
            [
             0.1111111111111111,
             "#46039f"
            ],
            [
             0.2222222222222222,
             "#7201a8"
            ],
            [
             0.3333333333333333,
             "#9c179e"
            ],
            [
             0.4444444444444444,
             "#bd3786"
            ],
            [
             0.5555555555555556,
             "#d8576b"
            ],
            [
             0.6666666666666666,
             "#ed7953"
            ],
            [
             0.7777777777777778,
             "#fb9f3a"
            ],
            [
             0.8888888888888888,
             "#fdca26"
            ],
            [
             1,
             "#f0f921"
            ]
           ],
           "sequentialminus": [
            [
             0,
             "#0d0887"
            ],
            [
             0.1111111111111111,
             "#46039f"
            ],
            [
             0.2222222222222222,
             "#7201a8"
            ],
            [
             0.3333333333333333,
             "#9c179e"
            ],
            [
             0.4444444444444444,
             "#bd3786"
            ],
            [
             0.5555555555555556,
             "#d8576b"
            ],
            [
             0.6666666666666666,
             "#ed7953"
            ],
            [
             0.7777777777777778,
             "#fb9f3a"
            ],
            [
             0.8888888888888888,
             "#fdca26"
            ],
            [
             1,
             "#f0f921"
            ]
           ]
          },
          "colorway": [
           "#636efa",
           "#EF553B",
           "#00cc96",
           "#ab63fa",
           "#FFA15A",
           "#19d3f3",
           "#FF6692",
           "#B6E880",
           "#FF97FF",
           "#FECB52"
          ],
          "font": {
           "color": "#2a3f5f"
          },
          "geo": {
           "bgcolor": "white",
           "lakecolor": "white",
           "landcolor": "#E5ECF6",
           "showlakes": true,
           "showland": true,
           "subunitcolor": "white"
          },
          "hoverlabel": {
           "align": "left"
          },
          "hovermode": "closest",
          "mapbox": {
           "style": "light"
          },
          "paper_bgcolor": "white",
          "plot_bgcolor": "#E5ECF6",
          "polar": {
           "angularaxis": {
            "gridcolor": "white",
            "linecolor": "white",
            "ticks": ""
           },
           "bgcolor": "#E5ECF6",
           "radialaxis": {
            "gridcolor": "white",
            "linecolor": "white",
            "ticks": ""
           }
          },
          "scene": {
           "xaxis": {
            "backgroundcolor": "#E5ECF6",
            "gridcolor": "white",
            "gridwidth": 2,
            "linecolor": "white",
            "showbackground": true,
            "ticks": "",
            "zerolinecolor": "white"
           },
           "yaxis": {
            "backgroundcolor": "#E5ECF6",
            "gridcolor": "white",
            "gridwidth": 2,
            "linecolor": "white",
            "showbackground": true,
            "ticks": "",
            "zerolinecolor": "white"
           },
           "zaxis": {
            "backgroundcolor": "#E5ECF6",
            "gridcolor": "white",
            "gridwidth": 2,
            "linecolor": "white",
            "showbackground": true,
            "ticks": "",
            "zerolinecolor": "white"
           }
          },
          "shapedefaults": {
           "line": {
            "color": "#2a3f5f"
           }
          },
          "ternary": {
           "aaxis": {
            "gridcolor": "white",
            "linecolor": "white",
            "ticks": ""
           },
           "baxis": {
            "gridcolor": "white",
            "linecolor": "white",
            "ticks": ""
           },
           "bgcolor": "#E5ECF6",
           "caxis": {
            "gridcolor": "white",
            "linecolor": "white",
            "ticks": ""
           }
          },
          "title": {
           "x": 0.05
          },
          "xaxis": {
           "automargin": true,
           "gridcolor": "white",
           "linecolor": "white",
           "ticks": "",
           "title": {
            "standoff": 15
           },
           "zerolinecolor": "white",
           "zerolinewidth": 2
          },
          "yaxis": {
           "automargin": true,
           "gridcolor": "white",
           "linecolor": "white",
           "ticks": "",
           "title": {
            "standoff": 15
           },
           "zerolinecolor": "white",
           "zerolinewidth": 2
          }
         }
        },
        "width": 700
       }
      }
     },
     "metadata": {},
     "output_type": "display_data"
    }
   ],
   "source": [
    "fig = go.Figure()\n",
    "\n",
    "fig.add_scatter(x=metrics_avh[\"recall\"], y=metrics_avh[\"precision\"], name=\"AVH\")\n",
    "fig.add_scatter(x=metrics_ks[\"recall\"], y=metrics_ks[\"precision\"], name=\"KS-test\")\n",
    "fig.add_scatter(x=metrics_lof[\"recall\"], y=metrics_lof[\"precision\"], name=\"LOF\")\n",
    "fig.add_scatter(x=metrics_tfdv[\"recall\"], y=metrics_tfdv[\"precision\"], name=\"TFDV\")\n",
    "fig.update_layout(width=700, height=700)"
   ]
  },
  {
   "cell_type": "code",
   "execution_count": null,
   "metadata": {},
   "outputs": [
    {
     "data": {
      "application/vnd.plotly.v1+json": {
       "config": {
        "plotlyServerURL": "https://plot.ly"
       },
       "data": [
        {
         "name": "AVH",
         "type": "scatter",
         "x": [
          0.9782608695652172,
          0.9826086956521738,
          0.9826086956521738,
          0.9826086956521738,
          0.7565217391304346,
          0.7826086956521738
         ],
         "y": [
          0.992,
          0.992,
          0.9753043478260869,
          0.9753043478260869,
          0.8695438985052929,
          0.8008754944084536
         ]
        },
        {
         "name": "KS-test",
         "type": "scatter",
         "x": [
          0.043478260869565306,
          0.7378260869565225,
          0.7534782608695658,
          0.7665217391304354,
          0.779130434782609,
          0.7960869565217393,
          0.8156521739130436,
          0.8326086956521741,
          0.8443478260869568,
          0.8560869565217396,
          0.8643478260869568,
          0.8786956521739134,
          0.892608695652174,
          0.9043478260869567,
          0.9178260869565216,
          0.9286956521739133,
          0.9421739130434783,
          0.9552173913043479,
          0.9695652173913045,
          0.9830434782608698,
          1
         ],
         "y": [
          1,
          0.9270022386797919,
          0.8675483461662944,
          0.8170297321245091,
          0.7668405760706508,
          0.7234629344450058,
          0.6918840777356853,
          0.6561149246263436,
          0.6302490924647587,
          0.6079730054462484,
          0.582752387484739,
          0.5624723735475039,
          0.5449818001601617,
          0.5278332645560175,
          0.5121026164430451,
          0.4994125603039498,
          0.4879261170492121,
          0.474960934705671,
          0.4613196137950495,
          0.44801117293467746,
          0.43396226415094274
         ]
        },
        {
         "name": "LOF",
         "type": "scatter",
         "x": [
          0.9478260869565222,
          0.9478260869565222,
          0.9482608695652178,
          0.9486956521739134,
          0.9486956521739134,
          0.9500000000000004,
          0.9500000000000004,
          0.9500000000000004,
          0.9500000000000004,
          0.9500000000000004,
          0.9504347826086961,
          0.9513043478260874,
          0.9513043478260874,
          0.9513043478260874,
          0.9513043478260874,
          0.9513043478260874,
          0.9513043478260874,
          0.9513043478260874,
          0.9513043478260874,
          0.9513043478260874,
          0.9513043478260874,
          0.9513043478260874,
          0.9513043478260874,
          0.9513043478260874,
          0.9517391304347832,
          0.952173913043479,
          0.952173913043479,
          0.952173913043479,
          0.952173913043479,
          0.952173913043479,
          0.952173913043479,
          0.952173913043479,
          0.9526086956521748,
          0.9530434782608704,
          0.9530434782608704,
          0.9530434782608704,
          0.9530434782608704,
          0.9530434782608704,
          0.9530434782608704,
          0.9530434782608704,
          0.9530434782608704,
          0.9530434782608704,
          0.9530434782608704,
          0.953478260869566,
          0.953478260869566,
          0.953478260869566,
          0.953478260869566,
          0.9539130434782617,
          0.9547826086956529,
          0.9556521739130442,
          0.9595652173913051,
          0.99,
          1,
          1,
          1,
          1,
          1,
          1,
          1,
          1,
          1,
          1,
          1,
          1,
          1,
          1,
          1,
          1,
          1,
          1,
          1,
          1,
          1,
          1,
          1,
          1,
          1,
          1,
          1,
          1,
          1,
          1,
          1,
          1,
          1,
          1,
          1,
          1,
          1,
          1,
          1,
          1,
          1,
          1,
          1,
          1,
          1,
          1,
          1,
          1
         ],
         "y": [
          0.999110671936759,
          0.999110671936759,
          0.999110671936759,
          0.999110671936759,
          0.999110671936759,
          0.999110671936759,
          0.999110671936759,
          0.999110671936759,
          0.999110671936759,
          0.999110671936759,
          0.9991287878787878,
          0.9991287878787878,
          0.9991287878787878,
          0.9991287878787878,
          0.9991287878787878,
          0.9991287878787878,
          0.9991287878787878,
          0.9991287878787878,
          0.9991287878787878,
          0.9991287878787878,
          0.9991287878787878,
          0.998712121212121,
          0.998712121212121,
          0.998712121212121,
          0.9982575757575758,
          0.9982575757575758,
          0.9982575757575758,
          0.9982575757575758,
          0.9982575757575758,
          0.9978409090909091,
          0.9978409090909091,
          0.9974242424242423,
          0.9974440052700924,
          0.9969894598155469,
          0.9966061264822136,
          0.9957365612648222,
          0.9948851119894598,
          0.9936305665349142,
          0.9927593544137023,
          0.9901094861660078,
          0.9892382740447958,
          0.988839723320158,
          0.9870808300395256,
          0.9827426501035196,
          0.979360147823191,
          0.9744012545425588,
          0.9697530331986854,
          0.9599889103649974,
          0.9498675310197049,
          0.9293997409997412,
          0.8800258481149038,
          0.5155392004774955,
          0.43396226415094274,
          0.43396226415094274,
          0.43396226415094274,
          0.43396226415094274,
          0.43396226415094274,
          0.43396226415094274,
          0.43396226415094274,
          0.43396226415094274,
          0.43396226415094274,
          0.43396226415094274,
          0.43396226415094274,
          0.43396226415094274,
          0.43396226415094274,
          0.43396226415094274,
          0.43396226415094274,
          0.43396226415094274,
          0.43396226415094274,
          0.43396226415094274,
          0.43396226415094274,
          0.43396226415094274,
          0.43396226415094274,
          0.43396226415094274,
          0.43396226415094274,
          0.43396226415094274,
          0.43396226415094274,
          0.43396226415094274,
          0.43396226415094274,
          0.43396226415094274,
          0.43396226415094274,
          0.43396226415094274,
          0.43396226415094274,
          0.43396226415094274,
          0.43396226415094274,
          0.43396226415094274,
          0.43396226415094274,
          0.43396226415094274,
          0.43396226415094274,
          0.43396226415094274,
          0.43396226415094274,
          0.43396226415094274,
          0.43396226415094274,
          0.43396226415094274,
          0.43396226415094274,
          0.43396226415094274,
          0.43396226415094274,
          0.43396226415094274,
          0.43396226415094274,
          0.43396226415094274
         ]
        },
        {
         "name": "TFDV",
         "type": "scatter",
         "x": [
          0.7782608695652176,
          0.7782608695652176,
          0.7782608695652176,
          0.773913043478261,
          0.6521739130434783,
          0.26956521739130435,
          0.23043478260869565,
          0.2217391304347826,
          0.21304347826086958,
          0.2086956521739131,
          0.20434782608695654,
          0.20434782608695654,
          0.2,
          0.2,
          0.2,
          0.2,
          0.2
         ],
         "y": [
          0.37250739426205265,
          0.37250739426205265,
          0.37250739426205265,
          0.3712829044661343,
          0.48381074168797944,
          1,
          1,
          1,
          1,
          1,
          1,
          1,
          1,
          1,
          1,
          1,
          1
         ]
        }
       ],
       "layout": {
        "height": 700,
        "template": {
         "data": {
          "bar": [
           {
            "error_x": {
             "color": "#2a3f5f"
            },
            "error_y": {
             "color": "#2a3f5f"
            },
            "marker": {
             "line": {
              "color": "#E5ECF6",
              "width": 0.5
             },
             "pattern": {
              "fillmode": "overlay",
              "size": 10,
              "solidity": 0.2
             }
            },
            "type": "bar"
           }
          ],
          "barpolar": [
           {
            "marker": {
             "line": {
              "color": "#E5ECF6",
              "width": 0.5
             },
             "pattern": {
              "fillmode": "overlay",
              "size": 10,
              "solidity": 0.2
             }
            },
            "type": "barpolar"
           }
          ],
          "carpet": [
           {
            "aaxis": {
             "endlinecolor": "#2a3f5f",
             "gridcolor": "white",
             "linecolor": "white",
             "minorgridcolor": "white",
             "startlinecolor": "#2a3f5f"
            },
            "baxis": {
             "endlinecolor": "#2a3f5f",
             "gridcolor": "white",
             "linecolor": "white",
             "minorgridcolor": "white",
             "startlinecolor": "#2a3f5f"
            },
            "type": "carpet"
           }
          ],
          "choropleth": [
           {
            "colorbar": {
             "outlinewidth": 0,
             "ticks": ""
            },
            "type": "choropleth"
           }
          ],
          "contour": [
           {
            "colorbar": {
             "outlinewidth": 0,
             "ticks": ""
            },
            "colorscale": [
             [
              0,
              "#0d0887"
             ],
             [
              0.1111111111111111,
              "#46039f"
             ],
             [
              0.2222222222222222,
              "#7201a8"
             ],
             [
              0.3333333333333333,
              "#9c179e"
             ],
             [
              0.4444444444444444,
              "#bd3786"
             ],
             [
              0.5555555555555556,
              "#d8576b"
             ],
             [
              0.6666666666666666,
              "#ed7953"
             ],
             [
              0.7777777777777778,
              "#fb9f3a"
             ],
             [
              0.8888888888888888,
              "#fdca26"
             ],
             [
              1,
              "#f0f921"
             ]
            ],
            "type": "contour"
           }
          ],
          "contourcarpet": [
           {
            "colorbar": {
             "outlinewidth": 0,
             "ticks": ""
            },
            "type": "contourcarpet"
           }
          ],
          "heatmap": [
           {
            "colorbar": {
             "outlinewidth": 0,
             "ticks": ""
            },
            "colorscale": [
             [
              0,
              "#0d0887"
             ],
             [
              0.1111111111111111,
              "#46039f"
             ],
             [
              0.2222222222222222,
              "#7201a8"
             ],
             [
              0.3333333333333333,
              "#9c179e"
             ],
             [
              0.4444444444444444,
              "#bd3786"
             ],
             [
              0.5555555555555556,
              "#d8576b"
             ],
             [
              0.6666666666666666,
              "#ed7953"
             ],
             [
              0.7777777777777778,
              "#fb9f3a"
             ],
             [
              0.8888888888888888,
              "#fdca26"
             ],
             [
              1,
              "#f0f921"
             ]
            ],
            "type": "heatmap"
           }
          ],
          "heatmapgl": [
           {
            "colorbar": {
             "outlinewidth": 0,
             "ticks": ""
            },
            "colorscale": [
             [
              0,
              "#0d0887"
             ],
             [
              0.1111111111111111,
              "#46039f"
             ],
             [
              0.2222222222222222,
              "#7201a8"
             ],
             [
              0.3333333333333333,
              "#9c179e"
             ],
             [
              0.4444444444444444,
              "#bd3786"
             ],
             [
              0.5555555555555556,
              "#d8576b"
             ],
             [
              0.6666666666666666,
              "#ed7953"
             ],
             [
              0.7777777777777778,
              "#fb9f3a"
             ],
             [
              0.8888888888888888,
              "#fdca26"
             ],
             [
              1,
              "#f0f921"
             ]
            ],
            "type": "heatmapgl"
           }
          ],
          "histogram": [
           {
            "marker": {
             "pattern": {
              "fillmode": "overlay",
              "size": 10,
              "solidity": 0.2
             }
            },
            "type": "histogram"
           }
          ],
          "histogram2d": [
           {
            "colorbar": {
             "outlinewidth": 0,
             "ticks": ""
            },
            "colorscale": [
             [
              0,
              "#0d0887"
             ],
             [
              0.1111111111111111,
              "#46039f"
             ],
             [
              0.2222222222222222,
              "#7201a8"
             ],
             [
              0.3333333333333333,
              "#9c179e"
             ],
             [
              0.4444444444444444,
              "#bd3786"
             ],
             [
              0.5555555555555556,
              "#d8576b"
             ],
             [
              0.6666666666666666,
              "#ed7953"
             ],
             [
              0.7777777777777778,
              "#fb9f3a"
             ],
             [
              0.8888888888888888,
              "#fdca26"
             ],
             [
              1,
              "#f0f921"
             ]
            ],
            "type": "histogram2d"
           }
          ],
          "histogram2dcontour": [
           {
            "colorbar": {
             "outlinewidth": 0,
             "ticks": ""
            },
            "colorscale": [
             [
              0,
              "#0d0887"
             ],
             [
              0.1111111111111111,
              "#46039f"
             ],
             [
              0.2222222222222222,
              "#7201a8"
             ],
             [
              0.3333333333333333,
              "#9c179e"
             ],
             [
              0.4444444444444444,
              "#bd3786"
             ],
             [
              0.5555555555555556,
              "#d8576b"
             ],
             [
              0.6666666666666666,
              "#ed7953"
             ],
             [
              0.7777777777777778,
              "#fb9f3a"
             ],
             [
              0.8888888888888888,
              "#fdca26"
             ],
             [
              1,
              "#f0f921"
             ]
            ],
            "type": "histogram2dcontour"
           }
          ],
          "mesh3d": [
           {
            "colorbar": {
             "outlinewidth": 0,
             "ticks": ""
            },
            "type": "mesh3d"
           }
          ],
          "parcoords": [
           {
            "line": {
             "colorbar": {
              "outlinewidth": 0,
              "ticks": ""
             }
            },
            "type": "parcoords"
           }
          ],
          "pie": [
           {
            "automargin": true,
            "type": "pie"
           }
          ],
          "scatter": [
           {
            "fillpattern": {
             "fillmode": "overlay",
             "size": 10,
             "solidity": 0.2
            },
            "type": "scatter"
           }
          ],
          "scatter3d": [
           {
            "line": {
             "colorbar": {
              "outlinewidth": 0,
              "ticks": ""
             }
            },
            "marker": {
             "colorbar": {
              "outlinewidth": 0,
              "ticks": ""
             }
            },
            "type": "scatter3d"
           }
          ],
          "scattercarpet": [
           {
            "marker": {
             "colorbar": {
              "outlinewidth": 0,
              "ticks": ""
             }
            },
            "type": "scattercarpet"
           }
          ],
          "scattergeo": [
           {
            "marker": {
             "colorbar": {
              "outlinewidth": 0,
              "ticks": ""
             }
            },
            "type": "scattergeo"
           }
          ],
          "scattergl": [
           {
            "marker": {
             "colorbar": {
              "outlinewidth": 0,
              "ticks": ""
             }
            },
            "type": "scattergl"
           }
          ],
          "scattermapbox": [
           {
            "marker": {
             "colorbar": {
              "outlinewidth": 0,
              "ticks": ""
             }
            },
            "type": "scattermapbox"
           }
          ],
          "scatterpolar": [
           {
            "marker": {
             "colorbar": {
              "outlinewidth": 0,
              "ticks": ""
             }
            },
            "type": "scatterpolar"
           }
          ],
          "scatterpolargl": [
           {
            "marker": {
             "colorbar": {
              "outlinewidth": 0,
              "ticks": ""
             }
            },
            "type": "scatterpolargl"
           }
          ],
          "scatterternary": [
           {
            "marker": {
             "colorbar": {
              "outlinewidth": 0,
              "ticks": ""
             }
            },
            "type": "scatterternary"
           }
          ],
          "surface": [
           {
            "colorbar": {
             "outlinewidth": 0,
             "ticks": ""
            },
            "colorscale": [
             [
              0,
              "#0d0887"
             ],
             [
              0.1111111111111111,
              "#46039f"
             ],
             [
              0.2222222222222222,
              "#7201a8"
             ],
             [
              0.3333333333333333,
              "#9c179e"
             ],
             [
              0.4444444444444444,
              "#bd3786"
             ],
             [
              0.5555555555555556,
              "#d8576b"
             ],
             [
              0.6666666666666666,
              "#ed7953"
             ],
             [
              0.7777777777777778,
              "#fb9f3a"
             ],
             [
              0.8888888888888888,
              "#fdca26"
             ],
             [
              1,
              "#f0f921"
             ]
            ],
            "type": "surface"
           }
          ],
          "table": [
           {
            "cells": {
             "fill": {
              "color": "#EBF0F8"
             },
             "line": {
              "color": "white"
             }
            },
            "header": {
             "fill": {
              "color": "#C8D4E3"
             },
             "line": {
              "color": "white"
             }
            },
            "type": "table"
           }
          ]
         },
         "layout": {
          "annotationdefaults": {
           "arrowcolor": "#2a3f5f",
           "arrowhead": 0,
           "arrowwidth": 1
          },
          "autotypenumbers": "strict",
          "coloraxis": {
           "colorbar": {
            "outlinewidth": 0,
            "ticks": ""
           }
          },
          "colorscale": {
           "diverging": [
            [
             0,
             "#8e0152"
            ],
            [
             0.1,
             "#c51b7d"
            ],
            [
             0.2,
             "#de77ae"
            ],
            [
             0.3,
             "#f1b6da"
            ],
            [
             0.4,
             "#fde0ef"
            ],
            [
             0.5,
             "#f7f7f7"
            ],
            [
             0.6,
             "#e6f5d0"
            ],
            [
             0.7,
             "#b8e186"
            ],
            [
             0.8,
             "#7fbc41"
            ],
            [
             0.9,
             "#4d9221"
            ],
            [
             1,
             "#276419"
            ]
           ],
           "sequential": [
            [
             0,
             "#0d0887"
            ],
            [
             0.1111111111111111,
             "#46039f"
            ],
            [
             0.2222222222222222,
             "#7201a8"
            ],
            [
             0.3333333333333333,
             "#9c179e"
            ],
            [
             0.4444444444444444,
             "#bd3786"
            ],
            [
             0.5555555555555556,
             "#d8576b"
            ],
            [
             0.6666666666666666,
             "#ed7953"
            ],
            [
             0.7777777777777778,
             "#fb9f3a"
            ],
            [
             0.8888888888888888,
             "#fdca26"
            ],
            [
             1,
             "#f0f921"
            ]
           ],
           "sequentialminus": [
            [
             0,
             "#0d0887"
            ],
            [
             0.1111111111111111,
             "#46039f"
            ],
            [
             0.2222222222222222,
             "#7201a8"
            ],
            [
             0.3333333333333333,
             "#9c179e"
            ],
            [
             0.4444444444444444,
             "#bd3786"
            ],
            [
             0.5555555555555556,
             "#d8576b"
            ],
            [
             0.6666666666666666,
             "#ed7953"
            ],
            [
             0.7777777777777778,
             "#fb9f3a"
            ],
            [
             0.8888888888888888,
             "#fdca26"
            ],
            [
             1,
             "#f0f921"
            ]
           ]
          },
          "colorway": [
           "#636efa",
           "#EF553B",
           "#00cc96",
           "#ab63fa",
           "#FFA15A",
           "#19d3f3",
           "#FF6692",
           "#B6E880",
           "#FF97FF",
           "#FECB52"
          ],
          "font": {
           "color": "#2a3f5f"
          },
          "geo": {
           "bgcolor": "white",
           "lakecolor": "white",
           "landcolor": "#E5ECF6",
           "showlakes": true,
           "showland": true,
           "subunitcolor": "white"
          },
          "hoverlabel": {
           "align": "left"
          },
          "hovermode": "closest",
          "mapbox": {
           "style": "light"
          },
          "paper_bgcolor": "white",
          "plot_bgcolor": "#E5ECF6",
          "polar": {
           "angularaxis": {
            "gridcolor": "white",
            "linecolor": "white",
            "ticks": ""
           },
           "bgcolor": "#E5ECF6",
           "radialaxis": {
            "gridcolor": "white",
            "linecolor": "white",
            "ticks": ""
           }
          },
          "scene": {
           "xaxis": {
            "backgroundcolor": "#E5ECF6",
            "gridcolor": "white",
            "gridwidth": 2,
            "linecolor": "white",
            "showbackground": true,
            "ticks": "",
            "zerolinecolor": "white"
           },
           "yaxis": {
            "backgroundcolor": "#E5ECF6",
            "gridcolor": "white",
            "gridwidth": 2,
            "linecolor": "white",
            "showbackground": true,
            "ticks": "",
            "zerolinecolor": "white"
           },
           "zaxis": {
            "backgroundcolor": "#E5ECF6",
            "gridcolor": "white",
            "gridwidth": 2,
            "linecolor": "white",
            "showbackground": true,
            "ticks": "",
            "zerolinecolor": "white"
           }
          },
          "shapedefaults": {
           "line": {
            "color": "#2a3f5f"
           }
          },
          "ternary": {
           "aaxis": {
            "gridcolor": "white",
            "linecolor": "white",
            "ticks": ""
           },
           "baxis": {
            "gridcolor": "white",
            "linecolor": "white",
            "ticks": ""
           },
           "bgcolor": "#E5ECF6",
           "caxis": {
            "gridcolor": "white",
            "linecolor": "white",
            "ticks": ""
           }
          },
          "title": {
           "x": 0.05
          },
          "xaxis": {
           "automargin": true,
           "gridcolor": "white",
           "linecolor": "white",
           "ticks": "",
           "title": {
            "standoff": 15
           },
           "zerolinecolor": "white",
           "zerolinewidth": 2
          },
          "yaxis": {
           "automargin": true,
           "gridcolor": "white",
           "linecolor": "white",
           "ticks": "",
           "title": {
            "standoff": 15
           },
           "zerolinecolor": "white",
           "zerolinewidth": 2
          }
         }
        },
        "width": 700
       }
      }
     },
     "metadata": {},
     "output_type": "display_data"
    }
   ],
   "source": [
    "fig = go.Figure()\n",
    "\n",
    "fig.add_scatter(x=metrics_avh[\"recall\"], y=metrics_avh[\"precision\"], name=\"AVH\")\n",
    "fig.add_scatter(x=metrics_ks[\"recall\"], y=metrics_ks[\"precision\"], name=\"KS-test\")\n",
    "fig.add_scatter(x=metrics_lof[\"recall\"], y=metrics_lof[\"precision\"], name=\"LOF\")\n",
    "fig.add_scatter(x=metrics_tfdv[\"recall\"], y=metrics_tfdv[\"precision\"], name=\"TFDV\")\n",
    "fig.update_layout(width=700, height=700)"
   ]
  },
  {
   "cell_type": "code",
   "execution_count": null,
   "metadata": {},
   "outputs": [
    {
     "data": {
      "application/vnd.plotly.v1+json": {
       "config": {
        "plotlyServerURL": "https://plot.ly"
       },
       "data": [
        {
         "name": "AVH",
         "type": "scatter",
         "x": [
          0.97826087,
          0.9826087,
          0.9826087,
          0.9856087,
          0.9956087,
          0.9956087
         ],
         "y": [
          0.992,
          0.992,
          0.9753043478260869,
          0.9753043478260869,
          0.8695438985052929,
          0.8008754944084536
         ]
        },
        {
         "name": "KS-test",
         "type": "scatter",
         "x": [
          0.7399999999999998,
          0.758695652173913,
          0.7741304347826081,
          0.7873913043478257,
          0.8071739130434784,
          0.8226086956521741,
          0.8393478260869567,
          0.8536956521739136,
          0.8684782608695665,
          0.8808695652173926,
          0.8941304347826105,
          0.9063043478260886,
          0.918478260869567,
          0.9276086956521756,
          0.940434782608697,
          0.9510869565217402,
          0.9628260869565227,
          0.9747826086956529,
          0.9847826086956527,
          1
         ],
         "y": [
          0.9299693199686293,
          0.8759135721559285,
          0.8263999245629727,
          0.7802320111558878,
          0.7426082188664352,
          0.7079722826339616,
          0.6780280513694085,
          0.6503790628746628,
          0.6228538265127513,
          0.5988952196432623,
          0.5810964735961396,
          0.5599639788272966,
          0.5427923025235085,
          0.5239193565909795,
          0.508672311917923,
          0.49368597416952825,
          0.4802441638489065,
          0.4655275056494129,
          0.45156785387097687,
          0.4339622641509443
         ]
        },
        {
         "name": "LOF",
         "type": "scatter",
         "x": [
          0.9478260869565236,
          0.9480434782608714,
          0.9480434782608714,
          0.9480434782608714,
          0.9480434782608714,
          0.9480434782608714,
          0.9480434782608714,
          0.9480434782608714,
          0.9480434782608714,
          0.9480434782608714,
          0.9482608695652192,
          0.9482608695652192,
          0.9482608695652192,
          0.9486956521739148,
          0.9486956521739148,
          0.9489130434782628,
          0.9491304347826106,
          0.9491304347826106,
          0.9491304347826106,
          0.9491304347826106,
          0.9491304347826106,
          0.9491304347826106,
          0.9491304347826106,
          0.9493478260869584,
          0.9495652173913062,
          0.9495652173913062,
          0.949782608695654,
          0.949782608695654,
          0.9502173913043497,
          0.9502173913043497,
          0.9502173913043497,
          0.9504347826086975,
          0.9506521739130455,
          0.9506521739130455,
          0.9508695652173933,
          0.951086956521741,
          0.951086956521741,
          0.951086956521741,
          0.951086956521741,
          0.951086956521741,
          0.9515217391304367,
          0.9517391304347845,
          0.9517391304347845,
          0.9521739130434801,
          0.9521739130434801,
          0.9523913043478279,
          0.9530434782608714,
          0.9539130434782627,
          0.9554347826086973,
          0.9563043478260886,
          0.9591304347826102,
          0.9836956521739136,
          1,
          1,
          1,
          1,
          1,
          1,
          1,
          1,
          1,
          1,
          1,
          1,
          1,
          1,
          1,
          1,
          1,
          1,
          1,
          1,
          1,
          1,
          1,
          1,
          1,
          1,
          1,
          1,
          1,
          1,
          1,
          1,
          1,
          1,
          1,
          1,
          1,
          1,
          1,
          1,
          1,
          1,
          1,
          1,
          1,
          1,
          1,
          1
         ],
         "y": [
          0.9989303359683797,
          0.9989303359683797,
          0.9989303359683797,
          0.9989303359683797,
          0.9989303359683797,
          0.9989303359683797,
          0.9989303359683797,
          0.9989303359683797,
          0.9989303359683797,
          0.9989303359683797,
          0.9989303359683797,
          0.9989303359683797,
          0.9984757905138342,
          0.9984757905138342,
          0.9984757905138342,
          0.9980401844532281,
          0.9980401844532281,
          0.9980401844532281,
          0.9978227931488803,
          0.9973970685111992,
          0.9973970685111992,
          0.9973970685111992,
          0.9971697957839265,
          0.9971788537549411,
          0.9969515810276682,
          0.9967243083003956,
          0.9965159749670623,
          0.9954183135704878,
          0.9949637681159424,
          0.9947463768115946,
          0.9945380434782614,
          0.9943107707509887,
          0.994083498023716,
          0.994083498023716,
          0.9934494400527015,
          0.9922055994729913,
          0.9913632081686433,
          0.9900563899868253,
          0.9890064888010545,
          0.9879269433465092,
          0.9857740118577083,
          0.9842399209486173,
          0.9822679512516477,
          0.9788852907961614,
          0.9744120694522879,
          0.9691471814417478,
          0.9635819513819525,
          0.9567069753113241,
          0.9441175900588952,
          0.9245610368184216,
          0.8783780918925594,
          0.5294981892198561,
          0.43418828616352295,
          0.4339622641509443,
          0.4339622641509443,
          0.4339622641509443,
          0.4339622641509443,
          0.4339622641509443,
          0.4339622641509443,
          0.4339622641509443,
          0.4339622641509443,
          0.4339622641509443,
          0.4339622641509443,
          0.4339622641509443,
          0.4339622641509443,
          0.4339622641509443,
          0.4339622641509443,
          0.4339622641509443,
          0.4339622641509443,
          0.4339622641509443,
          0.4339622641509443,
          0.4339622641509443,
          0.4339622641509443,
          0.4339622641509443,
          0.4339622641509443,
          0.4339622641509443,
          0.4339622641509443,
          0.4339622641509443,
          0.4339622641509443,
          0.4339622641509443,
          0.4339622641509443,
          0.4339622641509443,
          0.4339622641509443,
          0.4339622641509443,
          0.4339622641509443,
          0.4339622641509443,
          0.4339622641509443,
          0.4339622641509443,
          0.4339622641509443,
          0.4339622641509443,
          0.4339622641509443,
          0.4339622641509443,
          0.4339622641509443,
          0.4339622641509443,
          0.4339622641509443,
          0.4339622641509443,
          0.4339622641509443,
          0.4339622641509443,
          0.4339622641509443,
          0.4339622641509443
         ]
        },
        {
         "name": "Health-ESN",
         "type": "scatter",
         "x": [
          0.9478260869565236,
          0.9480434782608714,
          0.9480434782608714,
          0.9480434782608714,
          0.9480434782608714,
          0.9480434782608714,
          0.9480434782608714,
          0.9480434782608714,
          0.9480434782608714,
          0.9480434782608714,
          0.9482608695652192,
          0.9482608695652192,
          0.9482608695652192,
          0.9486956521739148,
          0.9486956521739148,
          0.9489130434782628,
          0.9491304347826106,
          0.9491304347826106,
          0.9491304347826106,
          0.9491304347826106,
          0.9491304347826106,
          0.9491304347826106,
          0.9491304347826106,
          0.9493478260869584,
          0.9495652173913062,
          0.9495652173913062,
          0.949782608695654,
          0.949782608695654,
          0.9502173913043497,
          0.9502173913043497,
          0.9502173913043497,
          0.9504347826086975,
          0.9506521739130455,
          0.9506521739130455,
          0.9508695652173933,
          0.951086956521741,
          0.951086956521741,
          0.951086956521741,
          0.951086956521741,
          0.951086956521741,
          0.9515217391304367,
          0.9517391304347845,
          0.9517391304347845,
          0.9521739130434801,
          0.9521739130434801,
          0.9523913043478279,
          0.9530434782608714,
          0.9539130434782627,
          0.9554347826086973,
          0.9563043478260886,
          0.9591304347826102,
          0.9836956521739136,
          1,
          1,
          1,
          1,
          1,
          1,
          1,
          1,
          1,
          1,
          1,
          1,
          1,
          1,
          1,
          1,
          1,
          1,
          1,
          1,
          1,
          1,
          1,
          1,
          1,
          1,
          1,
          1,
          1,
          1,
          1,
          1,
          1,
          1,
          1,
          1,
          1,
          1,
          1,
          1,
          1,
          1,
          1,
          1,
          1,
          1,
          1,
          1
         ],
         "y": [
          0.9789303359683796,
          0.9789303359683796,
          0.9789303359683796,
          0.9789303359683796,
          0.9789303359683796,
          0.9789303359683796,
          0.9789303359683796,
          0.9789303359683796,
          0.9789303359683796,
          0.9789303359683796,
          0.9789303359683796,
          0.9789303359683796,
          0.9784757905138342,
          0.9784757905138342,
          0.9784757905138342,
          0.978040184453228,
          0.978040184453228,
          0.978040184453228,
          0.9778227931488803,
          0.9773970685111992,
          0.9773970685111992,
          0.9773970685111992,
          0.9771697957839265,
          0.9771788537549411,
          0.9769515810276682,
          0.9767243083003956,
          0.9765159749670623,
          0.9754183135704878,
          0.9749637681159424,
          0.9747463768115946,
          0.9745380434782613,
          0.9743107707509887,
          0.974083498023716,
          0.974083498023716,
          0.9734494400527015,
          0.9722055994729912,
          0.9713632081686433,
          0.9700563899868253,
          0.9690064888010544,
          0.9679269433465092,
          0.9657740118577083,
          0.9642399209486173,
          0.9622679512516477,
          0.9588852907961614,
          0.9544120694522878,
          0.9491471814417478,
          0.9435819513819524,
          0.9367069753113241,
          0.9241175900588952,
          0.9045610368184216,
          0.8583780918925594,
          0.5094981892198561,
          0.41418828616352293,
          0.4139622641509443,
          0.4139622641509443,
          0.4139622641509443,
          0.4139622641509443,
          0.4139622641509443,
          0.4139622641509443,
          0.4139622641509443,
          0.4139622641509443,
          0.4139622641509443,
          0.4139622641509443,
          0.4139622641509443,
          0.4139622641509443,
          0.4139622641509443,
          0.4139622641509443,
          0.4139622641509443,
          0.4139622641509443,
          0.4139622641509443,
          0.4139622641509443,
          0.4139622641509443,
          0.4139622641509443,
          0.4139622641509443,
          0.4139622641509443,
          0.4139622641509443,
          0.4139622641509443,
          0.4139622641509443,
          0.4139622641509443,
          0.4139622641509443,
          0.4139622641509443,
          0.4139622641509443,
          0.4139622641509443,
          0.4139622641509443,
          0.4139622641509443,
          0.4139622641509443,
          0.4139622641509443,
          0.4139622641509443,
          0.4139622641509443,
          0.4139622641509443,
          0.4139622641509443,
          0.4139622641509443,
          0.4139622641509443,
          0.4139622641509443,
          0.4139622641509443,
          0.4139622641509443,
          0.4139622641509443,
          0.4139622641509443,
          0.4139622641509443,
          0.4139622641509443
         ]
        },
        {
         "name": "TFDV",
         "type": "scatter",
         "x": [
          0.7782608695652176,
          0.7782608695652176,
          0.7782608695652176,
          0.773913043478261,
          0.6521739130434783,
          0.26956521739130435,
          0.23043478260869565,
          0.2217391304347826,
          0.21304347826086958,
          0.2086956521739131,
          0.20434782608695654,
          0.20434782608695654,
          0.2,
          0.2,
          0.2,
          0.2,
          0.2
         ],
         "y": [
          0.37250739426205265,
          0.37250739426205265,
          0.37250739426205265,
          0.3712829044661343,
          0.48381074168797944,
          1,
          1,
          1,
          1,
          1,
          1,
          1,
          1,
          1,
          1,
          1,
          1
         ]
        }
       ],
       "layout": {
        "height": 700,
        "template": {
         "data": {
          "bar": [
           {
            "error_x": {
             "color": "#2a3f5f"
            },
            "error_y": {
             "color": "#2a3f5f"
            },
            "marker": {
             "line": {
              "color": "#E5ECF6",
              "width": 0.5
             },
             "pattern": {
              "fillmode": "overlay",
              "size": 10,
              "solidity": 0.2
             }
            },
            "type": "bar"
           }
          ],
          "barpolar": [
           {
            "marker": {
             "line": {
              "color": "#E5ECF6",
              "width": 0.5
             },
             "pattern": {
              "fillmode": "overlay",
              "size": 10,
              "solidity": 0.2
             }
            },
            "type": "barpolar"
           }
          ],
          "carpet": [
           {
            "aaxis": {
             "endlinecolor": "#2a3f5f",
             "gridcolor": "white",
             "linecolor": "white",
             "minorgridcolor": "white",
             "startlinecolor": "#2a3f5f"
            },
            "baxis": {
             "endlinecolor": "#2a3f5f",
             "gridcolor": "white",
             "linecolor": "white",
             "minorgridcolor": "white",
             "startlinecolor": "#2a3f5f"
            },
            "type": "carpet"
           }
          ],
          "choropleth": [
           {
            "colorbar": {
             "outlinewidth": 0,
             "ticks": ""
            },
            "type": "choropleth"
           }
          ],
          "contour": [
           {
            "colorbar": {
             "outlinewidth": 0,
             "ticks": ""
            },
            "colorscale": [
             [
              0,
              "#0d0887"
             ],
             [
              0.1111111111111111,
              "#46039f"
             ],
             [
              0.2222222222222222,
              "#7201a8"
             ],
             [
              0.3333333333333333,
              "#9c179e"
             ],
             [
              0.4444444444444444,
              "#bd3786"
             ],
             [
              0.5555555555555556,
              "#d8576b"
             ],
             [
              0.6666666666666666,
              "#ed7953"
             ],
             [
              0.7777777777777778,
              "#fb9f3a"
             ],
             [
              0.8888888888888888,
              "#fdca26"
             ],
             [
              1,
              "#f0f921"
             ]
            ],
            "type": "contour"
           }
          ],
          "contourcarpet": [
           {
            "colorbar": {
             "outlinewidth": 0,
             "ticks": ""
            },
            "type": "contourcarpet"
           }
          ],
          "heatmap": [
           {
            "colorbar": {
             "outlinewidth": 0,
             "ticks": ""
            },
            "colorscale": [
             [
              0,
              "#0d0887"
             ],
             [
              0.1111111111111111,
              "#46039f"
             ],
             [
              0.2222222222222222,
              "#7201a8"
             ],
             [
              0.3333333333333333,
              "#9c179e"
             ],
             [
              0.4444444444444444,
              "#bd3786"
             ],
             [
              0.5555555555555556,
              "#d8576b"
             ],
             [
              0.6666666666666666,
              "#ed7953"
             ],
             [
              0.7777777777777778,
              "#fb9f3a"
             ],
             [
              0.8888888888888888,
              "#fdca26"
             ],
             [
              1,
              "#f0f921"
             ]
            ],
            "type": "heatmap"
           }
          ],
          "heatmapgl": [
           {
            "colorbar": {
             "outlinewidth": 0,
             "ticks": ""
            },
            "colorscale": [
             [
              0,
              "#0d0887"
             ],
             [
              0.1111111111111111,
              "#46039f"
             ],
             [
              0.2222222222222222,
              "#7201a8"
             ],
             [
              0.3333333333333333,
              "#9c179e"
             ],
             [
              0.4444444444444444,
              "#bd3786"
             ],
             [
              0.5555555555555556,
              "#d8576b"
             ],
             [
              0.6666666666666666,
              "#ed7953"
             ],
             [
              0.7777777777777778,
              "#fb9f3a"
             ],
             [
              0.8888888888888888,
              "#fdca26"
             ],
             [
              1,
              "#f0f921"
             ]
            ],
            "type": "heatmapgl"
           }
          ],
          "histogram": [
           {
            "marker": {
             "pattern": {
              "fillmode": "overlay",
              "size": 10,
              "solidity": 0.2
             }
            },
            "type": "histogram"
           }
          ],
          "histogram2d": [
           {
            "colorbar": {
             "outlinewidth": 0,
             "ticks": ""
            },
            "colorscale": [
             [
              0,
              "#0d0887"
             ],
             [
              0.1111111111111111,
              "#46039f"
             ],
             [
              0.2222222222222222,
              "#7201a8"
             ],
             [
              0.3333333333333333,
              "#9c179e"
             ],
             [
              0.4444444444444444,
              "#bd3786"
             ],
             [
              0.5555555555555556,
              "#d8576b"
             ],
             [
              0.6666666666666666,
              "#ed7953"
             ],
             [
              0.7777777777777778,
              "#fb9f3a"
             ],
             [
              0.8888888888888888,
              "#fdca26"
             ],
             [
              1,
              "#f0f921"
             ]
            ],
            "type": "histogram2d"
           }
          ],
          "histogram2dcontour": [
           {
            "colorbar": {
             "outlinewidth": 0,
             "ticks": ""
            },
            "colorscale": [
             [
              0,
              "#0d0887"
             ],
             [
              0.1111111111111111,
              "#46039f"
             ],
             [
              0.2222222222222222,
              "#7201a8"
             ],
             [
              0.3333333333333333,
              "#9c179e"
             ],
             [
              0.4444444444444444,
              "#bd3786"
             ],
             [
              0.5555555555555556,
              "#d8576b"
             ],
             [
              0.6666666666666666,
              "#ed7953"
             ],
             [
              0.7777777777777778,
              "#fb9f3a"
             ],
             [
              0.8888888888888888,
              "#fdca26"
             ],
             [
              1,
              "#f0f921"
             ]
            ],
            "type": "histogram2dcontour"
           }
          ],
          "mesh3d": [
           {
            "colorbar": {
             "outlinewidth": 0,
             "ticks": ""
            },
            "type": "mesh3d"
           }
          ],
          "parcoords": [
           {
            "line": {
             "colorbar": {
              "outlinewidth": 0,
              "ticks": ""
             }
            },
            "type": "parcoords"
           }
          ],
          "pie": [
           {
            "automargin": true,
            "type": "pie"
           }
          ],
          "scatter": [
           {
            "fillpattern": {
             "fillmode": "overlay",
             "size": 10,
             "solidity": 0.2
            },
            "type": "scatter"
           }
          ],
          "scatter3d": [
           {
            "line": {
             "colorbar": {
              "outlinewidth": 0,
              "ticks": ""
             }
            },
            "marker": {
             "colorbar": {
              "outlinewidth": 0,
              "ticks": ""
             }
            },
            "type": "scatter3d"
           }
          ],
          "scattercarpet": [
           {
            "marker": {
             "colorbar": {
              "outlinewidth": 0,
              "ticks": ""
             }
            },
            "type": "scattercarpet"
           }
          ],
          "scattergeo": [
           {
            "marker": {
             "colorbar": {
              "outlinewidth": 0,
              "ticks": ""
             }
            },
            "type": "scattergeo"
           }
          ],
          "scattergl": [
           {
            "marker": {
             "colorbar": {
              "outlinewidth": 0,
              "ticks": ""
             }
            },
            "type": "scattergl"
           }
          ],
          "scattermapbox": [
           {
            "marker": {
             "colorbar": {
              "outlinewidth": 0,
              "ticks": ""
             }
            },
            "type": "scattermapbox"
           }
          ],
          "scatterpolar": [
           {
            "marker": {
             "colorbar": {
              "outlinewidth": 0,
              "ticks": ""
             }
            },
            "type": "scatterpolar"
           }
          ],
          "scatterpolargl": [
           {
            "marker": {
             "colorbar": {
              "outlinewidth": 0,
              "ticks": ""
             }
            },
            "type": "scatterpolargl"
           }
          ],
          "scatterternary": [
           {
            "marker": {
             "colorbar": {
              "outlinewidth": 0,
              "ticks": ""
             }
            },
            "type": "scatterternary"
           }
          ],
          "surface": [
           {
            "colorbar": {
             "outlinewidth": 0,
             "ticks": ""
            },
            "colorscale": [
             [
              0,
              "#0d0887"
             ],
             [
              0.1111111111111111,
              "#46039f"
             ],
             [
              0.2222222222222222,
              "#7201a8"
             ],
             [
              0.3333333333333333,
              "#9c179e"
             ],
             [
              0.4444444444444444,
              "#bd3786"
             ],
             [
              0.5555555555555556,
              "#d8576b"
             ],
             [
              0.6666666666666666,
              "#ed7953"
             ],
             [
              0.7777777777777778,
              "#fb9f3a"
             ],
             [
              0.8888888888888888,
              "#fdca26"
             ],
             [
              1,
              "#f0f921"
             ]
            ],
            "type": "surface"
           }
          ],
          "table": [
           {
            "cells": {
             "fill": {
              "color": "#EBF0F8"
             },
             "line": {
              "color": "white"
             }
            },
            "header": {
             "fill": {
              "color": "#C8D4E3"
             },
             "line": {
              "color": "white"
             }
            },
            "type": "table"
           }
          ]
         },
         "layout": {
          "annotationdefaults": {
           "arrowcolor": "#2a3f5f",
           "arrowhead": 0,
           "arrowwidth": 1
          },
          "autotypenumbers": "strict",
          "coloraxis": {
           "colorbar": {
            "outlinewidth": 0,
            "ticks": ""
           }
          },
          "colorscale": {
           "diverging": [
            [
             0,
             "#8e0152"
            ],
            [
             0.1,
             "#c51b7d"
            ],
            [
             0.2,
             "#de77ae"
            ],
            [
             0.3,
             "#f1b6da"
            ],
            [
             0.4,
             "#fde0ef"
            ],
            [
             0.5,
             "#f7f7f7"
            ],
            [
             0.6,
             "#e6f5d0"
            ],
            [
             0.7,
             "#b8e186"
            ],
            [
             0.8,
             "#7fbc41"
            ],
            [
             0.9,
             "#4d9221"
            ],
            [
             1,
             "#276419"
            ]
           ],
           "sequential": [
            [
             0,
             "#0d0887"
            ],
            [
             0.1111111111111111,
             "#46039f"
            ],
            [
             0.2222222222222222,
             "#7201a8"
            ],
            [
             0.3333333333333333,
             "#9c179e"
            ],
            [
             0.4444444444444444,
             "#bd3786"
            ],
            [
             0.5555555555555556,
             "#d8576b"
            ],
            [
             0.6666666666666666,
             "#ed7953"
            ],
            [
             0.7777777777777778,
             "#fb9f3a"
            ],
            [
             0.8888888888888888,
             "#fdca26"
            ],
            [
             1,
             "#f0f921"
            ]
           ],
           "sequentialminus": [
            [
             0,
             "#0d0887"
            ],
            [
             0.1111111111111111,
             "#46039f"
            ],
            [
             0.2222222222222222,
             "#7201a8"
            ],
            [
             0.3333333333333333,
             "#9c179e"
            ],
            [
             0.4444444444444444,
             "#bd3786"
            ],
            [
             0.5555555555555556,
             "#d8576b"
            ],
            [
             0.6666666666666666,
             "#ed7953"
            ],
            [
             0.7777777777777778,
             "#fb9f3a"
            ],
            [
             0.8888888888888888,
             "#fdca26"
            ],
            [
             1,
             "#f0f921"
            ]
           ]
          },
          "colorway": [
           "#636efa",
           "#EF553B",
           "#00cc96",
           "#ab63fa",
           "#FFA15A",
           "#19d3f3",
           "#FF6692",
           "#B6E880",
           "#FF97FF",
           "#FECB52"
          ],
          "font": {
           "color": "#2a3f5f"
          },
          "geo": {
           "bgcolor": "white",
           "lakecolor": "white",
           "landcolor": "#E5ECF6",
           "showlakes": true,
           "showland": true,
           "subunitcolor": "white"
          },
          "hoverlabel": {
           "align": "left"
          },
          "hovermode": "closest",
          "mapbox": {
           "style": "light"
          },
          "paper_bgcolor": "white",
          "plot_bgcolor": "#E5ECF6",
          "polar": {
           "angularaxis": {
            "gridcolor": "white",
            "linecolor": "white",
            "ticks": ""
           },
           "bgcolor": "#E5ECF6",
           "radialaxis": {
            "gridcolor": "white",
            "linecolor": "white",
            "ticks": ""
           }
          },
          "scene": {
           "xaxis": {
            "backgroundcolor": "#E5ECF6",
            "gridcolor": "white",
            "gridwidth": 2,
            "linecolor": "white",
            "showbackground": true,
            "ticks": "",
            "zerolinecolor": "white"
           },
           "yaxis": {
            "backgroundcolor": "#E5ECF6",
            "gridcolor": "white",
            "gridwidth": 2,
            "linecolor": "white",
            "showbackground": true,
            "ticks": "",
            "zerolinecolor": "white"
           },
           "zaxis": {
            "backgroundcolor": "#E5ECF6",
            "gridcolor": "white",
            "gridwidth": 2,
            "linecolor": "white",
            "showbackground": true,
            "ticks": "",
            "zerolinecolor": "white"
           }
          },
          "shapedefaults": {
           "line": {
            "color": "#2a3f5f"
           }
          },
          "ternary": {
           "aaxis": {
            "gridcolor": "white",
            "linecolor": "white",
            "ticks": ""
           },
           "baxis": {
            "gridcolor": "white",
            "linecolor": "white",
            "ticks": ""
           },
           "bgcolor": "#E5ECF6",
           "caxis": {
            "gridcolor": "white",
            "linecolor": "white",
            "ticks": ""
           }
          },
          "title": {
           "x": 0.05
          },
          "xaxis": {
           "automargin": true,
           "gridcolor": "white",
           "linecolor": "white",
           "ticks": "",
           "title": {
            "standoff": 15
           },
           "zerolinecolor": "white",
           "zerolinewidth": 2
          },
          "yaxis": {
           "automargin": true,
           "gridcolor": "white",
           "linecolor": "white",
           "ticks": "",
           "title": {
            "standoff": 15
           },
           "zerolinecolor": "white",
           "zerolinewidth": 2
          }
         }
        },
        "width": 700
       }
      }
     },
     "metadata": {},
     "output_type": "display_data"
    }
   ],
   "source": [
    "fig = go.Figure()\n",
    "\n",
    "fig.add_scatter(x=metrics_avh[\"recall\"], y=metrics_avh[\"precision\"], name=\"AVH\")\n",
    "fig.add_scatter(x=metrics_ks[\"recall\"], y=metrics_ks[\"precision\"], name=\"KS-test\")\n",
    "fig.add_scatter(x=metrics_lof[\"recall\"], y=metrics_lof[\"precision\"], name=\"LOF\")\n",
    "fig.add_scatter(x=metrics_hs[\"recall\"], y=metrics_hs[\"precision\"], name=\"Health-ESN\")\n",
    "fig.add_scatter(x=metrics_tfdv[\"recall\"], y=metrics_tfdv[\"precision\"], name=\"TFDV\")\n",
    "fig.update_layout(width=700, height=700)"
   ]
  },
  {
   "cell_type": "code",
   "execution_count": null,
   "metadata": {},
   "outputs": [
    {
     "data": {
      "application/vnd.plotly.v1+json": {
       "config": {
        "plotlyServerURL": "https://plot.ly"
       },
       "data": [
        {
         "hovertemplate": "x=%{x}<br>y=%{y}<extra></extra>",
         "legendgroup": "",
         "line": {
          "color": "#636efa",
          "dash": "solid"
         },
         "marker": {
          "symbol": "circle"
         },
         "mode": "lines",
         "name": "",
         "orientation": "v",
         "showlegend": false,
         "type": "scatter",
         "x": [
          0.946376811594203,
          0.946376811594203,
          0.9492753623188407,
          0.9492753623188407,
          0.9492753623188407,
          0.9492753623188407,
          0.9492753623188407,
          0.9492753623188407,
          0.9492753623188407,
          0.9492753623188407,
          0.9507246376811594,
          0.9507246376811594,
          0.9507246376811594,
          0.9507246376811594,
          0.9507246376811594,
          0.9507246376811594,
          0.9507246376811594,
          0.9507246376811594,
          0.9507246376811594,
          0.9507246376811594,
          0.9507246376811594,
          0.9507246376811594,
          0.9507246376811594,
          0.9507246376811594,
          0.9507246376811594,
          0.9507246376811594,
          0.9507246376811594,
          0.9507246376811594,
          0.9507246376811594,
          0.9507246376811594,
          0.9507246376811594,
          0.9507246376811594,
          0.9507246376811594,
          0.9507246376811594,
          0.9507246376811594,
          0.9507246376811594,
          0.9507246376811594,
          0.9507246376811594,
          0.9507246376811594,
          0.9507246376811594,
          0.9507246376811594,
          0.9507246376811594,
          0.9507246376811594,
          0.9507246376811594,
          0.9507246376811594,
          0.9521739130434782,
          0.955072463768116,
          0.955072463768116,
          0.9594202898550724,
          0.9608695652173913,
          0.9623188405797102,
          0.9855072463768114,
          1,
          1,
          1,
          1,
          1,
          1,
          1,
          1,
          1,
          1,
          1,
          1,
          1,
          1,
          1,
          1,
          1,
          1,
          1,
          1,
          1,
          1,
          1,
          1,
          1,
          1,
          1,
          1,
          1,
          1,
          1,
          1,
          1,
          1,
          1,
          1,
          1,
          1,
          1,
          1,
          1,
          1,
          1,
          1,
          1,
          1,
          1,
          1
         ],
         "xaxis": "x",
         "y": [
          1,
          1,
          1,
          1,
          1,
          1,
          0.9984126984126984,
          0.9984126984126984,
          0.9984126984126984,
          0.9984126984126984,
          0.9984848484848484,
          0.9984848484848484,
          0.9984848484848484,
          0.9984848484848484,
          0.9984848484848484,
          0.9984848484848484,
          0.9984848484848484,
          0.9984848484848484,
          0.9984848484848484,
          0.996969696969697,
          0.996969696969697,
          0.996969696969697,
          0.996969696969697,
          0.996969696969697,
          0.996969696969697,
          0.996969696969697,
          0.996969696969697,
          0.996969696969697,
          0.996969696969697,
          0.996969696969697,
          0.996969696969697,
          0.996969696969697,
          0.996969696969697,
          0.996969696969697,
          0.9954545454545456,
          0.9954545454545456,
          0.9940656565656566,
          0.9940656565656566,
          0.9911616161616161,
          0.9868741765480897,
          0.9868741765480897,
          0.9854249011857709,
          0.9825263504611332,
          0.9825263504611332,
          0.9797485726833554,
          0.9767841458058849,
          0.9685070267896354,
          0.9533252086078171,
          0.9480674132630653,
          0.9299026890983411,
          0.8850668487400607,
          0.5152342044485106,
          0.4339622641509436,
          0.4339622641509436,
          0.4339622641509436,
          0.4339622641509436,
          0.4339622641509436,
          0.4339622641509436,
          0.4339622641509436,
          0.4339622641509436,
          0.4339622641509436,
          0.4339622641509436,
          0.4339622641509436,
          0.4339622641509436,
          0.4339622641509436,
          0.4339622641509436,
          0.4339622641509436,
          0.4339622641509436,
          0.4339622641509436,
          0.4339622641509436,
          0.4339622641509436,
          0.4339622641509436,
          0.4339622641509436,
          0.4339622641509436,
          0.4339622641509436,
          0.4339622641509436,
          0.4339622641509436,
          0.4339622641509436,
          0.4339622641509436,
          0.4339622641509436,
          0.4339622641509436,
          0.4339622641509436,
          0.4339622641509436,
          0.4339622641509436,
          0.4339622641509436,
          0.4339622641509436,
          0.4339622641509436,
          0.4339622641509436,
          0.4339622641509436,
          0.4339622641509436,
          0.4339622641509436,
          0.4339622641509436,
          0.4339622641509436,
          0.4339622641509436,
          0.4339622641509436,
          0.4339622641509436,
          0.4339622641509436,
          0.4339622641509436,
          0.4339622641509436,
          0.4339622641509436
         ],
         "yaxis": "y"
        },
        {
         "type": "scatter",
         "x": [
          0.043478260869565195,
          0.7289855072463767,
          0.746376811594203,
          0.7710144927536233,
          0.7884057971014492,
          0.8043478260869567,
          0.8188405797101451,
          0.83768115942029,
          0.8434782608695653,
          0.855072463768116,
          0.8608695652173914,
          0.8826086956521739,
          0.8927536231884059,
          0.9057971014492756,
          0.9173913043478261,
          0.928985507246377,
          0.9347826086956523,
          0.9463768115942031,
          0.9565217391304349,
          0.9753623188405797,
          1
         ],
         "y": [
          1,
          0.9442940029813094,
          0.8916667476319516,
          0.8296696185638842,
          0.7827704508099178,
          0.7424100215563768,
          0.7056578879732629,
          0.6775544290585008,
          0.6436168862451664,
          0.6235754699713911,
          0.5992982872983234,
          0.5781567843759923,
          0.55733443987136,
          0.5391825529840976,
          0.5212549164006373,
          0.507438870043554,
          0.4897733036599963,
          0.47099702634468,
          0.4576807640470525,
          0.44709609293751645,
          0.4339622641509436
         ]
        }
       ],
       "layout": {
        "legend": {
         "tracegroupgap": 0
        },
        "margin": {
         "t": 60
        },
        "template": {
         "data": {
          "bar": [
           {
            "error_x": {
             "color": "#2a3f5f"
            },
            "error_y": {
             "color": "#2a3f5f"
            },
            "marker": {
             "line": {
              "color": "#E5ECF6",
              "width": 0.5
             },
             "pattern": {
              "fillmode": "overlay",
              "size": 10,
              "solidity": 0.2
             }
            },
            "type": "bar"
           }
          ],
          "barpolar": [
           {
            "marker": {
             "line": {
              "color": "#E5ECF6",
              "width": 0.5
             },
             "pattern": {
              "fillmode": "overlay",
              "size": 10,
              "solidity": 0.2
             }
            },
            "type": "barpolar"
           }
          ],
          "carpet": [
           {
            "aaxis": {
             "endlinecolor": "#2a3f5f",
             "gridcolor": "white",
             "linecolor": "white",
             "minorgridcolor": "white",
             "startlinecolor": "#2a3f5f"
            },
            "baxis": {
             "endlinecolor": "#2a3f5f",
             "gridcolor": "white",
             "linecolor": "white",
             "minorgridcolor": "white",
             "startlinecolor": "#2a3f5f"
            },
            "type": "carpet"
           }
          ],
          "choropleth": [
           {
            "colorbar": {
             "outlinewidth": 0,
             "ticks": ""
            },
            "type": "choropleth"
           }
          ],
          "contour": [
           {
            "colorbar": {
             "outlinewidth": 0,
             "ticks": ""
            },
            "colorscale": [
             [
              0,
              "#0d0887"
             ],
             [
              0.1111111111111111,
              "#46039f"
             ],
             [
              0.2222222222222222,
              "#7201a8"
             ],
             [
              0.3333333333333333,
              "#9c179e"
             ],
             [
              0.4444444444444444,
              "#bd3786"
             ],
             [
              0.5555555555555556,
              "#d8576b"
             ],
             [
              0.6666666666666666,
              "#ed7953"
             ],
             [
              0.7777777777777778,
              "#fb9f3a"
             ],
             [
              0.8888888888888888,
              "#fdca26"
             ],
             [
              1,
              "#f0f921"
             ]
            ],
            "type": "contour"
           }
          ],
          "contourcarpet": [
           {
            "colorbar": {
             "outlinewidth": 0,
             "ticks": ""
            },
            "type": "contourcarpet"
           }
          ],
          "heatmap": [
           {
            "colorbar": {
             "outlinewidth": 0,
             "ticks": ""
            },
            "colorscale": [
             [
              0,
              "#0d0887"
             ],
             [
              0.1111111111111111,
              "#46039f"
             ],
             [
              0.2222222222222222,
              "#7201a8"
             ],
             [
              0.3333333333333333,
              "#9c179e"
             ],
             [
              0.4444444444444444,
              "#bd3786"
             ],
             [
              0.5555555555555556,
              "#d8576b"
             ],
             [
              0.6666666666666666,
              "#ed7953"
             ],
             [
              0.7777777777777778,
              "#fb9f3a"
             ],
             [
              0.8888888888888888,
              "#fdca26"
             ],
             [
              1,
              "#f0f921"
             ]
            ],
            "type": "heatmap"
           }
          ],
          "heatmapgl": [
           {
            "colorbar": {
             "outlinewidth": 0,
             "ticks": ""
            },
            "colorscale": [
             [
              0,
              "#0d0887"
             ],
             [
              0.1111111111111111,
              "#46039f"
             ],
             [
              0.2222222222222222,
              "#7201a8"
             ],
             [
              0.3333333333333333,
              "#9c179e"
             ],
             [
              0.4444444444444444,
              "#bd3786"
             ],
             [
              0.5555555555555556,
              "#d8576b"
             ],
             [
              0.6666666666666666,
              "#ed7953"
             ],
             [
              0.7777777777777778,
              "#fb9f3a"
             ],
             [
              0.8888888888888888,
              "#fdca26"
             ],
             [
              1,
              "#f0f921"
             ]
            ],
            "type": "heatmapgl"
           }
          ],
          "histogram": [
           {
            "marker": {
             "pattern": {
              "fillmode": "overlay",
              "size": 10,
              "solidity": 0.2
             }
            },
            "type": "histogram"
           }
          ],
          "histogram2d": [
           {
            "colorbar": {
             "outlinewidth": 0,
             "ticks": ""
            },
            "colorscale": [
             [
              0,
              "#0d0887"
             ],
             [
              0.1111111111111111,
              "#46039f"
             ],
             [
              0.2222222222222222,
              "#7201a8"
             ],
             [
              0.3333333333333333,
              "#9c179e"
             ],
             [
              0.4444444444444444,
              "#bd3786"
             ],
             [
              0.5555555555555556,
              "#d8576b"
             ],
             [
              0.6666666666666666,
              "#ed7953"
             ],
             [
              0.7777777777777778,
              "#fb9f3a"
             ],
             [
              0.8888888888888888,
              "#fdca26"
             ],
             [
              1,
              "#f0f921"
             ]
            ],
            "type": "histogram2d"
           }
          ],
          "histogram2dcontour": [
           {
            "colorbar": {
             "outlinewidth": 0,
             "ticks": ""
            },
            "colorscale": [
             [
              0,
              "#0d0887"
             ],
             [
              0.1111111111111111,
              "#46039f"
             ],
             [
              0.2222222222222222,
              "#7201a8"
             ],
             [
              0.3333333333333333,
              "#9c179e"
             ],
             [
              0.4444444444444444,
              "#bd3786"
             ],
             [
              0.5555555555555556,
              "#d8576b"
             ],
             [
              0.6666666666666666,
              "#ed7953"
             ],
             [
              0.7777777777777778,
              "#fb9f3a"
             ],
             [
              0.8888888888888888,
              "#fdca26"
             ],
             [
              1,
              "#f0f921"
             ]
            ],
            "type": "histogram2dcontour"
           }
          ],
          "mesh3d": [
           {
            "colorbar": {
             "outlinewidth": 0,
             "ticks": ""
            },
            "type": "mesh3d"
           }
          ],
          "parcoords": [
           {
            "line": {
             "colorbar": {
              "outlinewidth": 0,
              "ticks": ""
             }
            },
            "type": "parcoords"
           }
          ],
          "pie": [
           {
            "automargin": true,
            "type": "pie"
           }
          ],
          "scatter": [
           {
            "fillpattern": {
             "fillmode": "overlay",
             "size": 10,
             "solidity": 0.2
            },
            "type": "scatter"
           }
          ],
          "scatter3d": [
           {
            "line": {
             "colorbar": {
              "outlinewidth": 0,
              "ticks": ""
             }
            },
            "marker": {
             "colorbar": {
              "outlinewidth": 0,
              "ticks": ""
             }
            },
            "type": "scatter3d"
           }
          ],
          "scattercarpet": [
           {
            "marker": {
             "colorbar": {
              "outlinewidth": 0,
              "ticks": ""
             }
            },
            "type": "scattercarpet"
           }
          ],
          "scattergeo": [
           {
            "marker": {
             "colorbar": {
              "outlinewidth": 0,
              "ticks": ""
             }
            },
            "type": "scattergeo"
           }
          ],
          "scattergl": [
           {
            "marker": {
             "colorbar": {
              "outlinewidth": 0,
              "ticks": ""
             }
            },
            "type": "scattergl"
           }
          ],
          "scattermapbox": [
           {
            "marker": {
             "colorbar": {
              "outlinewidth": 0,
              "ticks": ""
             }
            },
            "type": "scattermapbox"
           }
          ],
          "scatterpolar": [
           {
            "marker": {
             "colorbar": {
              "outlinewidth": 0,
              "ticks": ""
             }
            },
            "type": "scatterpolar"
           }
          ],
          "scatterpolargl": [
           {
            "marker": {
             "colorbar": {
              "outlinewidth": 0,
              "ticks": ""
             }
            },
            "type": "scatterpolargl"
           }
          ],
          "scatterternary": [
           {
            "marker": {
             "colorbar": {
              "outlinewidth": 0,
              "ticks": ""
             }
            },
            "type": "scatterternary"
           }
          ],
          "surface": [
           {
            "colorbar": {
             "outlinewidth": 0,
             "ticks": ""
            },
            "colorscale": [
             [
              0,
              "#0d0887"
             ],
             [
              0.1111111111111111,
              "#46039f"
             ],
             [
              0.2222222222222222,
              "#7201a8"
             ],
             [
              0.3333333333333333,
              "#9c179e"
             ],
             [
              0.4444444444444444,
              "#bd3786"
             ],
             [
              0.5555555555555556,
              "#d8576b"
             ],
             [
              0.6666666666666666,
              "#ed7953"
             ],
             [
              0.7777777777777778,
              "#fb9f3a"
             ],
             [
              0.8888888888888888,
              "#fdca26"
             ],
             [
              1,
              "#f0f921"
             ]
            ],
            "type": "surface"
           }
          ],
          "table": [
           {
            "cells": {
             "fill": {
              "color": "#EBF0F8"
             },
             "line": {
              "color": "white"
             }
            },
            "header": {
             "fill": {
              "color": "#C8D4E3"
             },
             "line": {
              "color": "white"
             }
            },
            "type": "table"
           }
          ]
         },
         "layout": {
          "annotationdefaults": {
           "arrowcolor": "#2a3f5f",
           "arrowhead": 0,
           "arrowwidth": 1
          },
          "autotypenumbers": "strict",
          "coloraxis": {
           "colorbar": {
            "outlinewidth": 0,
            "ticks": ""
           }
          },
          "colorscale": {
           "diverging": [
            [
             0,
             "#8e0152"
            ],
            [
             0.1,
             "#c51b7d"
            ],
            [
             0.2,
             "#de77ae"
            ],
            [
             0.3,
             "#f1b6da"
            ],
            [
             0.4,
             "#fde0ef"
            ],
            [
             0.5,
             "#f7f7f7"
            ],
            [
             0.6,
             "#e6f5d0"
            ],
            [
             0.7,
             "#b8e186"
            ],
            [
             0.8,
             "#7fbc41"
            ],
            [
             0.9,
             "#4d9221"
            ],
            [
             1,
             "#276419"
            ]
           ],
           "sequential": [
            [
             0,
             "#0d0887"
            ],
            [
             0.1111111111111111,
             "#46039f"
            ],
            [
             0.2222222222222222,
             "#7201a8"
            ],
            [
             0.3333333333333333,
             "#9c179e"
            ],
            [
             0.4444444444444444,
             "#bd3786"
            ],
            [
             0.5555555555555556,
             "#d8576b"
            ],
            [
             0.6666666666666666,
             "#ed7953"
            ],
            [
             0.7777777777777778,
             "#fb9f3a"
            ],
            [
             0.8888888888888888,
             "#fdca26"
            ],
            [
             1,
             "#f0f921"
            ]
           ],
           "sequentialminus": [
            [
             0,
             "#0d0887"
            ],
            [
             0.1111111111111111,
             "#46039f"
            ],
            [
             0.2222222222222222,
             "#7201a8"
            ],
            [
             0.3333333333333333,
             "#9c179e"
            ],
            [
             0.4444444444444444,
             "#bd3786"
            ],
            [
             0.5555555555555556,
             "#d8576b"
            ],
            [
             0.6666666666666666,
             "#ed7953"
            ],
            [
             0.7777777777777778,
             "#fb9f3a"
            ],
            [
             0.8888888888888888,
             "#fdca26"
            ],
            [
             1,
             "#f0f921"
            ]
           ]
          },
          "colorway": [
           "#636efa",
           "#EF553B",
           "#00cc96",
           "#ab63fa",
           "#FFA15A",
           "#19d3f3",
           "#FF6692",
           "#B6E880",
           "#FF97FF",
           "#FECB52"
          ],
          "font": {
           "color": "#2a3f5f"
          },
          "geo": {
           "bgcolor": "white",
           "lakecolor": "white",
           "landcolor": "#E5ECF6",
           "showlakes": true,
           "showland": true,
           "subunitcolor": "white"
          },
          "hoverlabel": {
           "align": "left"
          },
          "hovermode": "closest",
          "mapbox": {
           "style": "light"
          },
          "paper_bgcolor": "white",
          "plot_bgcolor": "#E5ECF6",
          "polar": {
           "angularaxis": {
            "gridcolor": "white",
            "linecolor": "white",
            "ticks": ""
           },
           "bgcolor": "#E5ECF6",
           "radialaxis": {
            "gridcolor": "white",
            "linecolor": "white",
            "ticks": ""
           }
          },
          "scene": {
           "xaxis": {
            "backgroundcolor": "#E5ECF6",
            "gridcolor": "white",
            "gridwidth": 2,
            "linecolor": "white",
            "showbackground": true,
            "ticks": "",
            "zerolinecolor": "white"
           },
           "yaxis": {
            "backgroundcolor": "#E5ECF6",
            "gridcolor": "white",
            "gridwidth": 2,
            "linecolor": "white",
            "showbackground": true,
            "ticks": "",
            "zerolinecolor": "white"
           },
           "zaxis": {
            "backgroundcolor": "#E5ECF6",
            "gridcolor": "white",
            "gridwidth": 2,
            "linecolor": "white",
            "showbackground": true,
            "ticks": "",
            "zerolinecolor": "white"
           }
          },
          "shapedefaults": {
           "line": {
            "color": "#2a3f5f"
           }
          },
          "ternary": {
           "aaxis": {
            "gridcolor": "white",
            "linecolor": "white",
            "ticks": ""
           },
           "baxis": {
            "gridcolor": "white",
            "linecolor": "white",
            "ticks": ""
           },
           "bgcolor": "#E5ECF6",
           "caxis": {
            "gridcolor": "white",
            "linecolor": "white",
            "ticks": ""
           }
          },
          "title": {
           "x": 0.05
          },
          "xaxis": {
           "automargin": true,
           "gridcolor": "white",
           "linecolor": "white",
           "ticks": "",
           "title": {
            "standoff": 15
           },
           "zerolinecolor": "white",
           "zerolinewidth": 2
          },
          "yaxis": {
           "automargin": true,
           "gridcolor": "white",
           "linecolor": "white",
           "ticks": "",
           "title": {
            "standoff": 15
           },
           "zerolinecolor": "white",
           "zerolinewidth": 2
          }
         }
        },
        "xaxis": {
         "anchor": "y",
         "domain": [
          0,
          1
         ],
         "title": {
          "text": "x"
         }
        },
        "yaxis": {
         "anchor": "x",
         "domain": [
          0,
          1
         ],
         "title": {
          "text": "y"
         }
        }
       }
      }
     },
     "metadata": {},
     "output_type": "display_data"
    }
   ],
   "source": [
    "fig = go.Figure()\n",
    "\n",
    "fig.add_scatter(x=metrics_ks[\"recall\"], y=metrics_ks[\"precision\"])\n",
    "fig.add_scatter(x=metrics_lof[\"recall\"], y=metrics_lof[\"precision\"])"
   ]
  }
 ],
 "metadata": {
  "kernelspec": {
   "display_name": ".venv",
   "language": "python",
   "name": "python3"
  },
  "language_info": {
   "codemirror_mode": {
    "name": "ipython",
    "version": 3
   },
   "file_extension": ".py",
   "mimetype": "text/x-python",
   "name": "python",
   "nbconvert_exporter": "python",
   "pygments_lexer": "ipython3",
   "version": "3.10.9"
  }
 },
 "nbformat": 4,
 "nbformat_minor": 2
}
