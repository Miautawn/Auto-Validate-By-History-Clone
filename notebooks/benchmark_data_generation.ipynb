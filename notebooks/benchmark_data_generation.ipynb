{
 "cells": [
  {
   "cell_type": "code",
   "execution_count": 1,
   "metadata": {},
   "outputs": [],
   "source": [
    "%load_ext autoreload\n",
    "%autoreload 2"
   ]
  },
  {
   "cell_type": "code",
   "execution_count": 2,
   "metadata": {},
   "outputs": [],
   "source": [
    "# import uuid\n",
    "import time\n",
    "from typing import List, Tuple\n",
    "\n",
    "import numpy as np\n",
    "import pandas as pd\n",
    "from tqdm import tqdm\n",
    "from sklearn.utils.validation import check_is_fitted\n",
    "from statsmodels.tsa.stattools import adfuller\n",
    "from IPython.display import Code, display\n",
    "import inspect\n",
    "\n",
    "import avh.utility_functions as utils\n",
    "from avh.data_issues import (\n",
    "    IssueTransfomer,\n",
    "    NumericIssueTransformer,\n",
    "    CategoricalIssueTransformer,\n",
    "    IncreasedNulls,\n",
    "    SchemaChange,\n",
    "    DistributionChange,\n",
    "    UnitChange,\n",
    "    CasingChange,\n",
    "    DQIssueDatasetGenerator,\n",
    "    VolumeChangeUpsample,\n",
    "    VolumeChangeDownsample,\n",
    "    NumericPerturbation,\n",
    ")\n",
    "\n",
    "from avh.data_generation import (\n",
    "    DataColumn,\n",
    "    NumericColumn,\n",
    "    CategoricalColumn,\n",
    "    NormalNumericColumn,\n",
    "    UniformNumericColumn,\n",
    "    BetaNumericColumn,\n",
    "    StaticCategoricalColumn,\n",
    "    RandomCategoricalColumn,\n",
    "    DataGenerationPipeline,\n",
    ")\n",
    "\n",
    "from avh.metrics import (\n",
    "    Metric,\n",
    "    SingleDistributionMetric,\n",
    "    TwoDistributionMetric,\n",
    "    RowCount,\n",
    "    DistinctCount,\n",
    "    DistinctRatio,\n",
    "    CompleteRatio,\n",
    "    Mean,\n",
    "    Median,\n",
    "    Range,\n",
    "    Min,\n",
    "    Max,\n",
    "    Sum,\n",
    "    MeanDigitLength,\n",
    "    MeanPunctuationLength,\n",
    "    MeanStringLength,\n",
    "    EMD,\n",
    "    KsDist,\n",
    "    CohenD,\n",
    "    KlDivergence,\n",
    "    JsDivergence,\n",
    ")\n",
    "\n",
    "from avh.constraints import (\n",
    "    Constraint,\n",
    "    ConstantConstraint,\n",
    "    ChebyshevConstraint,\n",
    "    CantelliConstraint,\n",
    "    CLTConstraint,\n",
    "    ConjuctivDQProgram,\n",
    ")\n",
    "\n",
    "from avh.auto_validate_by_history import AVH\n",
    "\n",
    "import plotly.express as px"
   ]
  },
  {
   "cell_type": "code",
   "execution_count": 3,
   "metadata": {},
   "outputs": [
    {
     "data": {
      "text/html": [
       "\n",
       "                <script type=\"application/javascript\" id=\"jupyter_black\">\n",
       "                (function() {\n",
       "                    if (window.IPython === undefined) {\n",
       "                        return\n",
       "                    }\n",
       "                    var msg = \"WARNING: it looks like you might have loaded \" +\n",
       "                        \"jupyter_black in a non-lab notebook with \" +\n",
       "                        \"`is_lab=True`. Please double check, and if \" +\n",
       "                        \"loading with `%load_ext` please review the README!\"\n",
       "                    console.log(msg)\n",
       "                    alert(msg)\n",
       "                })()\n",
       "                </script>\n",
       "                "
      ],
      "text/plain": [
       "<IPython.core.display.HTML object>"
      ]
     },
     "metadata": {},
     "output_type": "display_data"
    }
   ],
   "source": [
    "import jupyter_black\n",
    "\n",
    "jupyter_black.load()"
   ]
  },
  {
   "cell_type": "code",
   "execution_count": 4,
   "metadata": {},
   "outputs": [],
   "source": [
    "rng = np.random.default_rng(42)"
   ]
  },
  {
   "cell_type": "code",
   "execution_count": 5,
   "metadata": {},
   "outputs": [],
   "source": [
    "from avh.data_generation import DataGenerationPipeline, NormalNumericColumn, BetaNumericColumn\n",
    "\n",
    "from avh.data_issues import IncreasedNulls\n",
    "from avh.auto_validate_by_history import AVH"
   ]
  },
  {
   "cell_type": "code",
   "execution_count": 6,
   "metadata": {},
   "outputs": [],
   "source": [
    "pipeline = DataGenerationPipeline(\n",
    "    columns=[\n",
    "        NormalNumericColumn(\"money\", mean=300, std=10),\n",
    "        BetaNumericColumn(\"height\", alfa=18, beta=2),\n",
    "    ],\n",
    "    issues=[\n",
    "        # (\"money\", []),\n",
    "    ],\n",
    "    random_state=42,\n",
    ")"
   ]
  },
  {
   "cell_type": "code",
   "execution_count": 7,
   "metadata": {},
   "outputs": [],
   "source": [
    "H = [pipeline.generate_normal(30000, 30) for i in range(30)]"
   ]
  },
  {
   "cell_type": "code",
   "execution_count": 25,
   "metadata": {},
   "outputs": [
    {
     "name": "stderr",
     "output_type": "stream",
     "text": [
      "creating D(C)...: 23it [00:01, 20.04it/s] \n",
      "Generating P(S for columns...: 100%|██████████| 1/1 [00:01<00:00,  1.58s/it]\n"
     ]
    }
   ],
   "source": [
    "avh = AVH(columns=[\"money\"])\n",
    "ps = avh.generate(H, fpr_target=0.05)"
   ]
  },
  {
   "cell_type": "code",
   "execution_count": 8,
   "metadata": {},
   "outputs": [],
   "source": [
    "import pickle\n",
    "\n",
    "with open(\"../benchmark/benchmark_data.pickle\", \"rb\") as f:\n",
    "    data = pickle.load(f)"
   ]
  },
  {
   "cell_type": "code",
   "execution_count": 9,
   "metadata": {},
   "outputs": [],
   "source": [
    "H = [h[6] for h in data[\"column_history\"]]"
   ]
  },
  {
   "cell_type": "code",
   "execution_count": 10,
   "metadata": {},
   "outputs": [],
   "source": [
    "total_history_size = 60\n",
    "train_history_window_size = 30\n",
    "\n",
    "total_windows = total_history_size - train_history_window_size"
   ]
  },
  {
   "cell_type": "code",
   "execution_count": 11,
   "metadata": {},
   "outputs": [],
   "source": [
    "metric_h = [h[\"numeric_6\"] for h in H[3 : 3 + train_history_window_size]]\n",
    "metric_history = Median.calculate(metric_h)"
   ]
  },
  {
   "cell_type": "code",
   "execution_count": 12,
   "metadata": {},
   "outputs": [
    {
     "name": "stdout",
     "output_type": "stream",
     "text": [
      "Now processing window:  0\n"
     ]
    }
   ],
   "source": [
    "avh = AVH(verbose=0, columns=[\"numeric_6\"], time_differencing=\"auto\")\n",
    "\n",
    "for i in range(total_windows):\n",
    "    print(\"Now processing window: \", i)\n",
    "    train_h = H[i : i + train_history_window_size]\n",
    "    test_h = H[i + train_history_window_size]\n",
    "\n",
    "    PS = avh.generate(train_h, fpr_target=0.05)\n",
    "    print(PS)"
   ]
  },
  {
   "cell_type": "code",
   "execution_count": null,
   "metadata": {},
   "outputs": [
    {
     "name": "stderr",
     "output_type": "stream",
     "text": [
      "creating D(C)...: 23it [00:00, 27.94it/s]\n",
      "Generating P(S for columns...: 100%|██████████| 1/1 [00:01<00:00,  1.73s/it]\n"
     ]
    }
   ],
   "source": [
    "\n",
    "PS = a.generate(H, fpr_target=0.05)"
   ]
  },
  {
   "cell_type": "markdown",
   "metadata": {},
   "source": [
    "### Synthetic benchmark data generation"
   ]
  },
  {
   "cell_type": "markdown",
   "metadata": {},
   "source": [
    "**Benchmark setup**  \n",
    "columns:\n",
    "- Numeric:\n",
    "    - count: 1000\n",
    "    - dtypes:\n",
    "        - int: 30%\n",
    "        - float: 70%\n",
    "    - distributions:\n",
    "        - uniform: 10%\n",
    "        - normal: 20%\n",
    "        - beta: 70%\n",
    "- Categorical:\n",
    "    - count: 1000"
   ]
  },
  {
   "cell_type": "markdown",
   "metadata": {},
   "source": [
    "### First attempts"
   ]
  },
  {
   "cell_type": "code",
   "execution_count": 27,
   "metadata": {},
   "outputs": [],
   "source": [
    "from typing import List, Tuple, Iterable, Optional\n",
    "from scipy.stats import ks_2samp\n",
    "from joblib import Parallel, delayed\n",
    "from avh.auto_validate_by_history import AVH\n",
    "from avh.constraints import Constraint, ConjuctivDQProgram\n",
    "import pickle\n",
    "import numpy as np\n",
    "import pandas as pd\n",
    "from tqdm import tqdm\n",
    "\n",
    "import pathlib"
   ]
  },
  {
   "cell_type": "code",
   "execution_count": 79,
   "metadata": {},
   "outputs": [],
   "source": [
    "with open(f\"../benchmark/benchmark_data.pickle\", \"rb\") as f:\n",
    "    benchmark_data = pickle.load(f)\n",
    "\n",
    "H_FULL = benchmark_data[\"column_history\"]"
   ]
  },
  {
   "cell_type": "code",
   "execution_count": 80,
   "metadata": {},
   "outputs": [],
   "source": [
    "H_FULL = [run[6] for run in H_FULL]"
   ]
  },
  {
   "cell_type": "code",
   "execution_count": 9,
   "metadata": {},
   "outputs": [
    {
     "name": "stderr",
     "output_type": "stream",
     "text": [
      "creating D(C)...: 23it [00:00, 24.13it/s] \n",
      "Generating P(S for columns...: 100%|██████████| 1/1 [00:00<00:00,  1.15it/s]\n"
     ]
    }
   ],
   "source": [
    "avh = AVH(columns=[\"numeric_6\"])\n",
    "ps = avh.generate(H_FULL[:30], fpr_target=0.05)"
   ]
  },
  {
   "cell_type": "code",
   "execution_count": 87,
   "metadata": {},
   "outputs": [],
   "source": [
    "import pickle\n",
    "import plotly.graph_objects as go\n",
    "from copy import deepcopy"
   ]
  },
  {
   "cell_type": "code",
   "execution_count": 110,
   "metadata": {},
   "outputs": [],
   "source": [
    "with open(\"../benchmark/benchmark_avh_metrics.pickle\", \"rb\") as f:\n",
    "    metrics_avh = pickle.load(f)\n",
    "\n",
    "with open(\"../benchmark/benchmark_ks_test_metrics.pickle\", \"rb\") as f:\n",
    "    metrics_ks = pickle.load(f)\n",
    "\n",
    "with open(\"../benchmark/benchmark_ks_test_full_metrics.pickle\", \"rb\") as f:\n",
    "    metrics_ks_full = pickle.load(f)\n",
    "\n",
    "with open(\"../benchmark/benchmark_lof_metrics.pickle\", \"rb\") as f:\n",
    "    metrics_lof = pickle.load(f)\n",
    "\n",
    "with open(\"../benchmark/benchmark_tfdv_metrics.pickle\", \"rb\") as f:\n",
    "    metrics_tfdv = pickle.load(f)\n",
    "\n",
    "with open(\"../benchmark/benchmark_tfdv_full_metrics.pickle\", \"rb\") as f:\n",
    "    metrics_tfdv_full = pickle.load(f)"
   ]
  },
  {
   "cell_type": "code",
   "execution_count": 116,
   "metadata": {},
   "outputs": [
    {
     "data": {
      "application/vnd.plotly.v1+json": {
       "config": {
        "plotlyServerURL": "https://plot.ly"
       },
       "data": [
        {
         "name": "AVH",
         "type": "scatter",
         "x": [
          0.9507246376811594,
          0.9637681159420287,
          0.9594202898550722,
          0.9695652173913041,
          0.9594202898550724,
          0.9782608695652172
         ],
         "y": [
          1,
          1,
          0.9891350798959494,
          0.9918664065403194,
          0.8589957060405359,
          0.7883780969230791
         ]
        },
        {
         "name": "KS-test",
         "type": "scatter",
         "x": [
          0.8391304347826087,
          0.8507246376811596,
          0.8594202898550727,
          0.8695652173913044,
          0.8826086956521739,
          0.8927536231884059,
          0.8985507246376814,
          0.9028985507246379,
          0.9115942028985508,
          0.917391304347826,
          0.9347826086956523,
          0.9391304347826087,
          0.9478260869565216,
          0.9579710144927536,
          0.9637681159420288,
          0.9695652173913042,
          0.9724637681159419,
          0.9797101449275359,
          0.9927536231884057,
          1
         ],
         "y": [
          0.7198579972037534,
          0.6880047759841379,
          0.6550631295091537,
          0.6337178113388926,
          0.6057035771123823,
          0.5809204836729437,
          0.5644425207739111,
          0.548220306510401,
          0.5347358983037919,
          0.5127640187853578,
          0.5024926738865109,
          0.4938159274687042,
          0.4901204317046843,
          0.4820721281166681,
          0.47053812871515766,
          0.4629432887300228,
          0.45419921938966784,
          0.44987096016829936,
          0.44215414387078095,
          0.4339622641509436
         ]
        },
        {
         "name": "KS-test-full",
         "type": "scatter",
         "x": [
          0.884057971014493,
          0.9000000000000001,
          0.908695652173913,
          0.9173913043478261,
          0.9217391304347827,
          0.9260869565217392,
          0.9333333333333335,
          0.9362318840579711,
          0.9420289855072463,
          0.9478260869565216,
          0.9521739130434781,
          0.9594202898550724,
          0.9652173913043478,
          0.9753623188405796,
          0.9826086956521738,
          0.9826086956521738,
          0.9869565217391305,
          0.9927536231884058,
          0.9971014492753623,
          1
         ],
         "y": [
          0.6725098373435016,
          0.6498991026675497,
          0.6235451773990818,
          0.6044009823441258,
          0.589285537606944,
          0.5727896647123462,
          0.5572246898523486,
          0.5448922057158228,
          0.5265990817236179,
          0.513934288538907,
          0.5065005892667303,
          0.49913265370366205,
          0.4907776797199012,
          0.4835352345078762,
          0.4735794254011761,
          0.46544294395399743,
          0.4573781319198929,
          0.45156624931931416,
          0.44230488372259597,
          0.4339622641509436
         ]
        },
        {
         "name": "LOF",
         "type": "scatter",
         "x": [
          0.9188405797101448,
          0.9188405797101448,
          0.9202898550724636,
          0.9231884057971013,
          0.9231884057971013,
          0.9231884057971013,
          0.9231884057971013,
          0.9231884057971013,
          0.9260869565217391,
          0.9260869565217391,
          0.9260869565217391,
          0.9260869565217391,
          0.9260869565217391,
          0.9260869565217391,
          0.9260869565217391,
          0.9260869565217391,
          0.9260869565217391,
          0.9260869565217391,
          0.927536231884058,
          0.927536231884058,
          0.927536231884058,
          0.927536231884058,
          0.9289855072463769,
          0.9304347826086957,
          0.9304347826086957,
          0.9318840579710145,
          0.9318840579710145,
          0.9333333333333333,
          0.9333333333333333,
          0.9347826086956522,
          0.936231884057971,
          0.93768115942029,
          0.93768115942029,
          0.93768115942029,
          0.93768115942029,
          0.93768115942029,
          0.93768115942029,
          0.9391304347826087,
          0.9391304347826087,
          0.9405797101449276,
          0.9405797101449276,
          0.9405797101449276,
          0.9434782608695652,
          0.9434782608695652,
          0.944927536231884,
          0.9463768115942028,
          0.9478260869565217,
          0.9507246376811594,
          0.9536231884057973,
          0.956521739130435,
          0.9623188405797103,
          0.9884057971014493,
          1,
          1,
          1,
          1,
          1,
          1,
          1,
          1,
          1,
          1,
          1,
          1,
          1,
          1,
          1,
          1,
          1,
          1,
          1,
          1,
          1,
          1,
          1,
          1,
          1,
          1,
          1,
          1,
          1,
          1,
          1,
          1,
          1,
          1,
          1,
          1,
          1,
          1,
          1,
          1,
          1,
          1,
          1,
          1,
          1,
          1,
          1,
          1
         ],
         "y": [
          0.9968181818181817,
          0.9968181818181817,
          0.9968181818181817,
          0.9968181818181817,
          0.9968181818181817,
          0.9968181818181817,
          0.9968181818181817,
          0.9968181818181817,
          0.9968975468975468,
          0.9968975468975468,
          0.9968975468975468,
          0.9968975468975468,
          0.9968975468975468,
          0.9968975468975468,
          0.9968975468975468,
          0.9968975468975468,
          0.9968975468975468,
          0.9968975468975468,
          0.9968975468975468,
          0.9968975468975468,
          0.9968975468975468,
          0.9968975468975468,
          0.9968975468975468,
          0.9969634230503795,
          0.9969634230503795,
          0.9969634230503795,
          0.9969634230503795,
          0.9969634230503795,
          0.9969634230503795,
          0.9970238095238095,
          0.9970238095238095,
          0.9970238095238095,
          0.9970238095238095,
          0.9970238095238095,
          0.9970238095238095,
          0.9939872325741891,
          0.9939872325741891,
          0.9912094547964113,
          0.9898205659075223,
          0.9871538992408556,
          0.9838122116886417,
          0.9778770840143837,
          0.9696884685362945,
          0.9577652323521889,
          0.9427788781267045,
          0.9322311432528828,
          0.914154018016337,
          0.8897443366598788,
          0.8497626087102598,
          0.7803968712526578,
          0.6677076907416815,
          0.4691676264646826,
          0.4339622641509436,
          0.4339622641509436,
          0.4339622641509436,
          0.4339622641509436,
          0.4339622641509436,
          0.4339622641509436,
          0.4339622641509436,
          0.4339622641509436,
          0.4339622641509436,
          0.4339622641509436,
          0.4339622641509436,
          0.4339622641509436,
          0.4339622641509436,
          0.4339622641509436,
          0.4339622641509436,
          0.4339622641509436,
          0.4339622641509436,
          0.4339622641509436,
          0.4339622641509436,
          0.4339622641509436,
          0.4339622641509436,
          0.4339622641509436,
          0.4339622641509436,
          0.4339622641509436,
          0.4339622641509436,
          0.4339622641509436,
          0.4339622641509436,
          0.4339622641509436,
          0.4339622641509436,
          0.4339622641509436,
          0.4339622641509436,
          0.4339622641509436,
          0.4339622641509436,
          0.4339622641509436,
          0.4339622641509436,
          0.4339622641509436,
          0.4339622641509436,
          0.4339622641509436,
          0.4339622641509436,
          0.4339622641509436,
          0.4339622641509436,
          0.4339622641509436,
          0.4339622641509436,
          0.4339622641509436,
          0.4339622641509436,
          0.4339622641509436,
          0.4339622641509436,
          0.4339622641509436
         ]
        },
        {
         "name": "TFDV",
         "type": "scatter",
         "x": [
          1,
          1,
          1,
          1,
          0.9942028985507246,
          0.7840579710144926,
          0.6086956521739129,
          0.5739130434782609,
          0.5536231884057973,
          0.44637681159420306,
          0.4144927536231885,
          0.3739130434782609,
          0.27391304347826095,
          0.043478260869565195,
          0.043478260869565195,
          0.043478260869565195,
          0.043478260869565195
         ],
         "y": [
          0.4339622641509436,
          0.4339622641509436,
          0.4339622641509436,
          0.4339622641509436,
          0.4339488254582596,
          0.8298258345428156,
          0.8391676670668267,
          0.8623179642227261,
          0.8779421768707483,
          0.8761860396332445,
          0.8970918367346938,
          0.9166485743233465,
          0.9148936170212765,
          1,
          1,
          1,
          1
         ]
        },
        {
         "name": "TFDV-full",
         "type": "scatter",
         "x": [
          1,
          1,
          1,
          1,
          0.9971014492753623,
          0.82463768115942,
          0.6840579710144926,
          0.6608695652173913,
          0.618840579710145,
          0.5318840579710147,
          0.482608695652174,
          0.40579710144927544,
          0.28840579710144937,
          0.043478260869565195,
          0.043478260869565195,
          0.043478260869565195,
          0.043478260869565195
         ],
         "y": [
          0.4339622641509436,
          0.4339622641509436,
          0.4339622641509436,
          0.4339622641509436,
          0.44135623286566694,
          0.7547169811320754,
          0.7489140271493214,
          0.7631052420968386,
          0.8031212484993997,
          0.8014524958919738,
          0.8237001467253567,
          0.8517260937031913,
          0.8931352143077398,
          1,
          1,
          1,
          1
         ]
        }
       ],
       "layout": {
        "height": 700,
        "template": {
         "data": {
          "bar": [
           {
            "error_x": {
             "color": "#2a3f5f"
            },
            "error_y": {
             "color": "#2a3f5f"
            },
            "marker": {
             "line": {
              "color": "#E5ECF6",
              "width": 0.5
             },
             "pattern": {
              "fillmode": "overlay",
              "size": 10,
              "solidity": 0.2
             }
            },
            "type": "bar"
           }
          ],
          "barpolar": [
           {
            "marker": {
             "line": {
              "color": "#E5ECF6",
              "width": 0.5
             },
             "pattern": {
              "fillmode": "overlay",
              "size": 10,
              "solidity": 0.2
             }
            },
            "type": "barpolar"
           }
          ],
          "carpet": [
           {
            "aaxis": {
             "endlinecolor": "#2a3f5f",
             "gridcolor": "white",
             "linecolor": "white",
             "minorgridcolor": "white",
             "startlinecolor": "#2a3f5f"
            },
            "baxis": {
             "endlinecolor": "#2a3f5f",
             "gridcolor": "white",
             "linecolor": "white",
             "minorgridcolor": "white",
             "startlinecolor": "#2a3f5f"
            },
            "type": "carpet"
           }
          ],
          "choropleth": [
           {
            "colorbar": {
             "outlinewidth": 0,
             "ticks": ""
            },
            "type": "choropleth"
           }
          ],
          "contour": [
           {
            "colorbar": {
             "outlinewidth": 0,
             "ticks": ""
            },
            "colorscale": [
             [
              0,
              "#0d0887"
             ],
             [
              0.1111111111111111,
              "#46039f"
             ],
             [
              0.2222222222222222,
              "#7201a8"
             ],
             [
              0.3333333333333333,
              "#9c179e"
             ],
             [
              0.4444444444444444,
              "#bd3786"
             ],
             [
              0.5555555555555556,
              "#d8576b"
             ],
             [
              0.6666666666666666,
              "#ed7953"
             ],
             [
              0.7777777777777778,
              "#fb9f3a"
             ],
             [
              0.8888888888888888,
              "#fdca26"
             ],
             [
              1,
              "#f0f921"
             ]
            ],
            "type": "contour"
           }
          ],
          "contourcarpet": [
           {
            "colorbar": {
             "outlinewidth": 0,
             "ticks": ""
            },
            "type": "contourcarpet"
           }
          ],
          "heatmap": [
           {
            "colorbar": {
             "outlinewidth": 0,
             "ticks": ""
            },
            "colorscale": [
             [
              0,
              "#0d0887"
             ],
             [
              0.1111111111111111,
              "#46039f"
             ],
             [
              0.2222222222222222,
              "#7201a8"
             ],
             [
              0.3333333333333333,
              "#9c179e"
             ],
             [
              0.4444444444444444,
              "#bd3786"
             ],
             [
              0.5555555555555556,
              "#d8576b"
             ],
             [
              0.6666666666666666,
              "#ed7953"
             ],
             [
              0.7777777777777778,
              "#fb9f3a"
             ],
             [
              0.8888888888888888,
              "#fdca26"
             ],
             [
              1,
              "#f0f921"
             ]
            ],
            "type": "heatmap"
           }
          ],
          "heatmapgl": [
           {
            "colorbar": {
             "outlinewidth": 0,
             "ticks": ""
            },
            "colorscale": [
             [
              0,
              "#0d0887"
             ],
             [
              0.1111111111111111,
              "#46039f"
             ],
             [
              0.2222222222222222,
              "#7201a8"
             ],
             [
              0.3333333333333333,
              "#9c179e"
             ],
             [
              0.4444444444444444,
              "#bd3786"
             ],
             [
              0.5555555555555556,
              "#d8576b"
             ],
             [
              0.6666666666666666,
              "#ed7953"
             ],
             [
              0.7777777777777778,
              "#fb9f3a"
             ],
             [
              0.8888888888888888,
              "#fdca26"
             ],
             [
              1,
              "#f0f921"
             ]
            ],
            "type": "heatmapgl"
           }
          ],
          "histogram": [
           {
            "marker": {
             "pattern": {
              "fillmode": "overlay",
              "size": 10,
              "solidity": 0.2
             }
            },
            "type": "histogram"
           }
          ],
          "histogram2d": [
           {
            "colorbar": {
             "outlinewidth": 0,
             "ticks": ""
            },
            "colorscale": [
             [
              0,
              "#0d0887"
             ],
             [
              0.1111111111111111,
              "#46039f"
             ],
             [
              0.2222222222222222,
              "#7201a8"
             ],
             [
              0.3333333333333333,
              "#9c179e"
             ],
             [
              0.4444444444444444,
              "#bd3786"
             ],
             [
              0.5555555555555556,
              "#d8576b"
             ],
             [
              0.6666666666666666,
              "#ed7953"
             ],
             [
              0.7777777777777778,
              "#fb9f3a"
             ],
             [
              0.8888888888888888,
              "#fdca26"
             ],
             [
              1,
              "#f0f921"
             ]
            ],
            "type": "histogram2d"
           }
          ],
          "histogram2dcontour": [
           {
            "colorbar": {
             "outlinewidth": 0,
             "ticks": ""
            },
            "colorscale": [
             [
              0,
              "#0d0887"
             ],
             [
              0.1111111111111111,
              "#46039f"
             ],
             [
              0.2222222222222222,
              "#7201a8"
             ],
             [
              0.3333333333333333,
              "#9c179e"
             ],
             [
              0.4444444444444444,
              "#bd3786"
             ],
             [
              0.5555555555555556,
              "#d8576b"
             ],
             [
              0.6666666666666666,
              "#ed7953"
             ],
             [
              0.7777777777777778,
              "#fb9f3a"
             ],
             [
              0.8888888888888888,
              "#fdca26"
             ],
             [
              1,
              "#f0f921"
             ]
            ],
            "type": "histogram2dcontour"
           }
          ],
          "mesh3d": [
           {
            "colorbar": {
             "outlinewidth": 0,
             "ticks": ""
            },
            "type": "mesh3d"
           }
          ],
          "parcoords": [
           {
            "line": {
             "colorbar": {
              "outlinewidth": 0,
              "ticks": ""
             }
            },
            "type": "parcoords"
           }
          ],
          "pie": [
           {
            "automargin": true,
            "type": "pie"
           }
          ],
          "scatter": [
           {
            "fillpattern": {
             "fillmode": "overlay",
             "size": 10,
             "solidity": 0.2
            },
            "type": "scatter"
           }
          ],
          "scatter3d": [
           {
            "line": {
             "colorbar": {
              "outlinewidth": 0,
              "ticks": ""
             }
            },
            "marker": {
             "colorbar": {
              "outlinewidth": 0,
              "ticks": ""
             }
            },
            "type": "scatter3d"
           }
          ],
          "scattercarpet": [
           {
            "marker": {
             "colorbar": {
              "outlinewidth": 0,
              "ticks": ""
             }
            },
            "type": "scattercarpet"
           }
          ],
          "scattergeo": [
           {
            "marker": {
             "colorbar": {
              "outlinewidth": 0,
              "ticks": ""
             }
            },
            "type": "scattergeo"
           }
          ],
          "scattergl": [
           {
            "marker": {
             "colorbar": {
              "outlinewidth": 0,
              "ticks": ""
             }
            },
            "type": "scattergl"
           }
          ],
          "scattermapbox": [
           {
            "marker": {
             "colorbar": {
              "outlinewidth": 0,
              "ticks": ""
             }
            },
            "type": "scattermapbox"
           }
          ],
          "scatterpolar": [
           {
            "marker": {
             "colorbar": {
              "outlinewidth": 0,
              "ticks": ""
             }
            },
            "type": "scatterpolar"
           }
          ],
          "scatterpolargl": [
           {
            "marker": {
             "colorbar": {
              "outlinewidth": 0,
              "ticks": ""
             }
            },
            "type": "scatterpolargl"
           }
          ],
          "scatterternary": [
           {
            "marker": {
             "colorbar": {
              "outlinewidth": 0,
              "ticks": ""
             }
            },
            "type": "scatterternary"
           }
          ],
          "surface": [
           {
            "colorbar": {
             "outlinewidth": 0,
             "ticks": ""
            },
            "colorscale": [
             [
              0,
              "#0d0887"
             ],
             [
              0.1111111111111111,
              "#46039f"
             ],
             [
              0.2222222222222222,
              "#7201a8"
             ],
             [
              0.3333333333333333,
              "#9c179e"
             ],
             [
              0.4444444444444444,
              "#bd3786"
             ],
             [
              0.5555555555555556,
              "#d8576b"
             ],
             [
              0.6666666666666666,
              "#ed7953"
             ],
             [
              0.7777777777777778,
              "#fb9f3a"
             ],
             [
              0.8888888888888888,
              "#fdca26"
             ],
             [
              1,
              "#f0f921"
             ]
            ],
            "type": "surface"
           }
          ],
          "table": [
           {
            "cells": {
             "fill": {
              "color": "#EBF0F8"
             },
             "line": {
              "color": "white"
             }
            },
            "header": {
             "fill": {
              "color": "#C8D4E3"
             },
             "line": {
              "color": "white"
             }
            },
            "type": "table"
           }
          ]
         },
         "layout": {
          "annotationdefaults": {
           "arrowcolor": "#2a3f5f",
           "arrowhead": 0,
           "arrowwidth": 1
          },
          "autotypenumbers": "strict",
          "coloraxis": {
           "colorbar": {
            "outlinewidth": 0,
            "ticks": ""
           }
          },
          "colorscale": {
           "diverging": [
            [
             0,
             "#8e0152"
            ],
            [
             0.1,
             "#c51b7d"
            ],
            [
             0.2,
             "#de77ae"
            ],
            [
             0.3,
             "#f1b6da"
            ],
            [
             0.4,
             "#fde0ef"
            ],
            [
             0.5,
             "#f7f7f7"
            ],
            [
             0.6,
             "#e6f5d0"
            ],
            [
             0.7,
             "#b8e186"
            ],
            [
             0.8,
             "#7fbc41"
            ],
            [
             0.9,
             "#4d9221"
            ],
            [
             1,
             "#276419"
            ]
           ],
           "sequential": [
            [
             0,
             "#0d0887"
            ],
            [
             0.1111111111111111,
             "#46039f"
            ],
            [
             0.2222222222222222,
             "#7201a8"
            ],
            [
             0.3333333333333333,
             "#9c179e"
            ],
            [
             0.4444444444444444,
             "#bd3786"
            ],
            [
             0.5555555555555556,
             "#d8576b"
            ],
            [
             0.6666666666666666,
             "#ed7953"
            ],
            [
             0.7777777777777778,
             "#fb9f3a"
            ],
            [
             0.8888888888888888,
             "#fdca26"
            ],
            [
             1,
             "#f0f921"
            ]
           ],
           "sequentialminus": [
            [
             0,
             "#0d0887"
            ],
            [
             0.1111111111111111,
             "#46039f"
            ],
            [
             0.2222222222222222,
             "#7201a8"
            ],
            [
             0.3333333333333333,
             "#9c179e"
            ],
            [
             0.4444444444444444,
             "#bd3786"
            ],
            [
             0.5555555555555556,
             "#d8576b"
            ],
            [
             0.6666666666666666,
             "#ed7953"
            ],
            [
             0.7777777777777778,
             "#fb9f3a"
            ],
            [
             0.8888888888888888,
             "#fdca26"
            ],
            [
             1,
             "#f0f921"
            ]
           ]
          },
          "colorway": [
           "#636efa",
           "#EF553B",
           "#00cc96",
           "#ab63fa",
           "#FFA15A",
           "#19d3f3",
           "#FF6692",
           "#B6E880",
           "#FF97FF",
           "#FECB52"
          ],
          "font": {
           "color": "#2a3f5f"
          },
          "geo": {
           "bgcolor": "white",
           "lakecolor": "white",
           "landcolor": "#E5ECF6",
           "showlakes": true,
           "showland": true,
           "subunitcolor": "white"
          },
          "hoverlabel": {
           "align": "left"
          },
          "hovermode": "closest",
          "mapbox": {
           "style": "light"
          },
          "paper_bgcolor": "white",
          "plot_bgcolor": "#E5ECF6",
          "polar": {
           "angularaxis": {
            "gridcolor": "white",
            "linecolor": "white",
            "ticks": ""
           },
           "bgcolor": "#E5ECF6",
           "radialaxis": {
            "gridcolor": "white",
            "linecolor": "white",
            "ticks": ""
           }
          },
          "scene": {
           "xaxis": {
            "backgroundcolor": "#E5ECF6",
            "gridcolor": "white",
            "gridwidth": 2,
            "linecolor": "white",
            "showbackground": true,
            "ticks": "",
            "zerolinecolor": "white"
           },
           "yaxis": {
            "backgroundcolor": "#E5ECF6",
            "gridcolor": "white",
            "gridwidth": 2,
            "linecolor": "white",
            "showbackground": true,
            "ticks": "",
            "zerolinecolor": "white"
           },
           "zaxis": {
            "backgroundcolor": "#E5ECF6",
            "gridcolor": "white",
            "gridwidth": 2,
            "linecolor": "white",
            "showbackground": true,
            "ticks": "",
            "zerolinecolor": "white"
           }
          },
          "shapedefaults": {
           "line": {
            "color": "#2a3f5f"
           }
          },
          "ternary": {
           "aaxis": {
            "gridcolor": "white",
            "linecolor": "white",
            "ticks": ""
           },
           "baxis": {
            "gridcolor": "white",
            "linecolor": "white",
            "ticks": ""
           },
           "bgcolor": "#E5ECF6",
           "caxis": {
            "gridcolor": "white",
            "linecolor": "white",
            "ticks": ""
           }
          },
          "title": {
           "x": 0.05
          },
          "xaxis": {
           "automargin": true,
           "gridcolor": "white",
           "linecolor": "white",
           "ticks": "",
           "title": {
            "standoff": 15
           },
           "zerolinecolor": "white",
           "zerolinewidth": 2
          },
          "yaxis": {
           "automargin": true,
           "gridcolor": "white",
           "linecolor": "white",
           "ticks": "",
           "title": {
            "standoff": 15
           },
           "zerolinecolor": "white",
           "zerolinewidth": 2
          }
         }
        },
        "width": 700
       }
      }
     },
     "metadata": {},
     "output_type": "display_data"
    }
   ],
   "source": [
    "fig = go.Figure()\n",
    "\n",
    "fig.add_scatter(x=metrics_avh[\"recall\"], y=metrics_avh[\"precision\"], name=\"AVH\")\n",
    "fig.add_scatter(x=metrics_ks[\"recall\"][1:], y=metrics_ks[\"precision\"][1:], name=\"KS-test\")\n",
    "fig.add_scatter(\n",
    "    x=metrics_ks_full[\"recall\"][1:], y=metrics_ks_full[\"precision\"][1:], name=\"KS-test-full\"\n",
    ")\n",
    "fig.add_scatter(x=metrics_lof[\"recall\"], y=metrics_lof[\"precision\"], name=\"LOF\")\n",
    "fig.add_scatter(x=metrics_tfdv[\"recall\"], y=metrics_tfdv[\"precision\"], name=\"TFDV\")\n",
    "fig.add_scatter(x=metrics_tfdv_full[\"recall\"], y=metrics_tfdv_full[\"precision\"], name=\"TFDV-full\")\n",
    "fig.update_layout(width=700, height=700)"
   ]
  },
  {
   "cell_type": "code",
   "execution_count": 98,
   "metadata": {},
   "outputs": [
    {
     "data": {
      "application/vnd.plotly.v1+json": {
       "config": {
        "plotlyServerURL": "https://plot.ly"
       },
       "data": [
        {
         "name": "AVH",
         "type": "scatter",
         "x": [
          0.9507246376811594,
          0.9637681159420287,
          0.9594202898550722,
          0.9695652173913041,
          0.9594202898550724,
          0.9782608695652172
         ],
         "y": [
          1,
          1,
          0.9891350798959494,
          0.9918664065403194,
          0.8589957060405359,
          0.7883780969230791
         ]
        },
        {
         "name": "KS-test",
         "type": "scatter",
         "x": [
          0.043478260869565195,
          0.8391304347826087,
          0.8507246376811596,
          0.8594202898550727,
          0.8695652173913044,
          0.8826086956521739,
          0.8927536231884059,
          0.8985507246376814,
          0.9028985507246379,
          0.9115942028985508,
          0.917391304347826,
          0.9347826086956523,
          0.9391304347826087,
          0.9478260869565216,
          0.9579710144927536,
          0.9637681159420288,
          0.9695652173913042,
          0.9724637681159419,
          0.9797101449275359,
          0.9927536231884057,
          1
         ],
         "y": [
          1,
          0.7198579972037534,
          0.6880047759841379,
          0.6550631295091537,
          0.6337178113388926,
          0.6057035771123823,
          0.5809204836729437,
          0.5644425207739111,
          0.548220306510401,
          0.5347358983037919,
          0.5127640187853578,
          0.5024926738865109,
          0.4938159274687042,
          0.4901204317046843,
          0.4820721281166681,
          0.47053812871515766,
          0.4629432887300228,
          0.45419921938966784,
          0.44987096016829936,
          0.44215414387078095,
          0.4339622641509436
         ]
        },
        {
         "name": "LOF",
         "type": "scatter",
         "x": [
          0.9188405797101448,
          0.9188405797101448,
          0.9202898550724636,
          0.9231884057971013,
          0.9231884057971013,
          0.9231884057971013,
          0.9231884057971013,
          0.9231884057971013,
          0.9260869565217391,
          0.9260869565217391,
          0.9260869565217391,
          0.9260869565217391,
          0.9260869565217391,
          0.9260869565217391,
          0.9260869565217391,
          0.9260869565217391,
          0.9260869565217391,
          0.9260869565217391,
          0.927536231884058,
          0.927536231884058,
          0.927536231884058,
          0.927536231884058,
          0.9289855072463769,
          0.9304347826086957,
          0.9304347826086957,
          0.9318840579710145,
          0.9318840579710145,
          0.9333333333333333,
          0.9333333333333333,
          0.9347826086956522,
          0.936231884057971,
          0.93768115942029,
          0.93768115942029,
          0.93768115942029,
          0.93768115942029,
          0.93768115942029,
          0.93768115942029,
          0.9391304347826087,
          0.9391304347826087,
          0.9405797101449276,
          0.9405797101449276,
          0.9405797101449276,
          0.9434782608695652,
          0.9434782608695652,
          0.944927536231884,
          0.9463768115942028,
          0.9478260869565217,
          0.9507246376811594,
          0.9536231884057973,
          0.956521739130435,
          0.9623188405797103,
          0.9884057971014493,
          1,
          1,
          1,
          1,
          1,
          1,
          1,
          1,
          1,
          1,
          1,
          1,
          1,
          1,
          1,
          1,
          1,
          1,
          1,
          1,
          1,
          1,
          1,
          1,
          1,
          1,
          1,
          1,
          1,
          1,
          1,
          1,
          1,
          1,
          1,
          1,
          1,
          1,
          1,
          1,
          1,
          1,
          1,
          1,
          1,
          1,
          1,
          1
         ],
         "y": [
          0.9968181818181817,
          0.9968181818181817,
          0.9968181818181817,
          0.9968181818181817,
          0.9968181818181817,
          0.9968181818181817,
          0.9968181818181817,
          0.9968181818181817,
          0.9968975468975468,
          0.9968975468975468,
          0.9968975468975468,
          0.9968975468975468,
          0.9968975468975468,
          0.9968975468975468,
          0.9968975468975468,
          0.9968975468975468,
          0.9968975468975468,
          0.9968975468975468,
          0.9968975468975468,
          0.9968975468975468,
          0.9968975468975468,
          0.9968975468975468,
          0.9968975468975468,
          0.9969634230503795,
          0.9969634230503795,
          0.9969634230503795,
          0.9969634230503795,
          0.9969634230503795,
          0.9969634230503795,
          0.9970238095238095,
          0.9970238095238095,
          0.9970238095238095,
          0.9970238095238095,
          0.9970238095238095,
          0.9970238095238095,
          0.9939872325741891,
          0.9939872325741891,
          0.9912094547964113,
          0.9898205659075223,
          0.9871538992408556,
          0.9838122116886417,
          0.9778770840143837,
          0.9696884685362945,
          0.9577652323521889,
          0.9427788781267045,
          0.9322311432528828,
          0.914154018016337,
          0.8897443366598788,
          0.8497626087102598,
          0.7803968712526578,
          0.6677076907416815,
          0.4691676264646826,
          0.4339622641509436,
          0.4339622641509436,
          0.4339622641509436,
          0.4339622641509436,
          0.4339622641509436,
          0.4339622641509436,
          0.4339622641509436,
          0.4339622641509436,
          0.4339622641509436,
          0.4339622641509436,
          0.4339622641509436,
          0.4339622641509436,
          0.4339622641509436,
          0.4339622641509436,
          0.4339622641509436,
          0.4339622641509436,
          0.4339622641509436,
          0.4339622641509436,
          0.4339622641509436,
          0.4339622641509436,
          0.4339622641509436,
          0.4339622641509436,
          0.4339622641509436,
          0.4339622641509436,
          0.4339622641509436,
          0.4339622641509436,
          0.4339622641509436,
          0.4339622641509436,
          0.4339622641509436,
          0.4339622641509436,
          0.4339622641509436,
          0.4339622641509436,
          0.4339622641509436,
          0.4339622641509436,
          0.4339622641509436,
          0.4339622641509436,
          0.4339622641509436,
          0.4339622641509436,
          0.4339622641509436,
          0.4339622641509436,
          0.4339622641509436,
          0.4339622641509436,
          0.4339622641509436,
          0.4339622641509436,
          0.4339622641509436,
          0.4339622641509436,
          0.4339622641509436,
          0.4339622641509436
         ]
        },
        {
         "name": "TFDV",
         "type": "scatter",
         "x": [
          1,
          1,
          1,
          1,
          0.9942028985507246,
          0.7840579710144926,
          0.6086956521739129,
          0.5739130434782609,
          0.5536231884057973,
          0.44637681159420306,
          0.4144927536231885,
          0.3739130434782609,
          0.27391304347826095,
          0.043478260869565195,
          0.043478260869565195,
          0.043478260869565195,
          0.043478260869565195
         ],
         "y": [
          0.4339622641509436,
          0.4339622641509436,
          0.4339622641509436,
          0.4339622641509436,
          0.4339488254582596,
          0.8298258345428156,
          0.8391676670668267,
          0.8623179642227261,
          0.8779421768707483,
          0.8761860396332445,
          0.8970918367346938,
          0.9166485743233465,
          0.9148936170212765,
          1,
          1,
          1,
          1
         ]
        }
       ],
       "layout": {
        "height": 700,
        "template": {
         "data": {
          "bar": [
           {
            "error_x": {
             "color": "#2a3f5f"
            },
            "error_y": {
             "color": "#2a3f5f"
            },
            "marker": {
             "line": {
              "color": "#E5ECF6",
              "width": 0.5
             },
             "pattern": {
              "fillmode": "overlay",
              "size": 10,
              "solidity": 0.2
             }
            },
            "type": "bar"
           }
          ],
          "barpolar": [
           {
            "marker": {
             "line": {
              "color": "#E5ECF6",
              "width": 0.5
             },
             "pattern": {
              "fillmode": "overlay",
              "size": 10,
              "solidity": 0.2
             }
            },
            "type": "barpolar"
           }
          ],
          "carpet": [
           {
            "aaxis": {
             "endlinecolor": "#2a3f5f",
             "gridcolor": "white",
             "linecolor": "white",
             "minorgridcolor": "white",
             "startlinecolor": "#2a3f5f"
            },
            "baxis": {
             "endlinecolor": "#2a3f5f",
             "gridcolor": "white",
             "linecolor": "white",
             "minorgridcolor": "white",
             "startlinecolor": "#2a3f5f"
            },
            "type": "carpet"
           }
          ],
          "choropleth": [
           {
            "colorbar": {
             "outlinewidth": 0,
             "ticks": ""
            },
            "type": "choropleth"
           }
          ],
          "contour": [
           {
            "colorbar": {
             "outlinewidth": 0,
             "ticks": ""
            },
            "colorscale": [
             [
              0,
              "#0d0887"
             ],
             [
              0.1111111111111111,
              "#46039f"
             ],
             [
              0.2222222222222222,
              "#7201a8"
             ],
             [
              0.3333333333333333,
              "#9c179e"
             ],
             [
              0.4444444444444444,
              "#bd3786"
             ],
             [
              0.5555555555555556,
              "#d8576b"
             ],
             [
              0.6666666666666666,
              "#ed7953"
             ],
             [
              0.7777777777777778,
              "#fb9f3a"
             ],
             [
              0.8888888888888888,
              "#fdca26"
             ],
             [
              1,
              "#f0f921"
             ]
            ],
            "type": "contour"
           }
          ],
          "contourcarpet": [
           {
            "colorbar": {
             "outlinewidth": 0,
             "ticks": ""
            },
            "type": "contourcarpet"
           }
          ],
          "heatmap": [
           {
            "colorbar": {
             "outlinewidth": 0,
             "ticks": ""
            },
            "colorscale": [
             [
              0,
              "#0d0887"
             ],
             [
              0.1111111111111111,
              "#46039f"
             ],
             [
              0.2222222222222222,
              "#7201a8"
             ],
             [
              0.3333333333333333,
              "#9c179e"
             ],
             [
              0.4444444444444444,
              "#bd3786"
             ],
             [
              0.5555555555555556,
              "#d8576b"
             ],
             [
              0.6666666666666666,
              "#ed7953"
             ],
             [
              0.7777777777777778,
              "#fb9f3a"
             ],
             [
              0.8888888888888888,
              "#fdca26"
             ],
             [
              1,
              "#f0f921"
             ]
            ],
            "type": "heatmap"
           }
          ],
          "heatmapgl": [
           {
            "colorbar": {
             "outlinewidth": 0,
             "ticks": ""
            },
            "colorscale": [
             [
              0,
              "#0d0887"
             ],
             [
              0.1111111111111111,
              "#46039f"
             ],
             [
              0.2222222222222222,
              "#7201a8"
             ],
             [
              0.3333333333333333,
              "#9c179e"
             ],
             [
              0.4444444444444444,
              "#bd3786"
             ],
             [
              0.5555555555555556,
              "#d8576b"
             ],
             [
              0.6666666666666666,
              "#ed7953"
             ],
             [
              0.7777777777777778,
              "#fb9f3a"
             ],
             [
              0.8888888888888888,
              "#fdca26"
             ],
             [
              1,
              "#f0f921"
             ]
            ],
            "type": "heatmapgl"
           }
          ],
          "histogram": [
           {
            "marker": {
             "pattern": {
              "fillmode": "overlay",
              "size": 10,
              "solidity": 0.2
             }
            },
            "type": "histogram"
           }
          ],
          "histogram2d": [
           {
            "colorbar": {
             "outlinewidth": 0,
             "ticks": ""
            },
            "colorscale": [
             [
              0,
              "#0d0887"
             ],
             [
              0.1111111111111111,
              "#46039f"
             ],
             [
              0.2222222222222222,
              "#7201a8"
             ],
             [
              0.3333333333333333,
              "#9c179e"
             ],
             [
              0.4444444444444444,
              "#bd3786"
             ],
             [
              0.5555555555555556,
              "#d8576b"
             ],
             [
              0.6666666666666666,
              "#ed7953"
             ],
             [
              0.7777777777777778,
              "#fb9f3a"
             ],
             [
              0.8888888888888888,
              "#fdca26"
             ],
             [
              1,
              "#f0f921"
             ]
            ],
            "type": "histogram2d"
           }
          ],
          "histogram2dcontour": [
           {
            "colorbar": {
             "outlinewidth": 0,
             "ticks": ""
            },
            "colorscale": [
             [
              0,
              "#0d0887"
             ],
             [
              0.1111111111111111,
              "#46039f"
             ],
             [
              0.2222222222222222,
              "#7201a8"
             ],
             [
              0.3333333333333333,
              "#9c179e"
             ],
             [
              0.4444444444444444,
              "#bd3786"
             ],
             [
              0.5555555555555556,
              "#d8576b"
             ],
             [
              0.6666666666666666,
              "#ed7953"
             ],
             [
              0.7777777777777778,
              "#fb9f3a"
             ],
             [
              0.8888888888888888,
              "#fdca26"
             ],
             [
              1,
              "#f0f921"
             ]
            ],
            "type": "histogram2dcontour"
           }
          ],
          "mesh3d": [
           {
            "colorbar": {
             "outlinewidth": 0,
             "ticks": ""
            },
            "type": "mesh3d"
           }
          ],
          "parcoords": [
           {
            "line": {
             "colorbar": {
              "outlinewidth": 0,
              "ticks": ""
             }
            },
            "type": "parcoords"
           }
          ],
          "pie": [
           {
            "automargin": true,
            "type": "pie"
           }
          ],
          "scatter": [
           {
            "fillpattern": {
             "fillmode": "overlay",
             "size": 10,
             "solidity": 0.2
            },
            "type": "scatter"
           }
          ],
          "scatter3d": [
           {
            "line": {
             "colorbar": {
              "outlinewidth": 0,
              "ticks": ""
             }
            },
            "marker": {
             "colorbar": {
              "outlinewidth": 0,
              "ticks": ""
             }
            },
            "type": "scatter3d"
           }
          ],
          "scattercarpet": [
           {
            "marker": {
             "colorbar": {
              "outlinewidth": 0,
              "ticks": ""
             }
            },
            "type": "scattercarpet"
           }
          ],
          "scattergeo": [
           {
            "marker": {
             "colorbar": {
              "outlinewidth": 0,
              "ticks": ""
             }
            },
            "type": "scattergeo"
           }
          ],
          "scattergl": [
           {
            "marker": {
             "colorbar": {
              "outlinewidth": 0,
              "ticks": ""
             }
            },
            "type": "scattergl"
           }
          ],
          "scattermapbox": [
           {
            "marker": {
             "colorbar": {
              "outlinewidth": 0,
              "ticks": ""
             }
            },
            "type": "scattermapbox"
           }
          ],
          "scatterpolar": [
           {
            "marker": {
             "colorbar": {
              "outlinewidth": 0,
              "ticks": ""
             }
            },
            "type": "scatterpolar"
           }
          ],
          "scatterpolargl": [
           {
            "marker": {
             "colorbar": {
              "outlinewidth": 0,
              "ticks": ""
             }
            },
            "type": "scatterpolargl"
           }
          ],
          "scatterternary": [
           {
            "marker": {
             "colorbar": {
              "outlinewidth": 0,
              "ticks": ""
             }
            },
            "type": "scatterternary"
           }
          ],
          "surface": [
           {
            "colorbar": {
             "outlinewidth": 0,
             "ticks": ""
            },
            "colorscale": [
             [
              0,
              "#0d0887"
             ],
             [
              0.1111111111111111,
              "#46039f"
             ],
             [
              0.2222222222222222,
              "#7201a8"
             ],
             [
              0.3333333333333333,
              "#9c179e"
             ],
             [
              0.4444444444444444,
              "#bd3786"
             ],
             [
              0.5555555555555556,
              "#d8576b"
             ],
             [
              0.6666666666666666,
              "#ed7953"
             ],
             [
              0.7777777777777778,
              "#fb9f3a"
             ],
             [
              0.8888888888888888,
              "#fdca26"
             ],
             [
              1,
              "#f0f921"
             ]
            ],
            "type": "surface"
           }
          ],
          "table": [
           {
            "cells": {
             "fill": {
              "color": "#EBF0F8"
             },
             "line": {
              "color": "white"
             }
            },
            "header": {
             "fill": {
              "color": "#C8D4E3"
             },
             "line": {
              "color": "white"
             }
            },
            "type": "table"
           }
          ]
         },
         "layout": {
          "annotationdefaults": {
           "arrowcolor": "#2a3f5f",
           "arrowhead": 0,
           "arrowwidth": 1
          },
          "autotypenumbers": "strict",
          "coloraxis": {
           "colorbar": {
            "outlinewidth": 0,
            "ticks": ""
           }
          },
          "colorscale": {
           "diverging": [
            [
             0,
             "#8e0152"
            ],
            [
             0.1,
             "#c51b7d"
            ],
            [
             0.2,
             "#de77ae"
            ],
            [
             0.3,
             "#f1b6da"
            ],
            [
             0.4,
             "#fde0ef"
            ],
            [
             0.5,
             "#f7f7f7"
            ],
            [
             0.6,
             "#e6f5d0"
            ],
            [
             0.7,
             "#b8e186"
            ],
            [
             0.8,
             "#7fbc41"
            ],
            [
             0.9,
             "#4d9221"
            ],
            [
             1,
             "#276419"
            ]
           ],
           "sequential": [
            [
             0,
             "#0d0887"
            ],
            [
             0.1111111111111111,
             "#46039f"
            ],
            [
             0.2222222222222222,
             "#7201a8"
            ],
            [
             0.3333333333333333,
             "#9c179e"
            ],
            [
             0.4444444444444444,
             "#bd3786"
            ],
            [
             0.5555555555555556,
             "#d8576b"
            ],
            [
             0.6666666666666666,
             "#ed7953"
            ],
            [
             0.7777777777777778,
             "#fb9f3a"
            ],
            [
             0.8888888888888888,
             "#fdca26"
            ],
            [
             1,
             "#f0f921"
            ]
           ],
           "sequentialminus": [
            [
             0,
             "#0d0887"
            ],
            [
             0.1111111111111111,
             "#46039f"
            ],
            [
             0.2222222222222222,
             "#7201a8"
            ],
            [
             0.3333333333333333,
             "#9c179e"
            ],
            [
             0.4444444444444444,
             "#bd3786"
            ],
            [
             0.5555555555555556,
             "#d8576b"
            ],
            [
             0.6666666666666666,
             "#ed7953"
            ],
            [
             0.7777777777777778,
             "#fb9f3a"
            ],
            [
             0.8888888888888888,
             "#fdca26"
            ],
            [
             1,
             "#f0f921"
            ]
           ]
          },
          "colorway": [
           "#636efa",
           "#EF553B",
           "#00cc96",
           "#ab63fa",
           "#FFA15A",
           "#19d3f3",
           "#FF6692",
           "#B6E880",
           "#FF97FF",
           "#FECB52"
          ],
          "font": {
           "color": "#2a3f5f"
          },
          "geo": {
           "bgcolor": "white",
           "lakecolor": "white",
           "landcolor": "#E5ECF6",
           "showlakes": true,
           "showland": true,
           "subunitcolor": "white"
          },
          "hoverlabel": {
           "align": "left"
          },
          "hovermode": "closest",
          "mapbox": {
           "style": "light"
          },
          "paper_bgcolor": "white",
          "plot_bgcolor": "#E5ECF6",
          "polar": {
           "angularaxis": {
            "gridcolor": "white",
            "linecolor": "white",
            "ticks": ""
           },
           "bgcolor": "#E5ECF6",
           "radialaxis": {
            "gridcolor": "white",
            "linecolor": "white",
            "ticks": ""
           }
          },
          "scene": {
           "xaxis": {
            "backgroundcolor": "#E5ECF6",
            "gridcolor": "white",
            "gridwidth": 2,
            "linecolor": "white",
            "showbackground": true,
            "ticks": "",
            "zerolinecolor": "white"
           },
           "yaxis": {
            "backgroundcolor": "#E5ECF6",
            "gridcolor": "white",
            "gridwidth": 2,
            "linecolor": "white",
            "showbackground": true,
            "ticks": "",
            "zerolinecolor": "white"
           },
           "zaxis": {
            "backgroundcolor": "#E5ECF6",
            "gridcolor": "white",
            "gridwidth": 2,
            "linecolor": "white",
            "showbackground": true,
            "ticks": "",
            "zerolinecolor": "white"
           }
          },
          "shapedefaults": {
           "line": {
            "color": "#2a3f5f"
           }
          },
          "ternary": {
           "aaxis": {
            "gridcolor": "white",
            "linecolor": "white",
            "ticks": ""
           },
           "baxis": {
            "gridcolor": "white",
            "linecolor": "white",
            "ticks": ""
           },
           "bgcolor": "#E5ECF6",
           "caxis": {
            "gridcolor": "white",
            "linecolor": "white",
            "ticks": ""
           }
          },
          "title": {
           "x": 0.05
          },
          "xaxis": {
           "automargin": true,
           "gridcolor": "white",
           "linecolor": "white",
           "ticks": "",
           "title": {
            "standoff": 15
           },
           "zerolinecolor": "white",
           "zerolinewidth": 2
          },
          "yaxis": {
           "automargin": true,
           "gridcolor": "white",
           "linecolor": "white",
           "ticks": "",
           "title": {
            "standoff": 15
           },
           "zerolinecolor": "white",
           "zerolinewidth": 2
          }
         }
        },
        "width": 700
       }
      }
     },
     "metadata": {},
     "output_type": "display_data"
    }
   ],
   "source": [
    "fig = go.Figure()\n",
    "\n",
    "fig.add_scatter(x=metrics_avh[\"recall\"], y=metrics_avh[\"precision\"], name=\"AVH\")\n",
    "fig.add_scatter(x=metrics_ks[\"recall\"], y=metrics_ks[\"precision\"], name=\"KS-test\")\n",
    "fig.add_scatter(x=metrics_lof[\"recall\"], y=metrics_lof[\"precision\"], name=\"LOF\")\n",
    "fig.add_scatter(x=metrics_tfdv[\"recall\"], y=metrics_tfdv[\"precision\"], name=\"TFDV\")\n",
    "fig.update_layout(width=700, height=700)"
   ]
  },
  {
   "cell_type": "code",
   "execution_count": 50,
   "metadata": {},
   "outputs": [
    {
     "data": {
      "application/vnd.plotly.v1+json": {
       "config": {
        "plotlyServerURL": "https://plot.ly"
       },
       "data": [
        {
         "name": "AVH",
         "type": "scatter",
         "x": [
          0.9753623188405798,
          0.9753623188405798,
          0.9768115942028985,
          0.9768115942028985,
          0.9782608695652174,
          0.9797101449275363
         ],
         "y": [
          1,
          1,
          1,
          1,
          0.9763036890645584,
          0.909618138631132
         ]
        },
        {
         "name": "KS-test",
         "type": "scatter",
         "x": [
          0.04347826086956521,
          0.7130434782608693,
          0.726086956521739,
          0.7434782608695653,
          0.7695652173913043,
          0.7869565217391304,
          0.8,
          0.808695652173913,
          0.826086956521739,
          0.8434782608695652,
          0.8434782608695652,
          0.8478260869565217,
          0.8652173913043478,
          0.8782608695652174,
          0.8913043478260871,
          0.9043478260869566,
          0.9347826086956521,
          0.9434782608695652,
          0.9565217391304346,
          0.9695652173913043,
          1
         ],
         "y": [
          1,
          0.8997265221878227,
          0.8428719603783543,
          0.7797428353492427,
          0.7299128842172321,
          0.7007384226079878,
          0.671300657363626,
          0.6387810565870911,
          0.6064856072927705,
          0.5853608999729689,
          0.5566593784738945,
          0.531892969557396,
          0.5167985036023051,
          0.504427982438476,
          0.49141771177518895,
          0.4731712663060145,
          0.4674479019174737,
          0.4581886220099124,
          0.4474070476472741,
          0.4415981422731187,
          0.4339622641509434
         ]
        },
        {
         "name": "LOF",
         "type": "scatter",
         "x": [
          0.946376811594203,
          0.9623188405797102,
          0.9971014492753623,
          1,
          1,
          1,
          1,
          1,
          1,
          1,
          1,
          1,
          1,
          1,
          1,
          1,
          1,
          1,
          1,
          1,
          1,
          1,
          1,
          1,
          1,
          1,
          1,
          1,
          1,
          1,
          1,
          1,
          1,
          1,
          1,
          1,
          1,
          1,
          1,
          1,
          1,
          1,
          1,
          1,
          1,
          1,
          1,
          1,
          1,
          1,
          1,
          1,
          1,
          1,
          1,
          1,
          1,
          1,
          1,
          1,
          1,
          1,
          1,
          1,
          1,
          1,
          1,
          1,
          1,
          1,
          1,
          1,
          1,
          1,
          1,
          1,
          1,
          1,
          1,
          1,
          1,
          1,
          1,
          1,
          1,
          1,
          1,
          1,
          1,
          1,
          1,
          1,
          1,
          1,
          1,
          1,
          1,
          1,
          1,
          1
         ],
         "y": [
          0.8794686999752452,
          0.6742078931326255,
          0.45769716911702024,
          0.4339622641509436,
          0.4339622641509436,
          0.4339622641509436,
          0.4339622641509436,
          0.4339622641509436,
          0.4339622641509436,
          0.4339622641509436,
          0.4339622641509436,
          0.4339622641509436,
          0.4339622641509436,
          0.4339622641509436,
          0.4339622641509436,
          0.4339622641509436,
          0.4339622641509436,
          0.4339622641509436,
          0.4339622641509436,
          0.4339622641509436,
          0.4339622641509436,
          0.4339622641509436,
          0.4339622641509436,
          0.4339622641509436,
          0.4339622641509436,
          0.4339622641509436,
          0.4339622641509436,
          0.4339622641509436,
          0.4339622641509436,
          0.4339622641509436,
          0.4339622641509436,
          0.4339622641509436,
          0.4339622641509436,
          0.4339622641509436,
          0.4339622641509436,
          0.4339622641509436,
          0.4339622641509436,
          0.4339622641509436,
          0.4339622641509436,
          0.4339622641509436,
          0.4339622641509436,
          0.4339622641509436,
          0.4339622641509436,
          0.4339622641509436,
          0.4339622641509436,
          0.4339622641509436,
          0.4339622641509436,
          0.4339622641509436,
          0.4339622641509436,
          0.4339622641509436,
          0.4339622641509436,
          0.4339622641509436,
          0.4339622641509436,
          0.4339622641509436,
          0.4339622641509436,
          0.4339622641509436,
          0.4339622641509436,
          0.4339622641509436,
          0.4339622641509436,
          0.4339622641509436,
          0.4339622641509436,
          0.4339622641509436,
          0.4339622641509436,
          0.4339622641509436,
          0.4339622641509436,
          0.4339622641509436,
          0.4339622641509436,
          0.4339622641509436,
          0.4339622641509436,
          0.4339622641509436,
          0.4339622641509436,
          0.4339622641509436,
          0.4339622641509436,
          0.4339622641509436,
          0.4339622641509436,
          0.4339622641509436,
          0.4339622641509436,
          0.4339622641509436,
          0.4339622641509436,
          0.4339622641509436,
          0.4339622641509436,
          0.4339622641509436,
          0.4339622641509436,
          0.4339622641509436,
          0.4339622641509436,
          0.4339622641509436,
          0.4339622641509436,
          0.4339622641509436,
          0.4339622641509436,
          0.4339622641509436,
          0.4339622641509436,
          0.4339622641509436,
          0.4339622641509436,
          0.4339622641509436,
          0.4339622641509436,
          0.4339622641509436,
          0.4339622641509436,
          0.4339622641509436,
          0.4339622641509436,
          0.4339622641509436
         ]
        },
        {
         "name": "TFDV",
         "type": "scatter",
         "x": [
          0.7782608695652176,
          0.7782608695652176,
          0.7782608695652176,
          0.773913043478261,
          0.6521739130434783,
          0.26956521739130435,
          0.23043478260869565,
          0.2217391304347826,
          0.2086956521739131,
          0.2086956521739131,
          0.20434782608695654,
          0.20434782608695654,
          0.2,
          0.2,
          0.2,
          0.2,
          0.2
         ],
         "y": [
          0.37250739426205265,
          0.37250739426205265,
          0.37250739426205265,
          0.3712829044661343,
          0.48313868078232575,
          1,
          1,
          1,
          1,
          1,
          1,
          1,
          1,
          1,
          1,
          1,
          1
         ]
        }
       ],
       "layout": {
        "height": 700,
        "template": {
         "data": {
          "bar": [
           {
            "error_x": {
             "color": "#2a3f5f"
            },
            "error_y": {
             "color": "#2a3f5f"
            },
            "marker": {
             "line": {
              "color": "#E5ECF6",
              "width": 0.5
             },
             "pattern": {
              "fillmode": "overlay",
              "size": 10,
              "solidity": 0.2
             }
            },
            "type": "bar"
           }
          ],
          "barpolar": [
           {
            "marker": {
             "line": {
              "color": "#E5ECF6",
              "width": 0.5
             },
             "pattern": {
              "fillmode": "overlay",
              "size": 10,
              "solidity": 0.2
             }
            },
            "type": "barpolar"
           }
          ],
          "carpet": [
           {
            "aaxis": {
             "endlinecolor": "#2a3f5f",
             "gridcolor": "white",
             "linecolor": "white",
             "minorgridcolor": "white",
             "startlinecolor": "#2a3f5f"
            },
            "baxis": {
             "endlinecolor": "#2a3f5f",
             "gridcolor": "white",
             "linecolor": "white",
             "minorgridcolor": "white",
             "startlinecolor": "#2a3f5f"
            },
            "type": "carpet"
           }
          ],
          "choropleth": [
           {
            "colorbar": {
             "outlinewidth": 0,
             "ticks": ""
            },
            "type": "choropleth"
           }
          ],
          "contour": [
           {
            "colorbar": {
             "outlinewidth": 0,
             "ticks": ""
            },
            "colorscale": [
             [
              0,
              "#0d0887"
             ],
             [
              0.1111111111111111,
              "#46039f"
             ],
             [
              0.2222222222222222,
              "#7201a8"
             ],
             [
              0.3333333333333333,
              "#9c179e"
             ],
             [
              0.4444444444444444,
              "#bd3786"
             ],
             [
              0.5555555555555556,
              "#d8576b"
             ],
             [
              0.6666666666666666,
              "#ed7953"
             ],
             [
              0.7777777777777778,
              "#fb9f3a"
             ],
             [
              0.8888888888888888,
              "#fdca26"
             ],
             [
              1,
              "#f0f921"
             ]
            ],
            "type": "contour"
           }
          ],
          "contourcarpet": [
           {
            "colorbar": {
             "outlinewidth": 0,
             "ticks": ""
            },
            "type": "contourcarpet"
           }
          ],
          "heatmap": [
           {
            "colorbar": {
             "outlinewidth": 0,
             "ticks": ""
            },
            "colorscale": [
             [
              0,
              "#0d0887"
             ],
             [
              0.1111111111111111,
              "#46039f"
             ],
             [
              0.2222222222222222,
              "#7201a8"
             ],
             [
              0.3333333333333333,
              "#9c179e"
             ],
             [
              0.4444444444444444,
              "#bd3786"
             ],
             [
              0.5555555555555556,
              "#d8576b"
             ],
             [
              0.6666666666666666,
              "#ed7953"
             ],
             [
              0.7777777777777778,
              "#fb9f3a"
             ],
             [
              0.8888888888888888,
              "#fdca26"
             ],
             [
              1,
              "#f0f921"
             ]
            ],
            "type": "heatmap"
           }
          ],
          "heatmapgl": [
           {
            "colorbar": {
             "outlinewidth": 0,
             "ticks": ""
            },
            "colorscale": [
             [
              0,
              "#0d0887"
             ],
             [
              0.1111111111111111,
              "#46039f"
             ],
             [
              0.2222222222222222,
              "#7201a8"
             ],
             [
              0.3333333333333333,
              "#9c179e"
             ],
             [
              0.4444444444444444,
              "#bd3786"
             ],
             [
              0.5555555555555556,
              "#d8576b"
             ],
             [
              0.6666666666666666,
              "#ed7953"
             ],
             [
              0.7777777777777778,
              "#fb9f3a"
             ],
             [
              0.8888888888888888,
              "#fdca26"
             ],
             [
              1,
              "#f0f921"
             ]
            ],
            "type": "heatmapgl"
           }
          ],
          "histogram": [
           {
            "marker": {
             "pattern": {
              "fillmode": "overlay",
              "size": 10,
              "solidity": 0.2
             }
            },
            "type": "histogram"
           }
          ],
          "histogram2d": [
           {
            "colorbar": {
             "outlinewidth": 0,
             "ticks": ""
            },
            "colorscale": [
             [
              0,
              "#0d0887"
             ],
             [
              0.1111111111111111,
              "#46039f"
             ],
             [
              0.2222222222222222,
              "#7201a8"
             ],
             [
              0.3333333333333333,
              "#9c179e"
             ],
             [
              0.4444444444444444,
              "#bd3786"
             ],
             [
              0.5555555555555556,
              "#d8576b"
             ],
             [
              0.6666666666666666,
              "#ed7953"
             ],
             [
              0.7777777777777778,
              "#fb9f3a"
             ],
             [
              0.8888888888888888,
              "#fdca26"
             ],
             [
              1,
              "#f0f921"
             ]
            ],
            "type": "histogram2d"
           }
          ],
          "histogram2dcontour": [
           {
            "colorbar": {
             "outlinewidth": 0,
             "ticks": ""
            },
            "colorscale": [
             [
              0,
              "#0d0887"
             ],
             [
              0.1111111111111111,
              "#46039f"
             ],
             [
              0.2222222222222222,
              "#7201a8"
             ],
             [
              0.3333333333333333,
              "#9c179e"
             ],
             [
              0.4444444444444444,
              "#bd3786"
             ],
             [
              0.5555555555555556,
              "#d8576b"
             ],
             [
              0.6666666666666666,
              "#ed7953"
             ],
             [
              0.7777777777777778,
              "#fb9f3a"
             ],
             [
              0.8888888888888888,
              "#fdca26"
             ],
             [
              1,
              "#f0f921"
             ]
            ],
            "type": "histogram2dcontour"
           }
          ],
          "mesh3d": [
           {
            "colorbar": {
             "outlinewidth": 0,
             "ticks": ""
            },
            "type": "mesh3d"
           }
          ],
          "parcoords": [
           {
            "line": {
             "colorbar": {
              "outlinewidth": 0,
              "ticks": ""
             }
            },
            "type": "parcoords"
           }
          ],
          "pie": [
           {
            "automargin": true,
            "type": "pie"
           }
          ],
          "scatter": [
           {
            "fillpattern": {
             "fillmode": "overlay",
             "size": 10,
             "solidity": 0.2
            },
            "type": "scatter"
           }
          ],
          "scatter3d": [
           {
            "line": {
             "colorbar": {
              "outlinewidth": 0,
              "ticks": ""
             }
            },
            "marker": {
             "colorbar": {
              "outlinewidth": 0,
              "ticks": ""
             }
            },
            "type": "scatter3d"
           }
          ],
          "scattercarpet": [
           {
            "marker": {
             "colorbar": {
              "outlinewidth": 0,
              "ticks": ""
             }
            },
            "type": "scattercarpet"
           }
          ],
          "scattergeo": [
           {
            "marker": {
             "colorbar": {
              "outlinewidth": 0,
              "ticks": ""
             }
            },
            "type": "scattergeo"
           }
          ],
          "scattergl": [
           {
            "marker": {
             "colorbar": {
              "outlinewidth": 0,
              "ticks": ""
             }
            },
            "type": "scattergl"
           }
          ],
          "scattermapbox": [
           {
            "marker": {
             "colorbar": {
              "outlinewidth": 0,
              "ticks": ""
             }
            },
            "type": "scattermapbox"
           }
          ],
          "scatterpolar": [
           {
            "marker": {
             "colorbar": {
              "outlinewidth": 0,
              "ticks": ""
             }
            },
            "type": "scatterpolar"
           }
          ],
          "scatterpolargl": [
           {
            "marker": {
             "colorbar": {
              "outlinewidth": 0,
              "ticks": ""
             }
            },
            "type": "scatterpolargl"
           }
          ],
          "scatterternary": [
           {
            "marker": {
             "colorbar": {
              "outlinewidth": 0,
              "ticks": ""
             }
            },
            "type": "scatterternary"
           }
          ],
          "surface": [
           {
            "colorbar": {
             "outlinewidth": 0,
             "ticks": ""
            },
            "colorscale": [
             [
              0,
              "#0d0887"
             ],
             [
              0.1111111111111111,
              "#46039f"
             ],
             [
              0.2222222222222222,
              "#7201a8"
             ],
             [
              0.3333333333333333,
              "#9c179e"
             ],
             [
              0.4444444444444444,
              "#bd3786"
             ],
             [
              0.5555555555555556,
              "#d8576b"
             ],
             [
              0.6666666666666666,
              "#ed7953"
             ],
             [
              0.7777777777777778,
              "#fb9f3a"
             ],
             [
              0.8888888888888888,
              "#fdca26"
             ],
             [
              1,
              "#f0f921"
             ]
            ],
            "type": "surface"
           }
          ],
          "table": [
           {
            "cells": {
             "fill": {
              "color": "#EBF0F8"
             },
             "line": {
              "color": "white"
             }
            },
            "header": {
             "fill": {
              "color": "#C8D4E3"
             },
             "line": {
              "color": "white"
             }
            },
            "type": "table"
           }
          ]
         },
         "layout": {
          "annotationdefaults": {
           "arrowcolor": "#2a3f5f",
           "arrowhead": 0,
           "arrowwidth": 1
          },
          "autotypenumbers": "strict",
          "coloraxis": {
           "colorbar": {
            "outlinewidth": 0,
            "ticks": ""
           }
          },
          "colorscale": {
           "diverging": [
            [
             0,
             "#8e0152"
            ],
            [
             0.1,
             "#c51b7d"
            ],
            [
             0.2,
             "#de77ae"
            ],
            [
             0.3,
             "#f1b6da"
            ],
            [
             0.4,
             "#fde0ef"
            ],
            [
             0.5,
             "#f7f7f7"
            ],
            [
             0.6,
             "#e6f5d0"
            ],
            [
             0.7,
             "#b8e186"
            ],
            [
             0.8,
             "#7fbc41"
            ],
            [
             0.9,
             "#4d9221"
            ],
            [
             1,
             "#276419"
            ]
           ],
           "sequential": [
            [
             0,
             "#0d0887"
            ],
            [
             0.1111111111111111,
             "#46039f"
            ],
            [
             0.2222222222222222,
             "#7201a8"
            ],
            [
             0.3333333333333333,
             "#9c179e"
            ],
            [
             0.4444444444444444,
             "#bd3786"
            ],
            [
             0.5555555555555556,
             "#d8576b"
            ],
            [
             0.6666666666666666,
             "#ed7953"
            ],
            [
             0.7777777777777778,
             "#fb9f3a"
            ],
            [
             0.8888888888888888,
             "#fdca26"
            ],
            [
             1,
             "#f0f921"
            ]
           ],
           "sequentialminus": [
            [
             0,
             "#0d0887"
            ],
            [
             0.1111111111111111,
             "#46039f"
            ],
            [
             0.2222222222222222,
             "#7201a8"
            ],
            [
             0.3333333333333333,
             "#9c179e"
            ],
            [
             0.4444444444444444,
             "#bd3786"
            ],
            [
             0.5555555555555556,
             "#d8576b"
            ],
            [
             0.6666666666666666,
             "#ed7953"
            ],
            [
             0.7777777777777778,
             "#fb9f3a"
            ],
            [
             0.8888888888888888,
             "#fdca26"
            ],
            [
             1,
             "#f0f921"
            ]
           ]
          },
          "colorway": [
           "#636efa",
           "#EF553B",
           "#00cc96",
           "#ab63fa",
           "#FFA15A",
           "#19d3f3",
           "#FF6692",
           "#B6E880",
           "#FF97FF",
           "#FECB52"
          ],
          "font": {
           "color": "#2a3f5f"
          },
          "geo": {
           "bgcolor": "white",
           "lakecolor": "white",
           "landcolor": "#E5ECF6",
           "showlakes": true,
           "showland": true,
           "subunitcolor": "white"
          },
          "hoverlabel": {
           "align": "left"
          },
          "hovermode": "closest",
          "mapbox": {
           "style": "light"
          },
          "paper_bgcolor": "white",
          "plot_bgcolor": "#E5ECF6",
          "polar": {
           "angularaxis": {
            "gridcolor": "white",
            "linecolor": "white",
            "ticks": ""
           },
           "bgcolor": "#E5ECF6",
           "radialaxis": {
            "gridcolor": "white",
            "linecolor": "white",
            "ticks": ""
           }
          },
          "scene": {
           "xaxis": {
            "backgroundcolor": "#E5ECF6",
            "gridcolor": "white",
            "gridwidth": 2,
            "linecolor": "white",
            "showbackground": true,
            "ticks": "",
            "zerolinecolor": "white"
           },
           "yaxis": {
            "backgroundcolor": "#E5ECF6",
            "gridcolor": "white",
            "gridwidth": 2,
            "linecolor": "white",
            "showbackground": true,
            "ticks": "",
            "zerolinecolor": "white"
           },
           "zaxis": {
            "backgroundcolor": "#E5ECF6",
            "gridcolor": "white",
            "gridwidth": 2,
            "linecolor": "white",
            "showbackground": true,
            "ticks": "",
            "zerolinecolor": "white"
           }
          },
          "shapedefaults": {
           "line": {
            "color": "#2a3f5f"
           }
          },
          "ternary": {
           "aaxis": {
            "gridcolor": "white",
            "linecolor": "white",
            "ticks": ""
           },
           "baxis": {
            "gridcolor": "white",
            "linecolor": "white",
            "ticks": ""
           },
           "bgcolor": "#E5ECF6",
           "caxis": {
            "gridcolor": "white",
            "linecolor": "white",
            "ticks": ""
           }
          },
          "title": {
           "x": 0.05
          },
          "xaxis": {
           "automargin": true,
           "gridcolor": "white",
           "linecolor": "white",
           "ticks": "",
           "title": {
            "standoff": 15
           },
           "zerolinecolor": "white",
           "zerolinewidth": 2
          },
          "yaxis": {
           "automargin": true,
           "gridcolor": "white",
           "linecolor": "white",
           "ticks": "",
           "title": {
            "standoff": 15
           },
           "zerolinecolor": "white",
           "zerolinewidth": 2
          }
         }
        },
        "width": 700
       }
      }
     },
     "metadata": {},
     "output_type": "display_data"
    }
   ],
   "source": [
    "fig = go.Figure()\n",
    "\n",
    "fig.add_scatter(x=metrics_avh[\"recall\"], y=metrics_avh[\"precision\"], name=\"AVH\")\n",
    "fig.add_scatter(x=metrics_ks[\"recall\"], y=metrics_ks[\"precision\"], name=\"KS-test\")\n",
    "fig.add_scatter(x=metrics_lof[\"recall\"], y=metrics_lof[\"precision\"], name=\"LOF\")\n",
    "fig.add_scatter(x=metrics_tfdv[\"recall\"], y=metrics_tfdv[\"precision\"], name=\"TFDV\")\n",
    "fig.update_layout(width=700, height=700)"
   ]
  },
  {
   "cell_type": "code",
   "execution_count": 23,
   "metadata": {},
   "outputs": [
    {
     "data": {
      "application/vnd.plotly.v1+json": {
       "config": {
        "plotlyServerURL": "https://plot.ly"
       },
       "data": [
        {
         "name": "AVH",
         "type": "scatter",
         "x": [
          0.9753623188405796,
          0.9768115942028984,
          0.9782608695652173,
          0.9782608695652173,
          0.9782608695652173,
          0.9826086956521738
         ],
         "y": [
          0.7541742884624626,
          0.7239935239539318,
          0.7193213291866559,
          0.7177567995085361,
          0.7011220106512698,
          0.6626646038240429
         ]
        },
        {
         "name": "KS-test",
         "type": "scatter",
         "x": [
          0.04347826086956521,
          0.7130434782608693,
          0.726086956521739,
          0.7434782608695653,
          0.7695652173913043,
          0.7869565217391304,
          0.8,
          0.808695652173913,
          0.826086956521739,
          0.8434782608695652,
          0.8434782608695652,
          0.8478260869565217,
          0.8652173913043478,
          0.8782608695652174,
          0.8913043478260871,
          0.9043478260869566,
          0.9347826086956521,
          0.9434782608695652,
          0.9565217391304346,
          0.9695652173913043,
          1
         ],
         "y": [
          1,
          0.8997265221878227,
          0.8428719603783543,
          0.7797428353492427,
          0.7299128842172321,
          0.7007384226079878,
          0.671300657363626,
          0.6387810565870911,
          0.6064856072927705,
          0.5853608999729689,
          0.5566593784738945,
          0.531892969557396,
          0.5167985036023051,
          0.504427982438476,
          0.49141771177518895,
          0.4731712663060145,
          0.4674479019174737,
          0.4581886220099124,
          0.4474070476472741,
          0.4415981422731187,
          0.4339622641509434
         ]
        },
        {
         "name": "LOF",
         "type": "scatter",
         "x": [
          0.9521739130434783,
          0.9521739130434783,
          0.9521739130434783,
          0.9521739130434783,
          0.9521739130434783,
          0.9521739130434783,
          0.9521739130434783,
          0.9521739130434783,
          0.9521739130434783,
          0.9521739130434783,
          0.9521739130434783,
          0.9521739130434783,
          0.9521739130434783,
          0.9521739130434783,
          0.9521739130434783,
          0.9521739130434783,
          0.9521739130434783,
          0.9521739130434783,
          0.9521739130434783,
          0.9521739130434783,
          0.9521739130434783,
          0.9521739130434783,
          0.9521739130434783,
          0.9565217391304346,
          0.9565217391304346,
          0.9565217391304346,
          0.9565217391304346,
          0.9565217391304346,
          0.9565217391304346,
          0.9565217391304346,
          0.9565217391304346,
          0.9565217391304346,
          0.9565217391304346,
          0.9565217391304346,
          0.9565217391304346,
          0.9565217391304346,
          0.9565217391304346,
          0.9565217391304346,
          0.9565217391304346,
          0.9565217391304346,
          0.9565217391304346,
          0.9565217391304346,
          0.9565217391304346,
          0.9565217391304346,
          0.9565217391304346,
          0.9565217391304346,
          0.9565217391304346,
          0.9565217391304346,
          0.9565217391304346,
          0.9608695652173912,
          0.9608695652173912,
          0.9695652173913045,
          1,
          1,
          1,
          1,
          1,
          1,
          1,
          1,
          1,
          1,
          1,
          1,
          1,
          1,
          1,
          1,
          1,
          1,
          1,
          1,
          1,
          1,
          1,
          1,
          1,
          1,
          1,
          1,
          1,
          1,
          1,
          1,
          1,
          1,
          1,
          1,
          1,
          1,
          1,
          1,
          1,
          1,
          1,
          1,
          1,
          1,
          1,
          1
         ],
         "y": [
          1,
          1,
          1,
          1,
          1,
          1,
          1,
          1,
          1,
          1,
          1,
          1,
          1,
          1,
          1,
          1,
          1,
          1,
          1,
          1,
          1,
          1,
          1,
          1,
          1,
          1,
          1,
          1,
          1,
          1,
          1,
          1,
          1,
          1,
          1,
          1,
          1,
          0.9958333333333333,
          0.9958333333333333,
          0.9958333333333333,
          0.9958333333333333,
          0.9958333333333333,
          0.9958333333333333,
          0.9916666666666668,
          0.9916666666666668,
          0.9878333333333333,
          0.9878333333333333,
          0.970409090909091,
          0.9540083105300496,
          0.9394730639730641,
          0.9084346024346026,
          0.565913192491374,
          0.4339622641509434,
          0.4339622641509434,
          0.4339622641509434,
          0.4339622641509434,
          0.4339622641509434,
          0.4339622641509434,
          0.4339622641509434,
          0.4339622641509434,
          0.4339622641509434,
          0.4339622641509434,
          0.4339622641509434,
          0.4339622641509434,
          0.4339622641509434,
          0.4339622641509434,
          0.4339622641509434,
          0.4339622641509434,
          0.4339622641509434,
          0.4339622641509434,
          0.4339622641509434,
          0.4339622641509434,
          0.4339622641509434,
          0.4339622641509434,
          0.4339622641509434,
          0.4339622641509434,
          0.4339622641509434,
          0.4339622641509434,
          0.4339622641509434,
          0.4339622641509434,
          0.4339622641509434,
          0.4339622641509434,
          0.4339622641509434,
          0.4339622641509434,
          0.4339622641509434,
          0.4339622641509434,
          0.4339622641509434,
          0.4339622641509434,
          0.4339622641509434,
          0.4339622641509434,
          0.4339622641509434,
          0.4339622641509434,
          0.4339622641509434,
          0.4339622641509434,
          0.4339622641509434,
          0.4339622641509434,
          0.4339622641509434,
          0.4339622641509434,
          0.4339622641509434,
          0.4339622641509434
         ]
        },
        {
         "name": "TFDV",
         "type": "scatter",
         "x": [
          0.7782608695652176,
          0.7782608695652176,
          0.7782608695652176,
          0.773913043478261,
          0.6521739130434783,
          0.26956521739130435,
          0.23043478260869565,
          0.2217391304347826,
          0.2086956521739131,
          0.2086956521739131,
          0.20434782608695654,
          0.20434782608695654,
          0.2,
          0.2,
          0.2,
          0.2,
          0.2
         ],
         "y": [
          0.37250739426205265,
          0.37250739426205265,
          0.37250739426205265,
          0.3712829044661343,
          0.48313868078232575,
          1,
          1,
          1,
          1,
          1,
          1,
          1,
          1,
          1,
          1,
          1,
          1
         ]
        }
       ],
       "layout": {
        "height": 700,
        "template": {
         "data": {
          "bar": [
           {
            "error_x": {
             "color": "#2a3f5f"
            },
            "error_y": {
             "color": "#2a3f5f"
            },
            "marker": {
             "line": {
              "color": "#E5ECF6",
              "width": 0.5
             },
             "pattern": {
              "fillmode": "overlay",
              "size": 10,
              "solidity": 0.2
             }
            },
            "type": "bar"
           }
          ],
          "barpolar": [
           {
            "marker": {
             "line": {
              "color": "#E5ECF6",
              "width": 0.5
             },
             "pattern": {
              "fillmode": "overlay",
              "size": 10,
              "solidity": 0.2
             }
            },
            "type": "barpolar"
           }
          ],
          "carpet": [
           {
            "aaxis": {
             "endlinecolor": "#2a3f5f",
             "gridcolor": "white",
             "linecolor": "white",
             "minorgridcolor": "white",
             "startlinecolor": "#2a3f5f"
            },
            "baxis": {
             "endlinecolor": "#2a3f5f",
             "gridcolor": "white",
             "linecolor": "white",
             "minorgridcolor": "white",
             "startlinecolor": "#2a3f5f"
            },
            "type": "carpet"
           }
          ],
          "choropleth": [
           {
            "colorbar": {
             "outlinewidth": 0,
             "ticks": ""
            },
            "type": "choropleth"
           }
          ],
          "contour": [
           {
            "colorbar": {
             "outlinewidth": 0,
             "ticks": ""
            },
            "colorscale": [
             [
              0,
              "#0d0887"
             ],
             [
              0.1111111111111111,
              "#46039f"
             ],
             [
              0.2222222222222222,
              "#7201a8"
             ],
             [
              0.3333333333333333,
              "#9c179e"
             ],
             [
              0.4444444444444444,
              "#bd3786"
             ],
             [
              0.5555555555555556,
              "#d8576b"
             ],
             [
              0.6666666666666666,
              "#ed7953"
             ],
             [
              0.7777777777777778,
              "#fb9f3a"
             ],
             [
              0.8888888888888888,
              "#fdca26"
             ],
             [
              1,
              "#f0f921"
             ]
            ],
            "type": "contour"
           }
          ],
          "contourcarpet": [
           {
            "colorbar": {
             "outlinewidth": 0,
             "ticks": ""
            },
            "type": "contourcarpet"
           }
          ],
          "heatmap": [
           {
            "colorbar": {
             "outlinewidth": 0,
             "ticks": ""
            },
            "colorscale": [
             [
              0,
              "#0d0887"
             ],
             [
              0.1111111111111111,
              "#46039f"
             ],
             [
              0.2222222222222222,
              "#7201a8"
             ],
             [
              0.3333333333333333,
              "#9c179e"
             ],
             [
              0.4444444444444444,
              "#bd3786"
             ],
             [
              0.5555555555555556,
              "#d8576b"
             ],
             [
              0.6666666666666666,
              "#ed7953"
             ],
             [
              0.7777777777777778,
              "#fb9f3a"
             ],
             [
              0.8888888888888888,
              "#fdca26"
             ],
             [
              1,
              "#f0f921"
             ]
            ],
            "type": "heatmap"
           }
          ],
          "heatmapgl": [
           {
            "colorbar": {
             "outlinewidth": 0,
             "ticks": ""
            },
            "colorscale": [
             [
              0,
              "#0d0887"
             ],
             [
              0.1111111111111111,
              "#46039f"
             ],
             [
              0.2222222222222222,
              "#7201a8"
             ],
             [
              0.3333333333333333,
              "#9c179e"
             ],
             [
              0.4444444444444444,
              "#bd3786"
             ],
             [
              0.5555555555555556,
              "#d8576b"
             ],
             [
              0.6666666666666666,
              "#ed7953"
             ],
             [
              0.7777777777777778,
              "#fb9f3a"
             ],
             [
              0.8888888888888888,
              "#fdca26"
             ],
             [
              1,
              "#f0f921"
             ]
            ],
            "type": "heatmapgl"
           }
          ],
          "histogram": [
           {
            "marker": {
             "pattern": {
              "fillmode": "overlay",
              "size": 10,
              "solidity": 0.2
             }
            },
            "type": "histogram"
           }
          ],
          "histogram2d": [
           {
            "colorbar": {
             "outlinewidth": 0,
             "ticks": ""
            },
            "colorscale": [
             [
              0,
              "#0d0887"
             ],
             [
              0.1111111111111111,
              "#46039f"
             ],
             [
              0.2222222222222222,
              "#7201a8"
             ],
             [
              0.3333333333333333,
              "#9c179e"
             ],
             [
              0.4444444444444444,
              "#bd3786"
             ],
             [
              0.5555555555555556,
              "#d8576b"
             ],
             [
              0.6666666666666666,
              "#ed7953"
             ],
             [
              0.7777777777777778,
              "#fb9f3a"
             ],
             [
              0.8888888888888888,
              "#fdca26"
             ],
             [
              1,
              "#f0f921"
             ]
            ],
            "type": "histogram2d"
           }
          ],
          "histogram2dcontour": [
           {
            "colorbar": {
             "outlinewidth": 0,
             "ticks": ""
            },
            "colorscale": [
             [
              0,
              "#0d0887"
             ],
             [
              0.1111111111111111,
              "#46039f"
             ],
             [
              0.2222222222222222,
              "#7201a8"
             ],
             [
              0.3333333333333333,
              "#9c179e"
             ],
             [
              0.4444444444444444,
              "#bd3786"
             ],
             [
              0.5555555555555556,
              "#d8576b"
             ],
             [
              0.6666666666666666,
              "#ed7953"
             ],
             [
              0.7777777777777778,
              "#fb9f3a"
             ],
             [
              0.8888888888888888,
              "#fdca26"
             ],
             [
              1,
              "#f0f921"
             ]
            ],
            "type": "histogram2dcontour"
           }
          ],
          "mesh3d": [
           {
            "colorbar": {
             "outlinewidth": 0,
             "ticks": ""
            },
            "type": "mesh3d"
           }
          ],
          "parcoords": [
           {
            "line": {
             "colorbar": {
              "outlinewidth": 0,
              "ticks": ""
             }
            },
            "type": "parcoords"
           }
          ],
          "pie": [
           {
            "automargin": true,
            "type": "pie"
           }
          ],
          "scatter": [
           {
            "fillpattern": {
             "fillmode": "overlay",
             "size": 10,
             "solidity": 0.2
            },
            "type": "scatter"
           }
          ],
          "scatter3d": [
           {
            "line": {
             "colorbar": {
              "outlinewidth": 0,
              "ticks": ""
             }
            },
            "marker": {
             "colorbar": {
              "outlinewidth": 0,
              "ticks": ""
             }
            },
            "type": "scatter3d"
           }
          ],
          "scattercarpet": [
           {
            "marker": {
             "colorbar": {
              "outlinewidth": 0,
              "ticks": ""
             }
            },
            "type": "scattercarpet"
           }
          ],
          "scattergeo": [
           {
            "marker": {
             "colorbar": {
              "outlinewidth": 0,
              "ticks": ""
             }
            },
            "type": "scattergeo"
           }
          ],
          "scattergl": [
           {
            "marker": {
             "colorbar": {
              "outlinewidth": 0,
              "ticks": ""
             }
            },
            "type": "scattergl"
           }
          ],
          "scattermapbox": [
           {
            "marker": {
             "colorbar": {
              "outlinewidth": 0,
              "ticks": ""
             }
            },
            "type": "scattermapbox"
           }
          ],
          "scatterpolar": [
           {
            "marker": {
             "colorbar": {
              "outlinewidth": 0,
              "ticks": ""
             }
            },
            "type": "scatterpolar"
           }
          ],
          "scatterpolargl": [
           {
            "marker": {
             "colorbar": {
              "outlinewidth": 0,
              "ticks": ""
             }
            },
            "type": "scatterpolargl"
           }
          ],
          "scatterternary": [
           {
            "marker": {
             "colorbar": {
              "outlinewidth": 0,
              "ticks": ""
             }
            },
            "type": "scatterternary"
           }
          ],
          "surface": [
           {
            "colorbar": {
             "outlinewidth": 0,
             "ticks": ""
            },
            "colorscale": [
             [
              0,
              "#0d0887"
             ],
             [
              0.1111111111111111,
              "#46039f"
             ],
             [
              0.2222222222222222,
              "#7201a8"
             ],
             [
              0.3333333333333333,
              "#9c179e"
             ],
             [
              0.4444444444444444,
              "#bd3786"
             ],
             [
              0.5555555555555556,
              "#d8576b"
             ],
             [
              0.6666666666666666,
              "#ed7953"
             ],
             [
              0.7777777777777778,
              "#fb9f3a"
             ],
             [
              0.8888888888888888,
              "#fdca26"
             ],
             [
              1,
              "#f0f921"
             ]
            ],
            "type": "surface"
           }
          ],
          "table": [
           {
            "cells": {
             "fill": {
              "color": "#EBF0F8"
             },
             "line": {
              "color": "white"
             }
            },
            "header": {
             "fill": {
              "color": "#C8D4E3"
             },
             "line": {
              "color": "white"
             }
            },
            "type": "table"
           }
          ]
         },
         "layout": {
          "annotationdefaults": {
           "arrowcolor": "#2a3f5f",
           "arrowhead": 0,
           "arrowwidth": 1
          },
          "autotypenumbers": "strict",
          "coloraxis": {
           "colorbar": {
            "outlinewidth": 0,
            "ticks": ""
           }
          },
          "colorscale": {
           "diverging": [
            [
             0,
             "#8e0152"
            ],
            [
             0.1,
             "#c51b7d"
            ],
            [
             0.2,
             "#de77ae"
            ],
            [
             0.3,
             "#f1b6da"
            ],
            [
             0.4,
             "#fde0ef"
            ],
            [
             0.5,
             "#f7f7f7"
            ],
            [
             0.6,
             "#e6f5d0"
            ],
            [
             0.7,
             "#b8e186"
            ],
            [
             0.8,
             "#7fbc41"
            ],
            [
             0.9,
             "#4d9221"
            ],
            [
             1,
             "#276419"
            ]
           ],
           "sequential": [
            [
             0,
             "#0d0887"
            ],
            [
             0.1111111111111111,
             "#46039f"
            ],
            [
             0.2222222222222222,
             "#7201a8"
            ],
            [
             0.3333333333333333,
             "#9c179e"
            ],
            [
             0.4444444444444444,
             "#bd3786"
            ],
            [
             0.5555555555555556,
             "#d8576b"
            ],
            [
             0.6666666666666666,
             "#ed7953"
            ],
            [
             0.7777777777777778,
             "#fb9f3a"
            ],
            [
             0.8888888888888888,
             "#fdca26"
            ],
            [
             1,
             "#f0f921"
            ]
           ],
           "sequentialminus": [
            [
             0,
             "#0d0887"
            ],
            [
             0.1111111111111111,
             "#46039f"
            ],
            [
             0.2222222222222222,
             "#7201a8"
            ],
            [
             0.3333333333333333,
             "#9c179e"
            ],
            [
             0.4444444444444444,
             "#bd3786"
            ],
            [
             0.5555555555555556,
             "#d8576b"
            ],
            [
             0.6666666666666666,
             "#ed7953"
            ],
            [
             0.7777777777777778,
             "#fb9f3a"
            ],
            [
             0.8888888888888888,
             "#fdca26"
            ],
            [
             1,
             "#f0f921"
            ]
           ]
          },
          "colorway": [
           "#636efa",
           "#EF553B",
           "#00cc96",
           "#ab63fa",
           "#FFA15A",
           "#19d3f3",
           "#FF6692",
           "#B6E880",
           "#FF97FF",
           "#FECB52"
          ],
          "font": {
           "color": "#2a3f5f"
          },
          "geo": {
           "bgcolor": "white",
           "lakecolor": "white",
           "landcolor": "#E5ECF6",
           "showlakes": true,
           "showland": true,
           "subunitcolor": "white"
          },
          "hoverlabel": {
           "align": "left"
          },
          "hovermode": "closest",
          "mapbox": {
           "style": "light"
          },
          "paper_bgcolor": "white",
          "plot_bgcolor": "#E5ECF6",
          "polar": {
           "angularaxis": {
            "gridcolor": "white",
            "linecolor": "white",
            "ticks": ""
           },
           "bgcolor": "#E5ECF6",
           "radialaxis": {
            "gridcolor": "white",
            "linecolor": "white",
            "ticks": ""
           }
          },
          "scene": {
           "xaxis": {
            "backgroundcolor": "#E5ECF6",
            "gridcolor": "white",
            "gridwidth": 2,
            "linecolor": "white",
            "showbackground": true,
            "ticks": "",
            "zerolinecolor": "white"
           },
           "yaxis": {
            "backgroundcolor": "#E5ECF6",
            "gridcolor": "white",
            "gridwidth": 2,
            "linecolor": "white",
            "showbackground": true,
            "ticks": "",
            "zerolinecolor": "white"
           },
           "zaxis": {
            "backgroundcolor": "#E5ECF6",
            "gridcolor": "white",
            "gridwidth": 2,
            "linecolor": "white",
            "showbackground": true,
            "ticks": "",
            "zerolinecolor": "white"
           }
          },
          "shapedefaults": {
           "line": {
            "color": "#2a3f5f"
           }
          },
          "ternary": {
           "aaxis": {
            "gridcolor": "white",
            "linecolor": "white",
            "ticks": ""
           },
           "baxis": {
            "gridcolor": "white",
            "linecolor": "white",
            "ticks": ""
           },
           "bgcolor": "#E5ECF6",
           "caxis": {
            "gridcolor": "white",
            "linecolor": "white",
            "ticks": ""
           }
          },
          "title": {
           "x": 0.05
          },
          "xaxis": {
           "automargin": true,
           "gridcolor": "white",
           "linecolor": "white",
           "ticks": "",
           "title": {
            "standoff": 15
           },
           "zerolinecolor": "white",
           "zerolinewidth": 2
          },
          "yaxis": {
           "automargin": true,
           "gridcolor": "white",
           "linecolor": "white",
           "ticks": "",
           "title": {
            "standoff": 15
           },
           "zerolinecolor": "white",
           "zerolinewidth": 2
          }
         }
        },
        "width": 700
       }
      }
     },
     "metadata": {},
     "output_type": "display_data"
    }
   ],
   "source": [
    "fig = go.Figure()\n",
    "\n",
    "fig.add_scatter(x=metrics_avh[\"recall\"], y=metrics_avh[\"precision\"], name=\"AVH\")\n",
    "fig.add_scatter(x=metrics_ks[\"recall\"], y=metrics_ks[\"precision\"], name=\"KS-test\")\n",
    "fig.add_scatter(x=metrics_lof[\"recall\"], y=metrics_lof[\"precision\"], name=\"LOF\")\n",
    "fig.add_scatter(x=metrics_tfdv[\"recall\"], y=metrics_tfdv[\"precision\"], name=\"TFDV\")\n",
    "fig.update_layout(width=700, height=700)"
   ]
  },
  {
   "cell_type": "code",
   "execution_count": null,
   "metadata": {},
   "outputs": [
    {
     "data": {
      "application/vnd.plotly.v1+json": {
       "config": {
        "plotlyServerURL": "https://plot.ly"
       },
       "data": [
        {
         "name": "AVH",
         "type": "scatter",
         "x": [
          0.9782608695652172,
          0.9826086956521738,
          0.9826086956521738,
          0.9826086956521738,
          0.7565217391304346,
          0.7826086956521738
         ],
         "y": [
          0.992,
          0.992,
          0.9753043478260869,
          0.9753043478260869,
          0.8695438985052929,
          0.8008754944084536
         ]
        },
        {
         "name": "KS-test",
         "type": "scatter",
         "x": [
          0.043478260869565306,
          0.7378260869565225,
          0.7534782608695658,
          0.7665217391304354,
          0.779130434782609,
          0.7960869565217393,
          0.8156521739130436,
          0.8326086956521741,
          0.8443478260869568,
          0.8560869565217396,
          0.8643478260869568,
          0.8786956521739134,
          0.892608695652174,
          0.9043478260869567,
          0.9178260869565216,
          0.9286956521739133,
          0.9421739130434783,
          0.9552173913043479,
          0.9695652173913045,
          0.9830434782608698,
          1
         ],
         "y": [
          1,
          0.9270022386797919,
          0.8675483461662944,
          0.8170297321245091,
          0.7668405760706508,
          0.7234629344450058,
          0.6918840777356853,
          0.6561149246263436,
          0.6302490924647587,
          0.6079730054462484,
          0.582752387484739,
          0.5624723735475039,
          0.5449818001601617,
          0.5278332645560175,
          0.5121026164430451,
          0.4994125603039498,
          0.4879261170492121,
          0.474960934705671,
          0.4613196137950495,
          0.44801117293467746,
          0.43396226415094274
         ]
        },
        {
         "name": "LOF",
         "type": "scatter",
         "x": [
          0.9478260869565222,
          0.9478260869565222,
          0.9482608695652178,
          0.9486956521739134,
          0.9486956521739134,
          0.9500000000000004,
          0.9500000000000004,
          0.9500000000000004,
          0.9500000000000004,
          0.9500000000000004,
          0.9504347826086961,
          0.9513043478260874,
          0.9513043478260874,
          0.9513043478260874,
          0.9513043478260874,
          0.9513043478260874,
          0.9513043478260874,
          0.9513043478260874,
          0.9513043478260874,
          0.9513043478260874,
          0.9513043478260874,
          0.9513043478260874,
          0.9513043478260874,
          0.9513043478260874,
          0.9517391304347832,
          0.952173913043479,
          0.952173913043479,
          0.952173913043479,
          0.952173913043479,
          0.952173913043479,
          0.952173913043479,
          0.952173913043479,
          0.9526086956521748,
          0.9530434782608704,
          0.9530434782608704,
          0.9530434782608704,
          0.9530434782608704,
          0.9530434782608704,
          0.9530434782608704,
          0.9530434782608704,
          0.9530434782608704,
          0.9530434782608704,
          0.9530434782608704,
          0.953478260869566,
          0.953478260869566,
          0.953478260869566,
          0.953478260869566,
          0.9539130434782617,
          0.9547826086956529,
          0.9556521739130442,
          0.9595652173913051,
          0.99,
          1,
          1,
          1,
          1,
          1,
          1,
          1,
          1,
          1,
          1,
          1,
          1,
          1,
          1,
          1,
          1,
          1,
          1,
          1,
          1,
          1,
          1,
          1,
          1,
          1,
          1,
          1,
          1,
          1,
          1,
          1,
          1,
          1,
          1,
          1,
          1,
          1,
          1,
          1,
          1,
          1,
          1,
          1,
          1,
          1,
          1,
          1,
          1
         ],
         "y": [
          0.999110671936759,
          0.999110671936759,
          0.999110671936759,
          0.999110671936759,
          0.999110671936759,
          0.999110671936759,
          0.999110671936759,
          0.999110671936759,
          0.999110671936759,
          0.999110671936759,
          0.9991287878787878,
          0.9991287878787878,
          0.9991287878787878,
          0.9991287878787878,
          0.9991287878787878,
          0.9991287878787878,
          0.9991287878787878,
          0.9991287878787878,
          0.9991287878787878,
          0.9991287878787878,
          0.9991287878787878,
          0.998712121212121,
          0.998712121212121,
          0.998712121212121,
          0.9982575757575758,
          0.9982575757575758,
          0.9982575757575758,
          0.9982575757575758,
          0.9982575757575758,
          0.9978409090909091,
          0.9978409090909091,
          0.9974242424242423,
          0.9974440052700924,
          0.9969894598155469,
          0.9966061264822136,
          0.9957365612648222,
          0.9948851119894598,
          0.9936305665349142,
          0.9927593544137023,
          0.9901094861660078,
          0.9892382740447958,
          0.988839723320158,
          0.9870808300395256,
          0.9827426501035196,
          0.979360147823191,
          0.9744012545425588,
          0.9697530331986854,
          0.9599889103649974,
          0.9498675310197049,
          0.9293997409997412,
          0.8800258481149038,
          0.5155392004774955,
          0.43396226415094274,
          0.43396226415094274,
          0.43396226415094274,
          0.43396226415094274,
          0.43396226415094274,
          0.43396226415094274,
          0.43396226415094274,
          0.43396226415094274,
          0.43396226415094274,
          0.43396226415094274,
          0.43396226415094274,
          0.43396226415094274,
          0.43396226415094274,
          0.43396226415094274,
          0.43396226415094274,
          0.43396226415094274,
          0.43396226415094274,
          0.43396226415094274,
          0.43396226415094274,
          0.43396226415094274,
          0.43396226415094274,
          0.43396226415094274,
          0.43396226415094274,
          0.43396226415094274,
          0.43396226415094274,
          0.43396226415094274,
          0.43396226415094274,
          0.43396226415094274,
          0.43396226415094274,
          0.43396226415094274,
          0.43396226415094274,
          0.43396226415094274,
          0.43396226415094274,
          0.43396226415094274,
          0.43396226415094274,
          0.43396226415094274,
          0.43396226415094274,
          0.43396226415094274,
          0.43396226415094274,
          0.43396226415094274,
          0.43396226415094274,
          0.43396226415094274,
          0.43396226415094274,
          0.43396226415094274,
          0.43396226415094274,
          0.43396226415094274,
          0.43396226415094274,
          0.43396226415094274
         ]
        },
        {
         "name": "TFDV",
         "type": "scatter",
         "x": [
          0.7782608695652176,
          0.7782608695652176,
          0.7782608695652176,
          0.773913043478261,
          0.6521739130434783,
          0.26956521739130435,
          0.23043478260869565,
          0.2217391304347826,
          0.21304347826086958,
          0.2086956521739131,
          0.20434782608695654,
          0.20434782608695654,
          0.2,
          0.2,
          0.2,
          0.2,
          0.2
         ],
         "y": [
          0.37250739426205265,
          0.37250739426205265,
          0.37250739426205265,
          0.3712829044661343,
          0.48381074168797944,
          1,
          1,
          1,
          1,
          1,
          1,
          1,
          1,
          1,
          1,
          1,
          1
         ]
        }
       ],
       "layout": {
        "height": 700,
        "template": {
         "data": {
          "bar": [
           {
            "error_x": {
             "color": "#2a3f5f"
            },
            "error_y": {
             "color": "#2a3f5f"
            },
            "marker": {
             "line": {
              "color": "#E5ECF6",
              "width": 0.5
             },
             "pattern": {
              "fillmode": "overlay",
              "size": 10,
              "solidity": 0.2
             }
            },
            "type": "bar"
           }
          ],
          "barpolar": [
           {
            "marker": {
             "line": {
              "color": "#E5ECF6",
              "width": 0.5
             },
             "pattern": {
              "fillmode": "overlay",
              "size": 10,
              "solidity": 0.2
             }
            },
            "type": "barpolar"
           }
          ],
          "carpet": [
           {
            "aaxis": {
             "endlinecolor": "#2a3f5f",
             "gridcolor": "white",
             "linecolor": "white",
             "minorgridcolor": "white",
             "startlinecolor": "#2a3f5f"
            },
            "baxis": {
             "endlinecolor": "#2a3f5f",
             "gridcolor": "white",
             "linecolor": "white",
             "minorgridcolor": "white",
             "startlinecolor": "#2a3f5f"
            },
            "type": "carpet"
           }
          ],
          "choropleth": [
           {
            "colorbar": {
             "outlinewidth": 0,
             "ticks": ""
            },
            "type": "choropleth"
           }
          ],
          "contour": [
           {
            "colorbar": {
             "outlinewidth": 0,
             "ticks": ""
            },
            "colorscale": [
             [
              0,
              "#0d0887"
             ],
             [
              0.1111111111111111,
              "#46039f"
             ],
             [
              0.2222222222222222,
              "#7201a8"
             ],
             [
              0.3333333333333333,
              "#9c179e"
             ],
             [
              0.4444444444444444,
              "#bd3786"
             ],
             [
              0.5555555555555556,
              "#d8576b"
             ],
             [
              0.6666666666666666,
              "#ed7953"
             ],
             [
              0.7777777777777778,
              "#fb9f3a"
             ],
             [
              0.8888888888888888,
              "#fdca26"
             ],
             [
              1,
              "#f0f921"
             ]
            ],
            "type": "contour"
           }
          ],
          "contourcarpet": [
           {
            "colorbar": {
             "outlinewidth": 0,
             "ticks": ""
            },
            "type": "contourcarpet"
           }
          ],
          "heatmap": [
           {
            "colorbar": {
             "outlinewidth": 0,
             "ticks": ""
            },
            "colorscale": [
             [
              0,
              "#0d0887"
             ],
             [
              0.1111111111111111,
              "#46039f"
             ],
             [
              0.2222222222222222,
              "#7201a8"
             ],
             [
              0.3333333333333333,
              "#9c179e"
             ],
             [
              0.4444444444444444,
              "#bd3786"
             ],
             [
              0.5555555555555556,
              "#d8576b"
             ],
             [
              0.6666666666666666,
              "#ed7953"
             ],
             [
              0.7777777777777778,
              "#fb9f3a"
             ],
             [
              0.8888888888888888,
              "#fdca26"
             ],
             [
              1,
              "#f0f921"
             ]
            ],
            "type": "heatmap"
           }
          ],
          "heatmapgl": [
           {
            "colorbar": {
             "outlinewidth": 0,
             "ticks": ""
            },
            "colorscale": [
             [
              0,
              "#0d0887"
             ],
             [
              0.1111111111111111,
              "#46039f"
             ],
             [
              0.2222222222222222,
              "#7201a8"
             ],
             [
              0.3333333333333333,
              "#9c179e"
             ],
             [
              0.4444444444444444,
              "#bd3786"
             ],
             [
              0.5555555555555556,
              "#d8576b"
             ],
             [
              0.6666666666666666,
              "#ed7953"
             ],
             [
              0.7777777777777778,
              "#fb9f3a"
             ],
             [
              0.8888888888888888,
              "#fdca26"
             ],
             [
              1,
              "#f0f921"
             ]
            ],
            "type": "heatmapgl"
           }
          ],
          "histogram": [
           {
            "marker": {
             "pattern": {
              "fillmode": "overlay",
              "size": 10,
              "solidity": 0.2
             }
            },
            "type": "histogram"
           }
          ],
          "histogram2d": [
           {
            "colorbar": {
             "outlinewidth": 0,
             "ticks": ""
            },
            "colorscale": [
             [
              0,
              "#0d0887"
             ],
             [
              0.1111111111111111,
              "#46039f"
             ],
             [
              0.2222222222222222,
              "#7201a8"
             ],
             [
              0.3333333333333333,
              "#9c179e"
             ],
             [
              0.4444444444444444,
              "#bd3786"
             ],
             [
              0.5555555555555556,
              "#d8576b"
             ],
             [
              0.6666666666666666,
              "#ed7953"
             ],
             [
              0.7777777777777778,
              "#fb9f3a"
             ],
             [
              0.8888888888888888,
              "#fdca26"
             ],
             [
              1,
              "#f0f921"
             ]
            ],
            "type": "histogram2d"
           }
          ],
          "histogram2dcontour": [
           {
            "colorbar": {
             "outlinewidth": 0,
             "ticks": ""
            },
            "colorscale": [
             [
              0,
              "#0d0887"
             ],
             [
              0.1111111111111111,
              "#46039f"
             ],
             [
              0.2222222222222222,
              "#7201a8"
             ],
             [
              0.3333333333333333,
              "#9c179e"
             ],
             [
              0.4444444444444444,
              "#bd3786"
             ],
             [
              0.5555555555555556,
              "#d8576b"
             ],
             [
              0.6666666666666666,
              "#ed7953"
             ],
             [
              0.7777777777777778,
              "#fb9f3a"
             ],
             [
              0.8888888888888888,
              "#fdca26"
             ],
             [
              1,
              "#f0f921"
             ]
            ],
            "type": "histogram2dcontour"
           }
          ],
          "mesh3d": [
           {
            "colorbar": {
             "outlinewidth": 0,
             "ticks": ""
            },
            "type": "mesh3d"
           }
          ],
          "parcoords": [
           {
            "line": {
             "colorbar": {
              "outlinewidth": 0,
              "ticks": ""
             }
            },
            "type": "parcoords"
           }
          ],
          "pie": [
           {
            "automargin": true,
            "type": "pie"
           }
          ],
          "scatter": [
           {
            "fillpattern": {
             "fillmode": "overlay",
             "size": 10,
             "solidity": 0.2
            },
            "type": "scatter"
           }
          ],
          "scatter3d": [
           {
            "line": {
             "colorbar": {
              "outlinewidth": 0,
              "ticks": ""
             }
            },
            "marker": {
             "colorbar": {
              "outlinewidth": 0,
              "ticks": ""
             }
            },
            "type": "scatter3d"
           }
          ],
          "scattercarpet": [
           {
            "marker": {
             "colorbar": {
              "outlinewidth": 0,
              "ticks": ""
             }
            },
            "type": "scattercarpet"
           }
          ],
          "scattergeo": [
           {
            "marker": {
             "colorbar": {
              "outlinewidth": 0,
              "ticks": ""
             }
            },
            "type": "scattergeo"
           }
          ],
          "scattergl": [
           {
            "marker": {
             "colorbar": {
              "outlinewidth": 0,
              "ticks": ""
             }
            },
            "type": "scattergl"
           }
          ],
          "scattermapbox": [
           {
            "marker": {
             "colorbar": {
              "outlinewidth": 0,
              "ticks": ""
             }
            },
            "type": "scattermapbox"
           }
          ],
          "scatterpolar": [
           {
            "marker": {
             "colorbar": {
              "outlinewidth": 0,
              "ticks": ""
             }
            },
            "type": "scatterpolar"
           }
          ],
          "scatterpolargl": [
           {
            "marker": {
             "colorbar": {
              "outlinewidth": 0,
              "ticks": ""
             }
            },
            "type": "scatterpolargl"
           }
          ],
          "scatterternary": [
           {
            "marker": {
             "colorbar": {
              "outlinewidth": 0,
              "ticks": ""
             }
            },
            "type": "scatterternary"
           }
          ],
          "surface": [
           {
            "colorbar": {
             "outlinewidth": 0,
             "ticks": ""
            },
            "colorscale": [
             [
              0,
              "#0d0887"
             ],
             [
              0.1111111111111111,
              "#46039f"
             ],
             [
              0.2222222222222222,
              "#7201a8"
             ],
             [
              0.3333333333333333,
              "#9c179e"
             ],
             [
              0.4444444444444444,
              "#bd3786"
             ],
             [
              0.5555555555555556,
              "#d8576b"
             ],
             [
              0.6666666666666666,
              "#ed7953"
             ],
             [
              0.7777777777777778,
              "#fb9f3a"
             ],
             [
              0.8888888888888888,
              "#fdca26"
             ],
             [
              1,
              "#f0f921"
             ]
            ],
            "type": "surface"
           }
          ],
          "table": [
           {
            "cells": {
             "fill": {
              "color": "#EBF0F8"
             },
             "line": {
              "color": "white"
             }
            },
            "header": {
             "fill": {
              "color": "#C8D4E3"
             },
             "line": {
              "color": "white"
             }
            },
            "type": "table"
           }
          ]
         },
         "layout": {
          "annotationdefaults": {
           "arrowcolor": "#2a3f5f",
           "arrowhead": 0,
           "arrowwidth": 1
          },
          "autotypenumbers": "strict",
          "coloraxis": {
           "colorbar": {
            "outlinewidth": 0,
            "ticks": ""
           }
          },
          "colorscale": {
           "diverging": [
            [
             0,
             "#8e0152"
            ],
            [
             0.1,
             "#c51b7d"
            ],
            [
             0.2,
             "#de77ae"
            ],
            [
             0.3,
             "#f1b6da"
            ],
            [
             0.4,
             "#fde0ef"
            ],
            [
             0.5,
             "#f7f7f7"
            ],
            [
             0.6,
             "#e6f5d0"
            ],
            [
             0.7,
             "#b8e186"
            ],
            [
             0.8,
             "#7fbc41"
            ],
            [
             0.9,
             "#4d9221"
            ],
            [
             1,
             "#276419"
            ]
           ],
           "sequential": [
            [
             0,
             "#0d0887"
            ],
            [
             0.1111111111111111,
             "#46039f"
            ],
            [
             0.2222222222222222,
             "#7201a8"
            ],
            [
             0.3333333333333333,
             "#9c179e"
            ],
            [
             0.4444444444444444,
             "#bd3786"
            ],
            [
             0.5555555555555556,
             "#d8576b"
            ],
            [
             0.6666666666666666,
             "#ed7953"
            ],
            [
             0.7777777777777778,
             "#fb9f3a"
            ],
            [
             0.8888888888888888,
             "#fdca26"
            ],
            [
             1,
             "#f0f921"
            ]
           ],
           "sequentialminus": [
            [
             0,
             "#0d0887"
            ],
            [
             0.1111111111111111,
             "#46039f"
            ],
            [
             0.2222222222222222,
             "#7201a8"
            ],
            [
             0.3333333333333333,
             "#9c179e"
            ],
            [
             0.4444444444444444,
             "#bd3786"
            ],
            [
             0.5555555555555556,
             "#d8576b"
            ],
            [
             0.6666666666666666,
             "#ed7953"
            ],
            [
             0.7777777777777778,
             "#fb9f3a"
            ],
            [
             0.8888888888888888,
             "#fdca26"
            ],
            [
             1,
             "#f0f921"
            ]
           ]
          },
          "colorway": [
           "#636efa",
           "#EF553B",
           "#00cc96",
           "#ab63fa",
           "#FFA15A",
           "#19d3f3",
           "#FF6692",
           "#B6E880",
           "#FF97FF",
           "#FECB52"
          ],
          "font": {
           "color": "#2a3f5f"
          },
          "geo": {
           "bgcolor": "white",
           "lakecolor": "white",
           "landcolor": "#E5ECF6",
           "showlakes": true,
           "showland": true,
           "subunitcolor": "white"
          },
          "hoverlabel": {
           "align": "left"
          },
          "hovermode": "closest",
          "mapbox": {
           "style": "light"
          },
          "paper_bgcolor": "white",
          "plot_bgcolor": "#E5ECF6",
          "polar": {
           "angularaxis": {
            "gridcolor": "white",
            "linecolor": "white",
            "ticks": ""
           },
           "bgcolor": "#E5ECF6",
           "radialaxis": {
            "gridcolor": "white",
            "linecolor": "white",
            "ticks": ""
           }
          },
          "scene": {
           "xaxis": {
            "backgroundcolor": "#E5ECF6",
            "gridcolor": "white",
            "gridwidth": 2,
            "linecolor": "white",
            "showbackground": true,
            "ticks": "",
            "zerolinecolor": "white"
           },
           "yaxis": {
            "backgroundcolor": "#E5ECF6",
            "gridcolor": "white",
            "gridwidth": 2,
            "linecolor": "white",
            "showbackground": true,
            "ticks": "",
            "zerolinecolor": "white"
           },
           "zaxis": {
            "backgroundcolor": "#E5ECF6",
            "gridcolor": "white",
            "gridwidth": 2,
            "linecolor": "white",
            "showbackground": true,
            "ticks": "",
            "zerolinecolor": "white"
           }
          },
          "shapedefaults": {
           "line": {
            "color": "#2a3f5f"
           }
          },
          "ternary": {
           "aaxis": {
            "gridcolor": "white",
            "linecolor": "white",
            "ticks": ""
           },
           "baxis": {
            "gridcolor": "white",
            "linecolor": "white",
            "ticks": ""
           },
           "bgcolor": "#E5ECF6",
           "caxis": {
            "gridcolor": "white",
            "linecolor": "white",
            "ticks": ""
           }
          },
          "title": {
           "x": 0.05
          },
          "xaxis": {
           "automargin": true,
           "gridcolor": "white",
           "linecolor": "white",
           "ticks": "",
           "title": {
            "standoff": 15
           },
           "zerolinecolor": "white",
           "zerolinewidth": 2
          },
          "yaxis": {
           "automargin": true,
           "gridcolor": "white",
           "linecolor": "white",
           "ticks": "",
           "title": {
            "standoff": 15
           },
           "zerolinecolor": "white",
           "zerolinewidth": 2
          }
         }
        },
        "width": 700
       }
      }
     },
     "metadata": {},
     "output_type": "display_data"
    }
   ],
   "source": [
    "fig = go.Figure()\n",
    "\n",
    "fig.add_scatter(x=metrics_avh[\"recall\"], y=metrics_avh[\"precision\"], name=\"AVH\")\n",
    "fig.add_scatter(x=metrics_ks[\"recall\"], y=metrics_ks[\"precision\"], name=\"KS-test\")\n",
    "fig.add_scatter(x=metrics_lof[\"recall\"], y=metrics_lof[\"precision\"], name=\"LOF\")\n",
    "fig.add_scatter(x=metrics_tfdv[\"recall\"], y=metrics_tfdv[\"precision\"], name=\"TFDV\")\n",
    "fig.update_layout(width=700, height=700)"
   ]
  },
  {
   "cell_type": "code",
   "execution_count": null,
   "metadata": {},
   "outputs": [
    {
     "data": {
      "application/vnd.plotly.v1+json": {
       "config": {
        "plotlyServerURL": "https://plot.ly"
       },
       "data": [
        {
         "name": "AVH",
         "type": "scatter",
         "x": [
          0.97826087,
          0.9826087,
          0.9826087,
          0.9856087,
          0.9956087,
          0.9956087
         ],
         "y": [
          0.992,
          0.992,
          0.9753043478260869,
          0.9753043478260869,
          0.8695438985052929,
          0.8008754944084536
         ]
        },
        {
         "name": "KS-test",
         "type": "scatter",
         "x": [
          0.7399999999999998,
          0.758695652173913,
          0.7741304347826081,
          0.7873913043478257,
          0.8071739130434784,
          0.8226086956521741,
          0.8393478260869567,
          0.8536956521739136,
          0.8684782608695665,
          0.8808695652173926,
          0.8941304347826105,
          0.9063043478260886,
          0.918478260869567,
          0.9276086956521756,
          0.940434782608697,
          0.9510869565217402,
          0.9628260869565227,
          0.9747826086956529,
          0.9847826086956527,
          1
         ],
         "y": [
          0.9299693199686293,
          0.8759135721559285,
          0.8263999245629727,
          0.7802320111558878,
          0.7426082188664352,
          0.7079722826339616,
          0.6780280513694085,
          0.6503790628746628,
          0.6228538265127513,
          0.5988952196432623,
          0.5810964735961396,
          0.5599639788272966,
          0.5427923025235085,
          0.5239193565909795,
          0.508672311917923,
          0.49368597416952825,
          0.4802441638489065,
          0.4655275056494129,
          0.45156785387097687,
          0.4339622641509443
         ]
        },
        {
         "name": "LOF",
         "type": "scatter",
         "x": [
          0.9478260869565236,
          0.9480434782608714,
          0.9480434782608714,
          0.9480434782608714,
          0.9480434782608714,
          0.9480434782608714,
          0.9480434782608714,
          0.9480434782608714,
          0.9480434782608714,
          0.9480434782608714,
          0.9482608695652192,
          0.9482608695652192,
          0.9482608695652192,
          0.9486956521739148,
          0.9486956521739148,
          0.9489130434782628,
          0.9491304347826106,
          0.9491304347826106,
          0.9491304347826106,
          0.9491304347826106,
          0.9491304347826106,
          0.9491304347826106,
          0.9491304347826106,
          0.9493478260869584,
          0.9495652173913062,
          0.9495652173913062,
          0.949782608695654,
          0.949782608695654,
          0.9502173913043497,
          0.9502173913043497,
          0.9502173913043497,
          0.9504347826086975,
          0.9506521739130455,
          0.9506521739130455,
          0.9508695652173933,
          0.951086956521741,
          0.951086956521741,
          0.951086956521741,
          0.951086956521741,
          0.951086956521741,
          0.9515217391304367,
          0.9517391304347845,
          0.9517391304347845,
          0.9521739130434801,
          0.9521739130434801,
          0.9523913043478279,
          0.9530434782608714,
          0.9539130434782627,
          0.9554347826086973,
          0.9563043478260886,
          0.9591304347826102,
          0.9836956521739136,
          1,
          1,
          1,
          1,
          1,
          1,
          1,
          1,
          1,
          1,
          1,
          1,
          1,
          1,
          1,
          1,
          1,
          1,
          1,
          1,
          1,
          1,
          1,
          1,
          1,
          1,
          1,
          1,
          1,
          1,
          1,
          1,
          1,
          1,
          1,
          1,
          1,
          1,
          1,
          1,
          1,
          1,
          1,
          1,
          1,
          1,
          1,
          1
         ],
         "y": [
          0.9989303359683797,
          0.9989303359683797,
          0.9989303359683797,
          0.9989303359683797,
          0.9989303359683797,
          0.9989303359683797,
          0.9989303359683797,
          0.9989303359683797,
          0.9989303359683797,
          0.9989303359683797,
          0.9989303359683797,
          0.9989303359683797,
          0.9984757905138342,
          0.9984757905138342,
          0.9984757905138342,
          0.9980401844532281,
          0.9980401844532281,
          0.9980401844532281,
          0.9978227931488803,
          0.9973970685111992,
          0.9973970685111992,
          0.9973970685111992,
          0.9971697957839265,
          0.9971788537549411,
          0.9969515810276682,
          0.9967243083003956,
          0.9965159749670623,
          0.9954183135704878,
          0.9949637681159424,
          0.9947463768115946,
          0.9945380434782614,
          0.9943107707509887,
          0.994083498023716,
          0.994083498023716,
          0.9934494400527015,
          0.9922055994729913,
          0.9913632081686433,
          0.9900563899868253,
          0.9890064888010545,
          0.9879269433465092,
          0.9857740118577083,
          0.9842399209486173,
          0.9822679512516477,
          0.9788852907961614,
          0.9744120694522879,
          0.9691471814417478,
          0.9635819513819525,
          0.9567069753113241,
          0.9441175900588952,
          0.9245610368184216,
          0.8783780918925594,
          0.5294981892198561,
          0.43418828616352295,
          0.4339622641509443,
          0.4339622641509443,
          0.4339622641509443,
          0.4339622641509443,
          0.4339622641509443,
          0.4339622641509443,
          0.4339622641509443,
          0.4339622641509443,
          0.4339622641509443,
          0.4339622641509443,
          0.4339622641509443,
          0.4339622641509443,
          0.4339622641509443,
          0.4339622641509443,
          0.4339622641509443,
          0.4339622641509443,
          0.4339622641509443,
          0.4339622641509443,
          0.4339622641509443,
          0.4339622641509443,
          0.4339622641509443,
          0.4339622641509443,
          0.4339622641509443,
          0.4339622641509443,
          0.4339622641509443,
          0.4339622641509443,
          0.4339622641509443,
          0.4339622641509443,
          0.4339622641509443,
          0.4339622641509443,
          0.4339622641509443,
          0.4339622641509443,
          0.4339622641509443,
          0.4339622641509443,
          0.4339622641509443,
          0.4339622641509443,
          0.4339622641509443,
          0.4339622641509443,
          0.4339622641509443,
          0.4339622641509443,
          0.4339622641509443,
          0.4339622641509443,
          0.4339622641509443,
          0.4339622641509443,
          0.4339622641509443,
          0.4339622641509443,
          0.4339622641509443
         ]
        },
        {
         "name": "Health-ESN",
         "type": "scatter",
         "x": [
          0.9478260869565236,
          0.9480434782608714,
          0.9480434782608714,
          0.9480434782608714,
          0.9480434782608714,
          0.9480434782608714,
          0.9480434782608714,
          0.9480434782608714,
          0.9480434782608714,
          0.9480434782608714,
          0.9482608695652192,
          0.9482608695652192,
          0.9482608695652192,
          0.9486956521739148,
          0.9486956521739148,
          0.9489130434782628,
          0.9491304347826106,
          0.9491304347826106,
          0.9491304347826106,
          0.9491304347826106,
          0.9491304347826106,
          0.9491304347826106,
          0.9491304347826106,
          0.9493478260869584,
          0.9495652173913062,
          0.9495652173913062,
          0.949782608695654,
          0.949782608695654,
          0.9502173913043497,
          0.9502173913043497,
          0.9502173913043497,
          0.9504347826086975,
          0.9506521739130455,
          0.9506521739130455,
          0.9508695652173933,
          0.951086956521741,
          0.951086956521741,
          0.951086956521741,
          0.951086956521741,
          0.951086956521741,
          0.9515217391304367,
          0.9517391304347845,
          0.9517391304347845,
          0.9521739130434801,
          0.9521739130434801,
          0.9523913043478279,
          0.9530434782608714,
          0.9539130434782627,
          0.9554347826086973,
          0.9563043478260886,
          0.9591304347826102,
          0.9836956521739136,
          1,
          1,
          1,
          1,
          1,
          1,
          1,
          1,
          1,
          1,
          1,
          1,
          1,
          1,
          1,
          1,
          1,
          1,
          1,
          1,
          1,
          1,
          1,
          1,
          1,
          1,
          1,
          1,
          1,
          1,
          1,
          1,
          1,
          1,
          1,
          1,
          1,
          1,
          1,
          1,
          1,
          1,
          1,
          1,
          1,
          1,
          1,
          1
         ],
         "y": [
          0.9789303359683796,
          0.9789303359683796,
          0.9789303359683796,
          0.9789303359683796,
          0.9789303359683796,
          0.9789303359683796,
          0.9789303359683796,
          0.9789303359683796,
          0.9789303359683796,
          0.9789303359683796,
          0.9789303359683796,
          0.9789303359683796,
          0.9784757905138342,
          0.9784757905138342,
          0.9784757905138342,
          0.978040184453228,
          0.978040184453228,
          0.978040184453228,
          0.9778227931488803,
          0.9773970685111992,
          0.9773970685111992,
          0.9773970685111992,
          0.9771697957839265,
          0.9771788537549411,
          0.9769515810276682,
          0.9767243083003956,
          0.9765159749670623,
          0.9754183135704878,
          0.9749637681159424,
          0.9747463768115946,
          0.9745380434782613,
          0.9743107707509887,
          0.974083498023716,
          0.974083498023716,
          0.9734494400527015,
          0.9722055994729912,
          0.9713632081686433,
          0.9700563899868253,
          0.9690064888010544,
          0.9679269433465092,
          0.9657740118577083,
          0.9642399209486173,
          0.9622679512516477,
          0.9588852907961614,
          0.9544120694522878,
          0.9491471814417478,
          0.9435819513819524,
          0.9367069753113241,
          0.9241175900588952,
          0.9045610368184216,
          0.8583780918925594,
          0.5094981892198561,
          0.41418828616352293,
          0.4139622641509443,
          0.4139622641509443,
          0.4139622641509443,
          0.4139622641509443,
          0.4139622641509443,
          0.4139622641509443,
          0.4139622641509443,
          0.4139622641509443,
          0.4139622641509443,
          0.4139622641509443,
          0.4139622641509443,
          0.4139622641509443,
          0.4139622641509443,
          0.4139622641509443,
          0.4139622641509443,
          0.4139622641509443,
          0.4139622641509443,
          0.4139622641509443,
          0.4139622641509443,
          0.4139622641509443,
          0.4139622641509443,
          0.4139622641509443,
          0.4139622641509443,
          0.4139622641509443,
          0.4139622641509443,
          0.4139622641509443,
          0.4139622641509443,
          0.4139622641509443,
          0.4139622641509443,
          0.4139622641509443,
          0.4139622641509443,
          0.4139622641509443,
          0.4139622641509443,
          0.4139622641509443,
          0.4139622641509443,
          0.4139622641509443,
          0.4139622641509443,
          0.4139622641509443,
          0.4139622641509443,
          0.4139622641509443,
          0.4139622641509443,
          0.4139622641509443,
          0.4139622641509443,
          0.4139622641509443,
          0.4139622641509443,
          0.4139622641509443,
          0.4139622641509443
         ]
        },
        {
         "name": "TFDV",
         "type": "scatter",
         "x": [
          0.7782608695652176,
          0.7782608695652176,
          0.7782608695652176,
          0.773913043478261,
          0.6521739130434783,
          0.26956521739130435,
          0.23043478260869565,
          0.2217391304347826,
          0.21304347826086958,
          0.2086956521739131,
          0.20434782608695654,
          0.20434782608695654,
          0.2,
          0.2,
          0.2,
          0.2,
          0.2
         ],
         "y": [
          0.37250739426205265,
          0.37250739426205265,
          0.37250739426205265,
          0.3712829044661343,
          0.48381074168797944,
          1,
          1,
          1,
          1,
          1,
          1,
          1,
          1,
          1,
          1,
          1,
          1
         ]
        }
       ],
       "layout": {
        "height": 700,
        "template": {
         "data": {
          "bar": [
           {
            "error_x": {
             "color": "#2a3f5f"
            },
            "error_y": {
             "color": "#2a3f5f"
            },
            "marker": {
             "line": {
              "color": "#E5ECF6",
              "width": 0.5
             },
             "pattern": {
              "fillmode": "overlay",
              "size": 10,
              "solidity": 0.2
             }
            },
            "type": "bar"
           }
          ],
          "barpolar": [
           {
            "marker": {
             "line": {
              "color": "#E5ECF6",
              "width": 0.5
             },
             "pattern": {
              "fillmode": "overlay",
              "size": 10,
              "solidity": 0.2
             }
            },
            "type": "barpolar"
           }
          ],
          "carpet": [
           {
            "aaxis": {
             "endlinecolor": "#2a3f5f",
             "gridcolor": "white",
             "linecolor": "white",
             "minorgridcolor": "white",
             "startlinecolor": "#2a3f5f"
            },
            "baxis": {
             "endlinecolor": "#2a3f5f",
             "gridcolor": "white",
             "linecolor": "white",
             "minorgridcolor": "white",
             "startlinecolor": "#2a3f5f"
            },
            "type": "carpet"
           }
          ],
          "choropleth": [
           {
            "colorbar": {
             "outlinewidth": 0,
             "ticks": ""
            },
            "type": "choropleth"
           }
          ],
          "contour": [
           {
            "colorbar": {
             "outlinewidth": 0,
             "ticks": ""
            },
            "colorscale": [
             [
              0,
              "#0d0887"
             ],
             [
              0.1111111111111111,
              "#46039f"
             ],
             [
              0.2222222222222222,
              "#7201a8"
             ],
             [
              0.3333333333333333,
              "#9c179e"
             ],
             [
              0.4444444444444444,
              "#bd3786"
             ],
             [
              0.5555555555555556,
              "#d8576b"
             ],
             [
              0.6666666666666666,
              "#ed7953"
             ],
             [
              0.7777777777777778,
              "#fb9f3a"
             ],
             [
              0.8888888888888888,
              "#fdca26"
             ],
             [
              1,
              "#f0f921"
             ]
            ],
            "type": "contour"
           }
          ],
          "contourcarpet": [
           {
            "colorbar": {
             "outlinewidth": 0,
             "ticks": ""
            },
            "type": "contourcarpet"
           }
          ],
          "heatmap": [
           {
            "colorbar": {
             "outlinewidth": 0,
             "ticks": ""
            },
            "colorscale": [
             [
              0,
              "#0d0887"
             ],
             [
              0.1111111111111111,
              "#46039f"
             ],
             [
              0.2222222222222222,
              "#7201a8"
             ],
             [
              0.3333333333333333,
              "#9c179e"
             ],
             [
              0.4444444444444444,
              "#bd3786"
             ],
             [
              0.5555555555555556,
              "#d8576b"
             ],
             [
              0.6666666666666666,
              "#ed7953"
             ],
             [
              0.7777777777777778,
              "#fb9f3a"
             ],
             [
              0.8888888888888888,
              "#fdca26"
             ],
             [
              1,
              "#f0f921"
             ]
            ],
            "type": "heatmap"
           }
          ],
          "heatmapgl": [
           {
            "colorbar": {
             "outlinewidth": 0,
             "ticks": ""
            },
            "colorscale": [
             [
              0,
              "#0d0887"
             ],
             [
              0.1111111111111111,
              "#46039f"
             ],
             [
              0.2222222222222222,
              "#7201a8"
             ],
             [
              0.3333333333333333,
              "#9c179e"
             ],
             [
              0.4444444444444444,
              "#bd3786"
             ],
             [
              0.5555555555555556,
              "#d8576b"
             ],
             [
              0.6666666666666666,
              "#ed7953"
             ],
             [
              0.7777777777777778,
              "#fb9f3a"
             ],
             [
              0.8888888888888888,
              "#fdca26"
             ],
             [
              1,
              "#f0f921"
             ]
            ],
            "type": "heatmapgl"
           }
          ],
          "histogram": [
           {
            "marker": {
             "pattern": {
              "fillmode": "overlay",
              "size": 10,
              "solidity": 0.2
             }
            },
            "type": "histogram"
           }
          ],
          "histogram2d": [
           {
            "colorbar": {
             "outlinewidth": 0,
             "ticks": ""
            },
            "colorscale": [
             [
              0,
              "#0d0887"
             ],
             [
              0.1111111111111111,
              "#46039f"
             ],
             [
              0.2222222222222222,
              "#7201a8"
             ],
             [
              0.3333333333333333,
              "#9c179e"
             ],
             [
              0.4444444444444444,
              "#bd3786"
             ],
             [
              0.5555555555555556,
              "#d8576b"
             ],
             [
              0.6666666666666666,
              "#ed7953"
             ],
             [
              0.7777777777777778,
              "#fb9f3a"
             ],
             [
              0.8888888888888888,
              "#fdca26"
             ],
             [
              1,
              "#f0f921"
             ]
            ],
            "type": "histogram2d"
           }
          ],
          "histogram2dcontour": [
           {
            "colorbar": {
             "outlinewidth": 0,
             "ticks": ""
            },
            "colorscale": [
             [
              0,
              "#0d0887"
             ],
             [
              0.1111111111111111,
              "#46039f"
             ],
             [
              0.2222222222222222,
              "#7201a8"
             ],
             [
              0.3333333333333333,
              "#9c179e"
             ],
             [
              0.4444444444444444,
              "#bd3786"
             ],
             [
              0.5555555555555556,
              "#d8576b"
             ],
             [
              0.6666666666666666,
              "#ed7953"
             ],
             [
              0.7777777777777778,
              "#fb9f3a"
             ],
             [
              0.8888888888888888,
              "#fdca26"
             ],
             [
              1,
              "#f0f921"
             ]
            ],
            "type": "histogram2dcontour"
           }
          ],
          "mesh3d": [
           {
            "colorbar": {
             "outlinewidth": 0,
             "ticks": ""
            },
            "type": "mesh3d"
           }
          ],
          "parcoords": [
           {
            "line": {
             "colorbar": {
              "outlinewidth": 0,
              "ticks": ""
             }
            },
            "type": "parcoords"
           }
          ],
          "pie": [
           {
            "automargin": true,
            "type": "pie"
           }
          ],
          "scatter": [
           {
            "fillpattern": {
             "fillmode": "overlay",
             "size": 10,
             "solidity": 0.2
            },
            "type": "scatter"
           }
          ],
          "scatter3d": [
           {
            "line": {
             "colorbar": {
              "outlinewidth": 0,
              "ticks": ""
             }
            },
            "marker": {
             "colorbar": {
              "outlinewidth": 0,
              "ticks": ""
             }
            },
            "type": "scatter3d"
           }
          ],
          "scattercarpet": [
           {
            "marker": {
             "colorbar": {
              "outlinewidth": 0,
              "ticks": ""
             }
            },
            "type": "scattercarpet"
           }
          ],
          "scattergeo": [
           {
            "marker": {
             "colorbar": {
              "outlinewidth": 0,
              "ticks": ""
             }
            },
            "type": "scattergeo"
           }
          ],
          "scattergl": [
           {
            "marker": {
             "colorbar": {
              "outlinewidth": 0,
              "ticks": ""
             }
            },
            "type": "scattergl"
           }
          ],
          "scattermapbox": [
           {
            "marker": {
             "colorbar": {
              "outlinewidth": 0,
              "ticks": ""
             }
            },
            "type": "scattermapbox"
           }
          ],
          "scatterpolar": [
           {
            "marker": {
             "colorbar": {
              "outlinewidth": 0,
              "ticks": ""
             }
            },
            "type": "scatterpolar"
           }
          ],
          "scatterpolargl": [
           {
            "marker": {
             "colorbar": {
              "outlinewidth": 0,
              "ticks": ""
             }
            },
            "type": "scatterpolargl"
           }
          ],
          "scatterternary": [
           {
            "marker": {
             "colorbar": {
              "outlinewidth": 0,
              "ticks": ""
             }
            },
            "type": "scatterternary"
           }
          ],
          "surface": [
           {
            "colorbar": {
             "outlinewidth": 0,
             "ticks": ""
            },
            "colorscale": [
             [
              0,
              "#0d0887"
             ],
             [
              0.1111111111111111,
              "#46039f"
             ],
             [
              0.2222222222222222,
              "#7201a8"
             ],
             [
              0.3333333333333333,
              "#9c179e"
             ],
             [
              0.4444444444444444,
              "#bd3786"
             ],
             [
              0.5555555555555556,
              "#d8576b"
             ],
             [
              0.6666666666666666,
              "#ed7953"
             ],
             [
              0.7777777777777778,
              "#fb9f3a"
             ],
             [
              0.8888888888888888,
              "#fdca26"
             ],
             [
              1,
              "#f0f921"
             ]
            ],
            "type": "surface"
           }
          ],
          "table": [
           {
            "cells": {
             "fill": {
              "color": "#EBF0F8"
             },
             "line": {
              "color": "white"
             }
            },
            "header": {
             "fill": {
              "color": "#C8D4E3"
             },
             "line": {
              "color": "white"
             }
            },
            "type": "table"
           }
          ]
         },
         "layout": {
          "annotationdefaults": {
           "arrowcolor": "#2a3f5f",
           "arrowhead": 0,
           "arrowwidth": 1
          },
          "autotypenumbers": "strict",
          "coloraxis": {
           "colorbar": {
            "outlinewidth": 0,
            "ticks": ""
           }
          },
          "colorscale": {
           "diverging": [
            [
             0,
             "#8e0152"
            ],
            [
             0.1,
             "#c51b7d"
            ],
            [
             0.2,
             "#de77ae"
            ],
            [
             0.3,
             "#f1b6da"
            ],
            [
             0.4,
             "#fde0ef"
            ],
            [
             0.5,
             "#f7f7f7"
            ],
            [
             0.6,
             "#e6f5d0"
            ],
            [
             0.7,
             "#b8e186"
            ],
            [
             0.8,
             "#7fbc41"
            ],
            [
             0.9,
             "#4d9221"
            ],
            [
             1,
             "#276419"
            ]
           ],
           "sequential": [
            [
             0,
             "#0d0887"
            ],
            [
             0.1111111111111111,
             "#46039f"
            ],
            [
             0.2222222222222222,
             "#7201a8"
            ],
            [
             0.3333333333333333,
             "#9c179e"
            ],
            [
             0.4444444444444444,
             "#bd3786"
            ],
            [
             0.5555555555555556,
             "#d8576b"
            ],
            [
             0.6666666666666666,
             "#ed7953"
            ],
            [
             0.7777777777777778,
             "#fb9f3a"
            ],
            [
             0.8888888888888888,
             "#fdca26"
            ],
            [
             1,
             "#f0f921"
            ]
           ],
           "sequentialminus": [
            [
             0,
             "#0d0887"
            ],
            [
             0.1111111111111111,
             "#46039f"
            ],
            [
             0.2222222222222222,
             "#7201a8"
            ],
            [
             0.3333333333333333,
             "#9c179e"
            ],
            [
             0.4444444444444444,
             "#bd3786"
            ],
            [
             0.5555555555555556,
             "#d8576b"
            ],
            [
             0.6666666666666666,
             "#ed7953"
            ],
            [
             0.7777777777777778,
             "#fb9f3a"
            ],
            [
             0.8888888888888888,
             "#fdca26"
            ],
            [
             1,
             "#f0f921"
            ]
           ]
          },
          "colorway": [
           "#636efa",
           "#EF553B",
           "#00cc96",
           "#ab63fa",
           "#FFA15A",
           "#19d3f3",
           "#FF6692",
           "#B6E880",
           "#FF97FF",
           "#FECB52"
          ],
          "font": {
           "color": "#2a3f5f"
          },
          "geo": {
           "bgcolor": "white",
           "lakecolor": "white",
           "landcolor": "#E5ECF6",
           "showlakes": true,
           "showland": true,
           "subunitcolor": "white"
          },
          "hoverlabel": {
           "align": "left"
          },
          "hovermode": "closest",
          "mapbox": {
           "style": "light"
          },
          "paper_bgcolor": "white",
          "plot_bgcolor": "#E5ECF6",
          "polar": {
           "angularaxis": {
            "gridcolor": "white",
            "linecolor": "white",
            "ticks": ""
           },
           "bgcolor": "#E5ECF6",
           "radialaxis": {
            "gridcolor": "white",
            "linecolor": "white",
            "ticks": ""
           }
          },
          "scene": {
           "xaxis": {
            "backgroundcolor": "#E5ECF6",
            "gridcolor": "white",
            "gridwidth": 2,
            "linecolor": "white",
            "showbackground": true,
            "ticks": "",
            "zerolinecolor": "white"
           },
           "yaxis": {
            "backgroundcolor": "#E5ECF6",
            "gridcolor": "white",
            "gridwidth": 2,
            "linecolor": "white",
            "showbackground": true,
            "ticks": "",
            "zerolinecolor": "white"
           },
           "zaxis": {
            "backgroundcolor": "#E5ECF6",
            "gridcolor": "white",
            "gridwidth": 2,
            "linecolor": "white",
            "showbackground": true,
            "ticks": "",
            "zerolinecolor": "white"
           }
          },
          "shapedefaults": {
           "line": {
            "color": "#2a3f5f"
           }
          },
          "ternary": {
           "aaxis": {
            "gridcolor": "white",
            "linecolor": "white",
            "ticks": ""
           },
           "baxis": {
            "gridcolor": "white",
            "linecolor": "white",
            "ticks": ""
           },
           "bgcolor": "#E5ECF6",
           "caxis": {
            "gridcolor": "white",
            "linecolor": "white",
            "ticks": ""
           }
          },
          "title": {
           "x": 0.05
          },
          "xaxis": {
           "automargin": true,
           "gridcolor": "white",
           "linecolor": "white",
           "ticks": "",
           "title": {
            "standoff": 15
           },
           "zerolinecolor": "white",
           "zerolinewidth": 2
          },
          "yaxis": {
           "automargin": true,
           "gridcolor": "white",
           "linecolor": "white",
           "ticks": "",
           "title": {
            "standoff": 15
           },
           "zerolinecolor": "white",
           "zerolinewidth": 2
          }
         }
        },
        "width": 700
       }
      }
     },
     "metadata": {},
     "output_type": "display_data"
    }
   ],
   "source": [
    "fig = go.Figure()\n",
    "\n",
    "fig.add_scatter(x=metrics_avh[\"recall\"], y=metrics_avh[\"precision\"], name=\"AVH\")\n",
    "fig.add_scatter(x=metrics_ks[\"recall\"], y=metrics_ks[\"precision\"], name=\"KS-test\")\n",
    "fig.add_scatter(x=metrics_lof[\"recall\"], y=metrics_lof[\"precision\"], name=\"LOF\")\n",
    "fig.add_scatter(x=metrics_hs[\"recall\"], y=metrics_hs[\"precision\"], name=\"Health-ESN\")\n",
    "fig.add_scatter(x=metrics_tfdv[\"recall\"], y=metrics_tfdv[\"precision\"], name=\"TFDV\")\n",
    "fig.update_layout(width=700, height=700)"
   ]
  },
  {
   "cell_type": "code",
   "execution_count": null,
   "metadata": {},
   "outputs": [
    {
     "data": {
      "application/vnd.plotly.v1+json": {
       "config": {
        "plotlyServerURL": "https://plot.ly"
       },
       "data": [
        {
         "hovertemplate": "x=%{x}<br>y=%{y}<extra></extra>",
         "legendgroup": "",
         "line": {
          "color": "#636efa",
          "dash": "solid"
         },
         "marker": {
          "symbol": "circle"
         },
         "mode": "lines",
         "name": "",
         "orientation": "v",
         "showlegend": false,
         "type": "scatter",
         "x": [
          0.946376811594203,
          0.946376811594203,
          0.9492753623188407,
          0.9492753623188407,
          0.9492753623188407,
          0.9492753623188407,
          0.9492753623188407,
          0.9492753623188407,
          0.9492753623188407,
          0.9492753623188407,
          0.9507246376811594,
          0.9507246376811594,
          0.9507246376811594,
          0.9507246376811594,
          0.9507246376811594,
          0.9507246376811594,
          0.9507246376811594,
          0.9507246376811594,
          0.9507246376811594,
          0.9507246376811594,
          0.9507246376811594,
          0.9507246376811594,
          0.9507246376811594,
          0.9507246376811594,
          0.9507246376811594,
          0.9507246376811594,
          0.9507246376811594,
          0.9507246376811594,
          0.9507246376811594,
          0.9507246376811594,
          0.9507246376811594,
          0.9507246376811594,
          0.9507246376811594,
          0.9507246376811594,
          0.9507246376811594,
          0.9507246376811594,
          0.9507246376811594,
          0.9507246376811594,
          0.9507246376811594,
          0.9507246376811594,
          0.9507246376811594,
          0.9507246376811594,
          0.9507246376811594,
          0.9507246376811594,
          0.9507246376811594,
          0.9521739130434782,
          0.955072463768116,
          0.955072463768116,
          0.9594202898550724,
          0.9608695652173913,
          0.9623188405797102,
          0.9855072463768114,
          1,
          1,
          1,
          1,
          1,
          1,
          1,
          1,
          1,
          1,
          1,
          1,
          1,
          1,
          1,
          1,
          1,
          1,
          1,
          1,
          1,
          1,
          1,
          1,
          1,
          1,
          1,
          1,
          1,
          1,
          1,
          1,
          1,
          1,
          1,
          1,
          1,
          1,
          1,
          1,
          1,
          1,
          1,
          1,
          1,
          1,
          1,
          1
         ],
         "xaxis": "x",
         "y": [
          1,
          1,
          1,
          1,
          1,
          1,
          0.9984126984126984,
          0.9984126984126984,
          0.9984126984126984,
          0.9984126984126984,
          0.9984848484848484,
          0.9984848484848484,
          0.9984848484848484,
          0.9984848484848484,
          0.9984848484848484,
          0.9984848484848484,
          0.9984848484848484,
          0.9984848484848484,
          0.9984848484848484,
          0.996969696969697,
          0.996969696969697,
          0.996969696969697,
          0.996969696969697,
          0.996969696969697,
          0.996969696969697,
          0.996969696969697,
          0.996969696969697,
          0.996969696969697,
          0.996969696969697,
          0.996969696969697,
          0.996969696969697,
          0.996969696969697,
          0.996969696969697,
          0.996969696969697,
          0.9954545454545456,
          0.9954545454545456,
          0.9940656565656566,
          0.9940656565656566,
          0.9911616161616161,
          0.9868741765480897,
          0.9868741765480897,
          0.9854249011857709,
          0.9825263504611332,
          0.9825263504611332,
          0.9797485726833554,
          0.9767841458058849,
          0.9685070267896354,
          0.9533252086078171,
          0.9480674132630653,
          0.9299026890983411,
          0.8850668487400607,
          0.5152342044485106,
          0.4339622641509436,
          0.4339622641509436,
          0.4339622641509436,
          0.4339622641509436,
          0.4339622641509436,
          0.4339622641509436,
          0.4339622641509436,
          0.4339622641509436,
          0.4339622641509436,
          0.4339622641509436,
          0.4339622641509436,
          0.4339622641509436,
          0.4339622641509436,
          0.4339622641509436,
          0.4339622641509436,
          0.4339622641509436,
          0.4339622641509436,
          0.4339622641509436,
          0.4339622641509436,
          0.4339622641509436,
          0.4339622641509436,
          0.4339622641509436,
          0.4339622641509436,
          0.4339622641509436,
          0.4339622641509436,
          0.4339622641509436,
          0.4339622641509436,
          0.4339622641509436,
          0.4339622641509436,
          0.4339622641509436,
          0.4339622641509436,
          0.4339622641509436,
          0.4339622641509436,
          0.4339622641509436,
          0.4339622641509436,
          0.4339622641509436,
          0.4339622641509436,
          0.4339622641509436,
          0.4339622641509436,
          0.4339622641509436,
          0.4339622641509436,
          0.4339622641509436,
          0.4339622641509436,
          0.4339622641509436,
          0.4339622641509436,
          0.4339622641509436,
          0.4339622641509436,
          0.4339622641509436
         ],
         "yaxis": "y"
        },
        {
         "type": "scatter",
         "x": [
          0.043478260869565195,
          0.7289855072463767,
          0.746376811594203,
          0.7710144927536233,
          0.7884057971014492,
          0.8043478260869567,
          0.8188405797101451,
          0.83768115942029,
          0.8434782608695653,
          0.855072463768116,
          0.8608695652173914,
          0.8826086956521739,
          0.8927536231884059,
          0.9057971014492756,
          0.9173913043478261,
          0.928985507246377,
          0.9347826086956523,
          0.9463768115942031,
          0.9565217391304349,
          0.9753623188405797,
          1
         ],
         "y": [
          1,
          0.9442940029813094,
          0.8916667476319516,
          0.8296696185638842,
          0.7827704508099178,
          0.7424100215563768,
          0.7056578879732629,
          0.6775544290585008,
          0.6436168862451664,
          0.6235754699713911,
          0.5992982872983234,
          0.5781567843759923,
          0.55733443987136,
          0.5391825529840976,
          0.5212549164006373,
          0.507438870043554,
          0.4897733036599963,
          0.47099702634468,
          0.4576807640470525,
          0.44709609293751645,
          0.4339622641509436
         ]
        }
       ],
       "layout": {
        "legend": {
         "tracegroupgap": 0
        },
        "margin": {
         "t": 60
        },
        "template": {
         "data": {
          "bar": [
           {
            "error_x": {
             "color": "#2a3f5f"
            },
            "error_y": {
             "color": "#2a3f5f"
            },
            "marker": {
             "line": {
              "color": "#E5ECF6",
              "width": 0.5
             },
             "pattern": {
              "fillmode": "overlay",
              "size": 10,
              "solidity": 0.2
             }
            },
            "type": "bar"
           }
          ],
          "barpolar": [
           {
            "marker": {
             "line": {
              "color": "#E5ECF6",
              "width": 0.5
             },
             "pattern": {
              "fillmode": "overlay",
              "size": 10,
              "solidity": 0.2
             }
            },
            "type": "barpolar"
           }
          ],
          "carpet": [
           {
            "aaxis": {
             "endlinecolor": "#2a3f5f",
             "gridcolor": "white",
             "linecolor": "white",
             "minorgridcolor": "white",
             "startlinecolor": "#2a3f5f"
            },
            "baxis": {
             "endlinecolor": "#2a3f5f",
             "gridcolor": "white",
             "linecolor": "white",
             "minorgridcolor": "white",
             "startlinecolor": "#2a3f5f"
            },
            "type": "carpet"
           }
          ],
          "choropleth": [
           {
            "colorbar": {
             "outlinewidth": 0,
             "ticks": ""
            },
            "type": "choropleth"
           }
          ],
          "contour": [
           {
            "colorbar": {
             "outlinewidth": 0,
             "ticks": ""
            },
            "colorscale": [
             [
              0,
              "#0d0887"
             ],
             [
              0.1111111111111111,
              "#46039f"
             ],
             [
              0.2222222222222222,
              "#7201a8"
             ],
             [
              0.3333333333333333,
              "#9c179e"
             ],
             [
              0.4444444444444444,
              "#bd3786"
             ],
             [
              0.5555555555555556,
              "#d8576b"
             ],
             [
              0.6666666666666666,
              "#ed7953"
             ],
             [
              0.7777777777777778,
              "#fb9f3a"
             ],
             [
              0.8888888888888888,
              "#fdca26"
             ],
             [
              1,
              "#f0f921"
             ]
            ],
            "type": "contour"
           }
          ],
          "contourcarpet": [
           {
            "colorbar": {
             "outlinewidth": 0,
             "ticks": ""
            },
            "type": "contourcarpet"
           }
          ],
          "heatmap": [
           {
            "colorbar": {
             "outlinewidth": 0,
             "ticks": ""
            },
            "colorscale": [
             [
              0,
              "#0d0887"
             ],
             [
              0.1111111111111111,
              "#46039f"
             ],
             [
              0.2222222222222222,
              "#7201a8"
             ],
             [
              0.3333333333333333,
              "#9c179e"
             ],
             [
              0.4444444444444444,
              "#bd3786"
             ],
             [
              0.5555555555555556,
              "#d8576b"
             ],
             [
              0.6666666666666666,
              "#ed7953"
             ],
             [
              0.7777777777777778,
              "#fb9f3a"
             ],
             [
              0.8888888888888888,
              "#fdca26"
             ],
             [
              1,
              "#f0f921"
             ]
            ],
            "type": "heatmap"
           }
          ],
          "heatmapgl": [
           {
            "colorbar": {
             "outlinewidth": 0,
             "ticks": ""
            },
            "colorscale": [
             [
              0,
              "#0d0887"
             ],
             [
              0.1111111111111111,
              "#46039f"
             ],
             [
              0.2222222222222222,
              "#7201a8"
             ],
             [
              0.3333333333333333,
              "#9c179e"
             ],
             [
              0.4444444444444444,
              "#bd3786"
             ],
             [
              0.5555555555555556,
              "#d8576b"
             ],
             [
              0.6666666666666666,
              "#ed7953"
             ],
             [
              0.7777777777777778,
              "#fb9f3a"
             ],
             [
              0.8888888888888888,
              "#fdca26"
             ],
             [
              1,
              "#f0f921"
             ]
            ],
            "type": "heatmapgl"
           }
          ],
          "histogram": [
           {
            "marker": {
             "pattern": {
              "fillmode": "overlay",
              "size": 10,
              "solidity": 0.2
             }
            },
            "type": "histogram"
           }
          ],
          "histogram2d": [
           {
            "colorbar": {
             "outlinewidth": 0,
             "ticks": ""
            },
            "colorscale": [
             [
              0,
              "#0d0887"
             ],
             [
              0.1111111111111111,
              "#46039f"
             ],
             [
              0.2222222222222222,
              "#7201a8"
             ],
             [
              0.3333333333333333,
              "#9c179e"
             ],
             [
              0.4444444444444444,
              "#bd3786"
             ],
             [
              0.5555555555555556,
              "#d8576b"
             ],
             [
              0.6666666666666666,
              "#ed7953"
             ],
             [
              0.7777777777777778,
              "#fb9f3a"
             ],
             [
              0.8888888888888888,
              "#fdca26"
             ],
             [
              1,
              "#f0f921"
             ]
            ],
            "type": "histogram2d"
           }
          ],
          "histogram2dcontour": [
           {
            "colorbar": {
             "outlinewidth": 0,
             "ticks": ""
            },
            "colorscale": [
             [
              0,
              "#0d0887"
             ],
             [
              0.1111111111111111,
              "#46039f"
             ],
             [
              0.2222222222222222,
              "#7201a8"
             ],
             [
              0.3333333333333333,
              "#9c179e"
             ],
             [
              0.4444444444444444,
              "#bd3786"
             ],
             [
              0.5555555555555556,
              "#d8576b"
             ],
             [
              0.6666666666666666,
              "#ed7953"
             ],
             [
              0.7777777777777778,
              "#fb9f3a"
             ],
             [
              0.8888888888888888,
              "#fdca26"
             ],
             [
              1,
              "#f0f921"
             ]
            ],
            "type": "histogram2dcontour"
           }
          ],
          "mesh3d": [
           {
            "colorbar": {
             "outlinewidth": 0,
             "ticks": ""
            },
            "type": "mesh3d"
           }
          ],
          "parcoords": [
           {
            "line": {
             "colorbar": {
              "outlinewidth": 0,
              "ticks": ""
             }
            },
            "type": "parcoords"
           }
          ],
          "pie": [
           {
            "automargin": true,
            "type": "pie"
           }
          ],
          "scatter": [
           {
            "fillpattern": {
             "fillmode": "overlay",
             "size": 10,
             "solidity": 0.2
            },
            "type": "scatter"
           }
          ],
          "scatter3d": [
           {
            "line": {
             "colorbar": {
              "outlinewidth": 0,
              "ticks": ""
             }
            },
            "marker": {
             "colorbar": {
              "outlinewidth": 0,
              "ticks": ""
             }
            },
            "type": "scatter3d"
           }
          ],
          "scattercarpet": [
           {
            "marker": {
             "colorbar": {
              "outlinewidth": 0,
              "ticks": ""
             }
            },
            "type": "scattercarpet"
           }
          ],
          "scattergeo": [
           {
            "marker": {
             "colorbar": {
              "outlinewidth": 0,
              "ticks": ""
             }
            },
            "type": "scattergeo"
           }
          ],
          "scattergl": [
           {
            "marker": {
             "colorbar": {
              "outlinewidth": 0,
              "ticks": ""
             }
            },
            "type": "scattergl"
           }
          ],
          "scattermapbox": [
           {
            "marker": {
             "colorbar": {
              "outlinewidth": 0,
              "ticks": ""
             }
            },
            "type": "scattermapbox"
           }
          ],
          "scatterpolar": [
           {
            "marker": {
             "colorbar": {
              "outlinewidth": 0,
              "ticks": ""
             }
            },
            "type": "scatterpolar"
           }
          ],
          "scatterpolargl": [
           {
            "marker": {
             "colorbar": {
              "outlinewidth": 0,
              "ticks": ""
             }
            },
            "type": "scatterpolargl"
           }
          ],
          "scatterternary": [
           {
            "marker": {
             "colorbar": {
              "outlinewidth": 0,
              "ticks": ""
             }
            },
            "type": "scatterternary"
           }
          ],
          "surface": [
           {
            "colorbar": {
             "outlinewidth": 0,
             "ticks": ""
            },
            "colorscale": [
             [
              0,
              "#0d0887"
             ],
             [
              0.1111111111111111,
              "#46039f"
             ],
             [
              0.2222222222222222,
              "#7201a8"
             ],
             [
              0.3333333333333333,
              "#9c179e"
             ],
             [
              0.4444444444444444,
              "#bd3786"
             ],
             [
              0.5555555555555556,
              "#d8576b"
             ],
             [
              0.6666666666666666,
              "#ed7953"
             ],
             [
              0.7777777777777778,
              "#fb9f3a"
             ],
             [
              0.8888888888888888,
              "#fdca26"
             ],
             [
              1,
              "#f0f921"
             ]
            ],
            "type": "surface"
           }
          ],
          "table": [
           {
            "cells": {
             "fill": {
              "color": "#EBF0F8"
             },
             "line": {
              "color": "white"
             }
            },
            "header": {
             "fill": {
              "color": "#C8D4E3"
             },
             "line": {
              "color": "white"
             }
            },
            "type": "table"
           }
          ]
         },
         "layout": {
          "annotationdefaults": {
           "arrowcolor": "#2a3f5f",
           "arrowhead": 0,
           "arrowwidth": 1
          },
          "autotypenumbers": "strict",
          "coloraxis": {
           "colorbar": {
            "outlinewidth": 0,
            "ticks": ""
           }
          },
          "colorscale": {
           "diverging": [
            [
             0,
             "#8e0152"
            ],
            [
             0.1,
             "#c51b7d"
            ],
            [
             0.2,
             "#de77ae"
            ],
            [
             0.3,
             "#f1b6da"
            ],
            [
             0.4,
             "#fde0ef"
            ],
            [
             0.5,
             "#f7f7f7"
            ],
            [
             0.6,
             "#e6f5d0"
            ],
            [
             0.7,
             "#b8e186"
            ],
            [
             0.8,
             "#7fbc41"
            ],
            [
             0.9,
             "#4d9221"
            ],
            [
             1,
             "#276419"
            ]
           ],
           "sequential": [
            [
             0,
             "#0d0887"
            ],
            [
             0.1111111111111111,
             "#46039f"
            ],
            [
             0.2222222222222222,
             "#7201a8"
            ],
            [
             0.3333333333333333,
             "#9c179e"
            ],
            [
             0.4444444444444444,
             "#bd3786"
            ],
            [
             0.5555555555555556,
             "#d8576b"
            ],
            [
             0.6666666666666666,
             "#ed7953"
            ],
            [
             0.7777777777777778,
             "#fb9f3a"
            ],
            [
             0.8888888888888888,
             "#fdca26"
            ],
            [
             1,
             "#f0f921"
            ]
           ],
           "sequentialminus": [
            [
             0,
             "#0d0887"
            ],
            [
             0.1111111111111111,
             "#46039f"
            ],
            [
             0.2222222222222222,
             "#7201a8"
            ],
            [
             0.3333333333333333,
             "#9c179e"
            ],
            [
             0.4444444444444444,
             "#bd3786"
            ],
            [
             0.5555555555555556,
             "#d8576b"
            ],
            [
             0.6666666666666666,
             "#ed7953"
            ],
            [
             0.7777777777777778,
             "#fb9f3a"
            ],
            [
             0.8888888888888888,
             "#fdca26"
            ],
            [
             1,
             "#f0f921"
            ]
           ]
          },
          "colorway": [
           "#636efa",
           "#EF553B",
           "#00cc96",
           "#ab63fa",
           "#FFA15A",
           "#19d3f3",
           "#FF6692",
           "#B6E880",
           "#FF97FF",
           "#FECB52"
          ],
          "font": {
           "color": "#2a3f5f"
          },
          "geo": {
           "bgcolor": "white",
           "lakecolor": "white",
           "landcolor": "#E5ECF6",
           "showlakes": true,
           "showland": true,
           "subunitcolor": "white"
          },
          "hoverlabel": {
           "align": "left"
          },
          "hovermode": "closest",
          "mapbox": {
           "style": "light"
          },
          "paper_bgcolor": "white",
          "plot_bgcolor": "#E5ECF6",
          "polar": {
           "angularaxis": {
            "gridcolor": "white",
            "linecolor": "white",
            "ticks": ""
           },
           "bgcolor": "#E5ECF6",
           "radialaxis": {
            "gridcolor": "white",
            "linecolor": "white",
            "ticks": ""
           }
          },
          "scene": {
           "xaxis": {
            "backgroundcolor": "#E5ECF6",
            "gridcolor": "white",
            "gridwidth": 2,
            "linecolor": "white",
            "showbackground": true,
            "ticks": "",
            "zerolinecolor": "white"
           },
           "yaxis": {
            "backgroundcolor": "#E5ECF6",
            "gridcolor": "white",
            "gridwidth": 2,
            "linecolor": "white",
            "showbackground": true,
            "ticks": "",
            "zerolinecolor": "white"
           },
           "zaxis": {
            "backgroundcolor": "#E5ECF6",
            "gridcolor": "white",
            "gridwidth": 2,
            "linecolor": "white",
            "showbackground": true,
            "ticks": "",
            "zerolinecolor": "white"
           }
          },
          "shapedefaults": {
           "line": {
            "color": "#2a3f5f"
           }
          },
          "ternary": {
           "aaxis": {
            "gridcolor": "white",
            "linecolor": "white",
            "ticks": ""
           },
           "baxis": {
            "gridcolor": "white",
            "linecolor": "white",
            "ticks": ""
           },
           "bgcolor": "#E5ECF6",
           "caxis": {
            "gridcolor": "white",
            "linecolor": "white",
            "ticks": ""
           }
          },
          "title": {
           "x": 0.05
          },
          "xaxis": {
           "automargin": true,
           "gridcolor": "white",
           "linecolor": "white",
           "ticks": "",
           "title": {
            "standoff": 15
           },
           "zerolinecolor": "white",
           "zerolinewidth": 2
          },
          "yaxis": {
           "automargin": true,
           "gridcolor": "white",
           "linecolor": "white",
           "ticks": "",
           "title": {
            "standoff": 15
           },
           "zerolinecolor": "white",
           "zerolinewidth": 2
          }
         }
        },
        "xaxis": {
         "anchor": "y",
         "domain": [
          0,
          1
         ],
         "title": {
          "text": "x"
         }
        },
        "yaxis": {
         "anchor": "x",
         "domain": [
          0,
          1
         ],
         "title": {
          "text": "y"
         }
        }
       }
      }
     },
     "metadata": {},
     "output_type": "display_data"
    }
   ],
   "source": [
    "fig = go.Figure()\n",
    "\n",
    "fig.add_scatter(x=metrics_ks[\"recall\"], y=metrics_ks[\"precision\"])\n",
    "fig.add_scatter(x=metrics_lof[\"recall\"], y=metrics_lof[\"precision\"])"
   ]
  }
 ],
 "metadata": {
  "kernelspec": {
   "display_name": ".venv",
   "language": "python",
   "name": "python3"
  },
  "language_info": {
   "codemirror_mode": {
    "name": "ipython",
    "version": 3
   },
   "file_extension": ".py",
   "mimetype": "text/x-python",
   "name": "python",
   "nbconvert_exporter": "python",
   "pygments_lexer": "ipython3",
   "version": "3.10.9"
  }
 },
 "nbformat": 4,
 "nbformat_minor": 2
}
