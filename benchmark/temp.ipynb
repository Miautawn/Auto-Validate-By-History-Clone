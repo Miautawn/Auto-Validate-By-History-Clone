{
 "cells": [
  {
   "cell_type": "code",
   "execution_count": 1,
   "metadata": {},
   "outputs": [],
   "source": [
    "from healthESN import Activation, HealthESN\n",
    "from sklearn.preprocessing import StandardScaler"
   ]
  },
  {
   "cell_type": "code",
   "execution_count": 2,
   "metadata": {},
   "outputs": [],
   "source": [
    "import pickle\n",
    "with open(f\"benchmark_data.pickle\", \"rb\") as f:\n",
    "    data = pickle.load(f)\n",
    "\n",
    "column_history = data[\"column_history\"]\n",
    "perturbations = data[\"column_perturbations\"]"
   ]
  },
  {
   "cell_type": "code",
   "execution_count": 3,
   "metadata": {},
   "outputs": [],
   "source": [
    "import avh.metrics as metrics\n",
    "import pandas as pd\n",
    "import numpy as np\n",
    "\n",
    "def extract_features(data: pd.Series) -> np.ndarray:\n",
    "    row_count = metrics.RowCount.calculate(data)\n",
    "    min_val = metrics.Min.calculate(data)\n",
    "    max_val = metrics.Max.calculate(data)\n",
    "    mean_val = metrics.Mean.calculate(data)\n",
    "    median_val = metrics.Median.calculate(data)\n",
    "    sum_val = metrics.Sum.calculate(data)\n",
    "    range_val = metrics.Range.calculate(data)\n",
    "    distinct_ratio = metrics.DistinctRatio.calculate(data)\n",
    "    complete_ratio = metrics.CompleteRatio.calculate(data)\n",
    "\n",
    "    features = [\n",
    "        row_count,\n",
    "        min_val,\n",
    "        max_val,\n",
    "        mean_val,\n",
    "        median_val,\n",
    "        sum_val,\n",
    "        range_val,\n",
    "        distinct_ratio,\n",
    "        complete_ratio,\n",
    "    ]\n",
    "    return features"
   ]
  },
  {
   "cell_type": "code",
   "execution_count": 4,
   "metadata": {},
   "outputs": [],
   "source": [
    "column = \"numeric_0\"\n",
    "history = [run[0] for run in column_history]\n",
    "column_perturbations = perturbations[0]"
   ]
  },
  {
   "cell_type": "code",
   "execution_count": 5,
   "metadata": {},
   "outputs": [],
   "source": [
    "from dataclasses import dataclass\n",
    "\n",
    "@dataclass\n",
    "class CustomParameters:\n",
    "    linear_hidden_size: int = 500\n",
    "    prediction_window_size: int = 30\n",
    "    connectivity: float = 0.25\n",
    "    spectral_radius: float = 0.6\n",
    "    activation: str = Activation.TANH.value\n",
    "    random_state: int = 42"
   ]
  },
  {
   "cell_type": "code",
   "execution_count": 6,
   "metadata": {},
   "outputs": [],
   "source": [
    "args = CustomParameters()\n",
    "health_esn = HealthESN(n_dimensions=9,\n",
    "                        hidden_units=args.linear_hidden_size,\n",
    "                        window_size=args.prediction_window_size,\n",
    "                        connectivity=args.connectivity,\n",
    "                        spectral_radius=args.spectral_radius,\n",
    "                        activation=Activation(args.activation).get_fun(),\n",
    "                        seed=args.random_state)\n",
    "\n",
    "scaler = StandardScaler()"
   ]
  },
  {
   "cell_type": "code",
   "execution_count": 23,
   "metadata": {},
   "outputs": [],
   "source": [
    "thresholds = np.arange(1, 100, 1)"
   ]
  },
  {
   "cell_type": "code",
   "execution_count": 49,
   "metadata": {},
   "outputs": [],
   "source": [
    "fp = []\n",
    "\n",
    "feature_history = np.array([extract_features(run[column]) for run in history])\n",
    "for i in range(30):\n",
    "    \n",
    "    train_df = feature_history[i:i+30]\n",
    "    test_df = np.vstack([train_df, feature_history[[i+30]]])\n",
    "\n",
    "    train_df = scaler.fit_transform(train_df)\n",
    "    test_df = scaler.transform(test_df)\n",
    "\n",
    "    health_esn = health_esn.fit(train_df)\n",
    "    prediction = health_esn.predict(test_df)[-1]\n",
    "    \n",
    "    fp = prediction < thresholds\n"
   ]
  },
  {
   "cell_type": "code",
   "execution_count": 50,
   "metadata": {},
   "outputs": [
    {
     "data": {
      "text/plain": [
       "array([False, False, False, False,  True,  True,  True,  True,  True,\n",
       "        True,  True,  True,  True,  True,  True,  True,  True,  True,\n",
       "        True,  True,  True,  True,  True,  True,  True,  True,  True,\n",
       "        True,  True,  True,  True,  True,  True,  True,  True,  True,\n",
       "        True,  True,  True,  True,  True,  True,  True,  True,  True,\n",
       "        True,  True,  True,  True,  True,  True,  True,  True,  True,\n",
       "        True,  True,  True,  True,  True,  True,  True,  True,  True,\n",
       "        True,  True,  True,  True,  True,  True,  True,  True,  True,\n",
       "        True,  True,  True,  True,  True,  True,  True,  True,  True,\n",
       "        True,  True,  True,  True,  True,  True,  True,  True,  True,\n",
       "        True,  True,  True,  True,  True,  True,  True,  True,  True])"
      ]
     },
     "execution_count": 50,
     "metadata": {},
     "output_type": "execute_result"
    }
   ],
   "source": [
    "fp"
   ]
  },
  {
   "cell_type": "code",
   "execution_count": 51,
   "metadata": {},
   "outputs": [],
   "source": [
    "tp = np.zeros_like(thresholds)\n",
    "\n",
    "feature_history = np.array([extract_features(run[column]) for run in history])\n",
    "train_df = feature_history[:30]\n",
    "train_df = scaler.fit_transform(train_df)\n",
    "\n",
    "health_esn = health_esn.fit(train_df)\n",
    "for issue, perturbed_column in column_perturbations:\n",
    "    \n",
    "    test_df = np.array(extract_features(perturbed_column)).reshape(1, -1)\n",
    "    test_df = scaler.transform(test_df)\n",
    "\n",
    "    test_df = np.vstack([train_df, test_df])\n",
    "    prediction = health_esn.predict(test_df)[-1]\n",
    "    \n",
    "\n",
    "    tp += prediction < thresholds\n"
   ]
  },
  {
   "cell_type": "code",
   "execution_count": 52,
   "metadata": {},
   "outputs": [
    {
     "data": {
      "text/plain": [
       "array([0, 0, 0, 0, 0, 0, 0, 1, 1, 1, 1, 1, 1, 1, 1, 1, 1, 1, 1, 1, 1, 1,\n",
       "       1, 1, 1, 1, 1, 1, 1, 1, 1, 1, 1, 1, 1, 1, 1, 1, 1, 1, 1, 1, 1, 1,\n",
       "       1, 1, 1, 1, 1, 1, 1, 1, 1, 1, 1, 1, 1, 1, 1, 1, 1, 1, 1, 1, 1, 1,\n",
       "       1, 1, 1, 1, 1, 1, 1, 1, 1, 1, 1, 1, 1, 1, 1, 1, 1, 1, 1, 1, 1, 1,\n",
       "       1, 1, 1, 1, 1, 1, 1, 1, 1, 1, 1])"
      ]
     },
     "execution_count": 52,
     "metadata": {},
     "output_type": "execute_result"
    }
   ],
   "source": [
    "tp"
   ]
  },
  {
   "cell_type": "code",
   "execution_count": null,
   "metadata": {},
   "outputs": [],
   "source": []
  }
 ],
 "metadata": {
  "kernelspec": {
   "display_name": ".venv",
   "language": "python",
   "name": "python3"
  },
  "language_info": {
   "codemirror_mode": {
    "name": "ipython",
    "version": 3
   },
   "file_extension": ".py",
   "mimetype": "text/x-python",
   "name": "python",
   "nbconvert_exporter": "python",
   "pygments_lexer": "ipython3",
   "version": "3.10.9"
  }
 },
 "nbformat": 4,
 "nbformat_minor": 2
}
