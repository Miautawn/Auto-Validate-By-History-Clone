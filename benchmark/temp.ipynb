{
 "cells": [
  {
   "cell_type": "code",
   "execution_count": 35,
   "metadata": {},
   "outputs": [],
   "source": [
    "import tensorflow_data_validation as tfdv\n",
    "import pandas as pd\n",
    "import pathlib\n",
    "import pickle"
   ]
  },
  {
   "cell_type": "code",
   "execution_count": 36,
   "metadata": {},
   "outputs": [],
   "source": [
    "with open(f\"benchmark_data.pickle\", \"rb\") as f:\n",
    "    data = pickle.load(f)\n",
    "\n",
    "column_history = data[\"column_history\"]\n",
    "perturbations = data[\"column_perturbations\"]"
   ]
  },
  {
   "cell_type": "code",
   "execution_count": 41,
   "metadata": {},
   "outputs": [],
   "source": [
    "column = \"numeric_0\"\n",
    "history = [run[0] for run in column_history]\n",
    "column_perturbations = perturbations[0]"
   ]
  },
  {
   "cell_type": "code",
   "execution_count": 42,
   "metadata": {},
   "outputs": [],
   "source": [
    "def parse_prediction(anomalies) -> bool:\n",
    "    \"\"\"\n",
    "    Check if the TFDV report object contains reported anomalies\n",
    "    \"\"\"\n",
    "    for feature_name, anomaly in anomalies.anomaly_info.items():\n",
    "        if anomaly.short_description != 'No anomalies found':\n",
    "            return True\n",
    "    return False"
   ]
  },
  {
   "cell_type": "code",
   "execution_count": 53,
   "metadata": {},
   "outputs": [],
   "source": [
    "fp = []\n",
    "for i in range(30):\n",
    "    train_df = pd.concat(history[i: i + 30])[[column]].reset_index(drop=True)\n",
    "    test_df = history[i + 30][[column]].reset_index(drop=True)\n",
    "\n",
    "    train_stats = tfdv.generate_statistics_from_dataframe(train_df)\n",
    "    train_schema = tfdv.infer_schema(statistics=train_stats)\n",
    "    test_stats = tfdv.generate_statistics_from_dataframe(test_df)\n",
    "\n",
    "    feature = tfdv.get_feature(train_schema, column)\n",
    "    feature.drift_comparator.jensen_shannon_divergence.threshold = 1.0\n",
    "\n",
    "    prediction = tfdv.validate_statistics(\n",
    "        statistics=test_stats, schema=train_schema, previous_statistics=train_stats\n",
    "    )\n",
    "\n",
    "    fp.append(parse_prediction(prediction))"
   ]
  },
  {
   "cell_type": "code",
   "execution_count": 54,
   "metadata": {},
   "outputs": [
    {
     "data": {
      "text/plain": [
       "[False,\n",
       " False,\n",
       " False,\n",
       " False,\n",
       " False,\n",
       " False,\n",
       " False,\n",
       " False,\n",
       " False,\n",
       " False,\n",
       " False,\n",
       " False,\n",
       " False,\n",
       " False,\n",
       " False,\n",
       " False,\n",
       " False,\n",
       " False,\n",
       " False,\n",
       " False,\n",
       " False,\n",
       " False,\n",
       " False,\n",
       " False,\n",
       " False,\n",
       " False,\n",
       " False,\n",
       " False,\n",
       " False,\n",
       " False]"
      ]
     },
     "execution_count": 54,
     "metadata": {},
     "output_type": "execute_result"
    }
   ],
   "source": [
    "fp"
   ]
  },
  {
   "cell_type": "code",
   "execution_count": 11,
   "metadata": {},
   "outputs": [],
   "source": [
    "# Generate statistics from the DataFrame directly.\n",
    "stats = tfdv.generate_statistics_from_dataframe(h_stuff[0][[\"numeric_4\"]])\n",
    "schema = tfdv.infer_schema(statistics=stats)"
   ]
  },
  {
   "cell_type": "code",
   "execution_count": 19,
   "metadata": {},
   "outputs": [],
   "source": [
    "feature =  tfdv.get_feature(schema, 'numeric_4')\n",
    "feature.drift_comparator.jensen_shannon_divergence.threshold = 0.0"
   ]
  },
  {
   "cell_type": "code",
   "execution_count": 29,
   "metadata": {},
   "outputs": [],
   "source": [
    "new_stats = tfdv.generate_statistics_from_dataframe(h_stuff[1][[\"numeric_4\"]])"
   ]
  },
  {
   "cell_type": "code",
   "execution_count": 30,
   "metadata": {},
   "outputs": [],
   "source": [
    "# Compare statistics of the new data with the schema from the original data.\n",
    "anomalies = tfdv.validate_statistics(statistics=new_stats, schema=schema, previous_statistics=stats)"
   ]
  },
  {
   "cell_type": "code",
   "execution_count": 31,
   "metadata": {},
   "outputs": [
    {
     "data": {
      "text/plain": [
       "baseline {\n",
       "  feature {\n",
       "    name: \"numeric_4\"\n",
       "    type: FLOAT\n",
       "    presence {\n",
       "      min_fraction: 1.0\n",
       "      min_count: 1\n",
       "    }\n",
       "    drift_comparator {\n",
       "      jensen_shannon_divergence {\n",
       "        threshold: 0.0\n",
       "      }\n",
       "    }\n",
       "    shape {\n",
       "      dim {\n",
       "        size: 1\n",
       "      }\n",
       "    }\n",
       "  }\n",
       "}\n",
       "anomaly_info {\n",
       "  key: \"numeric_4\"\n",
       "  value {\n",
       "    description: \"The approximate Jensen-Shannon divergence between current and previous is 0.463437 (up to six significant digits), above the threshold 0.\"\n",
       "    severity: ERROR\n",
       "    short_description: \"High approximate Jensen-Shannon divergence between current and previous\"\n",
       "    reason {\n",
       "      type: COMPARATOR_JENSEN_SHANNON_DIVERGENCE_HIGH\n",
       "      short_description: \"High approximate Jensen-Shannon divergence between current and previous\"\n",
       "      description: \"The approximate Jensen-Shannon divergence between current and previous is 0.463437 (up to six significant digits), above the threshold 0.\"\n",
       "    }\n",
       "    path {\n",
       "      step: \"numeric_4\"\n",
       "    }\n",
       "  }\n",
       "}\n",
       "anomaly_name_format: SERIALIZED_PATH\n",
       "drift_skew_info {\n",
       "  path {\n",
       "    step: \"numeric_4\"\n",
       "  }\n",
       "  drift_measurements {\n",
       "    type: JENSEN_SHANNON_DIVERGENCE\n",
       "    value: 0.4634365078329057\n",
       "    threshold: 0.0\n",
       "  }\n",
       "}"
      ]
     },
     "execution_count": 31,
     "metadata": {},
     "output_type": "execute_result"
    }
   ],
   "source": [
    "anomalies"
   ]
  },
  {
   "cell_type": "code",
   "execution_count": 32,
   "metadata": {},
   "outputs": [],
   "source": [
    "def has_anomalies(anomalies):\n",
    "    # Check if the anomalies object contains any anomaly.\n",
    "    for feature_name, anomaly in anomalies.anomaly_info.items():\n",
    "        if anomaly.short_description != 'No anomalies found':\n",
    "            return True\n",
    "    return False"
   ]
  },
  {
   "cell_type": "code",
   "execution_count": 33,
   "metadata": {},
   "outputs": [
    {
     "data": {
      "text/plain": [
       "True"
      ]
     },
     "execution_count": 33,
     "metadata": {},
     "output_type": "execute_result"
    }
   ],
   "source": [
    "has_anomalies(anomalies)"
   ]
  },
  {
   "cell_type": "code",
   "execution_count": 91,
   "metadata": {},
   "outputs": [],
   "source": [
    "# drift test\n"
   ]
  },
  {
   "cell_type": "code",
   "execution_count": 92,
   "metadata": {},
   "outputs": [],
   "source": [
    "drift_anomalies = tfdv.validate_statistics(\n",
    "        statistics=new_stats, schema=schema, previous_statistics=stats)"
   ]
  },
  {
   "cell_type": "code",
   "execution_count": 93,
   "metadata": {},
   "outputs": [
    {
     "data": {
      "text/plain": [
       "baseline {\n",
       "  feature {\n",
       "    name: \"numeric_4\"\n",
       "    type: FLOAT\n",
       "    presence {\n",
       "      min_fraction: 1.0\n",
       "      min_count: 1\n",
       "    }\n",
       "    drift_comparator {\n",
       "      jensen_shannon_divergence {\n",
       "        threshold: 0.01\n",
       "      }\n",
       "    }\n",
       "    shape {\n",
       "      dim {\n",
       "        size: 1\n",
       "      }\n",
       "    }\n",
       "  }\n",
       "}\n",
       "anomaly_info {\n",
       "  key: \"numeric_4\"\n",
       "  value {\n",
       "    description: \"The approximate Jensen-Shannon divergence between current and previous is 1 (up to six significant digits), above the threshold 0.01.\"\n",
       "    severity: ERROR\n",
       "    short_description: \"High approximate Jensen-Shannon divergence between current and previous\"\n",
       "    reason {\n",
       "      type: COMPARATOR_JENSEN_SHANNON_DIVERGENCE_HIGH\n",
       "      short_description: \"High approximate Jensen-Shannon divergence between current and previous\"\n",
       "      description: \"The approximate Jensen-Shannon divergence between current and previous is 1 (up to six significant digits), above the threshold 0.01.\"\n",
       "    }\n",
       "    path {\n",
       "      step: \"numeric_4\"\n",
       "    }\n",
       "  }\n",
       "}\n",
       "anomaly_name_format: SERIALIZED_PATH\n",
       "drift_skew_info {\n",
       "  path {\n",
       "    step: \"numeric_4\"\n",
       "  }\n",
       "  drift_measurements {\n",
       "    type: JENSEN_SHANNON_DIVERGENCE\n",
       "    value: 1.0\n",
       "    threshold: 0.01\n",
       "  }\n",
       "}"
      ]
     },
     "execution_count": 93,
     "metadata": {},
     "output_type": "execute_result"
    }
   ],
   "source": [
    "drift_anomalies"
   ]
  },
  {
   "cell_type": "code",
   "execution_count": null,
   "metadata": {},
   "outputs": [],
   "source": []
  }
 ],
 "metadata": {
  "kernelspec": {
   "display_name": ".venv",
   "language": "python",
   "name": "python3"
  },
  "language_info": {
   "codemirror_mode": {
    "name": "ipython",
    "version": 3
   },
   "file_extension": ".py",
   "mimetype": "text/x-python",
   "name": "python",
   "nbconvert_exporter": "python",
   "pygments_lexer": "ipython3",
   "version": "3.10.9"
  }
 },
 "nbformat": 4,
 "nbformat_minor": 2
}
